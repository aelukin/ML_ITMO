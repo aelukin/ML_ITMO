{
  "nbformat": 4,
  "nbformat_minor": 0,
  "metadata": {
    "colab": {
      "provenance": [],
      "authorship_tag": "ABX9TyO2NNG1kdYYx69zMpQEYFsQ",
      "include_colab_link": true
    },
    "kernelspec": {
      "name": "python3",
      "display_name": "Python 3"
    },
    "language_info": {
      "name": "python"
    }
  },
  "cells": [
    {
      "cell_type": "markdown",
      "metadata": {
        "id": "view-in-github",
        "colab_type": "text"
      },
      "source": [
        "<a href=\"https://colab.research.google.com/github/aelukin/ML_ITMO/blob/main/watch_market_analysis.ipynb\" target=\"_parent\"><img src=\"https://colab.research.google.com/assets/colab-badge.svg\" alt=\"Open In Colab\"/></a>"
      ]
    },
    {
      "cell_type": "markdown",
      "source": [
        "Монтируем диск, задаем директорию"
      ],
      "metadata": {
        "id": "Z7kmHjV7jYYe"
      }
    },
    {
      "cell_type": "code",
      "execution_count": 640,
      "metadata": {
        "colab": {
          "base_uri": "https://localhost:8080/"
        },
        "id": "aVVKM5NWhiVv",
        "outputId": "dc3e9fef-2354-44f0-871c-4405ddbaa53c"
      },
      "outputs": [
        {
          "output_type": "stream",
          "name": "stdout",
          "text": [
            "Drive already mounted at /content/gdrive; to attempt to forcibly remount, call drive.mount(\"/content/gdrive\", force_remount=True).\n"
          ]
        }
      ],
      "source": [
        "from google.colab import drive\n",
        "drive.mount('/content/gdrive')"
      ]
    },
    {
      "cell_type": "code",
      "source": [
        "%cd gdrive/MyDrive/ML\\ ITMO"
      ],
      "metadata": {
        "colab": {
          "base_uri": "https://localhost:8080/"
        },
        "id": "ugPGvMCKjGOX",
        "outputId": "092e01d2-4965-4190-afdd-9ed74b7a6572"
      },
      "execution_count": 641,
      "outputs": [
        {
          "output_type": "stream",
          "name": "stdout",
          "text": [
            "[Errno 2] No such file or directory: 'gdrive/MyDrive/ML ITMO'\n",
            "/content/gdrive/MyDrive/ML ITMO\n"
          ]
        }
      ]
    },
    {
      "cell_type": "markdown",
      "source": [
        "Импортируем библиотеки"
      ],
      "metadata": {
        "id": "sHHk7V5vjfmM"
      }
    },
    {
      "cell_type": "code",
      "source": [
        "import pandas as pd\n",
        "import numpy as np\n",
        "import matplotlib.pyplot as plt"
      ],
      "metadata": {
        "id": "b5-R7PNYji7N"
      },
      "execution_count": 642,
      "outputs": []
    },
    {
      "cell_type": "markdown",
      "source": [
        "Импортируем датасет"
      ],
      "metadata": {
        "id": "J9hvcemSoitu"
      }
    },
    {
      "cell_type": "code",
      "source": [
        "path='Watches.csv'\n",
        "data=pd.read_csv(path, index_col='Unnamed: 0')"
      ],
      "metadata": {
        "colab": {
          "base_uri": "https://localhost:8080/"
        },
        "id": "7jvPT41IokxX",
        "outputId": "4db9c58a-99c5-4d42-b901-ac356617c0ee"
      },
      "execution_count": 643,
      "outputs": [
        {
          "output_type": "stream",
          "name": "stderr",
          "text": [
            "<ipython-input-643-50ca43d5d0b5>:2: DtypeWarning: Columns (13) have mixed types. Specify dtype option on import or set low_memory=False.\n",
            "  data=pd.read_csv(path, index_col='Unnamed: 0')\n"
          ]
        }
      ]
    },
    {
      "cell_type": "markdown",
      "source": [
        "# Часть 1. Проверка и очистка данных"
      ],
      "metadata": {
        "id": "e96ijU5Ya0ce"
      }
    },
    {
      "cell_type": "code",
      "source": [
        "data.head()"
      ],
      "metadata": {
        "colab": {
          "base_uri": "https://localhost:8080/",
          "height": 206
        },
        "id": "fiuxzMt5o3vF",
        "outputId": "53c3307c-bb8f-43ec-91ed-650fc9690c29"
      },
      "execution_count": 644,
      "outputs": [
        {
          "output_type": "execute_result",
          "data": {
            "text/plain": [
              "                                                name     price  \\\n",
              "0  Audemars Piguet Royal Oak Offshore Chronograph...   $43,500   \n",
              "1  Audemars Piguet Royal Oak Selfwinding\\n39mm Bl...   $71,500   \n",
              "2  Audemars Piguet Royal Oak Chronograph\\nBlue Di...   $79,191   \n",
              "3  Audemars Piguet Royal Oak Chronograph\\nSelfwin...  $108,000   \n",
              "4  Audemars Piguet Royal Oak Offshore Chronograph...   $27,500   \n",
              "\n",
              "             brand                           model                   ref  \\\n",
              "0  Audemars Piguet  Royal Oak Offshore Chronograph  26237ST.OO.1000ST.01   \n",
              "1  Audemars Piguet           Royal Oak Selfwinding  15300ST.OO.1220ST.02   \n",
              "2  Audemars Piguet           Royal Oak Chronograph               26331ST   \n",
              "3  Audemars Piguet           Royal Oak Chronograph  26715ST.OO.1356ST.01   \n",
              "4  Audemars Piguet  Royal Oak Offshore Chronograph  26170ST.OO.1000ST.01   \n",
              "\n",
              "        mvmt  casem bracem                   yop       cond  \\\n",
              "0        NaN    NaN    NaN                  2019     Unworn   \n",
              "1        NaN    NaN    NaN                  2012  Very good   \n",
              "2  Automatic  Steel  Steel               Unknown     Unworn   \n",
              "3  Automatic  Steel  Steel  2022 (Approximation)        New   \n",
              "4  Automatic  Steel  Steel               Unknown  Very good   \n",
              "\n",
              "                  sex        size condition  \n",
              "0  Men's watch/Unisex       42 mm       NaN  \n",
              "1  Men's watch/Unisex       39 mm       NaN  \n",
              "2                 NaN       41 mm       NaN  \n",
              "3  Men's watch/Unisex       38 mm       NaN  \n",
              "4  Men's watch/Unisex  42 x 54 mm       NaN  "
            ],
            "text/html": [
              "\n",
              "  <div id=\"df-957690b3-0f3f-4c99-9145-c19528c34180\" class=\"colab-df-container\">\n",
              "    <div>\n",
              "<style scoped>\n",
              "    .dataframe tbody tr th:only-of-type {\n",
              "        vertical-align: middle;\n",
              "    }\n",
              "\n",
              "    .dataframe tbody tr th {\n",
              "        vertical-align: top;\n",
              "    }\n",
              "\n",
              "    .dataframe thead th {\n",
              "        text-align: right;\n",
              "    }\n",
              "</style>\n",
              "<table border=\"1\" class=\"dataframe\">\n",
              "  <thead>\n",
              "    <tr style=\"text-align: right;\">\n",
              "      <th></th>\n",
              "      <th>name</th>\n",
              "      <th>price</th>\n",
              "      <th>brand</th>\n",
              "      <th>model</th>\n",
              "      <th>ref</th>\n",
              "      <th>mvmt</th>\n",
              "      <th>casem</th>\n",
              "      <th>bracem</th>\n",
              "      <th>yop</th>\n",
              "      <th>cond</th>\n",
              "      <th>sex</th>\n",
              "      <th>size</th>\n",
              "      <th>condition</th>\n",
              "    </tr>\n",
              "  </thead>\n",
              "  <tbody>\n",
              "    <tr>\n",
              "      <th>0</th>\n",
              "      <td>Audemars Piguet Royal Oak Offshore Chronograph...</td>\n",
              "      <td>$43,500</td>\n",
              "      <td>Audemars Piguet</td>\n",
              "      <td>Royal Oak Offshore Chronograph</td>\n",
              "      <td>26237ST.OO.1000ST.01</td>\n",
              "      <td>NaN</td>\n",
              "      <td>NaN</td>\n",
              "      <td>NaN</td>\n",
              "      <td>2019</td>\n",
              "      <td>Unworn</td>\n",
              "      <td>Men's watch/Unisex</td>\n",
              "      <td>42 mm</td>\n",
              "      <td>NaN</td>\n",
              "    </tr>\n",
              "    <tr>\n",
              "      <th>1</th>\n",
              "      <td>Audemars Piguet Royal Oak Selfwinding\\n39mm Bl...</td>\n",
              "      <td>$71,500</td>\n",
              "      <td>Audemars Piguet</td>\n",
              "      <td>Royal Oak Selfwinding</td>\n",
              "      <td>15300ST.OO.1220ST.02</td>\n",
              "      <td>NaN</td>\n",
              "      <td>NaN</td>\n",
              "      <td>NaN</td>\n",
              "      <td>2012</td>\n",
              "      <td>Very good</td>\n",
              "      <td>Men's watch/Unisex</td>\n",
              "      <td>39 mm</td>\n",
              "      <td>NaN</td>\n",
              "    </tr>\n",
              "    <tr>\n",
              "      <th>2</th>\n",
              "      <td>Audemars Piguet Royal Oak Chronograph\\nBlue Di...</td>\n",
              "      <td>$79,191</td>\n",
              "      <td>Audemars Piguet</td>\n",
              "      <td>Royal Oak Chronograph</td>\n",
              "      <td>26331ST</td>\n",
              "      <td>Automatic</td>\n",
              "      <td>Steel</td>\n",
              "      <td>Steel</td>\n",
              "      <td>Unknown</td>\n",
              "      <td>Unworn</td>\n",
              "      <td>NaN</td>\n",
              "      <td>41 mm</td>\n",
              "      <td>NaN</td>\n",
              "    </tr>\n",
              "    <tr>\n",
              "      <th>3</th>\n",
              "      <td>Audemars Piguet Royal Oak Chronograph\\nSelfwin...</td>\n",
              "      <td>$108,000</td>\n",
              "      <td>Audemars Piguet</td>\n",
              "      <td>Royal Oak Chronograph</td>\n",
              "      <td>26715ST.OO.1356ST.01</td>\n",
              "      <td>Automatic</td>\n",
              "      <td>Steel</td>\n",
              "      <td>Steel</td>\n",
              "      <td>2022 (Approximation)</td>\n",
              "      <td>New</td>\n",
              "      <td>Men's watch/Unisex</td>\n",
              "      <td>38 mm</td>\n",
              "      <td>NaN</td>\n",
              "    </tr>\n",
              "    <tr>\n",
              "      <th>4</th>\n",
              "      <td>Audemars Piguet Royal Oak Offshore Chronograph...</td>\n",
              "      <td>$27,500</td>\n",
              "      <td>Audemars Piguet</td>\n",
              "      <td>Royal Oak Offshore Chronograph</td>\n",
              "      <td>26170ST.OO.1000ST.01</td>\n",
              "      <td>Automatic</td>\n",
              "      <td>Steel</td>\n",
              "      <td>Steel</td>\n",
              "      <td>Unknown</td>\n",
              "      <td>Very good</td>\n",
              "      <td>Men's watch/Unisex</td>\n",
              "      <td>42 x 54 mm</td>\n",
              "      <td>NaN</td>\n",
              "    </tr>\n",
              "  </tbody>\n",
              "</table>\n",
              "</div>\n",
              "    <div class=\"colab-df-buttons\">\n",
              "\n",
              "  <div class=\"colab-df-container\">\n",
              "    <button class=\"colab-df-convert\" onclick=\"convertToInteractive('df-957690b3-0f3f-4c99-9145-c19528c34180')\"\n",
              "            title=\"Convert this dataframe to an interactive table.\"\n",
              "            style=\"display:none;\">\n",
              "\n",
              "  <svg xmlns=\"http://www.w3.org/2000/svg\" height=\"24px\" viewBox=\"0 -960 960 960\">\n",
              "    <path d=\"M120-120v-720h720v720H120Zm60-500h600v-160H180v160Zm220 220h160v-160H400v160Zm0 220h160v-160H400v160ZM180-400h160v-160H180v160Zm440 0h160v-160H620v160ZM180-180h160v-160H180v160Zm440 0h160v-160H620v160Z\"/>\n",
              "  </svg>\n",
              "    </button>\n",
              "\n",
              "  <style>\n",
              "    .colab-df-container {\n",
              "      display:flex;\n",
              "      gap: 12px;\n",
              "    }\n",
              "\n",
              "    .colab-df-convert {\n",
              "      background-color: #E8F0FE;\n",
              "      border: none;\n",
              "      border-radius: 50%;\n",
              "      cursor: pointer;\n",
              "      display: none;\n",
              "      fill: #1967D2;\n",
              "      height: 32px;\n",
              "      padding: 0 0 0 0;\n",
              "      width: 32px;\n",
              "    }\n",
              "\n",
              "    .colab-df-convert:hover {\n",
              "      background-color: #E2EBFA;\n",
              "      box-shadow: 0px 1px 2px rgba(60, 64, 67, 0.3), 0px 1px 3px 1px rgba(60, 64, 67, 0.15);\n",
              "      fill: #174EA6;\n",
              "    }\n",
              "\n",
              "    .colab-df-buttons div {\n",
              "      margin-bottom: 4px;\n",
              "    }\n",
              "\n",
              "    [theme=dark] .colab-df-convert {\n",
              "      background-color: #3B4455;\n",
              "      fill: #D2E3FC;\n",
              "    }\n",
              "\n",
              "    [theme=dark] .colab-df-convert:hover {\n",
              "      background-color: #434B5C;\n",
              "      box-shadow: 0px 1px 3px 1px rgba(0, 0, 0, 0.15);\n",
              "      filter: drop-shadow(0px 1px 2px rgba(0, 0, 0, 0.3));\n",
              "      fill: #FFFFFF;\n",
              "    }\n",
              "  </style>\n",
              "\n",
              "    <script>\n",
              "      const buttonEl =\n",
              "        document.querySelector('#df-957690b3-0f3f-4c99-9145-c19528c34180 button.colab-df-convert');\n",
              "      buttonEl.style.display =\n",
              "        google.colab.kernel.accessAllowed ? 'block' : 'none';\n",
              "\n",
              "      async function convertToInteractive(key) {\n",
              "        const element = document.querySelector('#df-957690b3-0f3f-4c99-9145-c19528c34180');\n",
              "        const dataTable =\n",
              "          await google.colab.kernel.invokeFunction('convertToInteractive',\n",
              "                                                    [key], {});\n",
              "        if (!dataTable) return;\n",
              "\n",
              "        const docLinkHtml = 'Like what you see? Visit the ' +\n",
              "          '<a target=\"_blank\" href=https://colab.research.google.com/notebooks/data_table.ipynb>data table notebook</a>'\n",
              "          + ' to learn more about interactive tables.';\n",
              "        element.innerHTML = '';\n",
              "        dataTable['output_type'] = 'display_data';\n",
              "        await google.colab.output.renderOutput(dataTable, element);\n",
              "        const docLink = document.createElement('div');\n",
              "        docLink.innerHTML = docLinkHtml;\n",
              "        element.appendChild(docLink);\n",
              "      }\n",
              "    </script>\n",
              "  </div>\n",
              "\n",
              "\n",
              "<div id=\"df-72ebc633-802a-466b-8523-783ea9ce04f2\">\n",
              "  <button class=\"colab-df-quickchart\" onclick=\"quickchart('df-72ebc633-802a-466b-8523-783ea9ce04f2')\"\n",
              "            title=\"Suggest charts\"\n",
              "            style=\"display:none;\">\n",
              "\n",
              "<svg xmlns=\"http://www.w3.org/2000/svg\" height=\"24px\"viewBox=\"0 0 24 24\"\n",
              "     width=\"24px\">\n",
              "    <g>\n",
              "        <path d=\"M19 3H5c-1.1 0-2 .9-2 2v14c0 1.1.9 2 2 2h14c1.1 0 2-.9 2-2V5c0-1.1-.9-2-2-2zM9 17H7v-7h2v7zm4 0h-2V7h2v10zm4 0h-2v-4h2v4z\"/>\n",
              "    </g>\n",
              "</svg>\n",
              "  </button>\n",
              "\n",
              "<style>\n",
              "  .colab-df-quickchart {\n",
              "      --bg-color: #E8F0FE;\n",
              "      --fill-color: #1967D2;\n",
              "      --hover-bg-color: #E2EBFA;\n",
              "      --hover-fill-color: #174EA6;\n",
              "      --disabled-fill-color: #AAA;\n",
              "      --disabled-bg-color: #DDD;\n",
              "  }\n",
              "\n",
              "  [theme=dark] .colab-df-quickchart {\n",
              "      --bg-color: #3B4455;\n",
              "      --fill-color: #D2E3FC;\n",
              "      --hover-bg-color: #434B5C;\n",
              "      --hover-fill-color: #FFFFFF;\n",
              "      --disabled-bg-color: #3B4455;\n",
              "      --disabled-fill-color: #666;\n",
              "  }\n",
              "\n",
              "  .colab-df-quickchart {\n",
              "    background-color: var(--bg-color);\n",
              "    border: none;\n",
              "    border-radius: 50%;\n",
              "    cursor: pointer;\n",
              "    display: none;\n",
              "    fill: var(--fill-color);\n",
              "    height: 32px;\n",
              "    padding: 0;\n",
              "    width: 32px;\n",
              "  }\n",
              "\n",
              "  .colab-df-quickchart:hover {\n",
              "    background-color: var(--hover-bg-color);\n",
              "    box-shadow: 0 1px 2px rgba(60, 64, 67, 0.3), 0 1px 3px 1px rgba(60, 64, 67, 0.15);\n",
              "    fill: var(--button-hover-fill-color);\n",
              "  }\n",
              "\n",
              "  .colab-df-quickchart-complete:disabled,\n",
              "  .colab-df-quickchart-complete:disabled:hover {\n",
              "    background-color: var(--disabled-bg-color);\n",
              "    fill: var(--disabled-fill-color);\n",
              "    box-shadow: none;\n",
              "  }\n",
              "\n",
              "  .colab-df-spinner {\n",
              "    border: 2px solid var(--fill-color);\n",
              "    border-color: transparent;\n",
              "    border-bottom-color: var(--fill-color);\n",
              "    animation:\n",
              "      spin 1s steps(1) infinite;\n",
              "  }\n",
              "\n",
              "  @keyframes spin {\n",
              "    0% {\n",
              "      border-color: transparent;\n",
              "      border-bottom-color: var(--fill-color);\n",
              "      border-left-color: var(--fill-color);\n",
              "    }\n",
              "    20% {\n",
              "      border-color: transparent;\n",
              "      border-left-color: var(--fill-color);\n",
              "      border-top-color: var(--fill-color);\n",
              "    }\n",
              "    30% {\n",
              "      border-color: transparent;\n",
              "      border-left-color: var(--fill-color);\n",
              "      border-top-color: var(--fill-color);\n",
              "      border-right-color: var(--fill-color);\n",
              "    }\n",
              "    40% {\n",
              "      border-color: transparent;\n",
              "      border-right-color: var(--fill-color);\n",
              "      border-top-color: var(--fill-color);\n",
              "    }\n",
              "    60% {\n",
              "      border-color: transparent;\n",
              "      border-right-color: var(--fill-color);\n",
              "    }\n",
              "    80% {\n",
              "      border-color: transparent;\n",
              "      border-right-color: var(--fill-color);\n",
              "      border-bottom-color: var(--fill-color);\n",
              "    }\n",
              "    90% {\n",
              "      border-color: transparent;\n",
              "      border-bottom-color: var(--fill-color);\n",
              "    }\n",
              "  }\n",
              "</style>\n",
              "\n",
              "  <script>\n",
              "    async function quickchart(key) {\n",
              "      const quickchartButtonEl =\n",
              "        document.querySelector('#' + key + ' button');\n",
              "      quickchartButtonEl.disabled = true;  // To prevent multiple clicks.\n",
              "      quickchartButtonEl.classList.add('colab-df-spinner');\n",
              "      try {\n",
              "        const charts = await google.colab.kernel.invokeFunction(\n",
              "            'suggestCharts', [key], {});\n",
              "      } catch (error) {\n",
              "        console.error('Error during call to suggestCharts:', error);\n",
              "      }\n",
              "      quickchartButtonEl.classList.remove('colab-df-spinner');\n",
              "      quickchartButtonEl.classList.add('colab-df-quickchart-complete');\n",
              "    }\n",
              "    (() => {\n",
              "      let quickchartButtonEl =\n",
              "        document.querySelector('#df-72ebc633-802a-466b-8523-783ea9ce04f2 button');\n",
              "      quickchartButtonEl.style.display =\n",
              "        google.colab.kernel.accessAllowed ? 'block' : 'none';\n",
              "    })();\n",
              "  </script>\n",
              "</div>\n",
              "    </div>\n",
              "  </div>\n"
            ]
          },
          "metadata": {},
          "execution_count": 644
        }
      ]
    },
    {
      "cell_type": "code",
      "source": [
        "data.tail()"
      ],
      "metadata": {
        "id": "ivq2JI1nJXRa",
        "outputId": "44bc6457-e35d-41c1-a8b2-699dd6bbe69f",
        "colab": {
          "base_uri": "https://localhost:8080/",
          "height": 206
        }
      },
      "execution_count": 645,
      "outputs": [
        {
          "output_type": "execute_result",
          "data": {
            "text/plain": [
              "                                                   name    price   brand  \\\n",
              "6438  Zenith Defy El Primero\\n21 TITANIUM 95.9000.90...   $9,790  Zenith   \n",
              "6439  Zenith Chronomaster Sport\\n41mm White 03.3100....   $8,450  Zenith   \n",
              "6440   Zenith El Primero\\n50th Anniversary A386 Limited  $16,500  Zenith   \n",
              "6441  Zenith Chronomaster Sport\\nWhite Dial Chronogr...   $9,000  Zenith   \n",
              "6442  Zenith El Primero Chronomaster\\n03.2040.400/69...   $6,833  Zenith   \n",
              "\n",
              "                        model                    ref       mvmt  casem  \\\n",
              "6438          Defy El Primero  95.9000.9004/78.M9000        NaN    NaN   \n",
              "6439       Chronomaster Sport  03.3100.3600/69.M3100        NaN    NaN   \n",
              "6440               El Primero    30.A386.400/69.C807        NaN    NaN   \n",
              "6441       Chronomaster Sport  03.3100.3600/69.M3100        NaN    NaN   \n",
              "6442  El Primero Chronomaster                    NaN  Automatic  Steel   \n",
              "\n",
              "       bracem                   yop       cond                 sex   size  \\\n",
              "6438      NaN                  2022  Very good  Men's watch/Unisex  44 mm   \n",
              "6439      NaN  2021 (Approximation)  Very good  Men's watch/Unisex  41 mm   \n",
              "6440      NaN                  2019  Very good  Men's watch/Unisex  38 mm   \n",
              "6441      NaN                  2021     Unworn  Men's watch/Unisex  41 mm   \n",
              "6442  Leather                  2019  Very good                 NaN  42 mm   \n",
              "\n",
              "     condition  \n",
              "6438       NaN  \n",
              "6439       NaN  \n",
              "6440       NaN  \n",
              "6441       NaN  \n",
              "6442       NaN  "
            ],
            "text/html": [
              "\n",
              "  <div id=\"df-79e4a7d8-a4b6-4dda-9ba7-dc48d0e2979e\" class=\"colab-df-container\">\n",
              "    <div>\n",
              "<style scoped>\n",
              "    .dataframe tbody tr th:only-of-type {\n",
              "        vertical-align: middle;\n",
              "    }\n",
              "\n",
              "    .dataframe tbody tr th {\n",
              "        vertical-align: top;\n",
              "    }\n",
              "\n",
              "    .dataframe thead th {\n",
              "        text-align: right;\n",
              "    }\n",
              "</style>\n",
              "<table border=\"1\" class=\"dataframe\">\n",
              "  <thead>\n",
              "    <tr style=\"text-align: right;\">\n",
              "      <th></th>\n",
              "      <th>name</th>\n",
              "      <th>price</th>\n",
              "      <th>brand</th>\n",
              "      <th>model</th>\n",
              "      <th>ref</th>\n",
              "      <th>mvmt</th>\n",
              "      <th>casem</th>\n",
              "      <th>bracem</th>\n",
              "      <th>yop</th>\n",
              "      <th>cond</th>\n",
              "      <th>sex</th>\n",
              "      <th>size</th>\n",
              "      <th>condition</th>\n",
              "    </tr>\n",
              "  </thead>\n",
              "  <tbody>\n",
              "    <tr>\n",
              "      <th>6438</th>\n",
              "      <td>Zenith Defy El Primero\\n21 TITANIUM 95.9000.90...</td>\n",
              "      <td>$9,790</td>\n",
              "      <td>Zenith</td>\n",
              "      <td>Defy El Primero</td>\n",
              "      <td>95.9000.9004/78.M9000</td>\n",
              "      <td>NaN</td>\n",
              "      <td>NaN</td>\n",
              "      <td>NaN</td>\n",
              "      <td>2022</td>\n",
              "      <td>Very good</td>\n",
              "      <td>Men's watch/Unisex</td>\n",
              "      <td>44 mm</td>\n",
              "      <td>NaN</td>\n",
              "    </tr>\n",
              "    <tr>\n",
              "      <th>6439</th>\n",
              "      <td>Zenith Chronomaster Sport\\n41mm White 03.3100....</td>\n",
              "      <td>$8,450</td>\n",
              "      <td>Zenith</td>\n",
              "      <td>Chronomaster Sport</td>\n",
              "      <td>03.3100.3600/69.M3100</td>\n",
              "      <td>NaN</td>\n",
              "      <td>NaN</td>\n",
              "      <td>NaN</td>\n",
              "      <td>2021 (Approximation)</td>\n",
              "      <td>Very good</td>\n",
              "      <td>Men's watch/Unisex</td>\n",
              "      <td>41 mm</td>\n",
              "      <td>NaN</td>\n",
              "    </tr>\n",
              "    <tr>\n",
              "      <th>6440</th>\n",
              "      <td>Zenith El Primero\\n50th Anniversary A386 Limited</td>\n",
              "      <td>$16,500</td>\n",
              "      <td>Zenith</td>\n",
              "      <td>El Primero</td>\n",
              "      <td>30.A386.400/69.C807</td>\n",
              "      <td>NaN</td>\n",
              "      <td>NaN</td>\n",
              "      <td>NaN</td>\n",
              "      <td>2019</td>\n",
              "      <td>Very good</td>\n",
              "      <td>Men's watch/Unisex</td>\n",
              "      <td>38 mm</td>\n",
              "      <td>NaN</td>\n",
              "    </tr>\n",
              "    <tr>\n",
              "      <th>6441</th>\n",
              "      <td>Zenith Chronomaster Sport\\nWhite Dial Chronogr...</td>\n",
              "      <td>$9,000</td>\n",
              "      <td>Zenith</td>\n",
              "      <td>Chronomaster Sport</td>\n",
              "      <td>03.3100.3600/69.M3100</td>\n",
              "      <td>NaN</td>\n",
              "      <td>NaN</td>\n",
              "      <td>NaN</td>\n",
              "      <td>2021</td>\n",
              "      <td>Unworn</td>\n",
              "      <td>Men's watch/Unisex</td>\n",
              "      <td>41 mm</td>\n",
              "      <td>NaN</td>\n",
              "    </tr>\n",
              "    <tr>\n",
              "      <th>6442</th>\n",
              "      <td>Zenith El Primero Chronomaster\\n03.2040.400/69...</td>\n",
              "      <td>$6,833</td>\n",
              "      <td>Zenith</td>\n",
              "      <td>El Primero Chronomaster</td>\n",
              "      <td>NaN</td>\n",
              "      <td>Automatic</td>\n",
              "      <td>Steel</td>\n",
              "      <td>Leather</td>\n",
              "      <td>2019</td>\n",
              "      <td>Very good</td>\n",
              "      <td>NaN</td>\n",
              "      <td>42 mm</td>\n",
              "      <td>NaN</td>\n",
              "    </tr>\n",
              "  </tbody>\n",
              "</table>\n",
              "</div>\n",
              "    <div class=\"colab-df-buttons\">\n",
              "\n",
              "  <div class=\"colab-df-container\">\n",
              "    <button class=\"colab-df-convert\" onclick=\"convertToInteractive('df-79e4a7d8-a4b6-4dda-9ba7-dc48d0e2979e')\"\n",
              "            title=\"Convert this dataframe to an interactive table.\"\n",
              "            style=\"display:none;\">\n",
              "\n",
              "  <svg xmlns=\"http://www.w3.org/2000/svg\" height=\"24px\" viewBox=\"0 -960 960 960\">\n",
              "    <path d=\"M120-120v-720h720v720H120Zm60-500h600v-160H180v160Zm220 220h160v-160H400v160Zm0 220h160v-160H400v160ZM180-400h160v-160H180v160Zm440 0h160v-160H620v160ZM180-180h160v-160H180v160Zm440 0h160v-160H620v160Z\"/>\n",
              "  </svg>\n",
              "    </button>\n",
              "\n",
              "  <style>\n",
              "    .colab-df-container {\n",
              "      display:flex;\n",
              "      gap: 12px;\n",
              "    }\n",
              "\n",
              "    .colab-df-convert {\n",
              "      background-color: #E8F0FE;\n",
              "      border: none;\n",
              "      border-radius: 50%;\n",
              "      cursor: pointer;\n",
              "      display: none;\n",
              "      fill: #1967D2;\n",
              "      height: 32px;\n",
              "      padding: 0 0 0 0;\n",
              "      width: 32px;\n",
              "    }\n",
              "\n",
              "    .colab-df-convert:hover {\n",
              "      background-color: #E2EBFA;\n",
              "      box-shadow: 0px 1px 2px rgba(60, 64, 67, 0.3), 0px 1px 3px 1px rgba(60, 64, 67, 0.15);\n",
              "      fill: #174EA6;\n",
              "    }\n",
              "\n",
              "    .colab-df-buttons div {\n",
              "      margin-bottom: 4px;\n",
              "    }\n",
              "\n",
              "    [theme=dark] .colab-df-convert {\n",
              "      background-color: #3B4455;\n",
              "      fill: #D2E3FC;\n",
              "    }\n",
              "\n",
              "    [theme=dark] .colab-df-convert:hover {\n",
              "      background-color: #434B5C;\n",
              "      box-shadow: 0px 1px 3px 1px rgba(0, 0, 0, 0.15);\n",
              "      filter: drop-shadow(0px 1px 2px rgba(0, 0, 0, 0.3));\n",
              "      fill: #FFFFFF;\n",
              "    }\n",
              "  </style>\n",
              "\n",
              "    <script>\n",
              "      const buttonEl =\n",
              "        document.querySelector('#df-79e4a7d8-a4b6-4dda-9ba7-dc48d0e2979e button.colab-df-convert');\n",
              "      buttonEl.style.display =\n",
              "        google.colab.kernel.accessAllowed ? 'block' : 'none';\n",
              "\n",
              "      async function convertToInteractive(key) {\n",
              "        const element = document.querySelector('#df-79e4a7d8-a4b6-4dda-9ba7-dc48d0e2979e');\n",
              "        const dataTable =\n",
              "          await google.colab.kernel.invokeFunction('convertToInteractive',\n",
              "                                                    [key], {});\n",
              "        if (!dataTable) return;\n",
              "\n",
              "        const docLinkHtml = 'Like what you see? Visit the ' +\n",
              "          '<a target=\"_blank\" href=https://colab.research.google.com/notebooks/data_table.ipynb>data table notebook</a>'\n",
              "          + ' to learn more about interactive tables.';\n",
              "        element.innerHTML = '';\n",
              "        dataTable['output_type'] = 'display_data';\n",
              "        await google.colab.output.renderOutput(dataTable, element);\n",
              "        const docLink = document.createElement('div');\n",
              "        docLink.innerHTML = docLinkHtml;\n",
              "        element.appendChild(docLink);\n",
              "      }\n",
              "    </script>\n",
              "  </div>\n",
              "\n",
              "\n",
              "<div id=\"df-fc0b3428-60d7-458b-9a8d-768aa57fd57f\">\n",
              "  <button class=\"colab-df-quickchart\" onclick=\"quickchart('df-fc0b3428-60d7-458b-9a8d-768aa57fd57f')\"\n",
              "            title=\"Suggest charts\"\n",
              "            style=\"display:none;\">\n",
              "\n",
              "<svg xmlns=\"http://www.w3.org/2000/svg\" height=\"24px\"viewBox=\"0 0 24 24\"\n",
              "     width=\"24px\">\n",
              "    <g>\n",
              "        <path d=\"M19 3H5c-1.1 0-2 .9-2 2v14c0 1.1.9 2 2 2h14c1.1 0 2-.9 2-2V5c0-1.1-.9-2-2-2zM9 17H7v-7h2v7zm4 0h-2V7h2v10zm4 0h-2v-4h2v4z\"/>\n",
              "    </g>\n",
              "</svg>\n",
              "  </button>\n",
              "\n",
              "<style>\n",
              "  .colab-df-quickchart {\n",
              "      --bg-color: #E8F0FE;\n",
              "      --fill-color: #1967D2;\n",
              "      --hover-bg-color: #E2EBFA;\n",
              "      --hover-fill-color: #174EA6;\n",
              "      --disabled-fill-color: #AAA;\n",
              "      --disabled-bg-color: #DDD;\n",
              "  }\n",
              "\n",
              "  [theme=dark] .colab-df-quickchart {\n",
              "      --bg-color: #3B4455;\n",
              "      --fill-color: #D2E3FC;\n",
              "      --hover-bg-color: #434B5C;\n",
              "      --hover-fill-color: #FFFFFF;\n",
              "      --disabled-bg-color: #3B4455;\n",
              "      --disabled-fill-color: #666;\n",
              "  }\n",
              "\n",
              "  .colab-df-quickchart {\n",
              "    background-color: var(--bg-color);\n",
              "    border: none;\n",
              "    border-radius: 50%;\n",
              "    cursor: pointer;\n",
              "    display: none;\n",
              "    fill: var(--fill-color);\n",
              "    height: 32px;\n",
              "    padding: 0;\n",
              "    width: 32px;\n",
              "  }\n",
              "\n",
              "  .colab-df-quickchart:hover {\n",
              "    background-color: var(--hover-bg-color);\n",
              "    box-shadow: 0 1px 2px rgba(60, 64, 67, 0.3), 0 1px 3px 1px rgba(60, 64, 67, 0.15);\n",
              "    fill: var(--button-hover-fill-color);\n",
              "  }\n",
              "\n",
              "  .colab-df-quickchart-complete:disabled,\n",
              "  .colab-df-quickchart-complete:disabled:hover {\n",
              "    background-color: var(--disabled-bg-color);\n",
              "    fill: var(--disabled-fill-color);\n",
              "    box-shadow: none;\n",
              "  }\n",
              "\n",
              "  .colab-df-spinner {\n",
              "    border: 2px solid var(--fill-color);\n",
              "    border-color: transparent;\n",
              "    border-bottom-color: var(--fill-color);\n",
              "    animation:\n",
              "      spin 1s steps(1) infinite;\n",
              "  }\n",
              "\n",
              "  @keyframes spin {\n",
              "    0% {\n",
              "      border-color: transparent;\n",
              "      border-bottom-color: var(--fill-color);\n",
              "      border-left-color: var(--fill-color);\n",
              "    }\n",
              "    20% {\n",
              "      border-color: transparent;\n",
              "      border-left-color: var(--fill-color);\n",
              "      border-top-color: var(--fill-color);\n",
              "    }\n",
              "    30% {\n",
              "      border-color: transparent;\n",
              "      border-left-color: var(--fill-color);\n",
              "      border-top-color: var(--fill-color);\n",
              "      border-right-color: var(--fill-color);\n",
              "    }\n",
              "    40% {\n",
              "      border-color: transparent;\n",
              "      border-right-color: var(--fill-color);\n",
              "      border-top-color: var(--fill-color);\n",
              "    }\n",
              "    60% {\n",
              "      border-color: transparent;\n",
              "      border-right-color: var(--fill-color);\n",
              "    }\n",
              "    80% {\n",
              "      border-color: transparent;\n",
              "      border-right-color: var(--fill-color);\n",
              "      border-bottom-color: var(--fill-color);\n",
              "    }\n",
              "    90% {\n",
              "      border-color: transparent;\n",
              "      border-bottom-color: var(--fill-color);\n",
              "    }\n",
              "  }\n",
              "</style>\n",
              "\n",
              "  <script>\n",
              "    async function quickchart(key) {\n",
              "      const quickchartButtonEl =\n",
              "        document.querySelector('#' + key + ' button');\n",
              "      quickchartButtonEl.disabled = true;  // To prevent multiple clicks.\n",
              "      quickchartButtonEl.classList.add('colab-df-spinner');\n",
              "      try {\n",
              "        const charts = await google.colab.kernel.invokeFunction(\n",
              "            'suggestCharts', [key], {});\n",
              "      } catch (error) {\n",
              "        console.error('Error during call to suggestCharts:', error);\n",
              "      }\n",
              "      quickchartButtonEl.classList.remove('colab-df-spinner');\n",
              "      quickchartButtonEl.classList.add('colab-df-quickchart-complete');\n",
              "    }\n",
              "    (() => {\n",
              "      let quickchartButtonEl =\n",
              "        document.querySelector('#df-fc0b3428-60d7-458b-9a8d-768aa57fd57f button');\n",
              "      quickchartButtonEl.style.display =\n",
              "        google.colab.kernel.accessAllowed ? 'block' : 'none';\n",
              "    })();\n",
              "  </script>\n",
              "</div>\n",
              "    </div>\n",
              "  </div>\n"
            ]
          },
          "metadata": {},
          "execution_count": 645
        }
      ]
    },
    {
      "cell_type": "markdown",
      "source": [
        "Проверка данных"
      ],
      "metadata": {
        "id": "Uc4Omo-Bs8HF"
      }
    },
    {
      "cell_type": "code",
      "source": [
        "data.columns"
      ],
      "metadata": {
        "colab": {
          "base_uri": "https://localhost:8080/"
        },
        "id": "9NzT4rl-pfsO",
        "outputId": "cb006644-d02d-4ac5-ea83-8144fcee8417"
      },
      "execution_count": 646,
      "outputs": [
        {
          "output_type": "execute_result",
          "data": {
            "text/plain": [
              "Index(['name', 'price', 'brand', 'model', 'ref', 'mvmt', 'casem', 'bracem',\n",
              "       'yop', 'cond', 'sex', 'size', 'condition'],\n",
              "      dtype='object')"
            ]
          },
          "metadata": {},
          "execution_count": 646
        }
      ]
    },
    {
      "cell_type": "code",
      "source": [
        "data.shape"
      ],
      "metadata": {
        "colab": {
          "base_uri": "https://localhost:8080/"
        },
        "id": "QOu_w2fTpkJ_",
        "outputId": "91c80977-3030-4080-933d-328747adb63b"
      },
      "execution_count": 647,
      "outputs": [
        {
          "output_type": "execute_result",
          "data": {
            "text/plain": [
              "(284491, 13)"
            ]
          },
          "metadata": {},
          "execution_count": 647
        }
      ]
    },
    {
      "cell_type": "code",
      "source": [
        "data.dtypes"
      ],
      "metadata": {
        "colab": {
          "base_uri": "https://localhost:8080/"
        },
        "id": "BQEnc3LVpobd",
        "outputId": "7e49f06d-9366-4bf7-cd4a-d47c655056a2"
      },
      "execution_count": 648,
      "outputs": [
        {
          "output_type": "execute_result",
          "data": {
            "text/plain": [
              "name         object\n",
              "price        object\n",
              "brand        object\n",
              "model        object\n",
              "ref          object\n",
              "mvmt         object\n",
              "casem        object\n",
              "bracem       object\n",
              "yop          object\n",
              "cond         object\n",
              "sex          object\n",
              "size         object\n",
              "condition    object\n",
              "dtype: object"
            ]
          },
          "metadata": {},
          "execution_count": 648
        }
      ]
    },
    {
      "cell_type": "code",
      "source": [
        "data.isna().sum()"
      ],
      "metadata": {
        "colab": {
          "base_uri": "https://localhost:8080/"
        },
        "id": "6J16TRSoX5cS",
        "outputId": "11bf0d0b-e6f5-4cd4-af33-661bc0ebc766"
      },
      "execution_count": 649,
      "outputs": [
        {
          "output_type": "execute_result",
          "data": {
            "text/plain": [
              "name          72585\n",
              "price           406\n",
              "brand           131\n",
              "model         30466\n",
              "ref           43152\n",
              "mvmt         196685\n",
              "casem        164271\n",
              "bracem       174896\n",
              "yop             134\n",
              "cond          75987\n",
              "sex           95805\n",
              "size          23597\n",
              "condition    212922\n",
              "dtype: int64"
            ]
          },
          "metadata": {},
          "execution_count": 649
        }
      ]
    },
    {
      "cell_type": "code",
      "source": [
        "data.describe()"
      ],
      "metadata": {
        "colab": {
          "base_uri": "https://localhost:8080/",
          "height": 175
        },
        "id": "UytGyGLWBfTG",
        "outputId": "1646fb02-620f-4c21-e973-4e8f6802cb4d"
      },
      "execution_count": 650,
      "outputs": [
        {
          "output_type": "execute_result",
          "data": {
            "text/plain": [
              "                                                     name             price  \\\n",
              "count                                              211906            284085   \n",
              "unique                                             148689             36830   \n",
              "top     Omega Speedmaster Professional Moonwatch\\nCo-A...  Price on request   \n",
              "freq                                                  171             14259   \n",
              "\n",
              "         brand        model     ref       mvmt   casem  bracem      yop  \\\n",
              "count   284360       254025  241339      87806  120220  109595   284357   \n",
              "unique      28          948   33223          3      17      23      410   \n",
              "top      Rolex  Datejust 36  126334  Automatic   Steel   Steel  Unknown   \n",
              "freq     72484         9473    2081      65600   75793   49605    95957   \n",
              "\n",
              "             cond                 sex    size  condition  \n",
              "count      208504              188686  260894      71569  \n",
              "unique          7                   2    6699          7  \n",
              "top     Very good  Men's watch/Unisex   40 mm  Very good  \n",
              "freq        71604              158841   34254      36136  "
            ],
            "text/html": [
              "\n",
              "  <div id=\"df-5880b2ce-bafa-47d0-81ef-a7c8860da83c\" class=\"colab-df-container\">\n",
              "    <div>\n",
              "<style scoped>\n",
              "    .dataframe tbody tr th:only-of-type {\n",
              "        vertical-align: middle;\n",
              "    }\n",
              "\n",
              "    .dataframe tbody tr th {\n",
              "        vertical-align: top;\n",
              "    }\n",
              "\n",
              "    .dataframe thead th {\n",
              "        text-align: right;\n",
              "    }\n",
              "</style>\n",
              "<table border=\"1\" class=\"dataframe\">\n",
              "  <thead>\n",
              "    <tr style=\"text-align: right;\">\n",
              "      <th></th>\n",
              "      <th>name</th>\n",
              "      <th>price</th>\n",
              "      <th>brand</th>\n",
              "      <th>model</th>\n",
              "      <th>ref</th>\n",
              "      <th>mvmt</th>\n",
              "      <th>casem</th>\n",
              "      <th>bracem</th>\n",
              "      <th>yop</th>\n",
              "      <th>cond</th>\n",
              "      <th>sex</th>\n",
              "      <th>size</th>\n",
              "      <th>condition</th>\n",
              "    </tr>\n",
              "  </thead>\n",
              "  <tbody>\n",
              "    <tr>\n",
              "      <th>count</th>\n",
              "      <td>211906</td>\n",
              "      <td>284085</td>\n",
              "      <td>284360</td>\n",
              "      <td>254025</td>\n",
              "      <td>241339</td>\n",
              "      <td>87806</td>\n",
              "      <td>120220</td>\n",
              "      <td>109595</td>\n",
              "      <td>284357</td>\n",
              "      <td>208504</td>\n",
              "      <td>188686</td>\n",
              "      <td>260894</td>\n",
              "      <td>71569</td>\n",
              "    </tr>\n",
              "    <tr>\n",
              "      <th>unique</th>\n",
              "      <td>148689</td>\n",
              "      <td>36830</td>\n",
              "      <td>28</td>\n",
              "      <td>948</td>\n",
              "      <td>33223</td>\n",
              "      <td>3</td>\n",
              "      <td>17</td>\n",
              "      <td>23</td>\n",
              "      <td>410</td>\n",
              "      <td>7</td>\n",
              "      <td>2</td>\n",
              "      <td>6699</td>\n",
              "      <td>7</td>\n",
              "    </tr>\n",
              "    <tr>\n",
              "      <th>top</th>\n",
              "      <td>Omega Speedmaster Professional Moonwatch\\nCo-A...</td>\n",
              "      <td>Price on request</td>\n",
              "      <td>Rolex</td>\n",
              "      <td>Datejust 36</td>\n",
              "      <td>126334</td>\n",
              "      <td>Automatic</td>\n",
              "      <td>Steel</td>\n",
              "      <td>Steel</td>\n",
              "      <td>Unknown</td>\n",
              "      <td>Very good</td>\n",
              "      <td>Men's watch/Unisex</td>\n",
              "      <td>40 mm</td>\n",
              "      <td>Very good</td>\n",
              "    </tr>\n",
              "    <tr>\n",
              "      <th>freq</th>\n",
              "      <td>171</td>\n",
              "      <td>14259</td>\n",
              "      <td>72484</td>\n",
              "      <td>9473</td>\n",
              "      <td>2081</td>\n",
              "      <td>65600</td>\n",
              "      <td>75793</td>\n",
              "      <td>49605</td>\n",
              "      <td>95957</td>\n",
              "      <td>71604</td>\n",
              "      <td>158841</td>\n",
              "      <td>34254</td>\n",
              "      <td>36136</td>\n",
              "    </tr>\n",
              "  </tbody>\n",
              "</table>\n",
              "</div>\n",
              "    <div class=\"colab-df-buttons\">\n",
              "\n",
              "  <div class=\"colab-df-container\">\n",
              "    <button class=\"colab-df-convert\" onclick=\"convertToInteractive('df-5880b2ce-bafa-47d0-81ef-a7c8860da83c')\"\n",
              "            title=\"Convert this dataframe to an interactive table.\"\n",
              "            style=\"display:none;\">\n",
              "\n",
              "  <svg xmlns=\"http://www.w3.org/2000/svg\" height=\"24px\" viewBox=\"0 -960 960 960\">\n",
              "    <path d=\"M120-120v-720h720v720H120Zm60-500h600v-160H180v160Zm220 220h160v-160H400v160Zm0 220h160v-160H400v160ZM180-400h160v-160H180v160Zm440 0h160v-160H620v160ZM180-180h160v-160H180v160Zm440 0h160v-160H620v160Z\"/>\n",
              "  </svg>\n",
              "    </button>\n",
              "\n",
              "  <style>\n",
              "    .colab-df-container {\n",
              "      display:flex;\n",
              "      gap: 12px;\n",
              "    }\n",
              "\n",
              "    .colab-df-convert {\n",
              "      background-color: #E8F0FE;\n",
              "      border: none;\n",
              "      border-radius: 50%;\n",
              "      cursor: pointer;\n",
              "      display: none;\n",
              "      fill: #1967D2;\n",
              "      height: 32px;\n",
              "      padding: 0 0 0 0;\n",
              "      width: 32px;\n",
              "    }\n",
              "\n",
              "    .colab-df-convert:hover {\n",
              "      background-color: #E2EBFA;\n",
              "      box-shadow: 0px 1px 2px rgba(60, 64, 67, 0.3), 0px 1px 3px 1px rgba(60, 64, 67, 0.15);\n",
              "      fill: #174EA6;\n",
              "    }\n",
              "\n",
              "    .colab-df-buttons div {\n",
              "      margin-bottom: 4px;\n",
              "    }\n",
              "\n",
              "    [theme=dark] .colab-df-convert {\n",
              "      background-color: #3B4455;\n",
              "      fill: #D2E3FC;\n",
              "    }\n",
              "\n",
              "    [theme=dark] .colab-df-convert:hover {\n",
              "      background-color: #434B5C;\n",
              "      box-shadow: 0px 1px 3px 1px rgba(0, 0, 0, 0.15);\n",
              "      filter: drop-shadow(0px 1px 2px rgba(0, 0, 0, 0.3));\n",
              "      fill: #FFFFFF;\n",
              "    }\n",
              "  </style>\n",
              "\n",
              "    <script>\n",
              "      const buttonEl =\n",
              "        document.querySelector('#df-5880b2ce-bafa-47d0-81ef-a7c8860da83c button.colab-df-convert');\n",
              "      buttonEl.style.display =\n",
              "        google.colab.kernel.accessAllowed ? 'block' : 'none';\n",
              "\n",
              "      async function convertToInteractive(key) {\n",
              "        const element = document.querySelector('#df-5880b2ce-bafa-47d0-81ef-a7c8860da83c');\n",
              "        const dataTable =\n",
              "          await google.colab.kernel.invokeFunction('convertToInteractive',\n",
              "                                                    [key], {});\n",
              "        if (!dataTable) return;\n",
              "\n",
              "        const docLinkHtml = 'Like what you see? Visit the ' +\n",
              "          '<a target=\"_blank\" href=https://colab.research.google.com/notebooks/data_table.ipynb>data table notebook</a>'\n",
              "          + ' to learn more about interactive tables.';\n",
              "        element.innerHTML = '';\n",
              "        dataTable['output_type'] = 'display_data';\n",
              "        await google.colab.output.renderOutput(dataTable, element);\n",
              "        const docLink = document.createElement('div');\n",
              "        docLink.innerHTML = docLinkHtml;\n",
              "        element.appendChild(docLink);\n",
              "      }\n",
              "    </script>\n",
              "  </div>\n",
              "\n",
              "\n",
              "<div id=\"df-f757e518-4bb5-4da6-846b-8527c41a2ada\">\n",
              "  <button class=\"colab-df-quickchart\" onclick=\"quickchart('df-f757e518-4bb5-4da6-846b-8527c41a2ada')\"\n",
              "            title=\"Suggest charts\"\n",
              "            style=\"display:none;\">\n",
              "\n",
              "<svg xmlns=\"http://www.w3.org/2000/svg\" height=\"24px\"viewBox=\"0 0 24 24\"\n",
              "     width=\"24px\">\n",
              "    <g>\n",
              "        <path d=\"M19 3H5c-1.1 0-2 .9-2 2v14c0 1.1.9 2 2 2h14c1.1 0 2-.9 2-2V5c0-1.1-.9-2-2-2zM9 17H7v-7h2v7zm4 0h-2V7h2v10zm4 0h-2v-4h2v4z\"/>\n",
              "    </g>\n",
              "</svg>\n",
              "  </button>\n",
              "\n",
              "<style>\n",
              "  .colab-df-quickchart {\n",
              "      --bg-color: #E8F0FE;\n",
              "      --fill-color: #1967D2;\n",
              "      --hover-bg-color: #E2EBFA;\n",
              "      --hover-fill-color: #174EA6;\n",
              "      --disabled-fill-color: #AAA;\n",
              "      --disabled-bg-color: #DDD;\n",
              "  }\n",
              "\n",
              "  [theme=dark] .colab-df-quickchart {\n",
              "      --bg-color: #3B4455;\n",
              "      --fill-color: #D2E3FC;\n",
              "      --hover-bg-color: #434B5C;\n",
              "      --hover-fill-color: #FFFFFF;\n",
              "      --disabled-bg-color: #3B4455;\n",
              "      --disabled-fill-color: #666;\n",
              "  }\n",
              "\n",
              "  .colab-df-quickchart {\n",
              "    background-color: var(--bg-color);\n",
              "    border: none;\n",
              "    border-radius: 50%;\n",
              "    cursor: pointer;\n",
              "    display: none;\n",
              "    fill: var(--fill-color);\n",
              "    height: 32px;\n",
              "    padding: 0;\n",
              "    width: 32px;\n",
              "  }\n",
              "\n",
              "  .colab-df-quickchart:hover {\n",
              "    background-color: var(--hover-bg-color);\n",
              "    box-shadow: 0 1px 2px rgba(60, 64, 67, 0.3), 0 1px 3px 1px rgba(60, 64, 67, 0.15);\n",
              "    fill: var(--button-hover-fill-color);\n",
              "  }\n",
              "\n",
              "  .colab-df-quickchart-complete:disabled,\n",
              "  .colab-df-quickchart-complete:disabled:hover {\n",
              "    background-color: var(--disabled-bg-color);\n",
              "    fill: var(--disabled-fill-color);\n",
              "    box-shadow: none;\n",
              "  }\n",
              "\n",
              "  .colab-df-spinner {\n",
              "    border: 2px solid var(--fill-color);\n",
              "    border-color: transparent;\n",
              "    border-bottom-color: var(--fill-color);\n",
              "    animation:\n",
              "      spin 1s steps(1) infinite;\n",
              "  }\n",
              "\n",
              "  @keyframes spin {\n",
              "    0% {\n",
              "      border-color: transparent;\n",
              "      border-bottom-color: var(--fill-color);\n",
              "      border-left-color: var(--fill-color);\n",
              "    }\n",
              "    20% {\n",
              "      border-color: transparent;\n",
              "      border-left-color: var(--fill-color);\n",
              "      border-top-color: var(--fill-color);\n",
              "    }\n",
              "    30% {\n",
              "      border-color: transparent;\n",
              "      border-left-color: var(--fill-color);\n",
              "      border-top-color: var(--fill-color);\n",
              "      border-right-color: var(--fill-color);\n",
              "    }\n",
              "    40% {\n",
              "      border-color: transparent;\n",
              "      border-right-color: var(--fill-color);\n",
              "      border-top-color: var(--fill-color);\n",
              "    }\n",
              "    60% {\n",
              "      border-color: transparent;\n",
              "      border-right-color: var(--fill-color);\n",
              "    }\n",
              "    80% {\n",
              "      border-color: transparent;\n",
              "      border-right-color: var(--fill-color);\n",
              "      border-bottom-color: var(--fill-color);\n",
              "    }\n",
              "    90% {\n",
              "      border-color: transparent;\n",
              "      border-bottom-color: var(--fill-color);\n",
              "    }\n",
              "  }\n",
              "</style>\n",
              "\n",
              "  <script>\n",
              "    async function quickchart(key) {\n",
              "      const quickchartButtonEl =\n",
              "        document.querySelector('#' + key + ' button');\n",
              "      quickchartButtonEl.disabled = true;  // To prevent multiple clicks.\n",
              "      quickchartButtonEl.classList.add('colab-df-spinner');\n",
              "      try {\n",
              "        const charts = await google.colab.kernel.invokeFunction(\n",
              "            'suggestCharts', [key], {});\n",
              "      } catch (error) {\n",
              "        console.error('Error during call to suggestCharts:', error);\n",
              "      }\n",
              "      quickchartButtonEl.classList.remove('colab-df-spinner');\n",
              "      quickchartButtonEl.classList.add('colab-df-quickchart-complete');\n",
              "    }\n",
              "    (() => {\n",
              "      let quickchartButtonEl =\n",
              "        document.querySelector('#df-f757e518-4bb5-4da6-846b-8527c41a2ada button');\n",
              "      quickchartButtonEl.style.display =\n",
              "        google.colab.kernel.accessAllowed ? 'block' : 'none';\n",
              "    })();\n",
              "  </script>\n",
              "</div>\n",
              "    </div>\n",
              "  </div>\n"
            ]
          },
          "metadata": {},
          "execution_count": 650
        }
      ]
    },
    {
      "cell_type": "code",
      "source": [
        "data['brand'].unique()"
      ],
      "metadata": {
        "colab": {
          "base_uri": "https://localhost:8080/"
        },
        "id": "RIDvGlEOVJRx",
        "outputId": "5984a4d1-1960-4369-d154-d365ab47f53b"
      },
      "execution_count": 651,
      "outputs": [
        {
          "output_type": "execute_result",
          "data": {
            "text/plain": [
              "array(['Audemars Piguet', 'Cartier', 'Tudor', nan, 'Breitling', 'Oris',\n",
              "       'Richard Mille', 'Hublot', 'IWC', 'Jaeger-LeCoultre', 'Longines',\n",
              "       'Omega', 'Panerai', 'Patek Philippe', 'Rolex', 'Seiko', 'Sinn',\n",
              "       'Edox', 'NOMOS', 'Zenith', 'Tissot', 'Hamilton', 'Meistersinger',\n",
              "       'Rado', 'Montblanc', 'TAG Heuer', 'Ebel', 'A. Lange & Söhne',\n",
              "       'Vacheron Constantin'], dtype=object)"
            ]
          },
          "metadata": {},
          "execution_count": 651
        }
      ]
    },
    {
      "cell_type": "code",
      "source": [
        "data['mvmt'].unique()"
      ],
      "metadata": {
        "colab": {
          "base_uri": "https://localhost:8080/"
        },
        "id": "7SXWy6DYWDCE",
        "outputId": "d6495d75-9224-4a95-b8f6-2a32667c41d5"
      },
      "execution_count": 652,
      "outputs": [
        {
          "output_type": "execute_result",
          "data": {
            "text/plain": [
              "array([nan, 'Automatic', 'Manual winding', 'Quartz'], dtype=object)"
            ]
          },
          "metadata": {},
          "execution_count": 652
        }
      ]
    },
    {
      "cell_type": "code",
      "source": [
        "data['casem'].unique()"
      ],
      "metadata": {
        "colab": {
          "base_uri": "https://localhost:8080/"
        },
        "id": "1ePphs61WJUG",
        "outputId": "93678342-9b2a-44f5-846a-b3d84cf89fb5"
      },
      "execution_count": 653,
      "outputs": [
        {
          "output_type": "execute_result",
          "data": {
            "text/plain": [
              "array([nan, 'Steel', 'Titanium', 'White gold', 'Ceramic', 'Rose gold',\n",
              "       'Yellow gold', 'Gold/Steel', 'Platinum', 'Carbon', 'Red gold',\n",
              "       'Tantalum', 'Aluminum', 'Bronze', 'Plastic', 'Silver', 'Palladium',\n",
              "       'Tungsten'], dtype=object)"
            ]
          },
          "metadata": {},
          "execution_count": 653
        }
      ]
    },
    {
      "cell_type": "code",
      "source": [
        "data['bracem'].unique()"
      ],
      "metadata": {
        "colab": {
          "base_uri": "https://localhost:8080/"
        },
        "id": "Njxvg29oWPrT",
        "outputId": "581f9425-0b72-457e-bde6-bebb3ffece8c"
      },
      "execution_count": 654,
      "outputs": [
        {
          "output_type": "execute_result",
          "data": {
            "text/plain": [
              "array([nan, 'Steel', 'Rubber', 'Crocodile skin', 'White gold', 'Ceramic',\n",
              "       'Rose gold', 'Yellow gold', 'Titanium', 'Calf skin', 'Gold/Steel',\n",
              "       'Leather', 'Platinum', 'Satin', 'Textile', 'Red gold',\n",
              "       'Lizard skin', 'Plastic', 'Aluminium', 'Silicon', 'Shark skin',\n",
              "       'Silver', 'Snake skin', 'Ostrich skin'], dtype=object)"
            ]
          },
          "metadata": {},
          "execution_count": 654
        }
      ]
    },
    {
      "cell_type": "code",
      "source": [
        "data['cond'].unique()"
      ],
      "metadata": {
        "colab": {
          "base_uri": "https://localhost:8080/"
        },
        "id": "NkovVOCEWU_C",
        "outputId": "80b37c36-6bd9-4ea8-f783-28afc9fb1a81"
      },
      "execution_count": 655,
      "outputs": [
        {
          "output_type": "execute_result",
          "data": {
            "text/plain": [
              "array(['Unworn', 'Very good', 'New', 'Good', 'Fair', nan, 'Poor',\n",
              "       'Incomplete'], dtype=object)"
            ]
          },
          "metadata": {},
          "execution_count": 655
        }
      ]
    },
    {
      "cell_type": "code",
      "source": [
        "data['sex'].unique()"
      ],
      "metadata": {
        "colab": {
          "base_uri": "https://localhost:8080/"
        },
        "id": "chbIS83kWZ4Z",
        "outputId": "f341efca-5578-47aa-86d2-7195ce95fcd9"
      },
      "execution_count": 656,
      "outputs": [
        {
          "output_type": "execute_result",
          "data": {
            "text/plain": [
              "array([\"Men's watch/Unisex\", nan, \"Women's watch\"], dtype=object)"
            ]
          },
          "metadata": {},
          "execution_count": 656
        }
      ]
    },
    {
      "cell_type": "code",
      "source": [
        "data['size'].unique()"
      ],
      "metadata": {
        "colab": {
          "base_uri": "https://localhost:8080/"
        },
        "id": "6eqvLNk5WcC5",
        "outputId": "a08644d9-1194-43fd-cc77-ac5f1e59417c"
      },
      "execution_count": 657,
      "outputs": [
        {
          "output_type": "execute_result",
          "data": {
            "text/plain": [
              "array(['42 mm', '39 mm', '41 mm', ..., '40 x 10.75 mm', '46 x 17 mm',\n",
              "       '48 x 57.5 mm'], dtype=object)"
            ]
          },
          "metadata": {},
          "execution_count": 657
        }
      ]
    },
    {
      "cell_type": "code",
      "source": [
        "data['condition'].unique()"
      ],
      "metadata": {
        "colab": {
          "base_uri": "https://localhost:8080/"
        },
        "id": "UKccZLRJWkKB",
        "outputId": "44d7803f-152e-4b5c-b5f5-102e3c21e056"
      },
      "execution_count": 658,
      "outputs": [
        {
          "output_type": "execute_result",
          "data": {
            "text/plain": [
              "array([nan, 'Very good', 'Unworn', 'Good', 'Fair', 'New', 'Poor',\n",
              "       'Incomplete'], dtype=object)"
            ]
          },
          "metadata": {},
          "execution_count": 658
        }
      ]
    },
    {
      "cell_type": "markdown",
      "source": [
        "Ищем и удаляем дублирующиеся ячейки"
      ],
      "metadata": {
        "id": "0qprSJ2b8FLJ"
      }
    },
    {
      "cell_type": "code",
      "source": [
        "data.isna().sum()"
      ],
      "metadata": {
        "colab": {
          "base_uri": "https://localhost:8080/"
        },
        "id": "OhV8O0hZp1nv",
        "outputId": "feefff69-6d1b-43c3-d9a4-14f1265164ed"
      },
      "execution_count": 659,
      "outputs": [
        {
          "output_type": "execute_result",
          "data": {
            "text/plain": [
              "name          72585\n",
              "price           406\n",
              "brand           131\n",
              "model         30466\n",
              "ref           43152\n",
              "mvmt         196685\n",
              "casem        164271\n",
              "bracem       174896\n",
              "yop             134\n",
              "cond          75987\n",
              "sex           95805\n",
              "size          23597\n",
              "condition    212922\n",
              "dtype: int64"
            ]
          },
          "metadata": {},
          "execution_count": 659
        }
      ]
    },
    {
      "cell_type": "code",
      "source": [
        "data.duplicated().sum()"
      ],
      "metadata": {
        "colab": {
          "base_uri": "https://localhost:8080/"
        },
        "id": "ScD2nY3zqxdH",
        "outputId": "a4f698ce-591d-42c4-fb25-7a703e2747c4"
      },
      "execution_count": 660,
      "outputs": [
        {
          "output_type": "execute_result",
          "data": {
            "text/plain": [
              "11398"
            ]
          },
          "metadata": {},
          "execution_count": 660
        }
      ]
    },
    {
      "cell_type": "code",
      "source": [
        "data=data.drop_duplicates()"
      ],
      "metadata": {
        "id": "7ZDD-zHkrLW9"
      },
      "execution_count": 661,
      "outputs": []
    },
    {
      "cell_type": "code",
      "source": [
        "data.describe()"
      ],
      "metadata": {
        "colab": {
          "base_uri": "https://localhost:8080/",
          "height": 175
        },
        "id": "NJDNE-BN3M2n",
        "outputId": "842f90e0-6e67-478e-8623-bdcdb665fbc0"
      },
      "execution_count": 662,
      "outputs": [
        {
          "output_type": "execute_result",
          "data": {
            "text/plain": [
              "                                                     name             price  \\\n",
              "count                                              206862            272783   \n",
              "unique                                             148689             36830   \n",
              "top     Omega Speedmaster Professional Moonwatch\\nCo-A...  Price on request   \n",
              "freq                                                  169             11934   \n",
              "\n",
              "         brand        model     ref       mvmt   casem  bracem      yop  \\\n",
              "count   273028       243114  230967      84667  113932  104257   273025   \n",
              "unique      28          948   33223          3      17      23      410   \n",
              "top      Rolex  Datejust 36  126334  Automatic   Steel   Steel  Unknown   \n",
              "freq     66130         8357    1731      63144   72373   47387    91387   \n",
              "\n",
              "             cond                 sex    size  condition  \n",
              "count      203593              184005  250359      65258  \n",
              "unique          7                   2    6699          7  \n",
              "top     Very good  Men's watch/Unisex   40 mm  Very good  \n",
              "freq        71007              155235   32650      33267  "
            ],
            "text/html": [
              "\n",
              "  <div id=\"df-436d5510-fa7d-4122-986c-bb1a27d972c3\" class=\"colab-df-container\">\n",
              "    <div>\n",
              "<style scoped>\n",
              "    .dataframe tbody tr th:only-of-type {\n",
              "        vertical-align: middle;\n",
              "    }\n",
              "\n",
              "    .dataframe tbody tr th {\n",
              "        vertical-align: top;\n",
              "    }\n",
              "\n",
              "    .dataframe thead th {\n",
              "        text-align: right;\n",
              "    }\n",
              "</style>\n",
              "<table border=\"1\" class=\"dataframe\">\n",
              "  <thead>\n",
              "    <tr style=\"text-align: right;\">\n",
              "      <th></th>\n",
              "      <th>name</th>\n",
              "      <th>price</th>\n",
              "      <th>brand</th>\n",
              "      <th>model</th>\n",
              "      <th>ref</th>\n",
              "      <th>mvmt</th>\n",
              "      <th>casem</th>\n",
              "      <th>bracem</th>\n",
              "      <th>yop</th>\n",
              "      <th>cond</th>\n",
              "      <th>sex</th>\n",
              "      <th>size</th>\n",
              "      <th>condition</th>\n",
              "    </tr>\n",
              "  </thead>\n",
              "  <tbody>\n",
              "    <tr>\n",
              "      <th>count</th>\n",
              "      <td>206862</td>\n",
              "      <td>272783</td>\n",
              "      <td>273028</td>\n",
              "      <td>243114</td>\n",
              "      <td>230967</td>\n",
              "      <td>84667</td>\n",
              "      <td>113932</td>\n",
              "      <td>104257</td>\n",
              "      <td>273025</td>\n",
              "      <td>203593</td>\n",
              "      <td>184005</td>\n",
              "      <td>250359</td>\n",
              "      <td>65258</td>\n",
              "    </tr>\n",
              "    <tr>\n",
              "      <th>unique</th>\n",
              "      <td>148689</td>\n",
              "      <td>36830</td>\n",
              "      <td>28</td>\n",
              "      <td>948</td>\n",
              "      <td>33223</td>\n",
              "      <td>3</td>\n",
              "      <td>17</td>\n",
              "      <td>23</td>\n",
              "      <td>410</td>\n",
              "      <td>7</td>\n",
              "      <td>2</td>\n",
              "      <td>6699</td>\n",
              "      <td>7</td>\n",
              "    </tr>\n",
              "    <tr>\n",
              "      <th>top</th>\n",
              "      <td>Omega Speedmaster Professional Moonwatch\\nCo-A...</td>\n",
              "      <td>Price on request</td>\n",
              "      <td>Rolex</td>\n",
              "      <td>Datejust 36</td>\n",
              "      <td>126334</td>\n",
              "      <td>Automatic</td>\n",
              "      <td>Steel</td>\n",
              "      <td>Steel</td>\n",
              "      <td>Unknown</td>\n",
              "      <td>Very good</td>\n",
              "      <td>Men's watch/Unisex</td>\n",
              "      <td>40 mm</td>\n",
              "      <td>Very good</td>\n",
              "    </tr>\n",
              "    <tr>\n",
              "      <th>freq</th>\n",
              "      <td>169</td>\n",
              "      <td>11934</td>\n",
              "      <td>66130</td>\n",
              "      <td>8357</td>\n",
              "      <td>1731</td>\n",
              "      <td>63144</td>\n",
              "      <td>72373</td>\n",
              "      <td>47387</td>\n",
              "      <td>91387</td>\n",
              "      <td>71007</td>\n",
              "      <td>155235</td>\n",
              "      <td>32650</td>\n",
              "      <td>33267</td>\n",
              "    </tr>\n",
              "  </tbody>\n",
              "</table>\n",
              "</div>\n",
              "    <div class=\"colab-df-buttons\">\n",
              "\n",
              "  <div class=\"colab-df-container\">\n",
              "    <button class=\"colab-df-convert\" onclick=\"convertToInteractive('df-436d5510-fa7d-4122-986c-bb1a27d972c3')\"\n",
              "            title=\"Convert this dataframe to an interactive table.\"\n",
              "            style=\"display:none;\">\n",
              "\n",
              "  <svg xmlns=\"http://www.w3.org/2000/svg\" height=\"24px\" viewBox=\"0 -960 960 960\">\n",
              "    <path d=\"M120-120v-720h720v720H120Zm60-500h600v-160H180v160Zm220 220h160v-160H400v160Zm0 220h160v-160H400v160ZM180-400h160v-160H180v160Zm440 0h160v-160H620v160ZM180-180h160v-160H180v160Zm440 0h160v-160H620v160Z\"/>\n",
              "  </svg>\n",
              "    </button>\n",
              "\n",
              "  <style>\n",
              "    .colab-df-container {\n",
              "      display:flex;\n",
              "      gap: 12px;\n",
              "    }\n",
              "\n",
              "    .colab-df-convert {\n",
              "      background-color: #E8F0FE;\n",
              "      border: none;\n",
              "      border-radius: 50%;\n",
              "      cursor: pointer;\n",
              "      display: none;\n",
              "      fill: #1967D2;\n",
              "      height: 32px;\n",
              "      padding: 0 0 0 0;\n",
              "      width: 32px;\n",
              "    }\n",
              "\n",
              "    .colab-df-convert:hover {\n",
              "      background-color: #E2EBFA;\n",
              "      box-shadow: 0px 1px 2px rgba(60, 64, 67, 0.3), 0px 1px 3px 1px rgba(60, 64, 67, 0.15);\n",
              "      fill: #174EA6;\n",
              "    }\n",
              "\n",
              "    .colab-df-buttons div {\n",
              "      margin-bottom: 4px;\n",
              "    }\n",
              "\n",
              "    [theme=dark] .colab-df-convert {\n",
              "      background-color: #3B4455;\n",
              "      fill: #D2E3FC;\n",
              "    }\n",
              "\n",
              "    [theme=dark] .colab-df-convert:hover {\n",
              "      background-color: #434B5C;\n",
              "      box-shadow: 0px 1px 3px 1px rgba(0, 0, 0, 0.15);\n",
              "      filter: drop-shadow(0px 1px 2px rgba(0, 0, 0, 0.3));\n",
              "      fill: #FFFFFF;\n",
              "    }\n",
              "  </style>\n",
              "\n",
              "    <script>\n",
              "      const buttonEl =\n",
              "        document.querySelector('#df-436d5510-fa7d-4122-986c-bb1a27d972c3 button.colab-df-convert');\n",
              "      buttonEl.style.display =\n",
              "        google.colab.kernel.accessAllowed ? 'block' : 'none';\n",
              "\n",
              "      async function convertToInteractive(key) {\n",
              "        const element = document.querySelector('#df-436d5510-fa7d-4122-986c-bb1a27d972c3');\n",
              "        const dataTable =\n",
              "          await google.colab.kernel.invokeFunction('convertToInteractive',\n",
              "                                                    [key], {});\n",
              "        if (!dataTable) return;\n",
              "\n",
              "        const docLinkHtml = 'Like what you see? Visit the ' +\n",
              "          '<a target=\"_blank\" href=https://colab.research.google.com/notebooks/data_table.ipynb>data table notebook</a>'\n",
              "          + ' to learn more about interactive tables.';\n",
              "        element.innerHTML = '';\n",
              "        dataTable['output_type'] = 'display_data';\n",
              "        await google.colab.output.renderOutput(dataTable, element);\n",
              "        const docLink = document.createElement('div');\n",
              "        docLink.innerHTML = docLinkHtml;\n",
              "        element.appendChild(docLink);\n",
              "      }\n",
              "    </script>\n",
              "  </div>\n",
              "\n",
              "\n",
              "<div id=\"df-ac445820-7a10-4323-a5f1-153108e93a4a\">\n",
              "  <button class=\"colab-df-quickchart\" onclick=\"quickchart('df-ac445820-7a10-4323-a5f1-153108e93a4a')\"\n",
              "            title=\"Suggest charts\"\n",
              "            style=\"display:none;\">\n",
              "\n",
              "<svg xmlns=\"http://www.w3.org/2000/svg\" height=\"24px\"viewBox=\"0 0 24 24\"\n",
              "     width=\"24px\">\n",
              "    <g>\n",
              "        <path d=\"M19 3H5c-1.1 0-2 .9-2 2v14c0 1.1.9 2 2 2h14c1.1 0 2-.9 2-2V5c0-1.1-.9-2-2-2zM9 17H7v-7h2v7zm4 0h-2V7h2v10zm4 0h-2v-4h2v4z\"/>\n",
              "    </g>\n",
              "</svg>\n",
              "  </button>\n",
              "\n",
              "<style>\n",
              "  .colab-df-quickchart {\n",
              "      --bg-color: #E8F0FE;\n",
              "      --fill-color: #1967D2;\n",
              "      --hover-bg-color: #E2EBFA;\n",
              "      --hover-fill-color: #174EA6;\n",
              "      --disabled-fill-color: #AAA;\n",
              "      --disabled-bg-color: #DDD;\n",
              "  }\n",
              "\n",
              "  [theme=dark] .colab-df-quickchart {\n",
              "      --bg-color: #3B4455;\n",
              "      --fill-color: #D2E3FC;\n",
              "      --hover-bg-color: #434B5C;\n",
              "      --hover-fill-color: #FFFFFF;\n",
              "      --disabled-bg-color: #3B4455;\n",
              "      --disabled-fill-color: #666;\n",
              "  }\n",
              "\n",
              "  .colab-df-quickchart {\n",
              "    background-color: var(--bg-color);\n",
              "    border: none;\n",
              "    border-radius: 50%;\n",
              "    cursor: pointer;\n",
              "    display: none;\n",
              "    fill: var(--fill-color);\n",
              "    height: 32px;\n",
              "    padding: 0;\n",
              "    width: 32px;\n",
              "  }\n",
              "\n",
              "  .colab-df-quickchart:hover {\n",
              "    background-color: var(--hover-bg-color);\n",
              "    box-shadow: 0 1px 2px rgba(60, 64, 67, 0.3), 0 1px 3px 1px rgba(60, 64, 67, 0.15);\n",
              "    fill: var(--button-hover-fill-color);\n",
              "  }\n",
              "\n",
              "  .colab-df-quickchart-complete:disabled,\n",
              "  .colab-df-quickchart-complete:disabled:hover {\n",
              "    background-color: var(--disabled-bg-color);\n",
              "    fill: var(--disabled-fill-color);\n",
              "    box-shadow: none;\n",
              "  }\n",
              "\n",
              "  .colab-df-spinner {\n",
              "    border: 2px solid var(--fill-color);\n",
              "    border-color: transparent;\n",
              "    border-bottom-color: var(--fill-color);\n",
              "    animation:\n",
              "      spin 1s steps(1) infinite;\n",
              "  }\n",
              "\n",
              "  @keyframes spin {\n",
              "    0% {\n",
              "      border-color: transparent;\n",
              "      border-bottom-color: var(--fill-color);\n",
              "      border-left-color: var(--fill-color);\n",
              "    }\n",
              "    20% {\n",
              "      border-color: transparent;\n",
              "      border-left-color: var(--fill-color);\n",
              "      border-top-color: var(--fill-color);\n",
              "    }\n",
              "    30% {\n",
              "      border-color: transparent;\n",
              "      border-left-color: var(--fill-color);\n",
              "      border-top-color: var(--fill-color);\n",
              "      border-right-color: var(--fill-color);\n",
              "    }\n",
              "    40% {\n",
              "      border-color: transparent;\n",
              "      border-right-color: var(--fill-color);\n",
              "      border-top-color: var(--fill-color);\n",
              "    }\n",
              "    60% {\n",
              "      border-color: transparent;\n",
              "      border-right-color: var(--fill-color);\n",
              "    }\n",
              "    80% {\n",
              "      border-color: transparent;\n",
              "      border-right-color: var(--fill-color);\n",
              "      border-bottom-color: var(--fill-color);\n",
              "    }\n",
              "    90% {\n",
              "      border-color: transparent;\n",
              "      border-bottom-color: var(--fill-color);\n",
              "    }\n",
              "  }\n",
              "</style>\n",
              "\n",
              "  <script>\n",
              "    async function quickchart(key) {\n",
              "      const quickchartButtonEl =\n",
              "        document.querySelector('#' + key + ' button');\n",
              "      quickchartButtonEl.disabled = true;  // To prevent multiple clicks.\n",
              "      quickchartButtonEl.classList.add('colab-df-spinner');\n",
              "      try {\n",
              "        const charts = await google.colab.kernel.invokeFunction(\n",
              "            'suggestCharts', [key], {});\n",
              "      } catch (error) {\n",
              "        console.error('Error during call to suggestCharts:', error);\n",
              "      }\n",
              "      quickchartButtonEl.classList.remove('colab-df-spinner');\n",
              "      quickchartButtonEl.classList.add('colab-df-quickchart-complete');\n",
              "    }\n",
              "    (() => {\n",
              "      let quickchartButtonEl =\n",
              "        document.querySelector('#df-ac445820-7a10-4323-a5f1-153108e93a4a button');\n",
              "      quickchartButtonEl.style.display =\n",
              "        google.colab.kernel.accessAllowed ? 'block' : 'none';\n",
              "    })();\n",
              "  </script>\n",
              "</div>\n",
              "    </div>\n",
              "  </div>\n"
            ]
          },
          "metadata": {},
          "execution_count": 662
        }
      ]
    },
    {
      "cell_type": "code",
      "source": [
        "data['condition'].notna().sum()+data['cond'].notna().sum()"
      ],
      "metadata": {
        "colab": {
          "base_uri": "https://localhost:8080/"
        },
        "id": "u6hMo9ZQ3YEe",
        "outputId": "cb86ea5a-21cd-4d86-95df-393e9f75ea0c"
      },
      "execution_count": 663,
      "outputs": [
        {
          "output_type": "execute_result",
          "data": {
            "text/plain": [
              "268851"
            ]
          },
          "metadata": {},
          "execution_count": 663
        }
      ]
    },
    {
      "cell_type": "markdown",
      "source": [
        "Идентифицированные проблемы датасета:\n",
        "\n",
        "*   Колонки 'cond' and 'condition'. Есть основания полагать, что по какой-то причине значения \"состояния\" разбиты на две колонки, которые необходимо объединить вручную.\n",
        "*   Цена 'price' в текстовом формате\n",
        "*   Лишняя информация в столбце 'size'\n",
        "*   Столбец с годом производства 'yop' требует дополнительной проверки\n",
        "\n",
        "\n",
        "\n",
        "\n",
        "\n"
      ],
      "metadata": {
        "id": "4wf-HHzIVsp8"
      }
    },
    {
      "cell_type": "markdown",
      "source": [
        "1. Исправляем проблему с cond и condition\n"
      ],
      "metadata": {
        "id": "iDkKrAyCOq2i"
      }
    },
    {
      "cell_type": "code",
      "source": [
        "data['cond'] = data['cond'].fillna('')\n",
        "data['condition'] = data['condition'].fillna('')\n",
        "data['condition_summed']=data['cond'].astype(str)+data['condition'].astype(str)"
      ],
      "metadata": {
        "id": "3gYGMCVqAyLb"
      },
      "execution_count": 664,
      "outputs": []
    },
    {
      "cell_type": "code",
      "source": [
        "data.describe()"
      ],
      "metadata": {
        "colab": {
          "base_uri": "https://localhost:8080/",
          "height": 175
        },
        "id": "CYahFk-1eBxt",
        "outputId": "a115a5af-034e-4bdf-d9f8-7a9f6ca78445"
      },
      "execution_count": 665,
      "outputs": [
        {
          "output_type": "execute_result",
          "data": {
            "text/plain": [
              "                                                     name             price  \\\n",
              "count                                              206862            272783   \n",
              "unique                                             148689             36830   \n",
              "top     Omega Speedmaster Professional Moonwatch\\nCo-A...  Price on request   \n",
              "freq                                                  169             11934   \n",
              "\n",
              "         brand        model     ref       mvmt   casem  bracem      yop  \\\n",
              "count   273028       243114  230967      84667  113932  104257   273025   \n",
              "unique      28          948   33223          3      17      23      410   \n",
              "top      Rolex  Datejust 36  126334  Automatic   Steel   Steel  Unknown   \n",
              "freq     66130         8357    1731      63144   72373   47387    91387   \n",
              "\n",
              "             cond                 sex    size condition condition_summed  \n",
              "count      273093              184005  250359    273093           273093  \n",
              "unique          8                   2    6699         8                8  \n",
              "top     Very good  Men's watch/Unisex   40 mm                  Very good  \n",
              "freq        71007              155235   32650    207835           104274  "
            ],
            "text/html": [
              "\n",
              "  <div id=\"df-916825b7-b15a-4c23-8f94-29e578b6ca4d\" class=\"colab-df-container\">\n",
              "    <div>\n",
              "<style scoped>\n",
              "    .dataframe tbody tr th:only-of-type {\n",
              "        vertical-align: middle;\n",
              "    }\n",
              "\n",
              "    .dataframe tbody tr th {\n",
              "        vertical-align: top;\n",
              "    }\n",
              "\n",
              "    .dataframe thead th {\n",
              "        text-align: right;\n",
              "    }\n",
              "</style>\n",
              "<table border=\"1\" class=\"dataframe\">\n",
              "  <thead>\n",
              "    <tr style=\"text-align: right;\">\n",
              "      <th></th>\n",
              "      <th>name</th>\n",
              "      <th>price</th>\n",
              "      <th>brand</th>\n",
              "      <th>model</th>\n",
              "      <th>ref</th>\n",
              "      <th>mvmt</th>\n",
              "      <th>casem</th>\n",
              "      <th>bracem</th>\n",
              "      <th>yop</th>\n",
              "      <th>cond</th>\n",
              "      <th>sex</th>\n",
              "      <th>size</th>\n",
              "      <th>condition</th>\n",
              "      <th>condition_summed</th>\n",
              "    </tr>\n",
              "  </thead>\n",
              "  <tbody>\n",
              "    <tr>\n",
              "      <th>count</th>\n",
              "      <td>206862</td>\n",
              "      <td>272783</td>\n",
              "      <td>273028</td>\n",
              "      <td>243114</td>\n",
              "      <td>230967</td>\n",
              "      <td>84667</td>\n",
              "      <td>113932</td>\n",
              "      <td>104257</td>\n",
              "      <td>273025</td>\n",
              "      <td>273093</td>\n",
              "      <td>184005</td>\n",
              "      <td>250359</td>\n",
              "      <td>273093</td>\n",
              "      <td>273093</td>\n",
              "    </tr>\n",
              "    <tr>\n",
              "      <th>unique</th>\n",
              "      <td>148689</td>\n",
              "      <td>36830</td>\n",
              "      <td>28</td>\n",
              "      <td>948</td>\n",
              "      <td>33223</td>\n",
              "      <td>3</td>\n",
              "      <td>17</td>\n",
              "      <td>23</td>\n",
              "      <td>410</td>\n",
              "      <td>8</td>\n",
              "      <td>2</td>\n",
              "      <td>6699</td>\n",
              "      <td>8</td>\n",
              "      <td>8</td>\n",
              "    </tr>\n",
              "    <tr>\n",
              "      <th>top</th>\n",
              "      <td>Omega Speedmaster Professional Moonwatch\\nCo-A...</td>\n",
              "      <td>Price on request</td>\n",
              "      <td>Rolex</td>\n",
              "      <td>Datejust 36</td>\n",
              "      <td>126334</td>\n",
              "      <td>Automatic</td>\n",
              "      <td>Steel</td>\n",
              "      <td>Steel</td>\n",
              "      <td>Unknown</td>\n",
              "      <td>Very good</td>\n",
              "      <td>Men's watch/Unisex</td>\n",
              "      <td>40 mm</td>\n",
              "      <td></td>\n",
              "      <td>Very good</td>\n",
              "    </tr>\n",
              "    <tr>\n",
              "      <th>freq</th>\n",
              "      <td>169</td>\n",
              "      <td>11934</td>\n",
              "      <td>66130</td>\n",
              "      <td>8357</td>\n",
              "      <td>1731</td>\n",
              "      <td>63144</td>\n",
              "      <td>72373</td>\n",
              "      <td>47387</td>\n",
              "      <td>91387</td>\n",
              "      <td>71007</td>\n",
              "      <td>155235</td>\n",
              "      <td>32650</td>\n",
              "      <td>207835</td>\n",
              "      <td>104274</td>\n",
              "    </tr>\n",
              "  </tbody>\n",
              "</table>\n",
              "</div>\n",
              "    <div class=\"colab-df-buttons\">\n",
              "\n",
              "  <div class=\"colab-df-container\">\n",
              "    <button class=\"colab-df-convert\" onclick=\"convertToInteractive('df-916825b7-b15a-4c23-8f94-29e578b6ca4d')\"\n",
              "            title=\"Convert this dataframe to an interactive table.\"\n",
              "            style=\"display:none;\">\n",
              "\n",
              "  <svg xmlns=\"http://www.w3.org/2000/svg\" height=\"24px\" viewBox=\"0 -960 960 960\">\n",
              "    <path d=\"M120-120v-720h720v720H120Zm60-500h600v-160H180v160Zm220 220h160v-160H400v160Zm0 220h160v-160H400v160ZM180-400h160v-160H180v160Zm440 0h160v-160H620v160ZM180-180h160v-160H180v160Zm440 0h160v-160H620v160Z\"/>\n",
              "  </svg>\n",
              "    </button>\n",
              "\n",
              "  <style>\n",
              "    .colab-df-container {\n",
              "      display:flex;\n",
              "      gap: 12px;\n",
              "    }\n",
              "\n",
              "    .colab-df-convert {\n",
              "      background-color: #E8F0FE;\n",
              "      border: none;\n",
              "      border-radius: 50%;\n",
              "      cursor: pointer;\n",
              "      display: none;\n",
              "      fill: #1967D2;\n",
              "      height: 32px;\n",
              "      padding: 0 0 0 0;\n",
              "      width: 32px;\n",
              "    }\n",
              "\n",
              "    .colab-df-convert:hover {\n",
              "      background-color: #E2EBFA;\n",
              "      box-shadow: 0px 1px 2px rgba(60, 64, 67, 0.3), 0px 1px 3px 1px rgba(60, 64, 67, 0.15);\n",
              "      fill: #174EA6;\n",
              "    }\n",
              "\n",
              "    .colab-df-buttons div {\n",
              "      margin-bottom: 4px;\n",
              "    }\n",
              "\n",
              "    [theme=dark] .colab-df-convert {\n",
              "      background-color: #3B4455;\n",
              "      fill: #D2E3FC;\n",
              "    }\n",
              "\n",
              "    [theme=dark] .colab-df-convert:hover {\n",
              "      background-color: #434B5C;\n",
              "      box-shadow: 0px 1px 3px 1px rgba(0, 0, 0, 0.15);\n",
              "      filter: drop-shadow(0px 1px 2px rgba(0, 0, 0, 0.3));\n",
              "      fill: #FFFFFF;\n",
              "    }\n",
              "  </style>\n",
              "\n",
              "    <script>\n",
              "      const buttonEl =\n",
              "        document.querySelector('#df-916825b7-b15a-4c23-8f94-29e578b6ca4d button.colab-df-convert');\n",
              "      buttonEl.style.display =\n",
              "        google.colab.kernel.accessAllowed ? 'block' : 'none';\n",
              "\n",
              "      async function convertToInteractive(key) {\n",
              "        const element = document.querySelector('#df-916825b7-b15a-4c23-8f94-29e578b6ca4d');\n",
              "        const dataTable =\n",
              "          await google.colab.kernel.invokeFunction('convertToInteractive',\n",
              "                                                    [key], {});\n",
              "        if (!dataTable) return;\n",
              "\n",
              "        const docLinkHtml = 'Like what you see? Visit the ' +\n",
              "          '<a target=\"_blank\" href=https://colab.research.google.com/notebooks/data_table.ipynb>data table notebook</a>'\n",
              "          + ' to learn more about interactive tables.';\n",
              "        element.innerHTML = '';\n",
              "        dataTable['output_type'] = 'display_data';\n",
              "        await google.colab.output.renderOutput(dataTable, element);\n",
              "        const docLink = document.createElement('div');\n",
              "        docLink.innerHTML = docLinkHtml;\n",
              "        element.appendChild(docLink);\n",
              "      }\n",
              "    </script>\n",
              "  </div>\n",
              "\n",
              "\n",
              "<div id=\"df-cb3d8262-6465-447e-80d2-294292504a22\">\n",
              "  <button class=\"colab-df-quickchart\" onclick=\"quickchart('df-cb3d8262-6465-447e-80d2-294292504a22')\"\n",
              "            title=\"Suggest charts\"\n",
              "            style=\"display:none;\">\n",
              "\n",
              "<svg xmlns=\"http://www.w3.org/2000/svg\" height=\"24px\"viewBox=\"0 0 24 24\"\n",
              "     width=\"24px\">\n",
              "    <g>\n",
              "        <path d=\"M19 3H5c-1.1 0-2 .9-2 2v14c0 1.1.9 2 2 2h14c1.1 0 2-.9 2-2V5c0-1.1-.9-2-2-2zM9 17H7v-7h2v7zm4 0h-2V7h2v10zm4 0h-2v-4h2v4z\"/>\n",
              "    </g>\n",
              "</svg>\n",
              "  </button>\n",
              "\n",
              "<style>\n",
              "  .colab-df-quickchart {\n",
              "      --bg-color: #E8F0FE;\n",
              "      --fill-color: #1967D2;\n",
              "      --hover-bg-color: #E2EBFA;\n",
              "      --hover-fill-color: #174EA6;\n",
              "      --disabled-fill-color: #AAA;\n",
              "      --disabled-bg-color: #DDD;\n",
              "  }\n",
              "\n",
              "  [theme=dark] .colab-df-quickchart {\n",
              "      --bg-color: #3B4455;\n",
              "      --fill-color: #D2E3FC;\n",
              "      --hover-bg-color: #434B5C;\n",
              "      --hover-fill-color: #FFFFFF;\n",
              "      --disabled-bg-color: #3B4455;\n",
              "      --disabled-fill-color: #666;\n",
              "  }\n",
              "\n",
              "  .colab-df-quickchart {\n",
              "    background-color: var(--bg-color);\n",
              "    border: none;\n",
              "    border-radius: 50%;\n",
              "    cursor: pointer;\n",
              "    display: none;\n",
              "    fill: var(--fill-color);\n",
              "    height: 32px;\n",
              "    padding: 0;\n",
              "    width: 32px;\n",
              "  }\n",
              "\n",
              "  .colab-df-quickchart:hover {\n",
              "    background-color: var(--hover-bg-color);\n",
              "    box-shadow: 0 1px 2px rgba(60, 64, 67, 0.3), 0 1px 3px 1px rgba(60, 64, 67, 0.15);\n",
              "    fill: var(--button-hover-fill-color);\n",
              "  }\n",
              "\n",
              "  .colab-df-quickchart-complete:disabled,\n",
              "  .colab-df-quickchart-complete:disabled:hover {\n",
              "    background-color: var(--disabled-bg-color);\n",
              "    fill: var(--disabled-fill-color);\n",
              "    box-shadow: none;\n",
              "  }\n",
              "\n",
              "  .colab-df-spinner {\n",
              "    border: 2px solid var(--fill-color);\n",
              "    border-color: transparent;\n",
              "    border-bottom-color: var(--fill-color);\n",
              "    animation:\n",
              "      spin 1s steps(1) infinite;\n",
              "  }\n",
              "\n",
              "  @keyframes spin {\n",
              "    0% {\n",
              "      border-color: transparent;\n",
              "      border-bottom-color: var(--fill-color);\n",
              "      border-left-color: var(--fill-color);\n",
              "    }\n",
              "    20% {\n",
              "      border-color: transparent;\n",
              "      border-left-color: var(--fill-color);\n",
              "      border-top-color: var(--fill-color);\n",
              "    }\n",
              "    30% {\n",
              "      border-color: transparent;\n",
              "      border-left-color: var(--fill-color);\n",
              "      border-top-color: var(--fill-color);\n",
              "      border-right-color: var(--fill-color);\n",
              "    }\n",
              "    40% {\n",
              "      border-color: transparent;\n",
              "      border-right-color: var(--fill-color);\n",
              "      border-top-color: var(--fill-color);\n",
              "    }\n",
              "    60% {\n",
              "      border-color: transparent;\n",
              "      border-right-color: var(--fill-color);\n",
              "    }\n",
              "    80% {\n",
              "      border-color: transparent;\n",
              "      border-right-color: var(--fill-color);\n",
              "      border-bottom-color: var(--fill-color);\n",
              "    }\n",
              "    90% {\n",
              "      border-color: transparent;\n",
              "      border-bottom-color: var(--fill-color);\n",
              "    }\n",
              "  }\n",
              "</style>\n",
              "\n",
              "  <script>\n",
              "    async function quickchart(key) {\n",
              "      const quickchartButtonEl =\n",
              "        document.querySelector('#' + key + ' button');\n",
              "      quickchartButtonEl.disabled = true;  // To prevent multiple clicks.\n",
              "      quickchartButtonEl.classList.add('colab-df-spinner');\n",
              "      try {\n",
              "        const charts = await google.colab.kernel.invokeFunction(\n",
              "            'suggestCharts', [key], {});\n",
              "      } catch (error) {\n",
              "        console.error('Error during call to suggestCharts:', error);\n",
              "      }\n",
              "      quickchartButtonEl.classList.remove('colab-df-spinner');\n",
              "      quickchartButtonEl.classList.add('colab-df-quickchart-complete');\n",
              "    }\n",
              "    (() => {\n",
              "      let quickchartButtonEl =\n",
              "        document.querySelector('#df-cb3d8262-6465-447e-80d2-294292504a22 button');\n",
              "      quickchartButtonEl.style.display =\n",
              "        google.colab.kernel.accessAllowed ? 'block' : 'none';\n",
              "    })();\n",
              "  </script>\n",
              "</div>\n",
              "    </div>\n",
              "  </div>\n"
            ]
          },
          "metadata": {},
          "execution_count": 665
        }
      ]
    },
    {
      "cell_type": "code",
      "source": [
        "data['cond'].replace('', np.nan, inplace=True)\n",
        "data['condition'].replace('', np.nan, inplace=True)\n",
        "data['condition_summed'].replace('', np.nan, inplace=True)"
      ],
      "metadata": {
        "id": "jKc40ByaMOG5"
      },
      "execution_count": 666,
      "outputs": []
    },
    {
      "cell_type": "code",
      "source": [
        "data.condition.value_counts()"
      ],
      "metadata": {
        "colab": {
          "base_uri": "https://localhost:8080/"
        },
        "id": "i5m1LsgWiGXB",
        "outputId": "e5aed11f-05f0-4162-e8e6-d09de9bccda7"
      },
      "execution_count": 667,
      "outputs": [
        {
          "output_type": "execute_result",
          "data": {
            "text/plain": [
              "Very good     33267\n",
              "Unworn        12453\n",
              "New           10186\n",
              "Good           8004\n",
              "Fair           1300\n",
              "Poor             45\n",
              "Incomplete        3\n",
              "Name: condition, dtype: int64"
            ]
          },
          "metadata": {},
          "execution_count": 667
        }
      ]
    },
    {
      "cell_type": "code",
      "source": [
        "data.cond.value_counts()"
      ],
      "metadata": {
        "colab": {
          "base_uri": "https://localhost:8080/"
        },
        "id": "qOkywbR4iqGS",
        "outputId": "797ebd51-328d-462b-b495-15faa63dbca0"
      },
      "execution_count": 668,
      "outputs": [
        {
          "output_type": "execute_result",
          "data": {
            "text/plain": [
              "Very good     71007\n",
              "New           65565\n",
              "Unworn        32182\n",
              "Good          27203\n",
              "Fair           7446\n",
              "Poor            148\n",
              "Incomplete       42\n",
              "Name: cond, dtype: int64"
            ]
          },
          "metadata": {},
          "execution_count": 668
        }
      ]
    },
    {
      "cell_type": "code",
      "source": [
        "data.condition_summed.value_counts().sum()"
      ],
      "metadata": {
        "colab": {
          "base_uri": "https://localhost:8080/"
        },
        "id": "HvToh-gKit9-",
        "outputId": "9cf64f02-d0da-4719-e5fc-9b1091ef90d9"
      },
      "execution_count": 669,
      "outputs": [
        {
          "output_type": "execute_result",
          "data": {
            "text/plain": [
              "268851"
            ]
          },
          "metadata": {},
          "execution_count": 669
        }
      ]
    },
    {
      "cell_type": "markdown",
      "source": [
        "Число значений в модифицированном столбце совпало с расчетным. Теперь можно убрать столбцы cond и condition"
      ],
      "metadata": {
        "id": "aBrC-HreMlDm"
      }
    },
    {
      "cell_type": "code",
      "source": [
        "data=data.drop(columns=['cond', 'condition'])\n",
        "data.describe()"
      ],
      "metadata": {
        "colab": {
          "base_uri": "https://localhost:8080/",
          "height": 175
        },
        "id": "1LB88B07MjoM",
        "outputId": "48f5071f-b568-4248-82d3-93905bc82a61"
      },
      "execution_count": 670,
      "outputs": [
        {
          "output_type": "execute_result",
          "data": {
            "text/plain": [
              "                                                     name             price  \\\n",
              "count                                              206862            272783   \n",
              "unique                                             148689             36830   \n",
              "top     Omega Speedmaster Professional Moonwatch\\nCo-A...  Price on request   \n",
              "freq                                                  169             11934   \n",
              "\n",
              "         brand        model     ref       mvmt   casem  bracem      yop  \\\n",
              "count   273028       243114  230967      84667  113932  104257   273025   \n",
              "unique      28          948   33223          3      17      23      410   \n",
              "top      Rolex  Datejust 36  126334  Automatic   Steel   Steel  Unknown   \n",
              "freq     66130         8357    1731      63144   72373   47387    91387   \n",
              "\n",
              "                       sex    size condition_summed  \n",
              "count               184005  250359           268851  \n",
              "unique                   2    6699                7  \n",
              "top     Men's watch/Unisex   40 mm        Very good  \n",
              "freq                155235   32650           104274  "
            ],
            "text/html": [
              "\n",
              "  <div id=\"df-db0163c3-008e-49a4-bb79-89403135b78a\" class=\"colab-df-container\">\n",
              "    <div>\n",
              "<style scoped>\n",
              "    .dataframe tbody tr th:only-of-type {\n",
              "        vertical-align: middle;\n",
              "    }\n",
              "\n",
              "    .dataframe tbody tr th {\n",
              "        vertical-align: top;\n",
              "    }\n",
              "\n",
              "    .dataframe thead th {\n",
              "        text-align: right;\n",
              "    }\n",
              "</style>\n",
              "<table border=\"1\" class=\"dataframe\">\n",
              "  <thead>\n",
              "    <tr style=\"text-align: right;\">\n",
              "      <th></th>\n",
              "      <th>name</th>\n",
              "      <th>price</th>\n",
              "      <th>brand</th>\n",
              "      <th>model</th>\n",
              "      <th>ref</th>\n",
              "      <th>mvmt</th>\n",
              "      <th>casem</th>\n",
              "      <th>bracem</th>\n",
              "      <th>yop</th>\n",
              "      <th>sex</th>\n",
              "      <th>size</th>\n",
              "      <th>condition_summed</th>\n",
              "    </tr>\n",
              "  </thead>\n",
              "  <tbody>\n",
              "    <tr>\n",
              "      <th>count</th>\n",
              "      <td>206862</td>\n",
              "      <td>272783</td>\n",
              "      <td>273028</td>\n",
              "      <td>243114</td>\n",
              "      <td>230967</td>\n",
              "      <td>84667</td>\n",
              "      <td>113932</td>\n",
              "      <td>104257</td>\n",
              "      <td>273025</td>\n",
              "      <td>184005</td>\n",
              "      <td>250359</td>\n",
              "      <td>268851</td>\n",
              "    </tr>\n",
              "    <tr>\n",
              "      <th>unique</th>\n",
              "      <td>148689</td>\n",
              "      <td>36830</td>\n",
              "      <td>28</td>\n",
              "      <td>948</td>\n",
              "      <td>33223</td>\n",
              "      <td>3</td>\n",
              "      <td>17</td>\n",
              "      <td>23</td>\n",
              "      <td>410</td>\n",
              "      <td>2</td>\n",
              "      <td>6699</td>\n",
              "      <td>7</td>\n",
              "    </tr>\n",
              "    <tr>\n",
              "      <th>top</th>\n",
              "      <td>Omega Speedmaster Professional Moonwatch\\nCo-A...</td>\n",
              "      <td>Price on request</td>\n",
              "      <td>Rolex</td>\n",
              "      <td>Datejust 36</td>\n",
              "      <td>126334</td>\n",
              "      <td>Automatic</td>\n",
              "      <td>Steel</td>\n",
              "      <td>Steel</td>\n",
              "      <td>Unknown</td>\n",
              "      <td>Men's watch/Unisex</td>\n",
              "      <td>40 mm</td>\n",
              "      <td>Very good</td>\n",
              "    </tr>\n",
              "    <tr>\n",
              "      <th>freq</th>\n",
              "      <td>169</td>\n",
              "      <td>11934</td>\n",
              "      <td>66130</td>\n",
              "      <td>8357</td>\n",
              "      <td>1731</td>\n",
              "      <td>63144</td>\n",
              "      <td>72373</td>\n",
              "      <td>47387</td>\n",
              "      <td>91387</td>\n",
              "      <td>155235</td>\n",
              "      <td>32650</td>\n",
              "      <td>104274</td>\n",
              "    </tr>\n",
              "  </tbody>\n",
              "</table>\n",
              "</div>\n",
              "    <div class=\"colab-df-buttons\">\n",
              "\n",
              "  <div class=\"colab-df-container\">\n",
              "    <button class=\"colab-df-convert\" onclick=\"convertToInteractive('df-db0163c3-008e-49a4-bb79-89403135b78a')\"\n",
              "            title=\"Convert this dataframe to an interactive table.\"\n",
              "            style=\"display:none;\">\n",
              "\n",
              "  <svg xmlns=\"http://www.w3.org/2000/svg\" height=\"24px\" viewBox=\"0 -960 960 960\">\n",
              "    <path d=\"M120-120v-720h720v720H120Zm60-500h600v-160H180v160Zm220 220h160v-160H400v160Zm0 220h160v-160H400v160ZM180-400h160v-160H180v160Zm440 0h160v-160H620v160ZM180-180h160v-160H180v160Zm440 0h160v-160H620v160Z\"/>\n",
              "  </svg>\n",
              "    </button>\n",
              "\n",
              "  <style>\n",
              "    .colab-df-container {\n",
              "      display:flex;\n",
              "      gap: 12px;\n",
              "    }\n",
              "\n",
              "    .colab-df-convert {\n",
              "      background-color: #E8F0FE;\n",
              "      border: none;\n",
              "      border-radius: 50%;\n",
              "      cursor: pointer;\n",
              "      display: none;\n",
              "      fill: #1967D2;\n",
              "      height: 32px;\n",
              "      padding: 0 0 0 0;\n",
              "      width: 32px;\n",
              "    }\n",
              "\n",
              "    .colab-df-convert:hover {\n",
              "      background-color: #E2EBFA;\n",
              "      box-shadow: 0px 1px 2px rgba(60, 64, 67, 0.3), 0px 1px 3px 1px rgba(60, 64, 67, 0.15);\n",
              "      fill: #174EA6;\n",
              "    }\n",
              "\n",
              "    .colab-df-buttons div {\n",
              "      margin-bottom: 4px;\n",
              "    }\n",
              "\n",
              "    [theme=dark] .colab-df-convert {\n",
              "      background-color: #3B4455;\n",
              "      fill: #D2E3FC;\n",
              "    }\n",
              "\n",
              "    [theme=dark] .colab-df-convert:hover {\n",
              "      background-color: #434B5C;\n",
              "      box-shadow: 0px 1px 3px 1px rgba(0, 0, 0, 0.15);\n",
              "      filter: drop-shadow(0px 1px 2px rgba(0, 0, 0, 0.3));\n",
              "      fill: #FFFFFF;\n",
              "    }\n",
              "  </style>\n",
              "\n",
              "    <script>\n",
              "      const buttonEl =\n",
              "        document.querySelector('#df-db0163c3-008e-49a4-bb79-89403135b78a button.colab-df-convert');\n",
              "      buttonEl.style.display =\n",
              "        google.colab.kernel.accessAllowed ? 'block' : 'none';\n",
              "\n",
              "      async function convertToInteractive(key) {\n",
              "        const element = document.querySelector('#df-db0163c3-008e-49a4-bb79-89403135b78a');\n",
              "        const dataTable =\n",
              "          await google.colab.kernel.invokeFunction('convertToInteractive',\n",
              "                                                    [key], {});\n",
              "        if (!dataTable) return;\n",
              "\n",
              "        const docLinkHtml = 'Like what you see? Visit the ' +\n",
              "          '<a target=\"_blank\" href=https://colab.research.google.com/notebooks/data_table.ipynb>data table notebook</a>'\n",
              "          + ' to learn more about interactive tables.';\n",
              "        element.innerHTML = '';\n",
              "        dataTable['output_type'] = 'display_data';\n",
              "        await google.colab.output.renderOutput(dataTable, element);\n",
              "        const docLink = document.createElement('div');\n",
              "        docLink.innerHTML = docLinkHtml;\n",
              "        element.appendChild(docLink);\n",
              "      }\n",
              "    </script>\n",
              "  </div>\n",
              "\n",
              "\n",
              "<div id=\"df-ecf948e7-c683-40e8-a0d0-8d0cc5fae934\">\n",
              "  <button class=\"colab-df-quickchart\" onclick=\"quickchart('df-ecf948e7-c683-40e8-a0d0-8d0cc5fae934')\"\n",
              "            title=\"Suggest charts\"\n",
              "            style=\"display:none;\">\n",
              "\n",
              "<svg xmlns=\"http://www.w3.org/2000/svg\" height=\"24px\"viewBox=\"0 0 24 24\"\n",
              "     width=\"24px\">\n",
              "    <g>\n",
              "        <path d=\"M19 3H5c-1.1 0-2 .9-2 2v14c0 1.1.9 2 2 2h14c1.1 0 2-.9 2-2V5c0-1.1-.9-2-2-2zM9 17H7v-7h2v7zm4 0h-2V7h2v10zm4 0h-2v-4h2v4z\"/>\n",
              "    </g>\n",
              "</svg>\n",
              "  </button>\n",
              "\n",
              "<style>\n",
              "  .colab-df-quickchart {\n",
              "      --bg-color: #E8F0FE;\n",
              "      --fill-color: #1967D2;\n",
              "      --hover-bg-color: #E2EBFA;\n",
              "      --hover-fill-color: #174EA6;\n",
              "      --disabled-fill-color: #AAA;\n",
              "      --disabled-bg-color: #DDD;\n",
              "  }\n",
              "\n",
              "  [theme=dark] .colab-df-quickchart {\n",
              "      --bg-color: #3B4455;\n",
              "      --fill-color: #D2E3FC;\n",
              "      --hover-bg-color: #434B5C;\n",
              "      --hover-fill-color: #FFFFFF;\n",
              "      --disabled-bg-color: #3B4455;\n",
              "      --disabled-fill-color: #666;\n",
              "  }\n",
              "\n",
              "  .colab-df-quickchart {\n",
              "    background-color: var(--bg-color);\n",
              "    border: none;\n",
              "    border-radius: 50%;\n",
              "    cursor: pointer;\n",
              "    display: none;\n",
              "    fill: var(--fill-color);\n",
              "    height: 32px;\n",
              "    padding: 0;\n",
              "    width: 32px;\n",
              "  }\n",
              "\n",
              "  .colab-df-quickchart:hover {\n",
              "    background-color: var(--hover-bg-color);\n",
              "    box-shadow: 0 1px 2px rgba(60, 64, 67, 0.3), 0 1px 3px 1px rgba(60, 64, 67, 0.15);\n",
              "    fill: var(--button-hover-fill-color);\n",
              "  }\n",
              "\n",
              "  .colab-df-quickchart-complete:disabled,\n",
              "  .colab-df-quickchart-complete:disabled:hover {\n",
              "    background-color: var(--disabled-bg-color);\n",
              "    fill: var(--disabled-fill-color);\n",
              "    box-shadow: none;\n",
              "  }\n",
              "\n",
              "  .colab-df-spinner {\n",
              "    border: 2px solid var(--fill-color);\n",
              "    border-color: transparent;\n",
              "    border-bottom-color: var(--fill-color);\n",
              "    animation:\n",
              "      spin 1s steps(1) infinite;\n",
              "  }\n",
              "\n",
              "  @keyframes spin {\n",
              "    0% {\n",
              "      border-color: transparent;\n",
              "      border-bottom-color: var(--fill-color);\n",
              "      border-left-color: var(--fill-color);\n",
              "    }\n",
              "    20% {\n",
              "      border-color: transparent;\n",
              "      border-left-color: var(--fill-color);\n",
              "      border-top-color: var(--fill-color);\n",
              "    }\n",
              "    30% {\n",
              "      border-color: transparent;\n",
              "      border-left-color: var(--fill-color);\n",
              "      border-top-color: var(--fill-color);\n",
              "      border-right-color: var(--fill-color);\n",
              "    }\n",
              "    40% {\n",
              "      border-color: transparent;\n",
              "      border-right-color: var(--fill-color);\n",
              "      border-top-color: var(--fill-color);\n",
              "    }\n",
              "    60% {\n",
              "      border-color: transparent;\n",
              "      border-right-color: var(--fill-color);\n",
              "    }\n",
              "    80% {\n",
              "      border-color: transparent;\n",
              "      border-right-color: var(--fill-color);\n",
              "      border-bottom-color: var(--fill-color);\n",
              "    }\n",
              "    90% {\n",
              "      border-color: transparent;\n",
              "      border-bottom-color: var(--fill-color);\n",
              "    }\n",
              "  }\n",
              "</style>\n",
              "\n",
              "  <script>\n",
              "    async function quickchart(key) {\n",
              "      const quickchartButtonEl =\n",
              "        document.querySelector('#' + key + ' button');\n",
              "      quickchartButtonEl.disabled = true;  // To prevent multiple clicks.\n",
              "      quickchartButtonEl.classList.add('colab-df-spinner');\n",
              "      try {\n",
              "        const charts = await google.colab.kernel.invokeFunction(\n",
              "            'suggestCharts', [key], {});\n",
              "      } catch (error) {\n",
              "        console.error('Error during call to suggestCharts:', error);\n",
              "      }\n",
              "      quickchartButtonEl.classList.remove('colab-df-spinner');\n",
              "      quickchartButtonEl.classList.add('colab-df-quickchart-complete');\n",
              "    }\n",
              "    (() => {\n",
              "      let quickchartButtonEl =\n",
              "        document.querySelector('#df-ecf948e7-c683-40e8-a0d0-8d0cc5fae934 button');\n",
              "      quickchartButtonEl.style.display =\n",
              "        google.colab.kernel.accessAllowed ? 'block' : 'none';\n",
              "    })();\n",
              "  </script>\n",
              "</div>\n",
              "    </div>\n",
              "  </div>\n"
            ]
          },
          "metadata": {},
          "execution_count": 670
        }
      ]
    },
    {
      "cell_type": "markdown",
      "source": [
        "2. Форматируем столбец \"Price\""
      ],
      "metadata": {
        "id": "-fFIPlISQpT0"
      }
    },
    {
      "cell_type": "markdown",
      "source": [
        "убираем спецсимволы и не-числовые данные"
      ],
      "metadata": {
        "id": "wom2rZl1aZe-"
      }
    },
    {
      "cell_type": "code",
      "source": [
        "data['price']=data['price'].str.replace('\\W','',regex=True)\n",
        "data['price']=data['price'].str.replace('(\\D+)', '',regex=True)\n",
        "data['price'].replace('', np.nan, inplace=True)"
      ],
      "metadata": {
        "id": "xUt6H6VBQuTK"
      },
      "execution_count": 671,
      "outputs": []
    },
    {
      "cell_type": "markdown",
      "source": [
        "удаляем ячейки с NaN"
      ],
      "metadata": {
        "id": "iKry0q1bag2P"
      }
    },
    {
      "cell_type": "code",
      "source": [
        "data=data.dropna(subset=['price'])"
      ],
      "metadata": {
        "id": "QScBJquDafsw"
      },
      "execution_count": 672,
      "outputs": []
    },
    {
      "cell_type": "markdown",
      "source": [
        "Конвертируем столбец в int"
      ],
      "metadata": {
        "id": "qlVQIAhXa_-P"
      }
    },
    {
      "cell_type": "code",
      "source": [
        "data['price']=data['price'].astype(int)"
      ],
      "metadata": {
        "id": "T5xr4vXoa_tz",
        "colab": {
          "base_uri": "https://localhost:8080/"
        },
        "outputId": "8e1f39e7-168c-431a-bc4c-9a6552340c81"
      },
      "execution_count": 673,
      "outputs": [
        {
          "output_type": "stream",
          "name": "stderr",
          "text": [
            "<ipython-input-673-2a10b3d39cc2>:1: SettingWithCopyWarning: \n",
            "A value is trying to be set on a copy of a slice from a DataFrame.\n",
            "Try using .loc[row_indexer,col_indexer] = value instead\n",
            "\n",
            "See the caveats in the documentation: https://pandas.pydata.org/pandas-docs/stable/user_guide/indexing.html#returning-a-view-versus-a-copy\n",
            "  data['price']=data['price'].astype(int)\n"
          ]
        }
      ]
    },
    {
      "cell_type": "code",
      "source": [
        "data.dtypes"
      ],
      "metadata": {
        "colab": {
          "base_uri": "https://localhost:8080/"
        },
        "id": "wxkm-YW1cFg5",
        "outputId": "af87f8cc-20ef-4caa-d279-65376bf61bf9"
      },
      "execution_count": 674,
      "outputs": [
        {
          "output_type": "execute_result",
          "data": {
            "text/plain": [
              "name                object\n",
              "price                int64\n",
              "brand               object\n",
              "model               object\n",
              "ref                 object\n",
              "mvmt                object\n",
              "casem               object\n",
              "bracem              object\n",
              "yop                 object\n",
              "sex                 object\n",
              "size                object\n",
              "condition_summed    object\n",
              "dtype: object"
            ]
          },
          "metadata": {},
          "execution_count": 674
        }
      ]
    },
    {
      "cell_type": "code",
      "source": [
        "data.shape"
      ],
      "metadata": {
        "colab": {
          "base_uri": "https://localhost:8080/"
        },
        "id": "K5nC7wuVcLqK",
        "outputId": "156cb9da-e80e-420e-d624-e8cda1ae33f3"
      },
      "execution_count": 675,
      "outputs": [
        {
          "output_type": "execute_result",
          "data": {
            "text/plain": [
              "(260849, 12)"
            ]
          },
          "metadata": {},
          "execution_count": 675
        }
      ]
    },
    {
      "cell_type": "code",
      "source": [
        "data.price.value_counts()"
      ],
      "metadata": {
        "colab": {
          "base_uri": "https://localhost:8080/"
        },
        "id": "adOf-F8Kg3ml",
        "outputId": "16530697-46be-4160-f3bc-f24f50b07360"
      },
      "execution_count": 676,
      "outputs": [
        {
          "output_type": "execute_result",
          "data": {
            "text/plain": [
              "6500      249\n",
              "4500      239\n",
              "12500     236\n",
              "4026      236\n",
              "8500      225\n",
              "         ... \n",
              "126802      1\n",
              "88286       1\n",
              "289294      1\n",
              "64993       1\n",
              "45998       1\n",
              "Name: price, Length: 36829, dtype: int64"
            ]
          },
          "metadata": {},
          "execution_count": 676
        }
      ]
    },
    {
      "cell_type": "markdown",
      "source": [
        "3. Форматируем столбец **size**"
      ],
      "metadata": {
        "id": "jnJUpNLHcSVU"
      }
    },
    {
      "cell_type": "code",
      "source": [
        "data['size'].unique()"
      ],
      "metadata": {
        "colab": {
          "base_uri": "https://localhost:8080/"
        },
        "id": "kj5KCTPbc6QH",
        "outputId": "4bea8142-f585-45b5-8f50-f6de933c3675"
      },
      "execution_count": 677,
      "outputs": [
        {
          "output_type": "execute_result",
          "data": {
            "text/plain": [
              "array(['42 mm', '39 mm', '41 mm', ..., '40 x 10.75 mm', '46 x 17 mm',\n",
              "       '48 x 57.5 mm'], dtype=object)"
            ]
          },
          "metadata": {},
          "execution_count": 677
        }
      ]
    },
    {
      "cell_type": "code",
      "source": [
        "data['size'].value_counts()"
      ],
      "metadata": {
        "colab": {
          "base_uri": "https://localhost:8080/"
        },
        "id": "5qAPgvQIgkbx",
        "outputId": "1a88746e-ecaf-4a51-9bf5-23c6a84ec3f8"
      },
      "execution_count": 678,
      "outputs": [
        {
          "output_type": "execute_result",
          "data": {
            "text/plain": [
              "40 mm             31119\n",
              "41 mm             25136\n",
              "42 mm             23198\n",
              "36 mm             17834\n",
              "44 mm             13274\n",
              "                  ...  \n",
              "34.5 x 35 mm          1\n",
              "38.6 x 38,6 mm        1\n",
              "31.5 x 38 mm          1\n",
              "26.8 x 32.5 mm        1\n",
              "48 x 57.5 mm          1\n",
              "Name: size, Length: 6595, dtype: int64"
            ]
          },
          "metadata": {},
          "execution_count": 678
        }
      ]
    },
    {
      "cell_type": "markdown",
      "source": [
        "Информация о диаметре корпуса содержится в первом числе. Вторым числом является либо толщина, либо дополнительное измерение корпуса (в случае часов квадратной/овальной формы). Оставляем только диаметр."
      ],
      "metadata": {
        "id": "w8BSrwItdWmC"
      }
    },
    {
      "cell_type": "code",
      "source": [
        "data['size']=data['size'].str[0:2]"
      ],
      "metadata": {
        "id": "hbrZEClLdnsk"
      },
      "execution_count": 679,
      "outputs": []
    },
    {
      "cell_type": "code",
      "source": [
        "data['size'].unique()"
      ],
      "metadata": {
        "colab": {
          "base_uri": "https://localhost:8080/"
        },
        "id": "vWUdIJiafhvA",
        "outputId": "80f71e8e-648e-4c65-8009-379285f4c029"
      },
      "execution_count": 680,
      "outputs": [
        {
          "output_type": "execute_result",
          "data": {
            "text/plain": [
              "array(['42', '39', '41', '38', '44', '37', nan, '34', '36', '45', '43',\n",
              "       '23', '33', '24', '40', '48', '31', '29', '35', '22', '26', '25',\n",
              "       '90', '65', '15', '30', '28', '32', '47', 'Re', 'Br', '64', '14',\n",
              "       'Au', '20', '50', '49', '18', '51', '27', '16', '68', '21', '46',\n",
              "       '61', 'Li', 'Ma', '69', '70', '55', '54', '17', '[P', 'Th', 'Mo',\n",
              "       '57', '-M', '8 ', '8S', 'Pr', '19', '59', '56', 'I ', '53', '52',\n",
              "       'De', 'Yo', 'Su', '13', 'Of', '58', '\"A', 'Ai', '【a', '72', '84',\n",
              "       'Or', '11', '3 ', 'Fo', '75', '12', '85', '6.', 'XL', 'ma', '78',\n",
              "       '63', 'Ca', '73', 'St', '79', '60', '10', '7.', '\"R', 'Am', 'In',\n",
              "       '\"P', 'Pa', 'Ba', 'Wa', 'A ', '7,', '\"C', 'It', '\"T', 'Sc', 'Sa',\n",
              "       '[S', '*B', '\"M', '\"E', '\"N', '【r', 'SP', 'IT', 'La', 'Mi', '9 ',\n",
              "       '5.', '6 ', 'Lo', 'Hu', '※O', '91', 'Ce', 'Un', 'IW', 'iw', '*D',\n",
              "       '*S', '5 ', '[B', 'ca', '[N', '4 ', '80', 'Vi', '2 ', 'Ne', '96',\n",
              "       'Ja', '76', '66', 'On', 'JL', 'WE', '1.', '3.', \"'2\", 'Ra', '2.',\n",
              "       'Si', 'Ex', '67', '71', '* ', 'Se', '1 ', 'Ap', 'Om', 'Di', 'TE',\n",
              "       'Ye', 'Fu', 'mo', 'Bo', 'Dr', 'fe', 'FE', 'DE', 'OM', '\"S', 'クロ',\n",
              "       'Be', 'Te', '\"D', 'Ch', 'Co', '【I', '【P', 'Du', 'BR', '0 ', 'PA',\n",
              "       'WA', 'Üb', 'ro', 'Ro', 'Oy', 'En', 'Da', '[A', '*W', 'es', 'Qu',\n",
              "       '\"G', 'SE', '8.', 'th', '３４', '*【', '【D', '【e', 'FO', 'br', 'Ar',\n",
              "       'If', 'Wh', '3,', '4,', '93', 'Cr', 'Gr', 'NE', 'Ni', '83', '62',\n",
              "       '【E', 'Bl', 'Al', '\"F', 'TA', 'Es', 'F4', 'Tu', '\"B', '!!', '2,',\n",
              "       '- ', 'Ze'], dtype=object)"
            ]
          },
          "metadata": {},
          "execution_count": 680
        }
      ]
    },
    {
      "cell_type": "code",
      "source": [
        "data['size']=data['size'].str.replace('\\W','',regex=True)\n",
        "data['size']=data['size'].str.replace('(\\D+)', '',regex=True)\n",
        "data['size'].replace('', np.nan, inplace=True)"
      ],
      "metadata": {
        "id": "DVo9Z5kufttU"
      },
      "execution_count": 681,
      "outputs": []
    },
    {
      "cell_type": "code",
      "source": [
        "data['size'].unique()"
      ],
      "metadata": {
        "id": "wyW1adsdf0II",
        "outputId": "da12aad4-8183-434c-e5da-b8ac0cdf2c95",
        "colab": {
          "base_uri": "https://localhost:8080/"
        }
      },
      "execution_count": 682,
      "outputs": [
        {
          "output_type": "execute_result",
          "data": {
            "text/plain": [
              "array(['42', '39', '41', '38', '44', '37', nan, '34', '36', '45', '43',\n",
              "       '23', '33', '24', '40', '48', '31', '29', '35', '22', '26', '25',\n",
              "       '90', '65', '15', '30', '28', '32', '47', '64', '14', '20', '50',\n",
              "       '49', '18', '51', '27', '16', '68', '21', '46', '61', '69', '70',\n",
              "       '55', '54', '17', '57', '8', '19', '59', '56', '53', '52', '13',\n",
              "       '58', '72', '84', '11', '3', '75', '12', '85', '6', '78', '63',\n",
              "       '73', '79', '60', '10', '7', '9', '5', '91', '4', '80', '2', '96',\n",
              "       '76', '66', '1', '67', '71', '0', '３４', '93', '83', '62'],\n",
              "      dtype=object)"
            ]
          },
          "metadata": {},
          "execution_count": 682
        }
      ]
    }
  ]
}