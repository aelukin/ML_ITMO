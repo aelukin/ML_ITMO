{
  "nbformat": 4,
  "nbformat_minor": 0,
  "metadata": {
    "colab": {
      "provenance": [],
      "authorship_tag": "ABX9TyOIv5KQU3A9breq+9Y120Pd",
      "include_colab_link": true
    },
    "kernelspec": {
      "name": "python3",
      "display_name": "Python 3"
    },
    "language_info": {
      "name": "python"
    }
  },
  "cells": [
    {
      "cell_type": "markdown",
      "metadata": {
        "id": "view-in-github",
        "colab_type": "text"
      },
      "source": [
        "<a href=\"https://colab.research.google.com/github/aelukin/ML_ITMO/blob/main/watch_market_analysis.ipynb\" target=\"_parent\"><img src=\"https://colab.research.google.com/assets/colab-badge.svg\" alt=\"Open In Colab\"/></a>"
      ]
    },
    {
      "cell_type": "markdown",
      "source": [
        "Монтируем диск, задаем директорию"
      ],
      "metadata": {
        "id": "Z7kmHjV7jYYe"
      }
    },
    {
      "cell_type": "code",
      "execution_count": 403,
      "metadata": {
        "colab": {
          "base_uri": "https://localhost:8080/"
        },
        "id": "aVVKM5NWhiVv",
        "outputId": "341e926f-1001-454f-a2de-4c16a4fffde0"
      },
      "outputs": [
        {
          "output_type": "stream",
          "name": "stdout",
          "text": [
            "Drive already mounted at /content/gdrive; to attempt to forcibly remount, call drive.mount(\"/content/gdrive\", force_remount=True).\n"
          ]
        }
      ],
      "source": [
        "from google.colab import drive\n",
        "drive.mount('/content/gdrive')"
      ]
    },
    {
      "cell_type": "code",
      "source": [
        "%cd gdrive/MyDrive/ML\\ ITMO"
      ],
      "metadata": {
        "colab": {
          "base_uri": "https://localhost:8080/"
        },
        "id": "ugPGvMCKjGOX",
        "outputId": "1fd5b253-3961-4b07-bf3c-79f7d496a8a2"
      },
      "execution_count": 404,
      "outputs": [
        {
          "output_type": "stream",
          "name": "stdout",
          "text": [
            "[Errno 2] No such file or directory: 'gdrive/MyDrive/ML ITMO'\n",
            "/content/gdrive/MyDrive/ML ITMO\n"
          ]
        }
      ]
    },
    {
      "cell_type": "markdown",
      "source": [
        "Импортируем библиотеки"
      ],
      "metadata": {
        "id": "sHHk7V5vjfmM"
      }
    },
    {
      "cell_type": "code",
      "source": [
        "import pandas as pd\n",
        "import numpy as np\n",
        "import matplotlib.pyplot as plt"
      ],
      "metadata": {
        "id": "b5-R7PNYji7N"
      },
      "execution_count": 405,
      "outputs": []
    },
    {
      "cell_type": "markdown",
      "source": [
        "Импортируем датасет"
      ],
      "metadata": {
        "id": "J9hvcemSoitu"
      }
    },
    {
      "cell_type": "code",
      "source": [
        "path='Watches.csv'\n",
        "data=pd.read_csv(path, index_col='Unnamed: 0')"
      ],
      "metadata": {
        "colab": {
          "base_uri": "https://localhost:8080/"
        },
        "id": "7jvPT41IokxX",
        "outputId": "54436031-7696-46c4-850b-99683e148d6a"
      },
      "execution_count": 406,
      "outputs": [
        {
          "output_type": "stream",
          "name": "stderr",
          "text": [
            "<ipython-input-406-50ca43d5d0b5>:2: DtypeWarning: Columns (13) have mixed types. Specify dtype option on import or set low_memory=False.\n",
            "  data=pd.read_csv(path, index_col='Unnamed: 0')\n"
          ]
        }
      ]
    },
    {
      "cell_type": "markdown",
      "source": [
        "# Часть 1. Проверка и очистка данных"
      ],
      "metadata": {
        "id": "e96ijU5Ya0ce"
      }
    },
    {
      "cell_type": "code",
      "source": [
        "data.head()"
      ],
      "metadata": {
        "colab": {
          "base_uri": "https://localhost:8080/",
          "height": 206
        },
        "id": "fiuxzMt5o3vF",
        "outputId": "7dfdbd79-5488-4b98-cb64-9eb0fdd285dd"
      },
      "execution_count": 407,
      "outputs": [
        {
          "output_type": "execute_result",
          "data": {
            "text/plain": [
              "                                                name     price  \\\n",
              "0  Audemars Piguet Royal Oak Offshore Chronograph...   $43,500   \n",
              "1  Audemars Piguet Royal Oak Selfwinding\\n39mm Bl...   $71,500   \n",
              "2  Audemars Piguet Royal Oak Chronograph\\nBlue Di...   $79,191   \n",
              "3  Audemars Piguet Royal Oak Chronograph\\nSelfwin...  $108,000   \n",
              "4  Audemars Piguet Royal Oak Offshore Chronograph...   $27,500   \n",
              "\n",
              "             brand                           model                   ref  \\\n",
              "0  Audemars Piguet  Royal Oak Offshore Chronograph  26237ST.OO.1000ST.01   \n",
              "1  Audemars Piguet           Royal Oak Selfwinding  15300ST.OO.1220ST.02   \n",
              "2  Audemars Piguet           Royal Oak Chronograph               26331ST   \n",
              "3  Audemars Piguet           Royal Oak Chronograph  26715ST.OO.1356ST.01   \n",
              "4  Audemars Piguet  Royal Oak Offshore Chronograph  26170ST.OO.1000ST.01   \n",
              "\n",
              "        mvmt  casem bracem                   yop       cond  \\\n",
              "0        NaN    NaN    NaN                  2019     Unworn   \n",
              "1        NaN    NaN    NaN                  2012  Very good   \n",
              "2  Automatic  Steel  Steel               Unknown     Unworn   \n",
              "3  Automatic  Steel  Steel  2022 (Approximation)        New   \n",
              "4  Automatic  Steel  Steel               Unknown  Very good   \n",
              "\n",
              "                  sex        size condition  \n",
              "0  Men's watch/Unisex       42 mm       NaN  \n",
              "1  Men's watch/Unisex       39 mm       NaN  \n",
              "2                 NaN       41 mm       NaN  \n",
              "3  Men's watch/Unisex       38 mm       NaN  \n",
              "4  Men's watch/Unisex  42 x 54 mm       NaN  "
            ],
            "text/html": [
              "\n",
              "  <div id=\"df-4184cb03-1d77-44c2-8018-13d9941dbb23\" class=\"colab-df-container\">\n",
              "    <div>\n",
              "<style scoped>\n",
              "    .dataframe tbody tr th:only-of-type {\n",
              "        vertical-align: middle;\n",
              "    }\n",
              "\n",
              "    .dataframe tbody tr th {\n",
              "        vertical-align: top;\n",
              "    }\n",
              "\n",
              "    .dataframe thead th {\n",
              "        text-align: right;\n",
              "    }\n",
              "</style>\n",
              "<table border=\"1\" class=\"dataframe\">\n",
              "  <thead>\n",
              "    <tr style=\"text-align: right;\">\n",
              "      <th></th>\n",
              "      <th>name</th>\n",
              "      <th>price</th>\n",
              "      <th>brand</th>\n",
              "      <th>model</th>\n",
              "      <th>ref</th>\n",
              "      <th>mvmt</th>\n",
              "      <th>casem</th>\n",
              "      <th>bracem</th>\n",
              "      <th>yop</th>\n",
              "      <th>cond</th>\n",
              "      <th>sex</th>\n",
              "      <th>size</th>\n",
              "      <th>condition</th>\n",
              "    </tr>\n",
              "  </thead>\n",
              "  <tbody>\n",
              "    <tr>\n",
              "      <th>0</th>\n",
              "      <td>Audemars Piguet Royal Oak Offshore Chronograph...</td>\n",
              "      <td>$43,500</td>\n",
              "      <td>Audemars Piguet</td>\n",
              "      <td>Royal Oak Offshore Chronograph</td>\n",
              "      <td>26237ST.OO.1000ST.01</td>\n",
              "      <td>NaN</td>\n",
              "      <td>NaN</td>\n",
              "      <td>NaN</td>\n",
              "      <td>2019</td>\n",
              "      <td>Unworn</td>\n",
              "      <td>Men's watch/Unisex</td>\n",
              "      <td>42 mm</td>\n",
              "      <td>NaN</td>\n",
              "    </tr>\n",
              "    <tr>\n",
              "      <th>1</th>\n",
              "      <td>Audemars Piguet Royal Oak Selfwinding\\n39mm Bl...</td>\n",
              "      <td>$71,500</td>\n",
              "      <td>Audemars Piguet</td>\n",
              "      <td>Royal Oak Selfwinding</td>\n",
              "      <td>15300ST.OO.1220ST.02</td>\n",
              "      <td>NaN</td>\n",
              "      <td>NaN</td>\n",
              "      <td>NaN</td>\n",
              "      <td>2012</td>\n",
              "      <td>Very good</td>\n",
              "      <td>Men's watch/Unisex</td>\n",
              "      <td>39 mm</td>\n",
              "      <td>NaN</td>\n",
              "    </tr>\n",
              "    <tr>\n",
              "      <th>2</th>\n",
              "      <td>Audemars Piguet Royal Oak Chronograph\\nBlue Di...</td>\n",
              "      <td>$79,191</td>\n",
              "      <td>Audemars Piguet</td>\n",
              "      <td>Royal Oak Chronograph</td>\n",
              "      <td>26331ST</td>\n",
              "      <td>Automatic</td>\n",
              "      <td>Steel</td>\n",
              "      <td>Steel</td>\n",
              "      <td>Unknown</td>\n",
              "      <td>Unworn</td>\n",
              "      <td>NaN</td>\n",
              "      <td>41 mm</td>\n",
              "      <td>NaN</td>\n",
              "    </tr>\n",
              "    <tr>\n",
              "      <th>3</th>\n",
              "      <td>Audemars Piguet Royal Oak Chronograph\\nSelfwin...</td>\n",
              "      <td>$108,000</td>\n",
              "      <td>Audemars Piguet</td>\n",
              "      <td>Royal Oak Chronograph</td>\n",
              "      <td>26715ST.OO.1356ST.01</td>\n",
              "      <td>Automatic</td>\n",
              "      <td>Steel</td>\n",
              "      <td>Steel</td>\n",
              "      <td>2022 (Approximation)</td>\n",
              "      <td>New</td>\n",
              "      <td>Men's watch/Unisex</td>\n",
              "      <td>38 mm</td>\n",
              "      <td>NaN</td>\n",
              "    </tr>\n",
              "    <tr>\n",
              "      <th>4</th>\n",
              "      <td>Audemars Piguet Royal Oak Offshore Chronograph...</td>\n",
              "      <td>$27,500</td>\n",
              "      <td>Audemars Piguet</td>\n",
              "      <td>Royal Oak Offshore Chronograph</td>\n",
              "      <td>26170ST.OO.1000ST.01</td>\n",
              "      <td>Automatic</td>\n",
              "      <td>Steel</td>\n",
              "      <td>Steel</td>\n",
              "      <td>Unknown</td>\n",
              "      <td>Very good</td>\n",
              "      <td>Men's watch/Unisex</td>\n",
              "      <td>42 x 54 mm</td>\n",
              "      <td>NaN</td>\n",
              "    </tr>\n",
              "  </tbody>\n",
              "</table>\n",
              "</div>\n",
              "    <div class=\"colab-df-buttons\">\n",
              "\n",
              "  <div class=\"colab-df-container\">\n",
              "    <button class=\"colab-df-convert\" onclick=\"convertToInteractive('df-4184cb03-1d77-44c2-8018-13d9941dbb23')\"\n",
              "            title=\"Convert this dataframe to an interactive table.\"\n",
              "            style=\"display:none;\">\n",
              "\n",
              "  <svg xmlns=\"http://www.w3.org/2000/svg\" height=\"24px\" viewBox=\"0 -960 960 960\">\n",
              "    <path d=\"M120-120v-720h720v720H120Zm60-500h600v-160H180v160Zm220 220h160v-160H400v160Zm0 220h160v-160H400v160ZM180-400h160v-160H180v160Zm440 0h160v-160H620v160ZM180-180h160v-160H180v160Zm440 0h160v-160H620v160Z\"/>\n",
              "  </svg>\n",
              "    </button>\n",
              "\n",
              "  <style>\n",
              "    .colab-df-container {\n",
              "      display:flex;\n",
              "      gap: 12px;\n",
              "    }\n",
              "\n",
              "    .colab-df-convert {\n",
              "      background-color: #E8F0FE;\n",
              "      border: none;\n",
              "      border-radius: 50%;\n",
              "      cursor: pointer;\n",
              "      display: none;\n",
              "      fill: #1967D2;\n",
              "      height: 32px;\n",
              "      padding: 0 0 0 0;\n",
              "      width: 32px;\n",
              "    }\n",
              "\n",
              "    .colab-df-convert:hover {\n",
              "      background-color: #E2EBFA;\n",
              "      box-shadow: 0px 1px 2px rgba(60, 64, 67, 0.3), 0px 1px 3px 1px rgba(60, 64, 67, 0.15);\n",
              "      fill: #174EA6;\n",
              "    }\n",
              "\n",
              "    .colab-df-buttons div {\n",
              "      margin-bottom: 4px;\n",
              "    }\n",
              "\n",
              "    [theme=dark] .colab-df-convert {\n",
              "      background-color: #3B4455;\n",
              "      fill: #D2E3FC;\n",
              "    }\n",
              "\n",
              "    [theme=dark] .colab-df-convert:hover {\n",
              "      background-color: #434B5C;\n",
              "      box-shadow: 0px 1px 3px 1px rgba(0, 0, 0, 0.15);\n",
              "      filter: drop-shadow(0px 1px 2px rgba(0, 0, 0, 0.3));\n",
              "      fill: #FFFFFF;\n",
              "    }\n",
              "  </style>\n",
              "\n",
              "    <script>\n",
              "      const buttonEl =\n",
              "        document.querySelector('#df-4184cb03-1d77-44c2-8018-13d9941dbb23 button.colab-df-convert');\n",
              "      buttonEl.style.display =\n",
              "        google.colab.kernel.accessAllowed ? 'block' : 'none';\n",
              "\n",
              "      async function convertToInteractive(key) {\n",
              "        const element = document.querySelector('#df-4184cb03-1d77-44c2-8018-13d9941dbb23');\n",
              "        const dataTable =\n",
              "          await google.colab.kernel.invokeFunction('convertToInteractive',\n",
              "                                                    [key], {});\n",
              "        if (!dataTable) return;\n",
              "\n",
              "        const docLinkHtml = 'Like what you see? Visit the ' +\n",
              "          '<a target=\"_blank\" href=https://colab.research.google.com/notebooks/data_table.ipynb>data table notebook</a>'\n",
              "          + ' to learn more about interactive tables.';\n",
              "        element.innerHTML = '';\n",
              "        dataTable['output_type'] = 'display_data';\n",
              "        await google.colab.output.renderOutput(dataTable, element);\n",
              "        const docLink = document.createElement('div');\n",
              "        docLink.innerHTML = docLinkHtml;\n",
              "        element.appendChild(docLink);\n",
              "      }\n",
              "    </script>\n",
              "  </div>\n",
              "\n",
              "\n",
              "<div id=\"df-1f69d6f9-2711-43ec-8a70-20ceeed3e1d3\">\n",
              "  <button class=\"colab-df-quickchart\" onclick=\"quickchart('df-1f69d6f9-2711-43ec-8a70-20ceeed3e1d3')\"\n",
              "            title=\"Suggest charts\"\n",
              "            style=\"display:none;\">\n",
              "\n",
              "<svg xmlns=\"http://www.w3.org/2000/svg\" height=\"24px\"viewBox=\"0 0 24 24\"\n",
              "     width=\"24px\">\n",
              "    <g>\n",
              "        <path d=\"M19 3H5c-1.1 0-2 .9-2 2v14c0 1.1.9 2 2 2h14c1.1 0 2-.9 2-2V5c0-1.1-.9-2-2-2zM9 17H7v-7h2v7zm4 0h-2V7h2v10zm4 0h-2v-4h2v4z\"/>\n",
              "    </g>\n",
              "</svg>\n",
              "  </button>\n",
              "\n",
              "<style>\n",
              "  .colab-df-quickchart {\n",
              "      --bg-color: #E8F0FE;\n",
              "      --fill-color: #1967D2;\n",
              "      --hover-bg-color: #E2EBFA;\n",
              "      --hover-fill-color: #174EA6;\n",
              "      --disabled-fill-color: #AAA;\n",
              "      --disabled-bg-color: #DDD;\n",
              "  }\n",
              "\n",
              "  [theme=dark] .colab-df-quickchart {\n",
              "      --bg-color: #3B4455;\n",
              "      --fill-color: #D2E3FC;\n",
              "      --hover-bg-color: #434B5C;\n",
              "      --hover-fill-color: #FFFFFF;\n",
              "      --disabled-bg-color: #3B4455;\n",
              "      --disabled-fill-color: #666;\n",
              "  }\n",
              "\n",
              "  .colab-df-quickchart {\n",
              "    background-color: var(--bg-color);\n",
              "    border: none;\n",
              "    border-radius: 50%;\n",
              "    cursor: pointer;\n",
              "    display: none;\n",
              "    fill: var(--fill-color);\n",
              "    height: 32px;\n",
              "    padding: 0;\n",
              "    width: 32px;\n",
              "  }\n",
              "\n",
              "  .colab-df-quickchart:hover {\n",
              "    background-color: var(--hover-bg-color);\n",
              "    box-shadow: 0 1px 2px rgba(60, 64, 67, 0.3), 0 1px 3px 1px rgba(60, 64, 67, 0.15);\n",
              "    fill: var(--button-hover-fill-color);\n",
              "  }\n",
              "\n",
              "  .colab-df-quickchart-complete:disabled,\n",
              "  .colab-df-quickchart-complete:disabled:hover {\n",
              "    background-color: var(--disabled-bg-color);\n",
              "    fill: var(--disabled-fill-color);\n",
              "    box-shadow: none;\n",
              "  }\n",
              "\n",
              "  .colab-df-spinner {\n",
              "    border: 2px solid var(--fill-color);\n",
              "    border-color: transparent;\n",
              "    border-bottom-color: var(--fill-color);\n",
              "    animation:\n",
              "      spin 1s steps(1) infinite;\n",
              "  }\n",
              "\n",
              "  @keyframes spin {\n",
              "    0% {\n",
              "      border-color: transparent;\n",
              "      border-bottom-color: var(--fill-color);\n",
              "      border-left-color: var(--fill-color);\n",
              "    }\n",
              "    20% {\n",
              "      border-color: transparent;\n",
              "      border-left-color: var(--fill-color);\n",
              "      border-top-color: var(--fill-color);\n",
              "    }\n",
              "    30% {\n",
              "      border-color: transparent;\n",
              "      border-left-color: var(--fill-color);\n",
              "      border-top-color: var(--fill-color);\n",
              "      border-right-color: var(--fill-color);\n",
              "    }\n",
              "    40% {\n",
              "      border-color: transparent;\n",
              "      border-right-color: var(--fill-color);\n",
              "      border-top-color: var(--fill-color);\n",
              "    }\n",
              "    60% {\n",
              "      border-color: transparent;\n",
              "      border-right-color: var(--fill-color);\n",
              "    }\n",
              "    80% {\n",
              "      border-color: transparent;\n",
              "      border-right-color: var(--fill-color);\n",
              "      border-bottom-color: var(--fill-color);\n",
              "    }\n",
              "    90% {\n",
              "      border-color: transparent;\n",
              "      border-bottom-color: var(--fill-color);\n",
              "    }\n",
              "  }\n",
              "</style>\n",
              "\n",
              "  <script>\n",
              "    async function quickchart(key) {\n",
              "      const quickchartButtonEl =\n",
              "        document.querySelector('#' + key + ' button');\n",
              "      quickchartButtonEl.disabled = true;  // To prevent multiple clicks.\n",
              "      quickchartButtonEl.classList.add('colab-df-spinner');\n",
              "      try {\n",
              "        const charts = await google.colab.kernel.invokeFunction(\n",
              "            'suggestCharts', [key], {});\n",
              "      } catch (error) {\n",
              "        console.error('Error during call to suggestCharts:', error);\n",
              "      }\n",
              "      quickchartButtonEl.classList.remove('colab-df-spinner');\n",
              "      quickchartButtonEl.classList.add('colab-df-quickchart-complete');\n",
              "    }\n",
              "    (() => {\n",
              "      let quickchartButtonEl =\n",
              "        document.querySelector('#df-1f69d6f9-2711-43ec-8a70-20ceeed3e1d3 button');\n",
              "      quickchartButtonEl.style.display =\n",
              "        google.colab.kernel.accessAllowed ? 'block' : 'none';\n",
              "    })();\n",
              "  </script>\n",
              "</div>\n",
              "    </div>\n",
              "  </div>\n"
            ]
          },
          "metadata": {},
          "execution_count": 407
        }
      ]
    },
    {
      "cell_type": "code",
      "source": [
        "data.tail()"
      ],
      "metadata": {
        "id": "ivq2JI1nJXRa",
        "outputId": "3b9c1d3f-5b9c-46df-dc9d-9f2ef782891e",
        "colab": {
          "base_uri": "https://localhost:8080/",
          "height": 206
        }
      },
      "execution_count": 408,
      "outputs": [
        {
          "output_type": "execute_result",
          "data": {
            "text/plain": [
              "                                                   name    price   brand  \\\n",
              "6438  Zenith Defy El Primero\\n21 TITANIUM 95.9000.90...   $9,790  Zenith   \n",
              "6439  Zenith Chronomaster Sport\\n41mm White 03.3100....   $8,450  Zenith   \n",
              "6440   Zenith El Primero\\n50th Anniversary A386 Limited  $16,500  Zenith   \n",
              "6441  Zenith Chronomaster Sport\\nWhite Dial Chronogr...   $9,000  Zenith   \n",
              "6442  Zenith El Primero Chronomaster\\n03.2040.400/69...   $6,833  Zenith   \n",
              "\n",
              "                        model                    ref       mvmt  casem  \\\n",
              "6438          Defy El Primero  95.9000.9004/78.M9000        NaN    NaN   \n",
              "6439       Chronomaster Sport  03.3100.3600/69.M3100        NaN    NaN   \n",
              "6440               El Primero    30.A386.400/69.C807        NaN    NaN   \n",
              "6441       Chronomaster Sport  03.3100.3600/69.M3100        NaN    NaN   \n",
              "6442  El Primero Chronomaster                    NaN  Automatic  Steel   \n",
              "\n",
              "       bracem                   yop       cond                 sex   size  \\\n",
              "6438      NaN                  2022  Very good  Men's watch/Unisex  44 mm   \n",
              "6439      NaN  2021 (Approximation)  Very good  Men's watch/Unisex  41 mm   \n",
              "6440      NaN                  2019  Very good  Men's watch/Unisex  38 mm   \n",
              "6441      NaN                  2021     Unworn  Men's watch/Unisex  41 mm   \n",
              "6442  Leather                  2019  Very good                 NaN  42 mm   \n",
              "\n",
              "     condition  \n",
              "6438       NaN  \n",
              "6439       NaN  \n",
              "6440       NaN  \n",
              "6441       NaN  \n",
              "6442       NaN  "
            ],
            "text/html": [
              "\n",
              "  <div id=\"df-e5213e7c-e1d9-4661-9f43-6ceda09ca400\" class=\"colab-df-container\">\n",
              "    <div>\n",
              "<style scoped>\n",
              "    .dataframe tbody tr th:only-of-type {\n",
              "        vertical-align: middle;\n",
              "    }\n",
              "\n",
              "    .dataframe tbody tr th {\n",
              "        vertical-align: top;\n",
              "    }\n",
              "\n",
              "    .dataframe thead th {\n",
              "        text-align: right;\n",
              "    }\n",
              "</style>\n",
              "<table border=\"1\" class=\"dataframe\">\n",
              "  <thead>\n",
              "    <tr style=\"text-align: right;\">\n",
              "      <th></th>\n",
              "      <th>name</th>\n",
              "      <th>price</th>\n",
              "      <th>brand</th>\n",
              "      <th>model</th>\n",
              "      <th>ref</th>\n",
              "      <th>mvmt</th>\n",
              "      <th>casem</th>\n",
              "      <th>bracem</th>\n",
              "      <th>yop</th>\n",
              "      <th>cond</th>\n",
              "      <th>sex</th>\n",
              "      <th>size</th>\n",
              "      <th>condition</th>\n",
              "    </tr>\n",
              "  </thead>\n",
              "  <tbody>\n",
              "    <tr>\n",
              "      <th>6438</th>\n",
              "      <td>Zenith Defy El Primero\\n21 TITANIUM 95.9000.90...</td>\n",
              "      <td>$9,790</td>\n",
              "      <td>Zenith</td>\n",
              "      <td>Defy El Primero</td>\n",
              "      <td>95.9000.9004/78.M9000</td>\n",
              "      <td>NaN</td>\n",
              "      <td>NaN</td>\n",
              "      <td>NaN</td>\n",
              "      <td>2022</td>\n",
              "      <td>Very good</td>\n",
              "      <td>Men's watch/Unisex</td>\n",
              "      <td>44 mm</td>\n",
              "      <td>NaN</td>\n",
              "    </tr>\n",
              "    <tr>\n",
              "      <th>6439</th>\n",
              "      <td>Zenith Chronomaster Sport\\n41mm White 03.3100....</td>\n",
              "      <td>$8,450</td>\n",
              "      <td>Zenith</td>\n",
              "      <td>Chronomaster Sport</td>\n",
              "      <td>03.3100.3600/69.M3100</td>\n",
              "      <td>NaN</td>\n",
              "      <td>NaN</td>\n",
              "      <td>NaN</td>\n",
              "      <td>2021 (Approximation)</td>\n",
              "      <td>Very good</td>\n",
              "      <td>Men's watch/Unisex</td>\n",
              "      <td>41 mm</td>\n",
              "      <td>NaN</td>\n",
              "    </tr>\n",
              "    <tr>\n",
              "      <th>6440</th>\n",
              "      <td>Zenith El Primero\\n50th Anniversary A386 Limited</td>\n",
              "      <td>$16,500</td>\n",
              "      <td>Zenith</td>\n",
              "      <td>El Primero</td>\n",
              "      <td>30.A386.400/69.C807</td>\n",
              "      <td>NaN</td>\n",
              "      <td>NaN</td>\n",
              "      <td>NaN</td>\n",
              "      <td>2019</td>\n",
              "      <td>Very good</td>\n",
              "      <td>Men's watch/Unisex</td>\n",
              "      <td>38 mm</td>\n",
              "      <td>NaN</td>\n",
              "    </tr>\n",
              "    <tr>\n",
              "      <th>6441</th>\n",
              "      <td>Zenith Chronomaster Sport\\nWhite Dial Chronogr...</td>\n",
              "      <td>$9,000</td>\n",
              "      <td>Zenith</td>\n",
              "      <td>Chronomaster Sport</td>\n",
              "      <td>03.3100.3600/69.M3100</td>\n",
              "      <td>NaN</td>\n",
              "      <td>NaN</td>\n",
              "      <td>NaN</td>\n",
              "      <td>2021</td>\n",
              "      <td>Unworn</td>\n",
              "      <td>Men's watch/Unisex</td>\n",
              "      <td>41 mm</td>\n",
              "      <td>NaN</td>\n",
              "    </tr>\n",
              "    <tr>\n",
              "      <th>6442</th>\n",
              "      <td>Zenith El Primero Chronomaster\\n03.2040.400/69...</td>\n",
              "      <td>$6,833</td>\n",
              "      <td>Zenith</td>\n",
              "      <td>El Primero Chronomaster</td>\n",
              "      <td>NaN</td>\n",
              "      <td>Automatic</td>\n",
              "      <td>Steel</td>\n",
              "      <td>Leather</td>\n",
              "      <td>2019</td>\n",
              "      <td>Very good</td>\n",
              "      <td>NaN</td>\n",
              "      <td>42 mm</td>\n",
              "      <td>NaN</td>\n",
              "    </tr>\n",
              "  </tbody>\n",
              "</table>\n",
              "</div>\n",
              "    <div class=\"colab-df-buttons\">\n",
              "\n",
              "  <div class=\"colab-df-container\">\n",
              "    <button class=\"colab-df-convert\" onclick=\"convertToInteractive('df-e5213e7c-e1d9-4661-9f43-6ceda09ca400')\"\n",
              "            title=\"Convert this dataframe to an interactive table.\"\n",
              "            style=\"display:none;\">\n",
              "\n",
              "  <svg xmlns=\"http://www.w3.org/2000/svg\" height=\"24px\" viewBox=\"0 -960 960 960\">\n",
              "    <path d=\"M120-120v-720h720v720H120Zm60-500h600v-160H180v160Zm220 220h160v-160H400v160Zm0 220h160v-160H400v160ZM180-400h160v-160H180v160Zm440 0h160v-160H620v160ZM180-180h160v-160H180v160Zm440 0h160v-160H620v160Z\"/>\n",
              "  </svg>\n",
              "    </button>\n",
              "\n",
              "  <style>\n",
              "    .colab-df-container {\n",
              "      display:flex;\n",
              "      gap: 12px;\n",
              "    }\n",
              "\n",
              "    .colab-df-convert {\n",
              "      background-color: #E8F0FE;\n",
              "      border: none;\n",
              "      border-radius: 50%;\n",
              "      cursor: pointer;\n",
              "      display: none;\n",
              "      fill: #1967D2;\n",
              "      height: 32px;\n",
              "      padding: 0 0 0 0;\n",
              "      width: 32px;\n",
              "    }\n",
              "\n",
              "    .colab-df-convert:hover {\n",
              "      background-color: #E2EBFA;\n",
              "      box-shadow: 0px 1px 2px rgba(60, 64, 67, 0.3), 0px 1px 3px 1px rgba(60, 64, 67, 0.15);\n",
              "      fill: #174EA6;\n",
              "    }\n",
              "\n",
              "    .colab-df-buttons div {\n",
              "      margin-bottom: 4px;\n",
              "    }\n",
              "\n",
              "    [theme=dark] .colab-df-convert {\n",
              "      background-color: #3B4455;\n",
              "      fill: #D2E3FC;\n",
              "    }\n",
              "\n",
              "    [theme=dark] .colab-df-convert:hover {\n",
              "      background-color: #434B5C;\n",
              "      box-shadow: 0px 1px 3px 1px rgba(0, 0, 0, 0.15);\n",
              "      filter: drop-shadow(0px 1px 2px rgba(0, 0, 0, 0.3));\n",
              "      fill: #FFFFFF;\n",
              "    }\n",
              "  </style>\n",
              "\n",
              "    <script>\n",
              "      const buttonEl =\n",
              "        document.querySelector('#df-e5213e7c-e1d9-4661-9f43-6ceda09ca400 button.colab-df-convert');\n",
              "      buttonEl.style.display =\n",
              "        google.colab.kernel.accessAllowed ? 'block' : 'none';\n",
              "\n",
              "      async function convertToInteractive(key) {\n",
              "        const element = document.querySelector('#df-e5213e7c-e1d9-4661-9f43-6ceda09ca400');\n",
              "        const dataTable =\n",
              "          await google.colab.kernel.invokeFunction('convertToInteractive',\n",
              "                                                    [key], {});\n",
              "        if (!dataTable) return;\n",
              "\n",
              "        const docLinkHtml = 'Like what you see? Visit the ' +\n",
              "          '<a target=\"_blank\" href=https://colab.research.google.com/notebooks/data_table.ipynb>data table notebook</a>'\n",
              "          + ' to learn more about interactive tables.';\n",
              "        element.innerHTML = '';\n",
              "        dataTable['output_type'] = 'display_data';\n",
              "        await google.colab.output.renderOutput(dataTable, element);\n",
              "        const docLink = document.createElement('div');\n",
              "        docLink.innerHTML = docLinkHtml;\n",
              "        element.appendChild(docLink);\n",
              "      }\n",
              "    </script>\n",
              "  </div>\n",
              "\n",
              "\n",
              "<div id=\"df-2c413ccf-bc14-4675-9e45-d8bf1d2bc877\">\n",
              "  <button class=\"colab-df-quickchart\" onclick=\"quickchart('df-2c413ccf-bc14-4675-9e45-d8bf1d2bc877')\"\n",
              "            title=\"Suggest charts\"\n",
              "            style=\"display:none;\">\n",
              "\n",
              "<svg xmlns=\"http://www.w3.org/2000/svg\" height=\"24px\"viewBox=\"0 0 24 24\"\n",
              "     width=\"24px\">\n",
              "    <g>\n",
              "        <path d=\"M19 3H5c-1.1 0-2 .9-2 2v14c0 1.1.9 2 2 2h14c1.1 0 2-.9 2-2V5c0-1.1-.9-2-2-2zM9 17H7v-7h2v7zm4 0h-2V7h2v10zm4 0h-2v-4h2v4z\"/>\n",
              "    </g>\n",
              "</svg>\n",
              "  </button>\n",
              "\n",
              "<style>\n",
              "  .colab-df-quickchart {\n",
              "      --bg-color: #E8F0FE;\n",
              "      --fill-color: #1967D2;\n",
              "      --hover-bg-color: #E2EBFA;\n",
              "      --hover-fill-color: #174EA6;\n",
              "      --disabled-fill-color: #AAA;\n",
              "      --disabled-bg-color: #DDD;\n",
              "  }\n",
              "\n",
              "  [theme=dark] .colab-df-quickchart {\n",
              "      --bg-color: #3B4455;\n",
              "      --fill-color: #D2E3FC;\n",
              "      --hover-bg-color: #434B5C;\n",
              "      --hover-fill-color: #FFFFFF;\n",
              "      --disabled-bg-color: #3B4455;\n",
              "      --disabled-fill-color: #666;\n",
              "  }\n",
              "\n",
              "  .colab-df-quickchart {\n",
              "    background-color: var(--bg-color);\n",
              "    border: none;\n",
              "    border-radius: 50%;\n",
              "    cursor: pointer;\n",
              "    display: none;\n",
              "    fill: var(--fill-color);\n",
              "    height: 32px;\n",
              "    padding: 0;\n",
              "    width: 32px;\n",
              "  }\n",
              "\n",
              "  .colab-df-quickchart:hover {\n",
              "    background-color: var(--hover-bg-color);\n",
              "    box-shadow: 0 1px 2px rgba(60, 64, 67, 0.3), 0 1px 3px 1px rgba(60, 64, 67, 0.15);\n",
              "    fill: var(--button-hover-fill-color);\n",
              "  }\n",
              "\n",
              "  .colab-df-quickchart-complete:disabled,\n",
              "  .colab-df-quickchart-complete:disabled:hover {\n",
              "    background-color: var(--disabled-bg-color);\n",
              "    fill: var(--disabled-fill-color);\n",
              "    box-shadow: none;\n",
              "  }\n",
              "\n",
              "  .colab-df-spinner {\n",
              "    border: 2px solid var(--fill-color);\n",
              "    border-color: transparent;\n",
              "    border-bottom-color: var(--fill-color);\n",
              "    animation:\n",
              "      spin 1s steps(1) infinite;\n",
              "  }\n",
              "\n",
              "  @keyframes spin {\n",
              "    0% {\n",
              "      border-color: transparent;\n",
              "      border-bottom-color: var(--fill-color);\n",
              "      border-left-color: var(--fill-color);\n",
              "    }\n",
              "    20% {\n",
              "      border-color: transparent;\n",
              "      border-left-color: var(--fill-color);\n",
              "      border-top-color: var(--fill-color);\n",
              "    }\n",
              "    30% {\n",
              "      border-color: transparent;\n",
              "      border-left-color: var(--fill-color);\n",
              "      border-top-color: var(--fill-color);\n",
              "      border-right-color: var(--fill-color);\n",
              "    }\n",
              "    40% {\n",
              "      border-color: transparent;\n",
              "      border-right-color: var(--fill-color);\n",
              "      border-top-color: var(--fill-color);\n",
              "    }\n",
              "    60% {\n",
              "      border-color: transparent;\n",
              "      border-right-color: var(--fill-color);\n",
              "    }\n",
              "    80% {\n",
              "      border-color: transparent;\n",
              "      border-right-color: var(--fill-color);\n",
              "      border-bottom-color: var(--fill-color);\n",
              "    }\n",
              "    90% {\n",
              "      border-color: transparent;\n",
              "      border-bottom-color: var(--fill-color);\n",
              "    }\n",
              "  }\n",
              "</style>\n",
              "\n",
              "  <script>\n",
              "    async function quickchart(key) {\n",
              "      const quickchartButtonEl =\n",
              "        document.querySelector('#' + key + ' button');\n",
              "      quickchartButtonEl.disabled = true;  // To prevent multiple clicks.\n",
              "      quickchartButtonEl.classList.add('colab-df-spinner');\n",
              "      try {\n",
              "        const charts = await google.colab.kernel.invokeFunction(\n",
              "            'suggestCharts', [key], {});\n",
              "      } catch (error) {\n",
              "        console.error('Error during call to suggestCharts:', error);\n",
              "      }\n",
              "      quickchartButtonEl.classList.remove('colab-df-spinner');\n",
              "      quickchartButtonEl.classList.add('colab-df-quickchart-complete');\n",
              "    }\n",
              "    (() => {\n",
              "      let quickchartButtonEl =\n",
              "        document.querySelector('#df-2c413ccf-bc14-4675-9e45-d8bf1d2bc877 button');\n",
              "      quickchartButtonEl.style.display =\n",
              "        google.colab.kernel.accessAllowed ? 'block' : 'none';\n",
              "    })();\n",
              "  </script>\n",
              "</div>\n",
              "    </div>\n",
              "  </div>\n"
            ]
          },
          "metadata": {},
          "execution_count": 408
        }
      ]
    },
    {
      "cell_type": "markdown",
      "source": [
        "Проверка данных"
      ],
      "metadata": {
        "id": "Uc4Omo-Bs8HF"
      }
    },
    {
      "cell_type": "code",
      "source": [
        "data.columns"
      ],
      "metadata": {
        "colab": {
          "base_uri": "https://localhost:8080/"
        },
        "id": "9NzT4rl-pfsO",
        "outputId": "944703d1-8f50-4b86-f3be-3aba8d28206f"
      },
      "execution_count": 409,
      "outputs": [
        {
          "output_type": "execute_result",
          "data": {
            "text/plain": [
              "Index(['name', 'price', 'brand', 'model', 'ref', 'mvmt', 'casem', 'bracem',\n",
              "       'yop', 'cond', 'sex', 'size', 'condition'],\n",
              "      dtype='object')"
            ]
          },
          "metadata": {},
          "execution_count": 409
        }
      ]
    },
    {
      "cell_type": "code",
      "source": [
        "data.shape"
      ],
      "metadata": {
        "colab": {
          "base_uri": "https://localhost:8080/"
        },
        "id": "QOu_w2fTpkJ_",
        "outputId": "16194704-5c72-430c-847f-3b213cb9bbfe"
      },
      "execution_count": 410,
      "outputs": [
        {
          "output_type": "execute_result",
          "data": {
            "text/plain": [
              "(284491, 13)"
            ]
          },
          "metadata": {},
          "execution_count": 410
        }
      ]
    },
    {
      "cell_type": "code",
      "source": [
        "data.dtypes"
      ],
      "metadata": {
        "colab": {
          "base_uri": "https://localhost:8080/"
        },
        "id": "BQEnc3LVpobd",
        "outputId": "9e11a704-870e-4dce-80d4-1bb1bc2426d9"
      },
      "execution_count": 411,
      "outputs": [
        {
          "output_type": "execute_result",
          "data": {
            "text/plain": [
              "name         object\n",
              "price        object\n",
              "brand        object\n",
              "model        object\n",
              "ref          object\n",
              "mvmt         object\n",
              "casem        object\n",
              "bracem       object\n",
              "yop          object\n",
              "cond         object\n",
              "sex          object\n",
              "size         object\n",
              "condition    object\n",
              "dtype: object"
            ]
          },
          "metadata": {},
          "execution_count": 411
        }
      ]
    },
    {
      "cell_type": "code",
      "source": [
        "data.isna().sum()"
      ],
      "metadata": {
        "colab": {
          "base_uri": "https://localhost:8080/"
        },
        "id": "6J16TRSoX5cS",
        "outputId": "825885e7-8974-4d1c-e317-0187506b9ef2"
      },
      "execution_count": 412,
      "outputs": [
        {
          "output_type": "execute_result",
          "data": {
            "text/plain": [
              "name          72585\n",
              "price           406\n",
              "brand           131\n",
              "model         30466\n",
              "ref           43152\n",
              "mvmt         196685\n",
              "casem        164271\n",
              "bracem       174896\n",
              "yop             134\n",
              "cond          75987\n",
              "sex           95805\n",
              "size          23597\n",
              "condition    212922\n",
              "dtype: int64"
            ]
          },
          "metadata": {},
          "execution_count": 412
        }
      ]
    },
    {
      "cell_type": "code",
      "source": [
        "data.describe()"
      ],
      "metadata": {
        "colab": {
          "base_uri": "https://localhost:8080/",
          "height": 175
        },
        "id": "UytGyGLWBfTG",
        "outputId": "334f7ee6-e82f-4af1-ba51-cc00c20bfbbd"
      },
      "execution_count": 413,
      "outputs": [
        {
          "output_type": "execute_result",
          "data": {
            "text/plain": [
              "                                                     name             price  \\\n",
              "count                                              211906            284085   \n",
              "unique                                             148689             36830   \n",
              "top     Omega Speedmaster Professional Moonwatch\\nCo-A...  Price on request   \n",
              "freq                                                  171             14259   \n",
              "\n",
              "         brand        model     ref       mvmt   casem  bracem      yop  \\\n",
              "count   284360       254025  241339      87806  120220  109595   284357   \n",
              "unique      28          948   33223          3      17      23      410   \n",
              "top      Rolex  Datejust 36  126334  Automatic   Steel   Steel  Unknown   \n",
              "freq     72484         9473    2081      65600   75793   49605    95957   \n",
              "\n",
              "             cond                 sex    size  condition  \n",
              "count      208504              188686  260894      71569  \n",
              "unique          7                   2    6699          7  \n",
              "top     Very good  Men's watch/Unisex   40 mm  Very good  \n",
              "freq        71604              158841   34254      36136  "
            ],
            "text/html": [
              "\n",
              "  <div id=\"df-782d7462-8105-4153-a5bf-21ce9625f94e\" class=\"colab-df-container\">\n",
              "    <div>\n",
              "<style scoped>\n",
              "    .dataframe tbody tr th:only-of-type {\n",
              "        vertical-align: middle;\n",
              "    }\n",
              "\n",
              "    .dataframe tbody tr th {\n",
              "        vertical-align: top;\n",
              "    }\n",
              "\n",
              "    .dataframe thead th {\n",
              "        text-align: right;\n",
              "    }\n",
              "</style>\n",
              "<table border=\"1\" class=\"dataframe\">\n",
              "  <thead>\n",
              "    <tr style=\"text-align: right;\">\n",
              "      <th></th>\n",
              "      <th>name</th>\n",
              "      <th>price</th>\n",
              "      <th>brand</th>\n",
              "      <th>model</th>\n",
              "      <th>ref</th>\n",
              "      <th>mvmt</th>\n",
              "      <th>casem</th>\n",
              "      <th>bracem</th>\n",
              "      <th>yop</th>\n",
              "      <th>cond</th>\n",
              "      <th>sex</th>\n",
              "      <th>size</th>\n",
              "      <th>condition</th>\n",
              "    </tr>\n",
              "  </thead>\n",
              "  <tbody>\n",
              "    <tr>\n",
              "      <th>count</th>\n",
              "      <td>211906</td>\n",
              "      <td>284085</td>\n",
              "      <td>284360</td>\n",
              "      <td>254025</td>\n",
              "      <td>241339</td>\n",
              "      <td>87806</td>\n",
              "      <td>120220</td>\n",
              "      <td>109595</td>\n",
              "      <td>284357</td>\n",
              "      <td>208504</td>\n",
              "      <td>188686</td>\n",
              "      <td>260894</td>\n",
              "      <td>71569</td>\n",
              "    </tr>\n",
              "    <tr>\n",
              "      <th>unique</th>\n",
              "      <td>148689</td>\n",
              "      <td>36830</td>\n",
              "      <td>28</td>\n",
              "      <td>948</td>\n",
              "      <td>33223</td>\n",
              "      <td>3</td>\n",
              "      <td>17</td>\n",
              "      <td>23</td>\n",
              "      <td>410</td>\n",
              "      <td>7</td>\n",
              "      <td>2</td>\n",
              "      <td>6699</td>\n",
              "      <td>7</td>\n",
              "    </tr>\n",
              "    <tr>\n",
              "      <th>top</th>\n",
              "      <td>Omega Speedmaster Professional Moonwatch\\nCo-A...</td>\n",
              "      <td>Price on request</td>\n",
              "      <td>Rolex</td>\n",
              "      <td>Datejust 36</td>\n",
              "      <td>126334</td>\n",
              "      <td>Automatic</td>\n",
              "      <td>Steel</td>\n",
              "      <td>Steel</td>\n",
              "      <td>Unknown</td>\n",
              "      <td>Very good</td>\n",
              "      <td>Men's watch/Unisex</td>\n",
              "      <td>40 mm</td>\n",
              "      <td>Very good</td>\n",
              "    </tr>\n",
              "    <tr>\n",
              "      <th>freq</th>\n",
              "      <td>171</td>\n",
              "      <td>14259</td>\n",
              "      <td>72484</td>\n",
              "      <td>9473</td>\n",
              "      <td>2081</td>\n",
              "      <td>65600</td>\n",
              "      <td>75793</td>\n",
              "      <td>49605</td>\n",
              "      <td>95957</td>\n",
              "      <td>71604</td>\n",
              "      <td>158841</td>\n",
              "      <td>34254</td>\n",
              "      <td>36136</td>\n",
              "    </tr>\n",
              "  </tbody>\n",
              "</table>\n",
              "</div>\n",
              "    <div class=\"colab-df-buttons\">\n",
              "\n",
              "  <div class=\"colab-df-container\">\n",
              "    <button class=\"colab-df-convert\" onclick=\"convertToInteractive('df-782d7462-8105-4153-a5bf-21ce9625f94e')\"\n",
              "            title=\"Convert this dataframe to an interactive table.\"\n",
              "            style=\"display:none;\">\n",
              "\n",
              "  <svg xmlns=\"http://www.w3.org/2000/svg\" height=\"24px\" viewBox=\"0 -960 960 960\">\n",
              "    <path d=\"M120-120v-720h720v720H120Zm60-500h600v-160H180v160Zm220 220h160v-160H400v160Zm0 220h160v-160H400v160ZM180-400h160v-160H180v160Zm440 0h160v-160H620v160ZM180-180h160v-160H180v160Zm440 0h160v-160H620v160Z\"/>\n",
              "  </svg>\n",
              "    </button>\n",
              "\n",
              "  <style>\n",
              "    .colab-df-container {\n",
              "      display:flex;\n",
              "      gap: 12px;\n",
              "    }\n",
              "\n",
              "    .colab-df-convert {\n",
              "      background-color: #E8F0FE;\n",
              "      border: none;\n",
              "      border-radius: 50%;\n",
              "      cursor: pointer;\n",
              "      display: none;\n",
              "      fill: #1967D2;\n",
              "      height: 32px;\n",
              "      padding: 0 0 0 0;\n",
              "      width: 32px;\n",
              "    }\n",
              "\n",
              "    .colab-df-convert:hover {\n",
              "      background-color: #E2EBFA;\n",
              "      box-shadow: 0px 1px 2px rgba(60, 64, 67, 0.3), 0px 1px 3px 1px rgba(60, 64, 67, 0.15);\n",
              "      fill: #174EA6;\n",
              "    }\n",
              "\n",
              "    .colab-df-buttons div {\n",
              "      margin-bottom: 4px;\n",
              "    }\n",
              "\n",
              "    [theme=dark] .colab-df-convert {\n",
              "      background-color: #3B4455;\n",
              "      fill: #D2E3FC;\n",
              "    }\n",
              "\n",
              "    [theme=dark] .colab-df-convert:hover {\n",
              "      background-color: #434B5C;\n",
              "      box-shadow: 0px 1px 3px 1px rgba(0, 0, 0, 0.15);\n",
              "      filter: drop-shadow(0px 1px 2px rgba(0, 0, 0, 0.3));\n",
              "      fill: #FFFFFF;\n",
              "    }\n",
              "  </style>\n",
              "\n",
              "    <script>\n",
              "      const buttonEl =\n",
              "        document.querySelector('#df-782d7462-8105-4153-a5bf-21ce9625f94e button.colab-df-convert');\n",
              "      buttonEl.style.display =\n",
              "        google.colab.kernel.accessAllowed ? 'block' : 'none';\n",
              "\n",
              "      async function convertToInteractive(key) {\n",
              "        const element = document.querySelector('#df-782d7462-8105-4153-a5bf-21ce9625f94e');\n",
              "        const dataTable =\n",
              "          await google.colab.kernel.invokeFunction('convertToInteractive',\n",
              "                                                    [key], {});\n",
              "        if (!dataTable) return;\n",
              "\n",
              "        const docLinkHtml = 'Like what you see? Visit the ' +\n",
              "          '<a target=\"_blank\" href=https://colab.research.google.com/notebooks/data_table.ipynb>data table notebook</a>'\n",
              "          + ' to learn more about interactive tables.';\n",
              "        element.innerHTML = '';\n",
              "        dataTable['output_type'] = 'display_data';\n",
              "        await google.colab.output.renderOutput(dataTable, element);\n",
              "        const docLink = document.createElement('div');\n",
              "        docLink.innerHTML = docLinkHtml;\n",
              "        element.appendChild(docLink);\n",
              "      }\n",
              "    </script>\n",
              "  </div>\n",
              "\n",
              "\n",
              "<div id=\"df-6db0b2ad-04d7-4723-ab1d-93cb0466738c\">\n",
              "  <button class=\"colab-df-quickchart\" onclick=\"quickchart('df-6db0b2ad-04d7-4723-ab1d-93cb0466738c')\"\n",
              "            title=\"Suggest charts\"\n",
              "            style=\"display:none;\">\n",
              "\n",
              "<svg xmlns=\"http://www.w3.org/2000/svg\" height=\"24px\"viewBox=\"0 0 24 24\"\n",
              "     width=\"24px\">\n",
              "    <g>\n",
              "        <path d=\"M19 3H5c-1.1 0-2 .9-2 2v14c0 1.1.9 2 2 2h14c1.1 0 2-.9 2-2V5c0-1.1-.9-2-2-2zM9 17H7v-7h2v7zm4 0h-2V7h2v10zm4 0h-2v-4h2v4z\"/>\n",
              "    </g>\n",
              "</svg>\n",
              "  </button>\n",
              "\n",
              "<style>\n",
              "  .colab-df-quickchart {\n",
              "      --bg-color: #E8F0FE;\n",
              "      --fill-color: #1967D2;\n",
              "      --hover-bg-color: #E2EBFA;\n",
              "      --hover-fill-color: #174EA6;\n",
              "      --disabled-fill-color: #AAA;\n",
              "      --disabled-bg-color: #DDD;\n",
              "  }\n",
              "\n",
              "  [theme=dark] .colab-df-quickchart {\n",
              "      --bg-color: #3B4455;\n",
              "      --fill-color: #D2E3FC;\n",
              "      --hover-bg-color: #434B5C;\n",
              "      --hover-fill-color: #FFFFFF;\n",
              "      --disabled-bg-color: #3B4455;\n",
              "      --disabled-fill-color: #666;\n",
              "  }\n",
              "\n",
              "  .colab-df-quickchart {\n",
              "    background-color: var(--bg-color);\n",
              "    border: none;\n",
              "    border-radius: 50%;\n",
              "    cursor: pointer;\n",
              "    display: none;\n",
              "    fill: var(--fill-color);\n",
              "    height: 32px;\n",
              "    padding: 0;\n",
              "    width: 32px;\n",
              "  }\n",
              "\n",
              "  .colab-df-quickchart:hover {\n",
              "    background-color: var(--hover-bg-color);\n",
              "    box-shadow: 0 1px 2px rgba(60, 64, 67, 0.3), 0 1px 3px 1px rgba(60, 64, 67, 0.15);\n",
              "    fill: var(--button-hover-fill-color);\n",
              "  }\n",
              "\n",
              "  .colab-df-quickchart-complete:disabled,\n",
              "  .colab-df-quickchart-complete:disabled:hover {\n",
              "    background-color: var(--disabled-bg-color);\n",
              "    fill: var(--disabled-fill-color);\n",
              "    box-shadow: none;\n",
              "  }\n",
              "\n",
              "  .colab-df-spinner {\n",
              "    border: 2px solid var(--fill-color);\n",
              "    border-color: transparent;\n",
              "    border-bottom-color: var(--fill-color);\n",
              "    animation:\n",
              "      spin 1s steps(1) infinite;\n",
              "  }\n",
              "\n",
              "  @keyframes spin {\n",
              "    0% {\n",
              "      border-color: transparent;\n",
              "      border-bottom-color: var(--fill-color);\n",
              "      border-left-color: var(--fill-color);\n",
              "    }\n",
              "    20% {\n",
              "      border-color: transparent;\n",
              "      border-left-color: var(--fill-color);\n",
              "      border-top-color: var(--fill-color);\n",
              "    }\n",
              "    30% {\n",
              "      border-color: transparent;\n",
              "      border-left-color: var(--fill-color);\n",
              "      border-top-color: var(--fill-color);\n",
              "      border-right-color: var(--fill-color);\n",
              "    }\n",
              "    40% {\n",
              "      border-color: transparent;\n",
              "      border-right-color: var(--fill-color);\n",
              "      border-top-color: var(--fill-color);\n",
              "    }\n",
              "    60% {\n",
              "      border-color: transparent;\n",
              "      border-right-color: var(--fill-color);\n",
              "    }\n",
              "    80% {\n",
              "      border-color: transparent;\n",
              "      border-right-color: var(--fill-color);\n",
              "      border-bottom-color: var(--fill-color);\n",
              "    }\n",
              "    90% {\n",
              "      border-color: transparent;\n",
              "      border-bottom-color: var(--fill-color);\n",
              "    }\n",
              "  }\n",
              "</style>\n",
              "\n",
              "  <script>\n",
              "    async function quickchart(key) {\n",
              "      const quickchartButtonEl =\n",
              "        document.querySelector('#' + key + ' button');\n",
              "      quickchartButtonEl.disabled = true;  // To prevent multiple clicks.\n",
              "      quickchartButtonEl.classList.add('colab-df-spinner');\n",
              "      try {\n",
              "        const charts = await google.colab.kernel.invokeFunction(\n",
              "            'suggestCharts', [key], {});\n",
              "      } catch (error) {\n",
              "        console.error('Error during call to suggestCharts:', error);\n",
              "      }\n",
              "      quickchartButtonEl.classList.remove('colab-df-spinner');\n",
              "      quickchartButtonEl.classList.add('colab-df-quickchart-complete');\n",
              "    }\n",
              "    (() => {\n",
              "      let quickchartButtonEl =\n",
              "        document.querySelector('#df-6db0b2ad-04d7-4723-ab1d-93cb0466738c button');\n",
              "      quickchartButtonEl.style.display =\n",
              "        google.colab.kernel.accessAllowed ? 'block' : 'none';\n",
              "    })();\n",
              "  </script>\n",
              "</div>\n",
              "    </div>\n",
              "  </div>\n"
            ]
          },
          "metadata": {},
          "execution_count": 413
        }
      ]
    },
    {
      "cell_type": "code",
      "source": [
        "data['brand'].unique()"
      ],
      "metadata": {
        "colab": {
          "base_uri": "https://localhost:8080/"
        },
        "id": "RIDvGlEOVJRx",
        "outputId": "0a1b4936-60f6-4455-cd66-1de4aa748650"
      },
      "execution_count": 414,
      "outputs": [
        {
          "output_type": "execute_result",
          "data": {
            "text/plain": [
              "array(['Audemars Piguet', 'Cartier', 'Tudor', nan, 'Breitling', 'Oris',\n",
              "       'Richard Mille', 'Hublot', 'IWC', 'Jaeger-LeCoultre', 'Longines',\n",
              "       'Omega', 'Panerai', 'Patek Philippe', 'Rolex', 'Seiko', 'Sinn',\n",
              "       'Edox', 'NOMOS', 'Zenith', 'Tissot', 'Hamilton', 'Meistersinger',\n",
              "       'Rado', 'Montblanc', 'TAG Heuer', 'Ebel', 'A. Lange & Söhne',\n",
              "       'Vacheron Constantin'], dtype=object)"
            ]
          },
          "metadata": {},
          "execution_count": 414
        }
      ]
    },
    {
      "cell_type": "code",
      "source": [
        "data['mvmt'].unique()"
      ],
      "metadata": {
        "colab": {
          "base_uri": "https://localhost:8080/"
        },
        "id": "7SXWy6DYWDCE",
        "outputId": "8812d5d5-9d9c-4973-bf56-6acac4432140"
      },
      "execution_count": 415,
      "outputs": [
        {
          "output_type": "execute_result",
          "data": {
            "text/plain": [
              "array([nan, 'Automatic', 'Manual winding', 'Quartz'], dtype=object)"
            ]
          },
          "metadata": {},
          "execution_count": 415
        }
      ]
    },
    {
      "cell_type": "code",
      "source": [
        "data['casem'].unique()"
      ],
      "metadata": {
        "colab": {
          "base_uri": "https://localhost:8080/"
        },
        "id": "1ePphs61WJUG",
        "outputId": "6853c62f-929d-4a7f-af04-05e23565b541"
      },
      "execution_count": 416,
      "outputs": [
        {
          "output_type": "execute_result",
          "data": {
            "text/plain": [
              "array([nan, 'Steel', 'Titanium', 'White gold', 'Ceramic', 'Rose gold',\n",
              "       'Yellow gold', 'Gold/Steel', 'Platinum', 'Carbon', 'Red gold',\n",
              "       'Tantalum', 'Aluminum', 'Bronze', 'Plastic', 'Silver', 'Palladium',\n",
              "       'Tungsten'], dtype=object)"
            ]
          },
          "metadata": {},
          "execution_count": 416
        }
      ]
    },
    {
      "cell_type": "code",
      "source": [
        "data['bracem'].unique()"
      ],
      "metadata": {
        "colab": {
          "base_uri": "https://localhost:8080/"
        },
        "id": "Njxvg29oWPrT",
        "outputId": "8d6f5805-138b-4eaf-c46f-ec18d9bc12c4"
      },
      "execution_count": 417,
      "outputs": [
        {
          "output_type": "execute_result",
          "data": {
            "text/plain": [
              "array([nan, 'Steel', 'Rubber', 'Crocodile skin', 'White gold', 'Ceramic',\n",
              "       'Rose gold', 'Yellow gold', 'Titanium', 'Calf skin', 'Gold/Steel',\n",
              "       'Leather', 'Platinum', 'Satin', 'Textile', 'Red gold',\n",
              "       'Lizard skin', 'Plastic', 'Aluminium', 'Silicon', 'Shark skin',\n",
              "       'Silver', 'Snake skin', 'Ostrich skin'], dtype=object)"
            ]
          },
          "metadata": {},
          "execution_count": 417
        }
      ]
    },
    {
      "cell_type": "code",
      "source": [
        "data['cond'].unique()"
      ],
      "metadata": {
        "colab": {
          "base_uri": "https://localhost:8080/"
        },
        "id": "NkovVOCEWU_C",
        "outputId": "a4957ed4-a335-4696-df1e-bff181b8fa3e"
      },
      "execution_count": 418,
      "outputs": [
        {
          "output_type": "execute_result",
          "data": {
            "text/plain": [
              "array(['Unworn', 'Very good', 'New', 'Good', 'Fair', nan, 'Poor',\n",
              "       'Incomplete'], dtype=object)"
            ]
          },
          "metadata": {},
          "execution_count": 418
        }
      ]
    },
    {
      "cell_type": "code",
      "source": [
        "data['sex'].unique()"
      ],
      "metadata": {
        "colab": {
          "base_uri": "https://localhost:8080/"
        },
        "id": "chbIS83kWZ4Z",
        "outputId": "cf1a6459-b5d4-4708-f2c0-bd86d6fdddcb"
      },
      "execution_count": 419,
      "outputs": [
        {
          "output_type": "execute_result",
          "data": {
            "text/plain": [
              "array([\"Men's watch/Unisex\", nan, \"Women's watch\"], dtype=object)"
            ]
          },
          "metadata": {},
          "execution_count": 419
        }
      ]
    },
    {
      "cell_type": "code",
      "source": [
        "data['size'].unique()"
      ],
      "metadata": {
        "colab": {
          "base_uri": "https://localhost:8080/"
        },
        "id": "6eqvLNk5WcC5",
        "outputId": "ca1f3581-c107-4faf-cea6-fc6de11d38d3"
      },
      "execution_count": 420,
      "outputs": [
        {
          "output_type": "execute_result",
          "data": {
            "text/plain": [
              "array(['42 mm', '39 mm', '41 mm', ..., '40 x 10.75 mm', '46 x 17 mm',\n",
              "       '48 x 57.5 mm'], dtype=object)"
            ]
          },
          "metadata": {},
          "execution_count": 420
        }
      ]
    },
    {
      "cell_type": "code",
      "source": [
        "data['condition'].unique()"
      ],
      "metadata": {
        "colab": {
          "base_uri": "https://localhost:8080/"
        },
        "id": "UKccZLRJWkKB",
        "outputId": "148c9fe1-8b6e-497b-fba0-401cfe15a87a"
      },
      "execution_count": 421,
      "outputs": [
        {
          "output_type": "execute_result",
          "data": {
            "text/plain": [
              "array([nan, 'Very good', 'Unworn', 'Good', 'Fair', 'New', 'Poor',\n",
              "       'Incomplete'], dtype=object)"
            ]
          },
          "metadata": {},
          "execution_count": 421
        }
      ]
    },
    {
      "cell_type": "markdown",
      "source": [
        "Ищем и удаляем дублирующиеся ячейки"
      ],
      "metadata": {
        "id": "0qprSJ2b8FLJ"
      }
    },
    {
      "cell_type": "code",
      "source": [
        "data.isna().sum()"
      ],
      "metadata": {
        "colab": {
          "base_uri": "https://localhost:8080/"
        },
        "id": "OhV8O0hZp1nv",
        "outputId": "76c5eedb-ac1c-49c2-9935-b3f2e005a60c"
      },
      "execution_count": 422,
      "outputs": [
        {
          "output_type": "execute_result",
          "data": {
            "text/plain": [
              "name          72585\n",
              "price           406\n",
              "brand           131\n",
              "model         30466\n",
              "ref           43152\n",
              "mvmt         196685\n",
              "casem        164271\n",
              "bracem       174896\n",
              "yop             134\n",
              "cond          75987\n",
              "sex           95805\n",
              "size          23597\n",
              "condition    212922\n",
              "dtype: int64"
            ]
          },
          "metadata": {},
          "execution_count": 422
        }
      ]
    },
    {
      "cell_type": "code",
      "source": [
        "data.duplicated().sum()"
      ],
      "metadata": {
        "colab": {
          "base_uri": "https://localhost:8080/"
        },
        "id": "ScD2nY3zqxdH",
        "outputId": "c165c5da-93c6-491d-91bd-cbe072463bb3"
      },
      "execution_count": 423,
      "outputs": [
        {
          "output_type": "execute_result",
          "data": {
            "text/plain": [
              "11398"
            ]
          },
          "metadata": {},
          "execution_count": 423
        }
      ]
    },
    {
      "cell_type": "code",
      "source": [
        "data=data.drop_duplicates()"
      ],
      "metadata": {
        "id": "7ZDD-zHkrLW9"
      },
      "execution_count": 424,
      "outputs": []
    },
    {
      "cell_type": "code",
      "source": [
        "data.describe()"
      ],
      "metadata": {
        "colab": {
          "base_uri": "https://localhost:8080/",
          "height": 175
        },
        "id": "NJDNE-BN3M2n",
        "outputId": "adce8df5-2fcb-4aa0-ff69-9f0aa9cb3f77"
      },
      "execution_count": 425,
      "outputs": [
        {
          "output_type": "execute_result",
          "data": {
            "text/plain": [
              "                                                     name             price  \\\n",
              "count                                              206862            272783   \n",
              "unique                                             148689             36830   \n",
              "top     Omega Speedmaster Professional Moonwatch\\nCo-A...  Price on request   \n",
              "freq                                                  169             11934   \n",
              "\n",
              "         brand        model     ref       mvmt   casem  bracem      yop  \\\n",
              "count   273028       243114  230967      84667  113932  104257   273025   \n",
              "unique      28          948   33223          3      17      23      410   \n",
              "top      Rolex  Datejust 36  126334  Automatic   Steel   Steel  Unknown   \n",
              "freq     66130         8357    1731      63144   72373   47387    91387   \n",
              "\n",
              "             cond                 sex    size  condition  \n",
              "count      203593              184005  250359      65258  \n",
              "unique          7                   2    6699          7  \n",
              "top     Very good  Men's watch/Unisex   40 mm  Very good  \n",
              "freq        71007              155235   32650      33267  "
            ],
            "text/html": [
              "\n",
              "  <div id=\"df-db9ee321-da08-4b70-8337-c24f28cbedf3\" class=\"colab-df-container\">\n",
              "    <div>\n",
              "<style scoped>\n",
              "    .dataframe tbody tr th:only-of-type {\n",
              "        vertical-align: middle;\n",
              "    }\n",
              "\n",
              "    .dataframe tbody tr th {\n",
              "        vertical-align: top;\n",
              "    }\n",
              "\n",
              "    .dataframe thead th {\n",
              "        text-align: right;\n",
              "    }\n",
              "</style>\n",
              "<table border=\"1\" class=\"dataframe\">\n",
              "  <thead>\n",
              "    <tr style=\"text-align: right;\">\n",
              "      <th></th>\n",
              "      <th>name</th>\n",
              "      <th>price</th>\n",
              "      <th>brand</th>\n",
              "      <th>model</th>\n",
              "      <th>ref</th>\n",
              "      <th>mvmt</th>\n",
              "      <th>casem</th>\n",
              "      <th>bracem</th>\n",
              "      <th>yop</th>\n",
              "      <th>cond</th>\n",
              "      <th>sex</th>\n",
              "      <th>size</th>\n",
              "      <th>condition</th>\n",
              "    </tr>\n",
              "  </thead>\n",
              "  <tbody>\n",
              "    <tr>\n",
              "      <th>count</th>\n",
              "      <td>206862</td>\n",
              "      <td>272783</td>\n",
              "      <td>273028</td>\n",
              "      <td>243114</td>\n",
              "      <td>230967</td>\n",
              "      <td>84667</td>\n",
              "      <td>113932</td>\n",
              "      <td>104257</td>\n",
              "      <td>273025</td>\n",
              "      <td>203593</td>\n",
              "      <td>184005</td>\n",
              "      <td>250359</td>\n",
              "      <td>65258</td>\n",
              "    </tr>\n",
              "    <tr>\n",
              "      <th>unique</th>\n",
              "      <td>148689</td>\n",
              "      <td>36830</td>\n",
              "      <td>28</td>\n",
              "      <td>948</td>\n",
              "      <td>33223</td>\n",
              "      <td>3</td>\n",
              "      <td>17</td>\n",
              "      <td>23</td>\n",
              "      <td>410</td>\n",
              "      <td>7</td>\n",
              "      <td>2</td>\n",
              "      <td>6699</td>\n",
              "      <td>7</td>\n",
              "    </tr>\n",
              "    <tr>\n",
              "      <th>top</th>\n",
              "      <td>Omega Speedmaster Professional Moonwatch\\nCo-A...</td>\n",
              "      <td>Price on request</td>\n",
              "      <td>Rolex</td>\n",
              "      <td>Datejust 36</td>\n",
              "      <td>126334</td>\n",
              "      <td>Automatic</td>\n",
              "      <td>Steel</td>\n",
              "      <td>Steel</td>\n",
              "      <td>Unknown</td>\n",
              "      <td>Very good</td>\n",
              "      <td>Men's watch/Unisex</td>\n",
              "      <td>40 mm</td>\n",
              "      <td>Very good</td>\n",
              "    </tr>\n",
              "    <tr>\n",
              "      <th>freq</th>\n",
              "      <td>169</td>\n",
              "      <td>11934</td>\n",
              "      <td>66130</td>\n",
              "      <td>8357</td>\n",
              "      <td>1731</td>\n",
              "      <td>63144</td>\n",
              "      <td>72373</td>\n",
              "      <td>47387</td>\n",
              "      <td>91387</td>\n",
              "      <td>71007</td>\n",
              "      <td>155235</td>\n",
              "      <td>32650</td>\n",
              "      <td>33267</td>\n",
              "    </tr>\n",
              "  </tbody>\n",
              "</table>\n",
              "</div>\n",
              "    <div class=\"colab-df-buttons\">\n",
              "\n",
              "  <div class=\"colab-df-container\">\n",
              "    <button class=\"colab-df-convert\" onclick=\"convertToInteractive('df-db9ee321-da08-4b70-8337-c24f28cbedf3')\"\n",
              "            title=\"Convert this dataframe to an interactive table.\"\n",
              "            style=\"display:none;\">\n",
              "\n",
              "  <svg xmlns=\"http://www.w3.org/2000/svg\" height=\"24px\" viewBox=\"0 -960 960 960\">\n",
              "    <path d=\"M120-120v-720h720v720H120Zm60-500h600v-160H180v160Zm220 220h160v-160H400v160Zm0 220h160v-160H400v160ZM180-400h160v-160H180v160Zm440 0h160v-160H620v160ZM180-180h160v-160H180v160Zm440 0h160v-160H620v160Z\"/>\n",
              "  </svg>\n",
              "    </button>\n",
              "\n",
              "  <style>\n",
              "    .colab-df-container {\n",
              "      display:flex;\n",
              "      gap: 12px;\n",
              "    }\n",
              "\n",
              "    .colab-df-convert {\n",
              "      background-color: #E8F0FE;\n",
              "      border: none;\n",
              "      border-radius: 50%;\n",
              "      cursor: pointer;\n",
              "      display: none;\n",
              "      fill: #1967D2;\n",
              "      height: 32px;\n",
              "      padding: 0 0 0 0;\n",
              "      width: 32px;\n",
              "    }\n",
              "\n",
              "    .colab-df-convert:hover {\n",
              "      background-color: #E2EBFA;\n",
              "      box-shadow: 0px 1px 2px rgba(60, 64, 67, 0.3), 0px 1px 3px 1px rgba(60, 64, 67, 0.15);\n",
              "      fill: #174EA6;\n",
              "    }\n",
              "\n",
              "    .colab-df-buttons div {\n",
              "      margin-bottom: 4px;\n",
              "    }\n",
              "\n",
              "    [theme=dark] .colab-df-convert {\n",
              "      background-color: #3B4455;\n",
              "      fill: #D2E3FC;\n",
              "    }\n",
              "\n",
              "    [theme=dark] .colab-df-convert:hover {\n",
              "      background-color: #434B5C;\n",
              "      box-shadow: 0px 1px 3px 1px rgba(0, 0, 0, 0.15);\n",
              "      filter: drop-shadow(0px 1px 2px rgba(0, 0, 0, 0.3));\n",
              "      fill: #FFFFFF;\n",
              "    }\n",
              "  </style>\n",
              "\n",
              "    <script>\n",
              "      const buttonEl =\n",
              "        document.querySelector('#df-db9ee321-da08-4b70-8337-c24f28cbedf3 button.colab-df-convert');\n",
              "      buttonEl.style.display =\n",
              "        google.colab.kernel.accessAllowed ? 'block' : 'none';\n",
              "\n",
              "      async function convertToInteractive(key) {\n",
              "        const element = document.querySelector('#df-db9ee321-da08-4b70-8337-c24f28cbedf3');\n",
              "        const dataTable =\n",
              "          await google.colab.kernel.invokeFunction('convertToInteractive',\n",
              "                                                    [key], {});\n",
              "        if (!dataTable) return;\n",
              "\n",
              "        const docLinkHtml = 'Like what you see? Visit the ' +\n",
              "          '<a target=\"_blank\" href=https://colab.research.google.com/notebooks/data_table.ipynb>data table notebook</a>'\n",
              "          + ' to learn more about interactive tables.';\n",
              "        element.innerHTML = '';\n",
              "        dataTable['output_type'] = 'display_data';\n",
              "        await google.colab.output.renderOutput(dataTable, element);\n",
              "        const docLink = document.createElement('div');\n",
              "        docLink.innerHTML = docLinkHtml;\n",
              "        element.appendChild(docLink);\n",
              "      }\n",
              "    </script>\n",
              "  </div>\n",
              "\n",
              "\n",
              "<div id=\"df-3d0e33e1-907f-41fd-94a9-3a871294f087\">\n",
              "  <button class=\"colab-df-quickchart\" onclick=\"quickchart('df-3d0e33e1-907f-41fd-94a9-3a871294f087')\"\n",
              "            title=\"Suggest charts\"\n",
              "            style=\"display:none;\">\n",
              "\n",
              "<svg xmlns=\"http://www.w3.org/2000/svg\" height=\"24px\"viewBox=\"0 0 24 24\"\n",
              "     width=\"24px\">\n",
              "    <g>\n",
              "        <path d=\"M19 3H5c-1.1 0-2 .9-2 2v14c0 1.1.9 2 2 2h14c1.1 0 2-.9 2-2V5c0-1.1-.9-2-2-2zM9 17H7v-7h2v7zm4 0h-2V7h2v10zm4 0h-2v-4h2v4z\"/>\n",
              "    </g>\n",
              "</svg>\n",
              "  </button>\n",
              "\n",
              "<style>\n",
              "  .colab-df-quickchart {\n",
              "      --bg-color: #E8F0FE;\n",
              "      --fill-color: #1967D2;\n",
              "      --hover-bg-color: #E2EBFA;\n",
              "      --hover-fill-color: #174EA6;\n",
              "      --disabled-fill-color: #AAA;\n",
              "      --disabled-bg-color: #DDD;\n",
              "  }\n",
              "\n",
              "  [theme=dark] .colab-df-quickchart {\n",
              "      --bg-color: #3B4455;\n",
              "      --fill-color: #D2E3FC;\n",
              "      --hover-bg-color: #434B5C;\n",
              "      --hover-fill-color: #FFFFFF;\n",
              "      --disabled-bg-color: #3B4455;\n",
              "      --disabled-fill-color: #666;\n",
              "  }\n",
              "\n",
              "  .colab-df-quickchart {\n",
              "    background-color: var(--bg-color);\n",
              "    border: none;\n",
              "    border-radius: 50%;\n",
              "    cursor: pointer;\n",
              "    display: none;\n",
              "    fill: var(--fill-color);\n",
              "    height: 32px;\n",
              "    padding: 0;\n",
              "    width: 32px;\n",
              "  }\n",
              "\n",
              "  .colab-df-quickchart:hover {\n",
              "    background-color: var(--hover-bg-color);\n",
              "    box-shadow: 0 1px 2px rgba(60, 64, 67, 0.3), 0 1px 3px 1px rgba(60, 64, 67, 0.15);\n",
              "    fill: var(--button-hover-fill-color);\n",
              "  }\n",
              "\n",
              "  .colab-df-quickchart-complete:disabled,\n",
              "  .colab-df-quickchart-complete:disabled:hover {\n",
              "    background-color: var(--disabled-bg-color);\n",
              "    fill: var(--disabled-fill-color);\n",
              "    box-shadow: none;\n",
              "  }\n",
              "\n",
              "  .colab-df-spinner {\n",
              "    border: 2px solid var(--fill-color);\n",
              "    border-color: transparent;\n",
              "    border-bottom-color: var(--fill-color);\n",
              "    animation:\n",
              "      spin 1s steps(1) infinite;\n",
              "  }\n",
              "\n",
              "  @keyframes spin {\n",
              "    0% {\n",
              "      border-color: transparent;\n",
              "      border-bottom-color: var(--fill-color);\n",
              "      border-left-color: var(--fill-color);\n",
              "    }\n",
              "    20% {\n",
              "      border-color: transparent;\n",
              "      border-left-color: var(--fill-color);\n",
              "      border-top-color: var(--fill-color);\n",
              "    }\n",
              "    30% {\n",
              "      border-color: transparent;\n",
              "      border-left-color: var(--fill-color);\n",
              "      border-top-color: var(--fill-color);\n",
              "      border-right-color: var(--fill-color);\n",
              "    }\n",
              "    40% {\n",
              "      border-color: transparent;\n",
              "      border-right-color: var(--fill-color);\n",
              "      border-top-color: var(--fill-color);\n",
              "    }\n",
              "    60% {\n",
              "      border-color: transparent;\n",
              "      border-right-color: var(--fill-color);\n",
              "    }\n",
              "    80% {\n",
              "      border-color: transparent;\n",
              "      border-right-color: var(--fill-color);\n",
              "      border-bottom-color: var(--fill-color);\n",
              "    }\n",
              "    90% {\n",
              "      border-color: transparent;\n",
              "      border-bottom-color: var(--fill-color);\n",
              "    }\n",
              "  }\n",
              "</style>\n",
              "\n",
              "  <script>\n",
              "    async function quickchart(key) {\n",
              "      const quickchartButtonEl =\n",
              "        document.querySelector('#' + key + ' button');\n",
              "      quickchartButtonEl.disabled = true;  // To prevent multiple clicks.\n",
              "      quickchartButtonEl.classList.add('colab-df-spinner');\n",
              "      try {\n",
              "        const charts = await google.colab.kernel.invokeFunction(\n",
              "            'suggestCharts', [key], {});\n",
              "      } catch (error) {\n",
              "        console.error('Error during call to suggestCharts:', error);\n",
              "      }\n",
              "      quickchartButtonEl.classList.remove('colab-df-spinner');\n",
              "      quickchartButtonEl.classList.add('colab-df-quickchart-complete');\n",
              "    }\n",
              "    (() => {\n",
              "      let quickchartButtonEl =\n",
              "        document.querySelector('#df-3d0e33e1-907f-41fd-94a9-3a871294f087 button');\n",
              "      quickchartButtonEl.style.display =\n",
              "        google.colab.kernel.accessAllowed ? 'block' : 'none';\n",
              "    })();\n",
              "  </script>\n",
              "</div>\n",
              "    </div>\n",
              "  </div>\n"
            ]
          },
          "metadata": {},
          "execution_count": 425
        }
      ]
    },
    {
      "cell_type": "code",
      "source": [
        "data['condition'].notna().sum()+data['cond'].notna().sum()"
      ],
      "metadata": {
        "colab": {
          "base_uri": "https://localhost:8080/"
        },
        "id": "u6hMo9ZQ3YEe",
        "outputId": "1e596d7e-c3c9-40ac-b99c-a07af8cdf3a0"
      },
      "execution_count": 426,
      "outputs": [
        {
          "output_type": "execute_result",
          "data": {
            "text/plain": [
              "268851"
            ]
          },
          "metadata": {},
          "execution_count": 426
        }
      ]
    },
    {
      "cell_type": "markdown",
      "source": [
        "Идентифицированные проблемы датасета:\n",
        "\n",
        "*   Колонки 'cond' and 'condition'. Есть основания полагать, что по какой-то причине значения \"состояния\" разбиты на две колонки, которые необходимо объединить вручную.\n",
        "*   Цена 'price' в текстовом формате\n",
        "*   Лишняя информация в столбце 'size'\n",
        "*   Столбец с годом производства 'yop' требует дополнительной проверки\n",
        "\n",
        "\n",
        "\n",
        "\n",
        "\n"
      ],
      "metadata": {
        "id": "4wf-HHzIVsp8"
      }
    },
    {
      "cell_type": "markdown",
      "source": [
        "1. Исправляем проблему с cond и condition\n"
      ],
      "metadata": {
        "id": "iDkKrAyCOq2i"
      }
    },
    {
      "cell_type": "code",
      "source": [
        "data['cond'] = data['cond'].fillna('')\n",
        "data['condition'] = data['condition'].fillna('')\n",
        "data['condition_summed']=data['cond'].astype(str)+data['condition'].astype(str)"
      ],
      "metadata": {
        "id": "3gYGMCVqAyLb"
      },
      "execution_count": 427,
      "outputs": []
    },
    {
      "cell_type": "code",
      "source": [
        "data.describe()"
      ],
      "metadata": {
        "colab": {
          "base_uri": "https://localhost:8080/",
          "height": 175
        },
        "id": "CYahFk-1eBxt",
        "outputId": "23ce4ecc-6f18-4f29-b1ed-b14217377dcc"
      },
      "execution_count": 428,
      "outputs": [
        {
          "output_type": "execute_result",
          "data": {
            "text/plain": [
              "                                                     name             price  \\\n",
              "count                                              206862            272783   \n",
              "unique                                             148689             36830   \n",
              "top     Omega Speedmaster Professional Moonwatch\\nCo-A...  Price on request   \n",
              "freq                                                  169             11934   \n",
              "\n",
              "         brand        model     ref       mvmt   casem  bracem      yop  \\\n",
              "count   273028       243114  230967      84667  113932  104257   273025   \n",
              "unique      28          948   33223          3      17      23      410   \n",
              "top      Rolex  Datejust 36  126334  Automatic   Steel   Steel  Unknown   \n",
              "freq     66130         8357    1731      63144   72373   47387    91387   \n",
              "\n",
              "             cond                 sex    size condition condition_summed  \n",
              "count      273093              184005  250359    273093           273093  \n",
              "unique          8                   2    6699         8                8  \n",
              "top     Very good  Men's watch/Unisex   40 mm                  Very good  \n",
              "freq        71007              155235   32650    207835           104274  "
            ],
            "text/html": [
              "\n",
              "  <div id=\"df-244fa941-974b-4a3d-9543-c1ef76c9bb6e\" class=\"colab-df-container\">\n",
              "    <div>\n",
              "<style scoped>\n",
              "    .dataframe tbody tr th:only-of-type {\n",
              "        vertical-align: middle;\n",
              "    }\n",
              "\n",
              "    .dataframe tbody tr th {\n",
              "        vertical-align: top;\n",
              "    }\n",
              "\n",
              "    .dataframe thead th {\n",
              "        text-align: right;\n",
              "    }\n",
              "</style>\n",
              "<table border=\"1\" class=\"dataframe\">\n",
              "  <thead>\n",
              "    <tr style=\"text-align: right;\">\n",
              "      <th></th>\n",
              "      <th>name</th>\n",
              "      <th>price</th>\n",
              "      <th>brand</th>\n",
              "      <th>model</th>\n",
              "      <th>ref</th>\n",
              "      <th>mvmt</th>\n",
              "      <th>casem</th>\n",
              "      <th>bracem</th>\n",
              "      <th>yop</th>\n",
              "      <th>cond</th>\n",
              "      <th>sex</th>\n",
              "      <th>size</th>\n",
              "      <th>condition</th>\n",
              "      <th>condition_summed</th>\n",
              "    </tr>\n",
              "  </thead>\n",
              "  <tbody>\n",
              "    <tr>\n",
              "      <th>count</th>\n",
              "      <td>206862</td>\n",
              "      <td>272783</td>\n",
              "      <td>273028</td>\n",
              "      <td>243114</td>\n",
              "      <td>230967</td>\n",
              "      <td>84667</td>\n",
              "      <td>113932</td>\n",
              "      <td>104257</td>\n",
              "      <td>273025</td>\n",
              "      <td>273093</td>\n",
              "      <td>184005</td>\n",
              "      <td>250359</td>\n",
              "      <td>273093</td>\n",
              "      <td>273093</td>\n",
              "    </tr>\n",
              "    <tr>\n",
              "      <th>unique</th>\n",
              "      <td>148689</td>\n",
              "      <td>36830</td>\n",
              "      <td>28</td>\n",
              "      <td>948</td>\n",
              "      <td>33223</td>\n",
              "      <td>3</td>\n",
              "      <td>17</td>\n",
              "      <td>23</td>\n",
              "      <td>410</td>\n",
              "      <td>8</td>\n",
              "      <td>2</td>\n",
              "      <td>6699</td>\n",
              "      <td>8</td>\n",
              "      <td>8</td>\n",
              "    </tr>\n",
              "    <tr>\n",
              "      <th>top</th>\n",
              "      <td>Omega Speedmaster Professional Moonwatch\\nCo-A...</td>\n",
              "      <td>Price on request</td>\n",
              "      <td>Rolex</td>\n",
              "      <td>Datejust 36</td>\n",
              "      <td>126334</td>\n",
              "      <td>Automatic</td>\n",
              "      <td>Steel</td>\n",
              "      <td>Steel</td>\n",
              "      <td>Unknown</td>\n",
              "      <td>Very good</td>\n",
              "      <td>Men's watch/Unisex</td>\n",
              "      <td>40 mm</td>\n",
              "      <td></td>\n",
              "      <td>Very good</td>\n",
              "    </tr>\n",
              "    <tr>\n",
              "      <th>freq</th>\n",
              "      <td>169</td>\n",
              "      <td>11934</td>\n",
              "      <td>66130</td>\n",
              "      <td>8357</td>\n",
              "      <td>1731</td>\n",
              "      <td>63144</td>\n",
              "      <td>72373</td>\n",
              "      <td>47387</td>\n",
              "      <td>91387</td>\n",
              "      <td>71007</td>\n",
              "      <td>155235</td>\n",
              "      <td>32650</td>\n",
              "      <td>207835</td>\n",
              "      <td>104274</td>\n",
              "    </tr>\n",
              "  </tbody>\n",
              "</table>\n",
              "</div>\n",
              "    <div class=\"colab-df-buttons\">\n",
              "\n",
              "  <div class=\"colab-df-container\">\n",
              "    <button class=\"colab-df-convert\" onclick=\"convertToInteractive('df-244fa941-974b-4a3d-9543-c1ef76c9bb6e')\"\n",
              "            title=\"Convert this dataframe to an interactive table.\"\n",
              "            style=\"display:none;\">\n",
              "\n",
              "  <svg xmlns=\"http://www.w3.org/2000/svg\" height=\"24px\" viewBox=\"0 -960 960 960\">\n",
              "    <path d=\"M120-120v-720h720v720H120Zm60-500h600v-160H180v160Zm220 220h160v-160H400v160Zm0 220h160v-160H400v160ZM180-400h160v-160H180v160Zm440 0h160v-160H620v160ZM180-180h160v-160H180v160Zm440 0h160v-160H620v160Z\"/>\n",
              "  </svg>\n",
              "    </button>\n",
              "\n",
              "  <style>\n",
              "    .colab-df-container {\n",
              "      display:flex;\n",
              "      gap: 12px;\n",
              "    }\n",
              "\n",
              "    .colab-df-convert {\n",
              "      background-color: #E8F0FE;\n",
              "      border: none;\n",
              "      border-radius: 50%;\n",
              "      cursor: pointer;\n",
              "      display: none;\n",
              "      fill: #1967D2;\n",
              "      height: 32px;\n",
              "      padding: 0 0 0 0;\n",
              "      width: 32px;\n",
              "    }\n",
              "\n",
              "    .colab-df-convert:hover {\n",
              "      background-color: #E2EBFA;\n",
              "      box-shadow: 0px 1px 2px rgba(60, 64, 67, 0.3), 0px 1px 3px 1px rgba(60, 64, 67, 0.15);\n",
              "      fill: #174EA6;\n",
              "    }\n",
              "\n",
              "    .colab-df-buttons div {\n",
              "      margin-bottom: 4px;\n",
              "    }\n",
              "\n",
              "    [theme=dark] .colab-df-convert {\n",
              "      background-color: #3B4455;\n",
              "      fill: #D2E3FC;\n",
              "    }\n",
              "\n",
              "    [theme=dark] .colab-df-convert:hover {\n",
              "      background-color: #434B5C;\n",
              "      box-shadow: 0px 1px 3px 1px rgba(0, 0, 0, 0.15);\n",
              "      filter: drop-shadow(0px 1px 2px rgba(0, 0, 0, 0.3));\n",
              "      fill: #FFFFFF;\n",
              "    }\n",
              "  </style>\n",
              "\n",
              "    <script>\n",
              "      const buttonEl =\n",
              "        document.querySelector('#df-244fa941-974b-4a3d-9543-c1ef76c9bb6e button.colab-df-convert');\n",
              "      buttonEl.style.display =\n",
              "        google.colab.kernel.accessAllowed ? 'block' : 'none';\n",
              "\n",
              "      async function convertToInteractive(key) {\n",
              "        const element = document.querySelector('#df-244fa941-974b-4a3d-9543-c1ef76c9bb6e');\n",
              "        const dataTable =\n",
              "          await google.colab.kernel.invokeFunction('convertToInteractive',\n",
              "                                                    [key], {});\n",
              "        if (!dataTable) return;\n",
              "\n",
              "        const docLinkHtml = 'Like what you see? Visit the ' +\n",
              "          '<a target=\"_blank\" href=https://colab.research.google.com/notebooks/data_table.ipynb>data table notebook</a>'\n",
              "          + ' to learn more about interactive tables.';\n",
              "        element.innerHTML = '';\n",
              "        dataTable['output_type'] = 'display_data';\n",
              "        await google.colab.output.renderOutput(dataTable, element);\n",
              "        const docLink = document.createElement('div');\n",
              "        docLink.innerHTML = docLinkHtml;\n",
              "        element.appendChild(docLink);\n",
              "      }\n",
              "    </script>\n",
              "  </div>\n",
              "\n",
              "\n",
              "<div id=\"df-a73fc29c-42bc-42de-ad82-aaaa4b00c046\">\n",
              "  <button class=\"colab-df-quickchart\" onclick=\"quickchart('df-a73fc29c-42bc-42de-ad82-aaaa4b00c046')\"\n",
              "            title=\"Suggest charts\"\n",
              "            style=\"display:none;\">\n",
              "\n",
              "<svg xmlns=\"http://www.w3.org/2000/svg\" height=\"24px\"viewBox=\"0 0 24 24\"\n",
              "     width=\"24px\">\n",
              "    <g>\n",
              "        <path d=\"M19 3H5c-1.1 0-2 .9-2 2v14c0 1.1.9 2 2 2h14c1.1 0 2-.9 2-2V5c0-1.1-.9-2-2-2zM9 17H7v-7h2v7zm4 0h-2V7h2v10zm4 0h-2v-4h2v4z\"/>\n",
              "    </g>\n",
              "</svg>\n",
              "  </button>\n",
              "\n",
              "<style>\n",
              "  .colab-df-quickchart {\n",
              "      --bg-color: #E8F0FE;\n",
              "      --fill-color: #1967D2;\n",
              "      --hover-bg-color: #E2EBFA;\n",
              "      --hover-fill-color: #174EA6;\n",
              "      --disabled-fill-color: #AAA;\n",
              "      --disabled-bg-color: #DDD;\n",
              "  }\n",
              "\n",
              "  [theme=dark] .colab-df-quickchart {\n",
              "      --bg-color: #3B4455;\n",
              "      --fill-color: #D2E3FC;\n",
              "      --hover-bg-color: #434B5C;\n",
              "      --hover-fill-color: #FFFFFF;\n",
              "      --disabled-bg-color: #3B4455;\n",
              "      --disabled-fill-color: #666;\n",
              "  }\n",
              "\n",
              "  .colab-df-quickchart {\n",
              "    background-color: var(--bg-color);\n",
              "    border: none;\n",
              "    border-radius: 50%;\n",
              "    cursor: pointer;\n",
              "    display: none;\n",
              "    fill: var(--fill-color);\n",
              "    height: 32px;\n",
              "    padding: 0;\n",
              "    width: 32px;\n",
              "  }\n",
              "\n",
              "  .colab-df-quickchart:hover {\n",
              "    background-color: var(--hover-bg-color);\n",
              "    box-shadow: 0 1px 2px rgba(60, 64, 67, 0.3), 0 1px 3px 1px rgba(60, 64, 67, 0.15);\n",
              "    fill: var(--button-hover-fill-color);\n",
              "  }\n",
              "\n",
              "  .colab-df-quickchart-complete:disabled,\n",
              "  .colab-df-quickchart-complete:disabled:hover {\n",
              "    background-color: var(--disabled-bg-color);\n",
              "    fill: var(--disabled-fill-color);\n",
              "    box-shadow: none;\n",
              "  }\n",
              "\n",
              "  .colab-df-spinner {\n",
              "    border: 2px solid var(--fill-color);\n",
              "    border-color: transparent;\n",
              "    border-bottom-color: var(--fill-color);\n",
              "    animation:\n",
              "      spin 1s steps(1) infinite;\n",
              "  }\n",
              "\n",
              "  @keyframes spin {\n",
              "    0% {\n",
              "      border-color: transparent;\n",
              "      border-bottom-color: var(--fill-color);\n",
              "      border-left-color: var(--fill-color);\n",
              "    }\n",
              "    20% {\n",
              "      border-color: transparent;\n",
              "      border-left-color: var(--fill-color);\n",
              "      border-top-color: var(--fill-color);\n",
              "    }\n",
              "    30% {\n",
              "      border-color: transparent;\n",
              "      border-left-color: var(--fill-color);\n",
              "      border-top-color: var(--fill-color);\n",
              "      border-right-color: var(--fill-color);\n",
              "    }\n",
              "    40% {\n",
              "      border-color: transparent;\n",
              "      border-right-color: var(--fill-color);\n",
              "      border-top-color: var(--fill-color);\n",
              "    }\n",
              "    60% {\n",
              "      border-color: transparent;\n",
              "      border-right-color: var(--fill-color);\n",
              "    }\n",
              "    80% {\n",
              "      border-color: transparent;\n",
              "      border-right-color: var(--fill-color);\n",
              "      border-bottom-color: var(--fill-color);\n",
              "    }\n",
              "    90% {\n",
              "      border-color: transparent;\n",
              "      border-bottom-color: var(--fill-color);\n",
              "    }\n",
              "  }\n",
              "</style>\n",
              "\n",
              "  <script>\n",
              "    async function quickchart(key) {\n",
              "      const quickchartButtonEl =\n",
              "        document.querySelector('#' + key + ' button');\n",
              "      quickchartButtonEl.disabled = true;  // To prevent multiple clicks.\n",
              "      quickchartButtonEl.classList.add('colab-df-spinner');\n",
              "      try {\n",
              "        const charts = await google.colab.kernel.invokeFunction(\n",
              "            'suggestCharts', [key], {});\n",
              "      } catch (error) {\n",
              "        console.error('Error during call to suggestCharts:', error);\n",
              "      }\n",
              "      quickchartButtonEl.classList.remove('colab-df-spinner');\n",
              "      quickchartButtonEl.classList.add('colab-df-quickchart-complete');\n",
              "    }\n",
              "    (() => {\n",
              "      let quickchartButtonEl =\n",
              "        document.querySelector('#df-a73fc29c-42bc-42de-ad82-aaaa4b00c046 button');\n",
              "      quickchartButtonEl.style.display =\n",
              "        google.colab.kernel.accessAllowed ? 'block' : 'none';\n",
              "    })();\n",
              "  </script>\n",
              "</div>\n",
              "    </div>\n",
              "  </div>\n"
            ]
          },
          "metadata": {},
          "execution_count": 428
        }
      ]
    },
    {
      "cell_type": "code",
      "source": [
        "data['cond'].replace('', np.nan, inplace=True)\n",
        "data['condition'].replace('', np.nan, inplace=True)\n",
        "data['condition_summed'].replace('', np.nan, inplace=True)"
      ],
      "metadata": {
        "id": "jKc40ByaMOG5"
      },
      "execution_count": 429,
      "outputs": []
    },
    {
      "cell_type": "code",
      "source": [
        "data.condition.value_counts()"
      ],
      "metadata": {
        "colab": {
          "base_uri": "https://localhost:8080/"
        },
        "id": "i5m1LsgWiGXB",
        "outputId": "5fa55956-8ecd-41a2-fcfa-5e8c0f3da0ef"
      },
      "execution_count": 430,
      "outputs": [
        {
          "output_type": "execute_result",
          "data": {
            "text/plain": [
              "Very good     33267\n",
              "Unworn        12453\n",
              "New           10186\n",
              "Good           8004\n",
              "Fair           1300\n",
              "Poor             45\n",
              "Incomplete        3\n",
              "Name: condition, dtype: int64"
            ]
          },
          "metadata": {},
          "execution_count": 430
        }
      ]
    },
    {
      "cell_type": "code",
      "source": [
        "data.cond.value_counts()"
      ],
      "metadata": {
        "colab": {
          "base_uri": "https://localhost:8080/"
        },
        "id": "qOkywbR4iqGS",
        "outputId": "c639c9e8-54a8-4337-d6ad-a2bf2d8ef564"
      },
      "execution_count": 431,
      "outputs": [
        {
          "output_type": "execute_result",
          "data": {
            "text/plain": [
              "Very good     71007\n",
              "New           65565\n",
              "Unworn        32182\n",
              "Good          27203\n",
              "Fair           7446\n",
              "Poor            148\n",
              "Incomplete       42\n",
              "Name: cond, dtype: int64"
            ]
          },
          "metadata": {},
          "execution_count": 431
        }
      ]
    },
    {
      "cell_type": "code",
      "source": [
        "data.condition_summed.value_counts().sum()"
      ],
      "metadata": {
        "colab": {
          "base_uri": "https://localhost:8080/"
        },
        "id": "HvToh-gKit9-",
        "outputId": "2008da8c-74a8-43d9-ed11-aa998189b696"
      },
      "execution_count": 432,
      "outputs": [
        {
          "output_type": "execute_result",
          "data": {
            "text/plain": [
              "268851"
            ]
          },
          "metadata": {},
          "execution_count": 432
        }
      ]
    },
    {
      "cell_type": "markdown",
      "source": [
        "Число значений в модифицированном столбце совпало с расчетным. Теперь можно убрать столбцы cond и condition"
      ],
      "metadata": {
        "id": "aBrC-HreMlDm"
      }
    },
    {
      "cell_type": "code",
      "source": [
        "data=data.drop(columns=['cond', 'condition'])\n",
        "data.describe()"
      ],
      "metadata": {
        "colab": {
          "base_uri": "https://localhost:8080/",
          "height": 175
        },
        "id": "1LB88B07MjoM",
        "outputId": "86f78ed9-85e3-45ef-bf15-d1444bc39ad7"
      },
      "execution_count": 433,
      "outputs": [
        {
          "output_type": "execute_result",
          "data": {
            "text/plain": [
              "                                                     name             price  \\\n",
              "count                                              206862            272783   \n",
              "unique                                             148689             36830   \n",
              "top     Omega Speedmaster Professional Moonwatch\\nCo-A...  Price on request   \n",
              "freq                                                  169             11934   \n",
              "\n",
              "         brand        model     ref       mvmt   casem  bracem      yop  \\\n",
              "count   273028       243114  230967      84667  113932  104257   273025   \n",
              "unique      28          948   33223          3      17      23      410   \n",
              "top      Rolex  Datejust 36  126334  Automatic   Steel   Steel  Unknown   \n",
              "freq     66130         8357    1731      63144   72373   47387    91387   \n",
              "\n",
              "                       sex    size condition_summed  \n",
              "count               184005  250359           268851  \n",
              "unique                   2    6699                7  \n",
              "top     Men's watch/Unisex   40 mm        Very good  \n",
              "freq                155235   32650           104274  "
            ],
            "text/html": [
              "\n",
              "  <div id=\"df-cff83bc7-9c28-4187-80e1-53efe44368b9\" class=\"colab-df-container\">\n",
              "    <div>\n",
              "<style scoped>\n",
              "    .dataframe tbody tr th:only-of-type {\n",
              "        vertical-align: middle;\n",
              "    }\n",
              "\n",
              "    .dataframe tbody tr th {\n",
              "        vertical-align: top;\n",
              "    }\n",
              "\n",
              "    .dataframe thead th {\n",
              "        text-align: right;\n",
              "    }\n",
              "</style>\n",
              "<table border=\"1\" class=\"dataframe\">\n",
              "  <thead>\n",
              "    <tr style=\"text-align: right;\">\n",
              "      <th></th>\n",
              "      <th>name</th>\n",
              "      <th>price</th>\n",
              "      <th>brand</th>\n",
              "      <th>model</th>\n",
              "      <th>ref</th>\n",
              "      <th>mvmt</th>\n",
              "      <th>casem</th>\n",
              "      <th>bracem</th>\n",
              "      <th>yop</th>\n",
              "      <th>sex</th>\n",
              "      <th>size</th>\n",
              "      <th>condition_summed</th>\n",
              "    </tr>\n",
              "  </thead>\n",
              "  <tbody>\n",
              "    <tr>\n",
              "      <th>count</th>\n",
              "      <td>206862</td>\n",
              "      <td>272783</td>\n",
              "      <td>273028</td>\n",
              "      <td>243114</td>\n",
              "      <td>230967</td>\n",
              "      <td>84667</td>\n",
              "      <td>113932</td>\n",
              "      <td>104257</td>\n",
              "      <td>273025</td>\n",
              "      <td>184005</td>\n",
              "      <td>250359</td>\n",
              "      <td>268851</td>\n",
              "    </tr>\n",
              "    <tr>\n",
              "      <th>unique</th>\n",
              "      <td>148689</td>\n",
              "      <td>36830</td>\n",
              "      <td>28</td>\n",
              "      <td>948</td>\n",
              "      <td>33223</td>\n",
              "      <td>3</td>\n",
              "      <td>17</td>\n",
              "      <td>23</td>\n",
              "      <td>410</td>\n",
              "      <td>2</td>\n",
              "      <td>6699</td>\n",
              "      <td>7</td>\n",
              "    </tr>\n",
              "    <tr>\n",
              "      <th>top</th>\n",
              "      <td>Omega Speedmaster Professional Moonwatch\\nCo-A...</td>\n",
              "      <td>Price on request</td>\n",
              "      <td>Rolex</td>\n",
              "      <td>Datejust 36</td>\n",
              "      <td>126334</td>\n",
              "      <td>Automatic</td>\n",
              "      <td>Steel</td>\n",
              "      <td>Steel</td>\n",
              "      <td>Unknown</td>\n",
              "      <td>Men's watch/Unisex</td>\n",
              "      <td>40 mm</td>\n",
              "      <td>Very good</td>\n",
              "    </tr>\n",
              "    <tr>\n",
              "      <th>freq</th>\n",
              "      <td>169</td>\n",
              "      <td>11934</td>\n",
              "      <td>66130</td>\n",
              "      <td>8357</td>\n",
              "      <td>1731</td>\n",
              "      <td>63144</td>\n",
              "      <td>72373</td>\n",
              "      <td>47387</td>\n",
              "      <td>91387</td>\n",
              "      <td>155235</td>\n",
              "      <td>32650</td>\n",
              "      <td>104274</td>\n",
              "    </tr>\n",
              "  </tbody>\n",
              "</table>\n",
              "</div>\n",
              "    <div class=\"colab-df-buttons\">\n",
              "\n",
              "  <div class=\"colab-df-container\">\n",
              "    <button class=\"colab-df-convert\" onclick=\"convertToInteractive('df-cff83bc7-9c28-4187-80e1-53efe44368b9')\"\n",
              "            title=\"Convert this dataframe to an interactive table.\"\n",
              "            style=\"display:none;\">\n",
              "\n",
              "  <svg xmlns=\"http://www.w3.org/2000/svg\" height=\"24px\" viewBox=\"0 -960 960 960\">\n",
              "    <path d=\"M120-120v-720h720v720H120Zm60-500h600v-160H180v160Zm220 220h160v-160H400v160Zm0 220h160v-160H400v160ZM180-400h160v-160H180v160Zm440 0h160v-160H620v160ZM180-180h160v-160H180v160Zm440 0h160v-160H620v160Z\"/>\n",
              "  </svg>\n",
              "    </button>\n",
              "\n",
              "  <style>\n",
              "    .colab-df-container {\n",
              "      display:flex;\n",
              "      gap: 12px;\n",
              "    }\n",
              "\n",
              "    .colab-df-convert {\n",
              "      background-color: #E8F0FE;\n",
              "      border: none;\n",
              "      border-radius: 50%;\n",
              "      cursor: pointer;\n",
              "      display: none;\n",
              "      fill: #1967D2;\n",
              "      height: 32px;\n",
              "      padding: 0 0 0 0;\n",
              "      width: 32px;\n",
              "    }\n",
              "\n",
              "    .colab-df-convert:hover {\n",
              "      background-color: #E2EBFA;\n",
              "      box-shadow: 0px 1px 2px rgba(60, 64, 67, 0.3), 0px 1px 3px 1px rgba(60, 64, 67, 0.15);\n",
              "      fill: #174EA6;\n",
              "    }\n",
              "\n",
              "    .colab-df-buttons div {\n",
              "      margin-bottom: 4px;\n",
              "    }\n",
              "\n",
              "    [theme=dark] .colab-df-convert {\n",
              "      background-color: #3B4455;\n",
              "      fill: #D2E3FC;\n",
              "    }\n",
              "\n",
              "    [theme=dark] .colab-df-convert:hover {\n",
              "      background-color: #434B5C;\n",
              "      box-shadow: 0px 1px 3px 1px rgba(0, 0, 0, 0.15);\n",
              "      filter: drop-shadow(0px 1px 2px rgba(0, 0, 0, 0.3));\n",
              "      fill: #FFFFFF;\n",
              "    }\n",
              "  </style>\n",
              "\n",
              "    <script>\n",
              "      const buttonEl =\n",
              "        document.querySelector('#df-cff83bc7-9c28-4187-80e1-53efe44368b9 button.colab-df-convert');\n",
              "      buttonEl.style.display =\n",
              "        google.colab.kernel.accessAllowed ? 'block' : 'none';\n",
              "\n",
              "      async function convertToInteractive(key) {\n",
              "        const element = document.querySelector('#df-cff83bc7-9c28-4187-80e1-53efe44368b9');\n",
              "        const dataTable =\n",
              "          await google.colab.kernel.invokeFunction('convertToInteractive',\n",
              "                                                    [key], {});\n",
              "        if (!dataTable) return;\n",
              "\n",
              "        const docLinkHtml = 'Like what you see? Visit the ' +\n",
              "          '<a target=\"_blank\" href=https://colab.research.google.com/notebooks/data_table.ipynb>data table notebook</a>'\n",
              "          + ' to learn more about interactive tables.';\n",
              "        element.innerHTML = '';\n",
              "        dataTable['output_type'] = 'display_data';\n",
              "        await google.colab.output.renderOutput(dataTable, element);\n",
              "        const docLink = document.createElement('div');\n",
              "        docLink.innerHTML = docLinkHtml;\n",
              "        element.appendChild(docLink);\n",
              "      }\n",
              "    </script>\n",
              "  </div>\n",
              "\n",
              "\n",
              "<div id=\"df-077c6904-d4cf-41bf-8159-365cd17ac7a4\">\n",
              "  <button class=\"colab-df-quickchart\" onclick=\"quickchart('df-077c6904-d4cf-41bf-8159-365cd17ac7a4')\"\n",
              "            title=\"Suggest charts\"\n",
              "            style=\"display:none;\">\n",
              "\n",
              "<svg xmlns=\"http://www.w3.org/2000/svg\" height=\"24px\"viewBox=\"0 0 24 24\"\n",
              "     width=\"24px\">\n",
              "    <g>\n",
              "        <path d=\"M19 3H5c-1.1 0-2 .9-2 2v14c0 1.1.9 2 2 2h14c1.1 0 2-.9 2-2V5c0-1.1-.9-2-2-2zM9 17H7v-7h2v7zm4 0h-2V7h2v10zm4 0h-2v-4h2v4z\"/>\n",
              "    </g>\n",
              "</svg>\n",
              "  </button>\n",
              "\n",
              "<style>\n",
              "  .colab-df-quickchart {\n",
              "      --bg-color: #E8F0FE;\n",
              "      --fill-color: #1967D2;\n",
              "      --hover-bg-color: #E2EBFA;\n",
              "      --hover-fill-color: #174EA6;\n",
              "      --disabled-fill-color: #AAA;\n",
              "      --disabled-bg-color: #DDD;\n",
              "  }\n",
              "\n",
              "  [theme=dark] .colab-df-quickchart {\n",
              "      --bg-color: #3B4455;\n",
              "      --fill-color: #D2E3FC;\n",
              "      --hover-bg-color: #434B5C;\n",
              "      --hover-fill-color: #FFFFFF;\n",
              "      --disabled-bg-color: #3B4455;\n",
              "      --disabled-fill-color: #666;\n",
              "  }\n",
              "\n",
              "  .colab-df-quickchart {\n",
              "    background-color: var(--bg-color);\n",
              "    border: none;\n",
              "    border-radius: 50%;\n",
              "    cursor: pointer;\n",
              "    display: none;\n",
              "    fill: var(--fill-color);\n",
              "    height: 32px;\n",
              "    padding: 0;\n",
              "    width: 32px;\n",
              "  }\n",
              "\n",
              "  .colab-df-quickchart:hover {\n",
              "    background-color: var(--hover-bg-color);\n",
              "    box-shadow: 0 1px 2px rgba(60, 64, 67, 0.3), 0 1px 3px 1px rgba(60, 64, 67, 0.15);\n",
              "    fill: var(--button-hover-fill-color);\n",
              "  }\n",
              "\n",
              "  .colab-df-quickchart-complete:disabled,\n",
              "  .colab-df-quickchart-complete:disabled:hover {\n",
              "    background-color: var(--disabled-bg-color);\n",
              "    fill: var(--disabled-fill-color);\n",
              "    box-shadow: none;\n",
              "  }\n",
              "\n",
              "  .colab-df-spinner {\n",
              "    border: 2px solid var(--fill-color);\n",
              "    border-color: transparent;\n",
              "    border-bottom-color: var(--fill-color);\n",
              "    animation:\n",
              "      spin 1s steps(1) infinite;\n",
              "  }\n",
              "\n",
              "  @keyframes spin {\n",
              "    0% {\n",
              "      border-color: transparent;\n",
              "      border-bottom-color: var(--fill-color);\n",
              "      border-left-color: var(--fill-color);\n",
              "    }\n",
              "    20% {\n",
              "      border-color: transparent;\n",
              "      border-left-color: var(--fill-color);\n",
              "      border-top-color: var(--fill-color);\n",
              "    }\n",
              "    30% {\n",
              "      border-color: transparent;\n",
              "      border-left-color: var(--fill-color);\n",
              "      border-top-color: var(--fill-color);\n",
              "      border-right-color: var(--fill-color);\n",
              "    }\n",
              "    40% {\n",
              "      border-color: transparent;\n",
              "      border-right-color: var(--fill-color);\n",
              "      border-top-color: var(--fill-color);\n",
              "    }\n",
              "    60% {\n",
              "      border-color: transparent;\n",
              "      border-right-color: var(--fill-color);\n",
              "    }\n",
              "    80% {\n",
              "      border-color: transparent;\n",
              "      border-right-color: var(--fill-color);\n",
              "      border-bottom-color: var(--fill-color);\n",
              "    }\n",
              "    90% {\n",
              "      border-color: transparent;\n",
              "      border-bottom-color: var(--fill-color);\n",
              "    }\n",
              "  }\n",
              "</style>\n",
              "\n",
              "  <script>\n",
              "    async function quickchart(key) {\n",
              "      const quickchartButtonEl =\n",
              "        document.querySelector('#' + key + ' button');\n",
              "      quickchartButtonEl.disabled = true;  // To prevent multiple clicks.\n",
              "      quickchartButtonEl.classList.add('colab-df-spinner');\n",
              "      try {\n",
              "        const charts = await google.colab.kernel.invokeFunction(\n",
              "            'suggestCharts', [key], {});\n",
              "      } catch (error) {\n",
              "        console.error('Error during call to suggestCharts:', error);\n",
              "      }\n",
              "      quickchartButtonEl.classList.remove('colab-df-spinner');\n",
              "      quickchartButtonEl.classList.add('colab-df-quickchart-complete');\n",
              "    }\n",
              "    (() => {\n",
              "      let quickchartButtonEl =\n",
              "        document.querySelector('#df-077c6904-d4cf-41bf-8159-365cd17ac7a4 button');\n",
              "      quickchartButtonEl.style.display =\n",
              "        google.colab.kernel.accessAllowed ? 'block' : 'none';\n",
              "    })();\n",
              "  </script>\n",
              "</div>\n",
              "    </div>\n",
              "  </div>\n"
            ]
          },
          "metadata": {},
          "execution_count": 433
        }
      ]
    },
    {
      "cell_type": "markdown",
      "source": [
        "2. Форматируем столбец \"Price\""
      ],
      "metadata": {
        "id": "-fFIPlISQpT0"
      }
    },
    {
      "cell_type": "markdown",
      "source": [
        "убираем спецсимволы и не-числовые данные"
      ],
      "metadata": {
        "id": "wom2rZl1aZe-"
      }
    },
    {
      "cell_type": "code",
      "source": [
        "data['price']=data['price'].str.replace('\\W','',regex=True)\n",
        "data['price']=data['price'].str.replace('(\\D+)', '',regex=True)\n",
        "data['price'].replace('', np.nan, inplace=True)"
      ],
      "metadata": {
        "id": "xUt6H6VBQuTK"
      },
      "execution_count": 434,
      "outputs": []
    },
    {
      "cell_type": "markdown",
      "source": [
        "удаляем ячейки с NaN"
      ],
      "metadata": {
        "id": "iKry0q1bag2P"
      }
    },
    {
      "cell_type": "code",
      "source": [
        "data=data.dropna(subset=['price'])"
      ],
      "metadata": {
        "id": "QScBJquDafsw"
      },
      "execution_count": 435,
      "outputs": []
    },
    {
      "cell_type": "markdown",
      "source": [
        "Конвертируем столбец в int"
      ],
      "metadata": {
        "id": "qlVQIAhXa_-P"
      }
    },
    {
      "cell_type": "code",
      "source": [
        "data['price']=data['price'].astype(int)"
      ],
      "metadata": {
        "id": "T5xr4vXoa_tz",
        "colab": {
          "base_uri": "https://localhost:8080/"
        },
        "outputId": "dd87fe96-6540-4388-ae35-d708efb16a87"
      },
      "execution_count": 436,
      "outputs": [
        {
          "output_type": "stream",
          "name": "stderr",
          "text": [
            "<ipython-input-436-2a10b3d39cc2>:1: SettingWithCopyWarning: \n",
            "A value is trying to be set on a copy of a slice from a DataFrame.\n",
            "Try using .loc[row_indexer,col_indexer] = value instead\n",
            "\n",
            "See the caveats in the documentation: https://pandas.pydata.org/pandas-docs/stable/user_guide/indexing.html#returning-a-view-versus-a-copy\n",
            "  data['price']=data['price'].astype(int)\n"
          ]
        }
      ]
    },
    {
      "cell_type": "code",
      "source": [
        "data.dtypes"
      ],
      "metadata": {
        "colab": {
          "base_uri": "https://localhost:8080/"
        },
        "id": "wxkm-YW1cFg5",
        "outputId": "c80265ec-bb0c-4b42-b102-070a951e648c"
      },
      "execution_count": 437,
      "outputs": [
        {
          "output_type": "execute_result",
          "data": {
            "text/plain": [
              "name                object\n",
              "price                int64\n",
              "brand               object\n",
              "model               object\n",
              "ref                 object\n",
              "mvmt                object\n",
              "casem               object\n",
              "bracem              object\n",
              "yop                 object\n",
              "sex                 object\n",
              "size                object\n",
              "condition_summed    object\n",
              "dtype: object"
            ]
          },
          "metadata": {},
          "execution_count": 437
        }
      ]
    },
    {
      "cell_type": "code",
      "source": [
        "data.shape"
      ],
      "metadata": {
        "colab": {
          "base_uri": "https://localhost:8080/"
        },
        "id": "K5nC7wuVcLqK",
        "outputId": "30c65bc7-7c5a-4418-83b9-f514589ed699"
      },
      "execution_count": 438,
      "outputs": [
        {
          "output_type": "execute_result",
          "data": {
            "text/plain": [
              "(260849, 12)"
            ]
          },
          "metadata": {},
          "execution_count": 438
        }
      ]
    },
    {
      "cell_type": "code",
      "source": [
        "data.price.value_counts()"
      ],
      "metadata": {
        "colab": {
          "base_uri": "https://localhost:8080/"
        },
        "id": "adOf-F8Kg3ml",
        "outputId": "ade2b726-03b1-4691-bb6a-c9a88b162275"
      },
      "execution_count": 439,
      "outputs": [
        {
          "output_type": "execute_result",
          "data": {
            "text/plain": [
              "6500      249\n",
              "4500      239\n",
              "12500     236\n",
              "4026      236\n",
              "8500      225\n",
              "         ... \n",
              "126802      1\n",
              "88286       1\n",
              "289294      1\n",
              "64993       1\n",
              "45998       1\n",
              "Name: price, Length: 36829, dtype: int64"
            ]
          },
          "metadata": {},
          "execution_count": 439
        }
      ]
    },
    {
      "cell_type": "markdown",
      "source": [
        "3. Форматируем столбец YOP (year of production)"
      ],
      "metadata": {
        "id": "JrQJ_sYANvRb"
      }
    },
    {
      "cell_type": "code",
      "source": [
        "data['yop'].unique()"
      ],
      "metadata": {
        "colab": {
          "base_uri": "https://localhost:8080/"
        },
        "id": "W-uU3U1dNzop",
        "outputId": "0016f001-380e-4403-f4bf-7cd556d13195"
      },
      "execution_count": 440,
      "outputs": [
        {
          "output_type": "execute_result",
          "data": {
            "text/plain": [
              "array(['2019', '2012', 'Unknown', '2022 (Approximation)',\n",
              "       '2018 (Approximation)', '2016 (Approximation)', '2015', '2016',\n",
              "       '2022', '2014', '2021', '2018', '2017', '2005', '2006', '2023',\n",
              "       '2002', '2004', '1994', '2021 (Approximation)', '2020',\n",
              "       '2020 (Approximation)', '2013', '2019 (Approximation)',\n",
              "       '2023 (Approximation)', '2007', '2017 (Approximation)', '2008',\n",
              "       '1929', '2011', '2010', '2012 (Approximation)', '1977', '2003',\n",
              "       '1999 (Approximation)', '2010 (Approximation)', '1960', '1990',\n",
              "       '1980', '2009 (Approximation)', '2009', '1976 (Approximation)',\n",
              "       '2000', '2004 (Approximation)', '1989', '1982', '1975',\n",
              "       '2005 (Approximation)', '1990 (Approximation)',\n",
              "       '1970 (Approximation)', '1995 (Approximation)',\n",
              "       '1998 (Approximation)', '1995', '1998', '1996 (Approximation)',\n",
              "       '1980 (Approximation)', '1979', '1996', '2011 (Approximation)',\n",
              "       '2008 (Approximation)', '1986', '1950 (Approximation)', '1967',\n",
              "       '2015 (Approximation)', '2007 (Approximation)',\n",
              "       '1997 (Approximation)', '2000 (Approximation)',\n",
              "       '2013 (Approximation)', '1981', '1960 (Approximation)', '2001',\n",
              "       '1955 (Approximation)', '1991', '1992', '1983 (Approximation)',\n",
              "       '2006 (Approximation)', '1999', '1997', '1985 (Approximation)',\n",
              "       '1984', '1970', '1979 (Approximation)', '2002 (Approximation)',\n",
              "       '1993', '1985', '1982 (Approximation)', '1977 (Approximation)',\n",
              "       '1988', '2003 (Approximation)', '1986 (Approximation)', '1950',\n",
              "       '1991 (Approximation)', '1976', '1978 (Approximation)',\n",
              "       '1988 (Approximation)', '2014 (Approximation)',\n",
              "       '2001 (Approximation)', '1978', '1987', '1984 (Approximation)',\n",
              "       '1989 (Approximation)', '1993 (Approximation)', '1971', '1969',\n",
              "       '1972 (Approximation)', '1981 (Approximation)', '1983',\n",
              "       '1994 (Approximation)', '1974', '1973', '1962', '1965', '1968',\n",
              "       '1948', '1965 (Approximation)', '1961', '1952',\n",
              "       '1992 (Approximation)', '1975 (Approximation)',\n",
              "       '1952 (Approximation)', '1969 (Approximation)',\n",
              "       '1956 (Approximation)', '1886 (Approximation)', '1956',\n",
              "       '1920 (Approximation)', '1987 (Approximation)', '1958', '1972',\n",
              "       '1945 (Approximation)', '1941', '1973 (Approximation)',\n",
              "       '1968 (Approximation)', '1955', '1966 (Approximation)',\n",
              "       '1910 (Approximation)', '1905 (Approximation)',\n",
              "       '1974 (Approximation)', '1940', '1928', '1920', '1910', '1957',\n",
              "       '1945', '1961 (Approximation)', '1940 (Approximation)',\n",
              "       '1958 (Approximation)', '1964 (Approximation)',\n",
              "       '1884 (Approximation)', '1966', '1959', '1962 (Approximation)',\n",
              "       '1963', '1971 (Approximation)', '1946', '1946 (Approximation)',\n",
              "       '1947', '1967 (Approximation)', '1944 (Approximation)',\n",
              "       '1948 (Approximation)', '1953 (Approximation)', '1964', '1951',\n",
              "       '1954', '1953', '1963 (Approximation)', '1947 (Approximation)',\n",
              "       '1954 (Approximation)', '1949 (Approximation)',\n",
              "       '1750 (Approximation)', '1957 (Approximation)', '1930',\n",
              "       '1930 (Approximation)', '1959 (Approximation)',\n",
              "       '1942 (Approximation)', '1949', '1944', '1741',\n",
              "       '1935 (Approximation)', '1924', '1899 (Approximation)', '1881',\n",
              "       '1900', '1921 (Approximation)', '1915', '1929 (Approximation)',\n",
              "       '1922 (Approximation)', '1908', '1899', '1937 (Approximation)',\n",
              "       '1900 (Approximation)', '1890 (Approximation)',\n",
              "       '1915 (Approximation)', '1898 (Approximation)', '1911', '1912',\n",
              "       '1943 (Approximation)', '1935', '1927', '1894 (Approximation)',\n",
              "       '1916 (Approximation)', '1906 (Approximation)', '1937',\n",
              "       '1914 (Approximation)', '1943', '1925', '1951 (Approximation)',\n",
              "       '1936', '1925 (Approximation)', '1912 (Approximation)', '1907',\n",
              "       '1917', '1892', '1942', '1938', '1923', '1903', '1931', '1926',\n",
              "       '1938 (Approximation)', '1913', '1907 (Approximation)',\n",
              "       '1924 (Approximation)', '1885 (Approximation)',\n",
              "       '1941 (Approximation)', '1939 (Approximation)', '1890', '1939',\n",
              "       '1888', '1914', '1933', '1906', '1908 (Approximation)', '1934',\n",
              "       '1690 (Approximation)', '1933 (Approximation)', '1878',\n",
              "       '1870 (Approximation)', '1919 (Approximation)', '1922',\n",
              "       '1927 (Approximation)', '1875', '1901', '1905',\n",
              "       '1934 (Approximation)', '1919', '1893', '1923 (Approximation)',\n",
              "       '1889 (Approximation)', '1904 (Approximation)', '1916', '1918',\n",
              "       '1898', '1909', '1928 (Approximation)', '1932',\n",
              "       '1936 (Approximation)', '1932 (Approximation)',\n",
              "       '1918 (Approximation)', '1917 (Approximation)',\n",
              "       '1901 (Approximation)', '1913 (Approximation)',\n",
              "       '1852 (Approximation)', '1694 (Approximation)',\n",
              "       '1931 (Approximation)', '1790 (Approximation)', '1896', '1880',\n",
              "       '1847', '2024', '1850', '1889', '1893 (Approximation)', '1902',\n",
              "       '1887', '1891 (Approximation)', '1846 (Approximation)',\n",
              "       '1845 (Approximation)', '1867', '1884', '1883', '1868', '1894',\n",
              "       '1904', '1888 (Approximation)', '1848', '1895', '1870',\n",
              "       '1883 (Approximation)', '1909 (Approximation)', '1601',\n",
              "       '1559 (Approximation)', '1897', '1876', '1879',\n",
              "       '1926 (Approximation)', '1886', '1871 (Approximation)', '1882',\n",
              "       '1872', '1800', '1650 (Approximation)'], dtype=object)"
            ]
          },
          "metadata": {},
          "execution_count": 440
        }
      ]
    },
    {
      "cell_type": "code",
      "source": [
        "data['yop'].isna().sum()"
      ],
      "metadata": {
        "colab": {
          "base_uri": "https://localhost:8080/"
        },
        "id": "QPFryU78OUq4",
        "outputId": "828f51a0-ad62-4fb7-fd4c-539e3ad7ab13"
      },
      "execution_count": 441,
      "outputs": [
        {
          "output_type": "execute_result",
          "data": {
            "text/plain": [
              "0"
            ]
          },
          "metadata": {},
          "execution_count": 441
        }
      ]
    },
    {
      "cell_type": "code",
      "source": [
        "data['yop'].count"
      ],
      "metadata": {
        "colab": {
          "base_uri": "https://localhost:8080/"
        },
        "id": "SqhIckOFPK5c",
        "outputId": "62021168-7914-44f7-9647-516c44fca589"
      },
      "execution_count": 442,
      "outputs": [
        {
          "output_type": "execute_result",
          "data": {
            "text/plain": [
              "<bound method Series.count of 0                       2019\n",
              "1                       2012\n",
              "2                    Unknown\n",
              "3       2022 (Approximation)\n",
              "4                    Unknown\n",
              "                ...         \n",
              "6438                    2022\n",
              "6439    2021 (Approximation)\n",
              "6440                    2019\n",
              "6441                    2021\n",
              "6442                    2019\n",
              "Name: yop, Length: 260849, dtype: object>"
            ]
          },
          "metadata": {},
          "execution_count": 442
        }
      ]
    },
    {
      "cell_type": "code",
      "source": [
        "data['yop']=data['yop'].str.replace('\\W','',regex=True)\n",
        "data['yop']=data['yop'].str.replace('(\\D+)', '',regex=True)\n",
        "data['yop'].replace('', np.nan, inplace=True)"
      ],
      "metadata": {
        "id": "S3LQVGSTOH1J"
      },
      "execution_count": 443,
      "outputs": []
    },
    {
      "cell_type": "code",
      "source": [
        "data['yop'].unique()"
      ],
      "metadata": {
        "colab": {
          "base_uri": "https://localhost:8080/"
        },
        "id": "Crayp49TO8vu",
        "outputId": "f6cc429d-3d62-48b5-f7f9-e2679236d9c1"
      },
      "execution_count": 444,
      "outputs": [
        {
          "output_type": "execute_result",
          "data": {
            "text/plain": [
              "array(['2019', '2012', nan, '2022', '2018', '2016', '2015', '2014',\n",
              "       '2021', '2017', '2005', '2006', '2023', '2002', '2004', '1994',\n",
              "       '2020', '2013', '2007', '2008', '1929', '2011', '2010', '1977',\n",
              "       '2003', '1999', '1960', '1990', '1980', '2009', '1976', '2000',\n",
              "       '1989', '1982', '1975', '1970', '1995', '1998', '1996', '1979',\n",
              "       '1986', '1950', '1967', '1997', '1981', '2001', '1955', '1991',\n",
              "       '1992', '1983', '1985', '1984', '1993', '1988', '1978', '1987',\n",
              "       '1971', '1969', '1972', '1974', '1973', '1962', '1965', '1968',\n",
              "       '1948', '1961', '1952', '1956', '1886', '1920', '1958', '1945',\n",
              "       '1941', '1966', '1910', '1905', '1940', '1928', '1957', '1964',\n",
              "       '1884', '1959', '1963', '1946', '1947', '1944', '1953', '1951',\n",
              "       '1954', '1949', '1750', '1930', '1942', '1741', '1935', '1924',\n",
              "       '1899', '1881', '1900', '1921', '1915', '1922', '1908', '1937',\n",
              "       '1890', '1898', '1911', '1912', '1943', '1927', '1894', '1916',\n",
              "       '1906', '1914', '1925', '1936', '1907', '1917', '1892', '1938',\n",
              "       '1923', '1903', '1931', '1926', '1913', '1885', '1939', '1888',\n",
              "       '1933', '1934', '1690', '1878', '1870', '1919', '1875', '1901',\n",
              "       '1893', '1889', '1904', '1918', '1909', '1932', '1852', '1694',\n",
              "       '1790', '1896', '1880', '1847', '2024', '1850', '1902', '1887',\n",
              "       '1891', '1846', '1845', '1867', '1883', '1868', '1848', '1895',\n",
              "       '1601', '1559', '1897', '1876', '1879', '1871', '1882', '1872',\n",
              "       '1800', '1650'], dtype=object)"
            ]
          },
          "metadata": {},
          "execution_count": 444
        }
      ]
    },
    {
      "cell_type": "code",
      "source": [
        "data['yop'].isna().sum()"
      ],
      "metadata": {
        "id": "pKqjUhUuWdVm",
        "outputId": "ae2b3a39-2d9e-4cc9-e309-dd0ee9392bf5",
        "colab": {
          "base_uri": "https://localhost:8080/"
        }
      },
      "execution_count": 445,
      "outputs": [
        {
          "output_type": "execute_result",
          "data": {
            "text/plain": [
              "87140"
            ]
          },
          "metadata": {},
          "execution_count": 445
        }
      ]
    },
    {
      "cell_type": "markdown",
      "source": [
        "4. Форматируем столбец **size**"
      ],
      "metadata": {
        "id": "jnJUpNLHcSVU"
      }
    },
    {
      "cell_type": "code",
      "source": [
        "data['size'].unique()"
      ],
      "metadata": {
        "id": "kj5KCTPbc6QH",
        "colab": {
          "base_uri": "https://localhost:8080/"
        },
        "outputId": "3eeb7f3e-152b-4c4c-9dfa-5edc899c6d14"
      },
      "execution_count": 446,
      "outputs": [
        {
          "output_type": "execute_result",
          "data": {
            "text/plain": [
              "array(['42 mm', '39 mm', '41 mm', ..., '40 x 10.75 mm', '46 x 17 mm',\n",
              "       '48 x 57.5 mm'], dtype=object)"
            ]
          },
          "metadata": {},
          "execution_count": 446
        }
      ]
    },
    {
      "cell_type": "code",
      "source": [
        "data['size'].value_counts()"
      ],
      "metadata": {
        "id": "5qAPgvQIgkbx",
        "colab": {
          "base_uri": "https://localhost:8080/"
        },
        "outputId": "8aeaf25f-2c55-4e46-8997-62d67915b357"
      },
      "execution_count": 447,
      "outputs": [
        {
          "output_type": "execute_result",
          "data": {
            "text/plain": [
              "40 mm             31119\n",
              "41 mm             25136\n",
              "42 mm             23198\n",
              "36 mm             17834\n",
              "44 mm             13274\n",
              "                  ...  \n",
              "34.5 x 35 mm          1\n",
              "38.6 x 38,6 mm        1\n",
              "31.5 x 38 mm          1\n",
              "26.8 x 32.5 mm        1\n",
              "48 x 57.5 mm          1\n",
              "Name: size, Length: 6595, dtype: int64"
            ]
          },
          "metadata": {},
          "execution_count": 447
        }
      ]
    },
    {
      "cell_type": "markdown",
      "source": [
        "Информация о диаметре корпуса содержится в первом числе. Вторым числом является либо толщина, либо дополнительное измерение корпуса (в случае часов квадратной/овальной формы). Оставляем только диаметр."
      ],
      "metadata": {
        "id": "w8BSrwItdWmC"
      }
    },
    {
      "cell_type": "code",
      "source": [
        "data['size']=data['size'].str[0:2]"
      ],
      "metadata": {
        "id": "hbrZEClLdnsk"
      },
      "execution_count": 448,
      "outputs": []
    },
    {
      "cell_type": "code",
      "source": [
        "data['size'].unique()"
      ],
      "metadata": {
        "id": "vWUdIJiafhvA",
        "colab": {
          "base_uri": "https://localhost:8080/"
        },
        "outputId": "a08e8d24-7edc-4e50-de61-9eb676a450a0"
      },
      "execution_count": 449,
      "outputs": [
        {
          "output_type": "execute_result",
          "data": {
            "text/plain": [
              "array(['42', '39', '41', '38', '44', '37', nan, '34', '36', '45', '43',\n",
              "       '23', '33', '24', '40', '48', '31', '29', '35', '22', '26', '25',\n",
              "       '90', '65', '15', '30', '28', '32', '47', 'Re', 'Br', '64', '14',\n",
              "       'Au', '20', '50', '49', '18', '51', '27', '16', '68', '21', '46',\n",
              "       '61', 'Li', 'Ma', '69', '70', '55', '54', '17', '[P', 'Th', 'Mo',\n",
              "       '57', '-M', '8 ', '8S', 'Pr', '19', '59', '56', 'I ', '53', '52',\n",
              "       'De', 'Yo', 'Su', '13', 'Of', '58', '\"A', 'Ai', '【a', '72', '84',\n",
              "       'Or', '11', '3 ', 'Fo', '75', '12', '85', '6.', 'XL', 'ma', '78',\n",
              "       '63', 'Ca', '73', 'St', '79', '60', '10', '7.', '\"R', 'Am', 'In',\n",
              "       '\"P', 'Pa', 'Ba', 'Wa', 'A ', '7,', '\"C', 'It', '\"T', 'Sc', 'Sa',\n",
              "       '[S', '*B', '\"M', '\"E', '\"N', '【r', 'SP', 'IT', 'La', 'Mi', '9 ',\n",
              "       '5.', '6 ', 'Lo', 'Hu', '※O', '91', 'Ce', 'Un', 'IW', 'iw', '*D',\n",
              "       '*S', '5 ', '[B', 'ca', '[N', '4 ', '80', 'Vi', '2 ', 'Ne', '96',\n",
              "       'Ja', '76', '66', 'On', 'JL', 'WE', '1.', '3.', \"'2\", 'Ra', '2.',\n",
              "       'Si', 'Ex', '67', '71', '* ', 'Se', '1 ', 'Ap', 'Om', 'Di', 'TE',\n",
              "       'Ye', 'Fu', 'mo', 'Bo', 'Dr', 'fe', 'FE', 'DE', 'OM', '\"S', 'クロ',\n",
              "       'Be', 'Te', '\"D', 'Ch', 'Co', '【I', '【P', 'Du', 'BR', '0 ', 'PA',\n",
              "       'WA', 'Üb', 'ro', 'Ro', 'Oy', 'En', 'Da', '[A', '*W', 'es', 'Qu',\n",
              "       '\"G', 'SE', '8.', 'th', '３４', '*【', '【D', '【e', 'FO', 'br', 'Ar',\n",
              "       'If', 'Wh', '3,', '4,', '93', 'Cr', 'Gr', 'NE', 'Ni', '83', '62',\n",
              "       '【E', 'Bl', 'Al', '\"F', 'TA', 'Es', 'F4', 'Tu', '\"B', '!!', '2,',\n",
              "       '- ', 'Ze'], dtype=object)"
            ]
          },
          "metadata": {},
          "execution_count": 449
        }
      ]
    },
    {
      "cell_type": "code",
      "source": [
        "data['size']=data['size'].str.replace('\\W','',regex=True)\n",
        "data['size']=data['size'].str.replace('(\\D+)', '',regex=True)\n",
        "data['size'].replace('', 0, inplace=True)\n",
        "data['size'].replace(np.nan, 0, inplace=True)"
      ],
      "metadata": {
        "id": "DVo9Z5kufttU"
      },
      "execution_count": 450,
      "outputs": []
    },
    {
      "cell_type": "code",
      "source": [
        "data['size']=data['size'].astype(int)"
      ],
      "metadata": {
        "id": "n3BmuKQLy6M3"
      },
      "execution_count": 451,
      "outputs": []
    },
    {
      "cell_type": "code",
      "source": [
        "data['size'].unique()"
      ],
      "metadata": {
        "id": "wyW1adsdf0II",
        "colab": {
          "base_uri": "https://localhost:8080/"
        },
        "outputId": "12618714-4499-4937-d11c-b48d55e7cb2e"
      },
      "execution_count": 452,
      "outputs": [
        {
          "output_type": "execute_result",
          "data": {
            "text/plain": [
              "array([42, 39, 41, 38, 44, 37,  0, 34, 36, 45, 43, 23, 33, 24, 40, 48, 31,\n",
              "       29, 35, 22, 26, 25, 90, 65, 15, 30, 28, 32, 47, 64, 14, 20, 50, 49,\n",
              "       18, 51, 27, 16, 68, 21, 46, 61, 69, 70, 55, 54, 17, 57,  8, 19, 59,\n",
              "       56, 53, 52, 13, 58, 72, 84, 11,  3, 75, 12, 85,  6, 78, 63, 73, 79,\n",
              "       60, 10,  7,  9,  5, 91,  4, 80,  2, 96, 76, 66,  1, 67, 71, 93, 83,\n",
              "       62])"
            ]
          },
          "metadata": {},
          "execution_count": 452
        }
      ]
    },
    {
      "cell_type": "code",
      "source": [
        "data['size'].value_counts()[:50].plot(kind='barh',figsize=(5,10))"
      ],
      "metadata": {
        "id": "lboigx5HFmty",
        "colab": {
          "base_uri": "https://localhost:8080/",
          "height": 848
        },
        "outputId": "15381576-9b2d-43bc-f7cb-97c01cbebef1"
      },
      "execution_count": 453,
      "outputs": [
        {
          "output_type": "execute_result",
          "data": {
            "text/plain": [
              "<Axes: >"
            ]
          },
          "metadata": {},
          "execution_count": 453
        },
        {
          "output_type": "display_data",
          "data": {
            "text/plain": [
              "<Figure size 500x1000 with 1 Axes>"
            ],
            "image/png": "[encoded data removed]"
          },
          "metadata": {}
        }
      ]
    },
    {
      "cell_type": "code",
      "source": [
        "data['size'].value_counts()[:50]"
      ],
      "metadata": {
        "id": "ndSF8PX3Hhsh",
        "colab": {
          "base_uri": "https://localhost:8080/"
        },
        "outputId": "9d7a8ee2-9eea-433f-ad05-3159aadbdf36"
      },
      "execution_count": 454,
      "outputs": [
        {
          "output_type": "execute_result",
          "data": {
            "text/plain": [
              "40    35625\n",
              "41    29233\n",
              "42    27151\n",
              "0     22287\n",
              "36    20502\n",
              "44    15309\n",
              "39    14173\n",
              "43    10856\n",
              "38     9980\n",
              "34     9408\n",
              "45     8232\n",
              "35     6672\n",
              "37     5274\n",
              "26     5201\n",
              "31     5050\n",
              "33     4200\n",
              "28     3111\n",
              "32     3031\n",
              "46     3022\n",
              "29     2792\n",
              "30     2318\n",
              "25     2296\n",
              "27     2225\n",
              "47     2142\n",
              "24     1979\n",
              "48     1584\n",
              "20     1196\n",
              "22     1173\n",
              "23     1127\n",
              "49      640\n",
              "21      429\n",
              "50      395\n",
              "19      346\n",
              "51      253\n",
              "18      229\n",
              "17      208\n",
              "16      193\n",
              "52      175\n",
              "15      147\n",
              "55      116\n",
              "14       83\n",
              "54       81\n",
              "53       69\n",
              "13       35\n",
              "57       27\n",
              "12       24\n",
              "60       23\n",
              "56       23\n",
              "65       18\n",
              "11       18\n",
              "Name: size, dtype: int64"
            ]
          },
          "metadata": {},
          "execution_count": 454
        }
      ]
    },
    {
      "cell_type": "code",
      "source": [
        "data['size'] = data['size'].mask((data['size'] > 55) | (data['size'] < 15), np.nan)"
      ],
      "metadata": {
        "id": "AFWkL82ax17v"
      },
      "execution_count": 455,
      "outputs": []
    },
    {
      "cell_type": "code",
      "source": [
        "data['size'].value_counts()"
      ],
      "metadata": {
        "colab": {
          "base_uri": "https://localhost:8080/"
        },
        "id": "jn1TNJtLx_95",
        "outputId": "2425c7f3-72a3-498b-949b-5bd766283ac0"
      },
      "execution_count": 456,
      "outputs": [
        {
          "output_type": "execute_result",
          "data": {
            "text/plain": [
              "40.0    35625\n",
              "41.0    29233\n",
              "42.0    27151\n",
              "36.0    20502\n",
              "44.0    15309\n",
              "39.0    14173\n",
              "43.0    10856\n",
              "38.0     9980\n",
              "34.0     9408\n",
              "45.0     8232\n",
              "35.0     6672\n",
              "37.0     5274\n",
              "26.0     5201\n",
              "31.0     5050\n",
              "33.0     4200\n",
              "28.0     3111\n",
              "32.0     3031\n",
              "46.0     3022\n",
              "29.0     2792\n",
              "30.0     2318\n",
              "25.0     2296\n",
              "27.0     2225\n",
              "47.0     2142\n",
              "24.0     1979\n",
              "48.0     1584\n",
              "20.0     1196\n",
              "22.0     1173\n",
              "23.0     1127\n",
              "49.0      640\n",
              "21.0      429\n",
              "50.0      395\n",
              "19.0      346\n",
              "51.0      253\n",
              "18.0      229\n",
              "17.0      208\n",
              "16.0      193\n",
              "52.0      175\n",
              "15.0      147\n",
              "55.0      116\n",
              "54.0       81\n",
              "53.0       69\n",
              "Name: size, dtype: int64"
            ]
          },
          "metadata": {},
          "execution_count": 456
        }
      ]
    }
  ]
}