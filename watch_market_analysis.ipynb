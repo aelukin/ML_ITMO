{
  "nbformat": 4,
  "nbformat_minor": 0,
  "metadata": {
    "colab": {
      "provenance": [],
      "authorship_tag": "ABX9TyNkrNV2Rp9tEYfAUxSvRgqT",
      "include_colab_link": true
    },
    "kernelspec": {
      "name": "python3",
      "display_name": "Python 3"
    },
    "language_info": {
      "name": "python"
    }
  },
  "cells": [
    {
      "cell_type": "markdown",
      "metadata": {
        "id": "view-in-github",
        "colab_type": "text"
      },
      "source": [
        "<a href=\"https://colab.research.google.com/github/aelukin/ML_ITMO/blob/main/watch_market_analysis.ipynb\" target=\"_parent\"><img src=\"https://colab.research.google.com/assets/colab-badge.svg\" alt=\"Open In Colab\"/></a>"
      ]
    },
    {
      "cell_type": "markdown",
      "source": [
        "Монтируем диск, задаем директорию"
      ],
      "metadata": {
        "id": "Z7kmHjV7jYYe"
      }
    },
    {
      "cell_type": "code",
      "execution_count": 291,
      "metadata": {
        "colab": {
          "base_uri": "https://localhost:8080/"
        },
        "id": "aVVKM5NWhiVv",
        "outputId": "6b87732b-1bb2-4a6f-e51b-8778e2738ef2"
      },
      "outputs": [
        {
          "output_type": "stream",
          "name": "stdout",
          "text": [
            "Drive already mounted at /content/gdrive; to attempt to forcibly remount, call drive.mount(\"/content/gdrive\", force_remount=True).\n"
          ]
        }
      ],
      "source": [
        "from google.colab import drive\n",
        "drive.mount('/content/gdrive')"
      ]
    },
    {
      "cell_type": "code",
      "source": [
        "%cd gdrive/MyDrive/ML\\ ITMO"
      ],
      "metadata": {
        "colab": {
          "base_uri": "https://localhost:8080/"
        },
        "id": "ugPGvMCKjGOX",
        "outputId": "ad5c7597-0fad-4d5e-e82b-1ffeec29a574"
      },
      "execution_count": 292,
      "outputs": [
        {
          "output_type": "stream",
          "name": "stdout",
          "text": [
            "[Errno 2] No such file or directory: 'gdrive/MyDrive/ML ITMO'\n",
            "/content/gdrive/MyDrive/ML ITMO\n"
          ]
        }
      ]
    },
    {
      "cell_type": "markdown",
      "source": [
        "Импортируем библиотеки"
      ],
      "metadata": {
        "id": "sHHk7V5vjfmM"
      }
    },
    {
      "cell_type": "code",
      "source": [
        "import pandas as pd\n",
        "import numpy as np\n",
        "import matplotlib.pyplot as plt\n",
        "import seaborn as sns\n",
        "from sklearn.ensemble import RandomForestRegressor\n",
        "from sklearn.metrics import mean_absolute_error\n",
        "from sklearn.linear_model import LinearRegression\n",
        "from sklearn.dummy import DummyRegressor\n",
        "from sklearn.metrics import mean_squared_error"
      ],
      "metadata": {
        "id": "b5-R7PNYji7N"
      },
      "execution_count": 381,
      "outputs": []
    },
    {
      "cell_type": "markdown",
      "source": [
        "Импортируем датасет"
      ],
      "metadata": {
        "id": "J9hvcemSoitu"
      }
    },
    {
      "cell_type": "code",
      "source": [
        "path='Watches.csv'\n",
        "data=pd.read_csv(path, index_col='Unnamed: 0')"
      ],
      "metadata": {
        "colab": {
          "base_uri": "https://localhost:8080/"
        },
        "id": "7jvPT41IokxX",
        "outputId": "ba779b1f-dbfd-4166-ed92-f2450deb07d4"
      },
      "execution_count": 294,
      "outputs": [
        {
          "output_type": "stream",
          "name": "stderr",
          "text": [
            "<ipython-input-294-50ca43d5d0b5>:2: DtypeWarning: Columns (13) have mixed types. Specify dtype option on import or set low_memory=False.\n",
            "  data=pd.read_csv(path, index_col='Unnamed: 0')\n"
          ]
        }
      ]
    },
    {
      "cell_type": "markdown",
      "source": [
        "# 1. Проверка и очистка данных"
      ],
      "metadata": {
        "id": "e96ijU5Ya0ce"
      }
    },
    {
      "cell_type": "code",
      "source": [
        "data.head()"
      ],
      "metadata": {
        "colab": {
          "base_uri": "https://localhost:8080/",
          "height": 206
        },
        "id": "fiuxzMt5o3vF",
        "outputId": "8e1573bf-1c1c-4c0f-a73a-1b385e94757c"
      },
      "execution_count": 295,
      "outputs": [
        {
          "output_type": "execute_result",
          "data": {
            "text/plain": [
              "                                                name     price  \\\n",
              "0  Audemars Piguet Royal Oak Offshore Chronograph...   $43,500   \n",
              "1  Audemars Piguet Royal Oak Selfwinding\\n39mm Bl...   $71,500   \n",
              "2  Audemars Piguet Royal Oak Chronograph\\nBlue Di...   $79,191   \n",
              "3  Audemars Piguet Royal Oak Chronograph\\nSelfwin...  $108,000   \n",
              "4  Audemars Piguet Royal Oak Offshore Chronograph...   $27,500   \n",
              "\n",
              "             brand                           model                   ref  \\\n",
              "0  Audemars Piguet  Royal Oak Offshore Chronograph  26237ST.OO.1000ST.01   \n",
              "1  Audemars Piguet           Royal Oak Selfwinding  15300ST.OO.1220ST.02   \n",
              "2  Audemars Piguet           Royal Oak Chronograph               26331ST   \n",
              "3  Audemars Piguet           Royal Oak Chronograph  26715ST.OO.1356ST.01   \n",
              "4  Audemars Piguet  Royal Oak Offshore Chronograph  26170ST.OO.1000ST.01   \n",
              "\n",
              "        mvmt  casem bracem                   yop       cond  \\\n",
              "0        NaN    NaN    NaN                  2019     Unworn   \n",
              "1        NaN    NaN    NaN                  2012  Very good   \n",
              "2  Automatic  Steel  Steel               Unknown     Unworn   \n",
              "3  Automatic  Steel  Steel  2022 (Approximation)        New   \n",
              "4  Automatic  Steel  Steel               Unknown  Very good   \n",
              "\n",
              "                  sex        size condition  \n",
              "0  Men's watch/Unisex       42 mm       NaN  \n",
              "1  Men's watch/Unisex       39 mm       NaN  \n",
              "2                 NaN       41 mm       NaN  \n",
              "3  Men's watch/Unisex       38 mm       NaN  \n",
              "4  Men's watch/Unisex  42 x 54 mm       NaN  "
            ],
            "text/html": [
              "\n",
              "  <div id=\"df-da70ff04-b947-4c80-baba-220d5e03d32b\" class=\"colab-df-container\">\n",
              "    <div>\n",
              "<style scoped>\n",
              "    .dataframe tbody tr th:only-of-type {\n",
              "        vertical-align: middle;\n",
              "    }\n",
              "\n",
              "    .dataframe tbody tr th {\n",
              "        vertical-align: top;\n",
              "    }\n",
              "\n",
              "    .dataframe thead th {\n",
              "        text-align: right;\n",
              "    }\n",
              "</style>\n",
              "<table border=\"1\" class=\"dataframe\">\n",
              "  <thead>\n",
              "    <tr style=\"text-align: right;\">\n",
              "      <th></th>\n",
              "      <th>name</th>\n",
              "      <th>price</th>\n",
              "      <th>brand</th>\n",
              "      <th>model</th>\n",
              "      <th>ref</th>\n",
              "      <th>mvmt</th>\n",
              "      <th>casem</th>\n",
              "      <th>bracem</th>\n",
              "      <th>yop</th>\n",
              "      <th>cond</th>\n",
              "      <th>sex</th>\n",
              "      <th>size</th>\n",
              "      <th>condition</th>\n",
              "    </tr>\n",
              "  </thead>\n",
              "  <tbody>\n",
              "    <tr>\n",
              "      <th>0</th>\n",
              "      <td>Audemars Piguet Royal Oak Offshore Chronograph...</td>\n",
              "      <td>$43,500</td>\n",
              "      <td>Audemars Piguet</td>\n",
              "      <td>Royal Oak Offshore Chronograph</td>\n",
              "      <td>26237ST.OO.1000ST.01</td>\n",
              "      <td>NaN</td>\n",
              "      <td>NaN</td>\n",
              "      <td>NaN</td>\n",
              "      <td>2019</td>\n",
              "      <td>Unworn</td>\n",
              "      <td>Men's watch/Unisex</td>\n",
              "      <td>42 mm</td>\n",
              "      <td>NaN</td>\n",
              "    </tr>\n",
              "    <tr>\n",
              "      <th>1</th>\n",
              "      <td>Audemars Piguet Royal Oak Selfwinding\\n39mm Bl...</td>\n",
              "      <td>$71,500</td>\n",
              "      <td>Audemars Piguet</td>\n",
              "      <td>Royal Oak Selfwinding</td>\n",
              "      <td>15300ST.OO.1220ST.02</td>\n",
              "      <td>NaN</td>\n",
              "      <td>NaN</td>\n",
              "      <td>NaN</td>\n",
              "      <td>2012</td>\n",
              "      <td>Very good</td>\n",
              "      <td>Men's watch/Unisex</td>\n",
              "      <td>39 mm</td>\n",
              "      <td>NaN</td>\n",
              "    </tr>\n",
              "    <tr>\n",
              "      <th>2</th>\n",
              "      <td>Audemars Piguet Royal Oak Chronograph\\nBlue Di...</td>\n",
              "      <td>$79,191</td>\n",
              "      <td>Audemars Piguet</td>\n",
              "      <td>Royal Oak Chronograph</td>\n",
              "      <td>26331ST</td>\n",
              "      <td>Automatic</td>\n",
              "      <td>Steel</td>\n",
              "      <td>Steel</td>\n",
              "      <td>Unknown</td>\n",
              "      <td>Unworn</td>\n",
              "      <td>NaN</td>\n",
              "      <td>41 mm</td>\n",
              "      <td>NaN</td>\n",
              "    </tr>\n",
              "    <tr>\n",
              "      <th>3</th>\n",
              "      <td>Audemars Piguet Royal Oak Chronograph\\nSelfwin...</td>\n",
              "      <td>$108,000</td>\n",
              "      <td>Audemars Piguet</td>\n",
              "      <td>Royal Oak Chronograph</td>\n",
              "      <td>26715ST.OO.1356ST.01</td>\n",
              "      <td>Automatic</td>\n",
              "      <td>Steel</td>\n",
              "      <td>Steel</td>\n",
              "      <td>2022 (Approximation)</td>\n",
              "      <td>New</td>\n",
              "      <td>Men's watch/Unisex</td>\n",
              "      <td>38 mm</td>\n",
              "      <td>NaN</td>\n",
              "    </tr>\n",
              "    <tr>\n",
              "      <th>4</th>\n",
              "      <td>Audemars Piguet Royal Oak Offshore Chronograph...</td>\n",
              "      <td>$27,500</td>\n",
              "      <td>Audemars Piguet</td>\n",
              "      <td>Royal Oak Offshore Chronograph</td>\n",
              "      <td>26170ST.OO.1000ST.01</td>\n",
              "      <td>Automatic</td>\n",
              "      <td>Steel</td>\n",
              "      <td>Steel</td>\n",
              "      <td>Unknown</td>\n",
              "      <td>Very good</td>\n",
              "      <td>Men's watch/Unisex</td>\n",
              "      <td>42 x 54 mm</td>\n",
              "      <td>NaN</td>\n",
              "    </tr>\n",
              "  </tbody>\n",
              "</table>\n",
              "</div>\n",
              "    <div class=\"colab-df-buttons\">\n",
              "\n",
              "  <div class=\"colab-df-container\">\n",
              "    <button class=\"colab-df-convert\" onclick=\"convertToInteractive('df-da70ff04-b947-4c80-baba-220d5e03d32b')\"\n",
              "            title=\"Convert this dataframe to an interactive table.\"\n",
              "            style=\"display:none;\">\n",
              "\n",
              "  <svg xmlns=\"http://www.w3.org/2000/svg\" height=\"24px\" viewBox=\"0 -960 960 960\">\n",
              "    <path d=\"M120-120v-720h720v720H120Zm60-500h600v-160H180v160Zm220 220h160v-160H400v160Zm0 220h160v-160H400v160ZM180-400h160v-160H180v160Zm440 0h160v-160H620v160ZM180-180h160v-160H180v160Zm440 0h160v-160H620v160Z\"/>\n",
              "  </svg>\n",
              "    </button>\n",
              "\n",
              "  <style>\n",
              "    .colab-df-container {\n",
              "      display:flex;\n",
              "      gap: 12px;\n",
              "    }\n",
              "\n",
              "    .colab-df-convert {\n",
              "      background-color: #E8F0FE;\n",
              "      border: none;\n",
              "      border-radius: 50%;\n",
              "      cursor: pointer;\n",
              "      display: none;\n",
              "      fill: #1967D2;\n",
              "      height: 32px;\n",
              "      padding: 0 0 0 0;\n",
              "      width: 32px;\n",
              "    }\n",
              "\n",
              "    .colab-df-convert:hover {\n",
              "      background-color: #E2EBFA;\n",
              "      box-shadow: 0px 1px 2px rgba(60, 64, 67, 0.3), 0px 1px 3px 1px rgba(60, 64, 67, 0.15);\n",
              "      fill: #174EA6;\n",
              "    }\n",
              "\n",
              "    .colab-df-buttons div {\n",
              "      margin-bottom: 4px;\n",
              "    }\n",
              "\n",
              "    [theme=dark] .colab-df-convert {\n",
              "      background-color: #3B4455;\n",
              "      fill: #D2E3FC;\n",
              "    }\n",
              "\n",
              "    [theme=dark] .colab-df-convert:hover {\n",
              "      background-color: #434B5C;\n",
              "      box-shadow: 0px 1px 3px 1px rgba(0, 0, 0, 0.15);\n",
              "      filter: drop-shadow(0px 1px 2px rgba(0, 0, 0, 0.3));\n",
              "      fill: #FFFFFF;\n",
              "    }\n",
              "  </style>\n",
              "\n",
              "    <script>\n",
              "      const buttonEl =\n",
              "        document.querySelector('#df-da70ff04-b947-4c80-baba-220d5e03d32b button.colab-df-convert');\n",
              "      buttonEl.style.display =\n",
              "        google.colab.kernel.accessAllowed ? 'block' : 'none';\n",
              "\n",
              "      async function convertToInteractive(key) {\n",
              "        const element = document.querySelector('#df-da70ff04-b947-4c80-baba-220d5e03d32b');\n",
              "        const dataTable =\n",
              "          await google.colab.kernel.invokeFunction('convertToInteractive',\n",
              "                                                    [key], {});\n",
              "        if (!dataTable) return;\n",
              "\n",
              "        const docLinkHtml = 'Like what you see? Visit the ' +\n",
              "          '<a target=\"_blank\" href=https://colab.research.google.com/notebooks/data_table.ipynb>data table notebook</a>'\n",
              "          + ' to learn more about interactive tables.';\n",
              "        element.innerHTML = '';\n",
              "        dataTable['output_type'] = 'display_data';\n",
              "        await google.colab.output.renderOutput(dataTable, element);\n",
              "        const docLink = document.createElement('div');\n",
              "        docLink.innerHTML = docLinkHtml;\n",
              "        element.appendChild(docLink);\n",
              "      }\n",
              "    </script>\n",
              "  </div>\n",
              "\n",
              "\n",
              "<div id=\"df-b9763590-281f-437e-9694-a053669ca610\">\n",
              "  <button class=\"colab-df-quickchart\" onclick=\"quickchart('df-b9763590-281f-437e-9694-a053669ca610')\"\n",
              "            title=\"Suggest charts\"\n",
              "            style=\"display:none;\">\n",
              "\n",
              "<svg xmlns=\"http://www.w3.org/2000/svg\" height=\"24px\"viewBox=\"0 0 24 24\"\n",
              "     width=\"24px\">\n",
              "    <g>\n",
              "        <path d=\"M19 3H5c-1.1 0-2 .9-2 2v14c0 1.1.9 2 2 2h14c1.1 0 2-.9 2-2V5c0-1.1-.9-2-2-2zM9 17H7v-7h2v7zm4 0h-2V7h2v10zm4 0h-2v-4h2v4z\"/>\n",
              "    </g>\n",
              "</svg>\n",
              "  </button>\n",
              "\n",
              "<style>\n",
              "  .colab-df-quickchart {\n",
              "      --bg-color: #E8F0FE;\n",
              "      --fill-color: #1967D2;\n",
              "      --hover-bg-color: #E2EBFA;\n",
              "      --hover-fill-color: #174EA6;\n",
              "      --disabled-fill-color: #AAA;\n",
              "      --disabled-bg-color: #DDD;\n",
              "  }\n",
              "\n",
              "  [theme=dark] .colab-df-quickchart {\n",
              "      --bg-color: #3B4455;\n",
              "      --fill-color: #D2E3FC;\n",
              "      --hover-bg-color: #434B5C;\n",
              "      --hover-fill-color: #FFFFFF;\n",
              "      --disabled-bg-color: #3B4455;\n",
              "      --disabled-fill-color: #666;\n",
              "  }\n",
              "\n",
              "  .colab-df-quickchart {\n",
              "    background-color: var(--bg-color);\n",
              "    border: none;\n",
              "    border-radius: 50%;\n",
              "    cursor: pointer;\n",
              "    display: none;\n",
              "    fill: var(--fill-color);\n",
              "    height: 32px;\n",
              "    padding: 0;\n",
              "    width: 32px;\n",
              "  }\n",
              "\n",
              "  .colab-df-quickchart:hover {\n",
              "    background-color: var(--hover-bg-color);\n",
              "    box-shadow: 0 1px 2px rgba(60, 64, 67, 0.3), 0 1px 3px 1px rgba(60, 64, 67, 0.15);\n",
              "    fill: var(--button-hover-fill-color);\n",
              "  }\n",
              "\n",
              "  .colab-df-quickchart-complete:disabled,\n",
              "  .colab-df-quickchart-complete:disabled:hover {\n",
              "    background-color: var(--disabled-bg-color);\n",
              "    fill: var(--disabled-fill-color);\n",
              "    box-shadow: none;\n",
              "  }\n",
              "\n",
              "  .colab-df-spinner {\n",
              "    border: 2px solid var(--fill-color);\n",
              "    border-color: transparent;\n",
              "    border-bottom-color: var(--fill-color);\n",
              "    animation:\n",
              "      spin 1s steps(1) infinite;\n",
              "  }\n",
              "\n",
              "  @keyframes spin {\n",
              "    0% {\n",
              "      border-color: transparent;\n",
              "      border-bottom-color: var(--fill-color);\n",
              "      border-left-color: var(--fill-color);\n",
              "    }\n",
              "    20% {\n",
              "      border-color: transparent;\n",
              "      border-left-color: var(--fill-color);\n",
              "      border-top-color: var(--fill-color);\n",
              "    }\n",
              "    30% {\n",
              "      border-color: transparent;\n",
              "      border-left-color: var(--fill-color);\n",
              "      border-top-color: var(--fill-color);\n",
              "      border-right-color: var(--fill-color);\n",
              "    }\n",
              "    40% {\n",
              "      border-color: transparent;\n",
              "      border-right-color: var(--fill-color);\n",
              "      border-top-color: var(--fill-color);\n",
              "    }\n",
              "    60% {\n",
              "      border-color: transparent;\n",
              "      border-right-color: var(--fill-color);\n",
              "    }\n",
              "    80% {\n",
              "      border-color: transparent;\n",
              "      border-right-color: var(--fill-color);\n",
              "      border-bottom-color: var(--fill-color);\n",
              "    }\n",
              "    90% {\n",
              "      border-color: transparent;\n",
              "      border-bottom-color: var(--fill-color);\n",
              "    }\n",
              "  }\n",
              "</style>\n",
              "\n",
              "  <script>\n",
              "    async function quickchart(key) {\n",
              "      const quickchartButtonEl =\n",
              "        document.querySelector('#' + key + ' button');\n",
              "      quickchartButtonEl.disabled = true;  // To prevent multiple clicks.\n",
              "      quickchartButtonEl.classList.add('colab-df-spinner');\n",
              "      try {\n",
              "        const charts = await google.colab.kernel.invokeFunction(\n",
              "            'suggestCharts', [key], {});\n",
              "      } catch (error) {\n",
              "        console.error('Error during call to suggestCharts:', error);\n",
              "      }\n",
              "      quickchartButtonEl.classList.remove('colab-df-spinner');\n",
              "      quickchartButtonEl.classList.add('colab-df-quickchart-complete');\n",
              "    }\n",
              "    (() => {\n",
              "      let quickchartButtonEl =\n",
              "        document.querySelector('#df-b9763590-281f-437e-9694-a053669ca610 button');\n",
              "      quickchartButtonEl.style.display =\n",
              "        google.colab.kernel.accessAllowed ? 'block' : 'none';\n",
              "    })();\n",
              "  </script>\n",
              "</div>\n",
              "    </div>\n",
              "  </div>\n"
            ]
          },
          "metadata": {},
          "execution_count": 295
        }
      ]
    },
    {
      "cell_type": "code",
      "source": [
        "data.tail()"
      ],
      "metadata": {
        "id": "ivq2JI1nJXRa",
        "outputId": "ca3162c1-938d-46e5-d9f8-408f48fb33b3",
        "colab": {
          "base_uri": "https://localhost:8080/",
          "height": 206
        }
      },
      "execution_count": 296,
      "outputs": [
        {
          "output_type": "execute_result",
          "data": {
            "text/plain": [
              "                                                   name    price   brand  \\\n",
              "6438  Zenith Defy El Primero\\n21 TITANIUM 95.9000.90...   $9,790  Zenith   \n",
              "6439  Zenith Chronomaster Sport\\n41mm White 03.3100....   $8,450  Zenith   \n",
              "6440   Zenith El Primero\\n50th Anniversary A386 Limited  $16,500  Zenith   \n",
              "6441  Zenith Chronomaster Sport\\nWhite Dial Chronogr...   $9,000  Zenith   \n",
              "6442  Zenith El Primero Chronomaster\\n03.2040.400/69...   $6,833  Zenith   \n",
              "\n",
              "                        model                    ref       mvmt  casem  \\\n",
              "6438          Defy El Primero  95.9000.9004/78.M9000        NaN    NaN   \n",
              "6439       Chronomaster Sport  03.3100.3600/69.M3100        NaN    NaN   \n",
              "6440               El Primero    30.A386.400/69.C807        NaN    NaN   \n",
              "6441       Chronomaster Sport  03.3100.3600/69.M3100        NaN    NaN   \n",
              "6442  El Primero Chronomaster                    NaN  Automatic  Steel   \n",
              "\n",
              "       bracem                   yop       cond                 sex   size  \\\n",
              "6438      NaN                  2022  Very good  Men's watch/Unisex  44 mm   \n",
              "6439      NaN  2021 (Approximation)  Very good  Men's watch/Unisex  41 mm   \n",
              "6440      NaN                  2019  Very good  Men's watch/Unisex  38 mm   \n",
              "6441      NaN                  2021     Unworn  Men's watch/Unisex  41 mm   \n",
              "6442  Leather                  2019  Very good                 NaN  42 mm   \n",
              "\n",
              "     condition  \n",
              "6438       NaN  \n",
              "6439       NaN  \n",
              "6440       NaN  \n",
              "6441       NaN  \n",
              "6442       NaN  "
            ],
            "text/html": [
              "\n",
              "  <div id=\"df-e239a5fb-cf49-43cb-b2ba-d49afd6d1ea5\" class=\"colab-df-container\">\n",
              "    <div>\n",
              "<style scoped>\n",
              "    .dataframe tbody tr th:only-of-type {\n",
              "        vertical-align: middle;\n",
              "    }\n",
              "\n",
              "    .dataframe tbody tr th {\n",
              "        vertical-align: top;\n",
              "    }\n",
              "\n",
              "    .dataframe thead th {\n",
              "        text-align: right;\n",
              "    }\n",
              "</style>\n",
              "<table border=\"1\" class=\"dataframe\">\n",
              "  <thead>\n",
              "    <tr style=\"text-align: right;\">\n",
              "      <th></th>\n",
              "      <th>name</th>\n",
              "      <th>price</th>\n",
              "      <th>brand</th>\n",
              "      <th>model</th>\n",
              "      <th>ref</th>\n",
              "      <th>mvmt</th>\n",
              "      <th>casem</th>\n",
              "      <th>bracem</th>\n",
              "      <th>yop</th>\n",
              "      <th>cond</th>\n",
              "      <th>sex</th>\n",
              "      <th>size</th>\n",
              "      <th>condition</th>\n",
              "    </tr>\n",
              "  </thead>\n",
              "  <tbody>\n",
              "    <tr>\n",
              "      <th>6438</th>\n",
              "      <td>Zenith Defy El Primero\\n21 TITANIUM 95.9000.90...</td>\n",
              "      <td>$9,790</td>\n",
              "      <td>Zenith</td>\n",
              "      <td>Defy El Primero</td>\n",
              "      <td>95.9000.9004/78.M9000</td>\n",
              "      <td>NaN</td>\n",
              "      <td>NaN</td>\n",
              "      <td>NaN</td>\n",
              "      <td>2022</td>\n",
              "      <td>Very good</td>\n",
              "      <td>Men's watch/Unisex</td>\n",
              "      <td>44 mm</td>\n",
              "      <td>NaN</td>\n",
              "    </tr>\n",
              "    <tr>\n",
              "      <th>6439</th>\n",
              "      <td>Zenith Chronomaster Sport\\n41mm White 03.3100....</td>\n",
              "      <td>$8,450</td>\n",
              "      <td>Zenith</td>\n",
              "      <td>Chronomaster Sport</td>\n",
              "      <td>03.3100.3600/69.M3100</td>\n",
              "      <td>NaN</td>\n",
              "      <td>NaN</td>\n",
              "      <td>NaN</td>\n",
              "      <td>2021 (Approximation)</td>\n",
              "      <td>Very good</td>\n",
              "      <td>Men's watch/Unisex</td>\n",
              "      <td>41 mm</td>\n",
              "      <td>NaN</td>\n",
              "    </tr>\n",
              "    <tr>\n",
              "      <th>6440</th>\n",
              "      <td>Zenith El Primero\\n50th Anniversary A386 Limited</td>\n",
              "      <td>$16,500</td>\n",
              "      <td>Zenith</td>\n",
              "      <td>El Primero</td>\n",
              "      <td>30.A386.400/69.C807</td>\n",
              "      <td>NaN</td>\n",
              "      <td>NaN</td>\n",
              "      <td>NaN</td>\n",
              "      <td>2019</td>\n",
              "      <td>Very good</td>\n",
              "      <td>Men's watch/Unisex</td>\n",
              "      <td>38 mm</td>\n",
              "      <td>NaN</td>\n",
              "    </tr>\n",
              "    <tr>\n",
              "      <th>6441</th>\n",
              "      <td>Zenith Chronomaster Sport\\nWhite Dial Chronogr...</td>\n",
              "      <td>$9,000</td>\n",
              "      <td>Zenith</td>\n",
              "      <td>Chronomaster Sport</td>\n",
              "      <td>03.3100.3600/69.M3100</td>\n",
              "      <td>NaN</td>\n",
              "      <td>NaN</td>\n",
              "      <td>NaN</td>\n",
              "      <td>2021</td>\n",
              "      <td>Unworn</td>\n",
              "      <td>Men's watch/Unisex</td>\n",
              "      <td>41 mm</td>\n",
              "      <td>NaN</td>\n",
              "    </tr>\n",
              "    <tr>\n",
              "      <th>6442</th>\n",
              "      <td>Zenith El Primero Chronomaster\\n03.2040.400/69...</td>\n",
              "      <td>$6,833</td>\n",
              "      <td>Zenith</td>\n",
              "      <td>El Primero Chronomaster</td>\n",
              "      <td>NaN</td>\n",
              "      <td>Automatic</td>\n",
              "      <td>Steel</td>\n",
              "      <td>Leather</td>\n",
              "      <td>2019</td>\n",
              "      <td>Very good</td>\n",
              "      <td>NaN</td>\n",
              "      <td>42 mm</td>\n",
              "      <td>NaN</td>\n",
              "    </tr>\n",
              "  </tbody>\n",
              "</table>\n",
              "</div>\n",
              "    <div class=\"colab-df-buttons\">\n",
              "\n",
              "  <div class=\"colab-df-container\">\n",
              "    <button class=\"colab-df-convert\" onclick=\"convertToInteractive('df-e239a5fb-cf49-43cb-b2ba-d49afd6d1ea5')\"\n",
              "            title=\"Convert this dataframe to an interactive table.\"\n",
              "            style=\"display:none;\">\n",
              "\n",
              "  <svg xmlns=\"http://www.w3.org/2000/svg\" height=\"24px\" viewBox=\"0 -960 960 960\">\n",
              "    <path d=\"M120-120v-720h720v720H120Zm60-500h600v-160H180v160Zm220 220h160v-160H400v160Zm0 220h160v-160H400v160ZM180-400h160v-160H180v160Zm440 0h160v-160H620v160ZM180-180h160v-160H180v160Zm440 0h160v-160H620v160Z\"/>\n",
              "  </svg>\n",
              "    </button>\n",
              "\n",
              "  <style>\n",
              "    .colab-df-container {\n",
              "      display:flex;\n",
              "      gap: 12px;\n",
              "    }\n",
              "\n",
              "    .colab-df-convert {\n",
              "      background-color: #E8F0FE;\n",
              "      border: none;\n",
              "      border-radius: 50%;\n",
              "      cursor: pointer;\n",
              "      display: none;\n",
              "      fill: #1967D2;\n",
              "      height: 32px;\n",
              "      padding: 0 0 0 0;\n",
              "      width: 32px;\n",
              "    }\n",
              "\n",
              "    .colab-df-convert:hover {\n",
              "      background-color: #E2EBFA;\n",
              "      box-shadow: 0px 1px 2px rgba(60, 64, 67, 0.3), 0px 1px 3px 1px rgba(60, 64, 67, 0.15);\n",
              "      fill: #174EA6;\n",
              "    }\n",
              "\n",
              "    .colab-df-buttons div {\n",
              "      margin-bottom: 4px;\n",
              "    }\n",
              "\n",
              "    [theme=dark] .colab-df-convert {\n",
              "      background-color: #3B4455;\n",
              "      fill: #D2E3FC;\n",
              "    }\n",
              "\n",
              "    [theme=dark] .colab-df-convert:hover {\n",
              "      background-color: #434B5C;\n",
              "      box-shadow: 0px 1px 3px 1px rgba(0, 0, 0, 0.15);\n",
              "      filter: drop-shadow(0px 1px 2px rgba(0, 0, 0, 0.3));\n",
              "      fill: #FFFFFF;\n",
              "    }\n",
              "  </style>\n",
              "\n",
              "    <script>\n",
              "      const buttonEl =\n",
              "        document.querySelector('#df-e239a5fb-cf49-43cb-b2ba-d49afd6d1ea5 button.colab-df-convert');\n",
              "      buttonEl.style.display =\n",
              "        google.colab.kernel.accessAllowed ? 'block' : 'none';\n",
              "\n",
              "      async function convertToInteractive(key) {\n",
              "        const element = document.querySelector('#df-e239a5fb-cf49-43cb-b2ba-d49afd6d1ea5');\n",
              "        const dataTable =\n",
              "          await google.colab.kernel.invokeFunction('convertToInteractive',\n",
              "                                                    [key], {});\n",
              "        if (!dataTable) return;\n",
              "\n",
              "        const docLinkHtml = 'Like what you see? Visit the ' +\n",
              "          '<a target=\"_blank\" href=https://colab.research.google.com/notebooks/data_table.ipynb>data table notebook</a>'\n",
              "          + ' to learn more about interactive tables.';\n",
              "        element.innerHTML = '';\n",
              "        dataTable['output_type'] = 'display_data';\n",
              "        await google.colab.output.renderOutput(dataTable, element);\n",
              "        const docLink = document.createElement('div');\n",
              "        docLink.innerHTML = docLinkHtml;\n",
              "        element.appendChild(docLink);\n",
              "      }\n",
              "    </script>\n",
              "  </div>\n",
              "\n",
              "\n",
              "<div id=\"df-058ef861-989b-4d9d-bf7f-60442eccac8d\">\n",
              "  <button class=\"colab-df-quickchart\" onclick=\"quickchart('df-058ef861-989b-4d9d-bf7f-60442eccac8d')\"\n",
              "            title=\"Suggest charts\"\n",
              "            style=\"display:none;\">\n",
              "\n",
              "<svg xmlns=\"http://www.w3.org/2000/svg\" height=\"24px\"viewBox=\"0 0 24 24\"\n",
              "     width=\"24px\">\n",
              "    <g>\n",
              "        <path d=\"M19 3H5c-1.1 0-2 .9-2 2v14c0 1.1.9 2 2 2h14c1.1 0 2-.9 2-2V5c0-1.1-.9-2-2-2zM9 17H7v-7h2v7zm4 0h-2V7h2v10zm4 0h-2v-4h2v4z\"/>\n",
              "    </g>\n",
              "</svg>\n",
              "  </button>\n",
              "\n",
              "<style>\n",
              "  .colab-df-quickchart {\n",
              "      --bg-color: #E8F0FE;\n",
              "      --fill-color: #1967D2;\n",
              "      --hover-bg-color: #E2EBFA;\n",
              "      --hover-fill-color: #174EA6;\n",
              "      --disabled-fill-color: #AAA;\n",
              "      --disabled-bg-color: #DDD;\n",
              "  }\n",
              "\n",
              "  [theme=dark] .colab-df-quickchart {\n",
              "      --bg-color: #3B4455;\n",
              "      --fill-color: #D2E3FC;\n",
              "      --hover-bg-color: #434B5C;\n",
              "      --hover-fill-color: #FFFFFF;\n",
              "      --disabled-bg-color: #3B4455;\n",
              "      --disabled-fill-color: #666;\n",
              "  }\n",
              "\n",
              "  .colab-df-quickchart {\n",
              "    background-color: var(--bg-color);\n",
              "    border: none;\n",
              "    border-radius: 50%;\n",
              "    cursor: pointer;\n",
              "    display: none;\n",
              "    fill: var(--fill-color);\n",
              "    height: 32px;\n",
              "    padding: 0;\n",
              "    width: 32px;\n",
              "  }\n",
              "\n",
              "  .colab-df-quickchart:hover {\n",
              "    background-color: var(--hover-bg-color);\n",
              "    box-shadow: 0 1px 2px rgba(60, 64, 67, 0.3), 0 1px 3px 1px rgba(60, 64, 67, 0.15);\n",
              "    fill: var(--button-hover-fill-color);\n",
              "  }\n",
              "\n",
              "  .colab-df-quickchart-complete:disabled,\n",
              "  .colab-df-quickchart-complete:disabled:hover {\n",
              "    background-color: var(--disabled-bg-color);\n",
              "    fill: var(--disabled-fill-color);\n",
              "    box-shadow: none;\n",
              "  }\n",
              "\n",
              "  .colab-df-spinner {\n",
              "    border: 2px solid var(--fill-color);\n",
              "    border-color: transparent;\n",
              "    border-bottom-color: var(--fill-color);\n",
              "    animation:\n",
              "      spin 1s steps(1) infinite;\n",
              "  }\n",
              "\n",
              "  @keyframes spin {\n",
              "    0% {\n",
              "      border-color: transparent;\n",
              "      border-bottom-color: var(--fill-color);\n",
              "      border-left-color: var(--fill-color);\n",
              "    }\n",
              "    20% {\n",
              "      border-color: transparent;\n",
              "      border-left-color: var(--fill-color);\n",
              "      border-top-color: var(--fill-color);\n",
              "    }\n",
              "    30% {\n",
              "      border-color: transparent;\n",
              "      border-left-color: var(--fill-color);\n",
              "      border-top-color: var(--fill-color);\n",
              "      border-right-color: var(--fill-color);\n",
              "    }\n",
              "    40% {\n",
              "      border-color: transparent;\n",
              "      border-right-color: var(--fill-color);\n",
              "      border-top-color: var(--fill-color);\n",
              "    }\n",
              "    60% {\n",
              "      border-color: transparent;\n",
              "      border-right-color: var(--fill-color);\n",
              "    }\n",
              "    80% {\n",
              "      border-color: transparent;\n",
              "      border-right-color: var(--fill-color);\n",
              "      border-bottom-color: var(--fill-color);\n",
              "    }\n",
              "    90% {\n",
              "      border-color: transparent;\n",
              "      border-bottom-color: var(--fill-color);\n",
              "    }\n",
              "  }\n",
              "</style>\n",
              "\n",
              "  <script>\n",
              "    async function quickchart(key) {\n",
              "      const quickchartButtonEl =\n",
              "        document.querySelector('#' + key + ' button');\n",
              "      quickchartButtonEl.disabled = true;  // To prevent multiple clicks.\n",
              "      quickchartButtonEl.classList.add('colab-df-spinner');\n",
              "      try {\n",
              "        const charts = await google.colab.kernel.invokeFunction(\n",
              "            'suggestCharts', [key], {});\n",
              "      } catch (error) {\n",
              "        console.error('Error during call to suggestCharts:', error);\n",
              "      }\n",
              "      quickchartButtonEl.classList.remove('colab-df-spinner');\n",
              "      quickchartButtonEl.classList.add('colab-df-quickchart-complete');\n",
              "    }\n",
              "    (() => {\n",
              "      let quickchartButtonEl =\n",
              "        document.querySelector('#df-058ef861-989b-4d9d-bf7f-60442eccac8d button');\n",
              "      quickchartButtonEl.style.display =\n",
              "        google.colab.kernel.accessAllowed ? 'block' : 'none';\n",
              "    })();\n",
              "  </script>\n",
              "</div>\n",
              "    </div>\n",
              "  </div>\n"
            ]
          },
          "metadata": {},
          "execution_count": 296
        }
      ]
    },
    {
      "cell_type": "markdown",
      "source": [
        "Проверка данных"
      ],
      "metadata": {
        "id": "Uc4Omo-Bs8HF"
      }
    },
    {
      "cell_type": "code",
      "source": [
        "data.columns"
      ],
      "metadata": {
        "colab": {
          "base_uri": "https://localhost:8080/"
        },
        "id": "9NzT4rl-pfsO",
        "outputId": "2a7d1370-748a-40f4-c7ac-355f78ec664b"
      },
      "execution_count": 297,
      "outputs": [
        {
          "output_type": "execute_result",
          "data": {
            "text/plain": [
              "Index(['name', 'price', 'brand', 'model', 'ref', 'mvmt', 'casem', 'bracem',\n",
              "       'yop', 'cond', 'sex', 'size', 'condition'],\n",
              "      dtype='object')"
            ]
          },
          "metadata": {},
          "execution_count": 297
        }
      ]
    },
    {
      "cell_type": "code",
      "source": [
        "data.shape"
      ],
      "metadata": {
        "colab": {
          "base_uri": "https://localhost:8080/"
        },
        "id": "QOu_w2fTpkJ_",
        "outputId": "fbe6d7f8-d4cd-42e7-d446-ef45be7d9c98"
      },
      "execution_count": 298,
      "outputs": [
        {
          "output_type": "execute_result",
          "data": {
            "text/plain": [
              "(284491, 13)"
            ]
          },
          "metadata": {},
          "execution_count": 298
        }
      ]
    },
    {
      "cell_type": "code",
      "source": [
        "data.dtypes"
      ],
      "metadata": {
        "colab": {
          "base_uri": "https://localhost:8080/"
        },
        "id": "BQEnc3LVpobd",
        "outputId": "42706673-279e-452c-a3fc-2d22731820f9"
      },
      "execution_count": 299,
      "outputs": [
        {
          "output_type": "execute_result",
          "data": {
            "text/plain": [
              "name         object\n",
              "price        object\n",
              "brand        object\n",
              "model        object\n",
              "ref          object\n",
              "mvmt         object\n",
              "casem        object\n",
              "bracem       object\n",
              "yop          object\n",
              "cond         object\n",
              "sex          object\n",
              "size         object\n",
              "condition    object\n",
              "dtype: object"
            ]
          },
          "metadata": {},
          "execution_count": 299
        }
      ]
    },
    {
      "cell_type": "code",
      "source": [
        "data.isna().sum()"
      ],
      "metadata": {
        "colab": {
          "base_uri": "https://localhost:8080/"
        },
        "id": "6J16TRSoX5cS",
        "outputId": "8170564b-d2a3-45f3-9a56-e660415f94d3"
      },
      "execution_count": 300,
      "outputs": [
        {
          "output_type": "execute_result",
          "data": {
            "text/plain": [
              "name          72585\n",
              "price           406\n",
              "brand           131\n",
              "model         30466\n",
              "ref           43152\n",
              "mvmt         196685\n",
              "casem        164271\n",
              "bracem       174896\n",
              "yop             134\n",
              "cond          75987\n",
              "sex           95805\n",
              "size          23597\n",
              "condition    212922\n",
              "dtype: int64"
            ]
          },
          "metadata": {},
          "execution_count": 300
        }
      ]
    },
    {
      "cell_type": "code",
      "source": [
        "data.describe()"
      ],
      "metadata": {
        "colab": {
          "base_uri": "https://localhost:8080/",
          "height": 175
        },
        "id": "UytGyGLWBfTG",
        "outputId": "e81aa90a-5617-40cb-8ee2-d3e029d81953"
      },
      "execution_count": 301,
      "outputs": [
        {
          "output_type": "execute_result",
          "data": {
            "text/plain": [
              "                                                     name             price  \\\n",
              "count                                              211906            284085   \n",
              "unique                                             148689             36830   \n",
              "top     Omega Speedmaster Professional Moonwatch\\nCo-A...  Price on request   \n",
              "freq                                                  171             14259   \n",
              "\n",
              "         brand        model     ref       mvmt   casem  bracem      yop  \\\n",
              "count   284360       254025  241339      87806  120220  109595   284357   \n",
              "unique      28          948   33223          3      17      23      410   \n",
              "top      Rolex  Datejust 36  126334  Automatic   Steel   Steel  Unknown   \n",
              "freq     72484         9473    2081      65600   75793   49605    95957   \n",
              "\n",
              "             cond                 sex    size  condition  \n",
              "count      208504              188686  260894      71569  \n",
              "unique          7                   2    6699          7  \n",
              "top     Very good  Men's watch/Unisex   40 mm  Very good  \n",
              "freq        71604              158841   34254      36136  "
            ],
            "text/html": [
              "\n",
              "  <div id=\"df-596f5ab7-a6a2-49a1-8b04-e85506f0c864\" class=\"colab-df-container\">\n",
              "    <div>\n",
              "<style scoped>\n",
              "    .dataframe tbody tr th:only-of-type {\n",
              "        vertical-align: middle;\n",
              "    }\n",
              "\n",
              "    .dataframe tbody tr th {\n",
              "        vertical-align: top;\n",
              "    }\n",
              "\n",
              "    .dataframe thead th {\n",
              "        text-align: right;\n",
              "    }\n",
              "</style>\n",
              "<table border=\"1\" class=\"dataframe\">\n",
              "  <thead>\n",
              "    <tr style=\"text-align: right;\">\n",
              "      <th></th>\n",
              "      <th>name</th>\n",
              "      <th>price</th>\n",
              "      <th>brand</th>\n",
              "      <th>model</th>\n",
              "      <th>ref</th>\n",
              "      <th>mvmt</th>\n",
              "      <th>casem</th>\n",
              "      <th>bracem</th>\n",
              "      <th>yop</th>\n",
              "      <th>cond</th>\n",
              "      <th>sex</th>\n",
              "      <th>size</th>\n",
              "      <th>condition</th>\n",
              "    </tr>\n",
              "  </thead>\n",
              "  <tbody>\n",
              "    <tr>\n",
              "      <th>count</th>\n",
              "      <td>211906</td>\n",
              "      <td>284085</td>\n",
              "      <td>284360</td>\n",
              "      <td>254025</td>\n",
              "      <td>241339</td>\n",
              "      <td>87806</td>\n",
              "      <td>120220</td>\n",
              "      <td>109595</td>\n",
              "      <td>284357</td>\n",
              "      <td>208504</td>\n",
              "      <td>188686</td>\n",
              "      <td>260894</td>\n",
              "      <td>71569</td>\n",
              "    </tr>\n",
              "    <tr>\n",
              "      <th>unique</th>\n",
              "      <td>148689</td>\n",
              "      <td>36830</td>\n",
              "      <td>28</td>\n",
              "      <td>948</td>\n",
              "      <td>33223</td>\n",
              "      <td>3</td>\n",
              "      <td>17</td>\n",
              "      <td>23</td>\n",
              "      <td>410</td>\n",
              "      <td>7</td>\n",
              "      <td>2</td>\n",
              "      <td>6699</td>\n",
              "      <td>7</td>\n",
              "    </tr>\n",
              "    <tr>\n",
              "      <th>top</th>\n",
              "      <td>Omega Speedmaster Professional Moonwatch\\nCo-A...</td>\n",
              "      <td>Price on request</td>\n",
              "      <td>Rolex</td>\n",
              "      <td>Datejust 36</td>\n",
              "      <td>126334</td>\n",
              "      <td>Automatic</td>\n",
              "      <td>Steel</td>\n",
              "      <td>Steel</td>\n",
              "      <td>Unknown</td>\n",
              "      <td>Very good</td>\n",
              "      <td>Men's watch/Unisex</td>\n",
              "      <td>40 mm</td>\n",
              "      <td>Very good</td>\n",
              "    </tr>\n",
              "    <tr>\n",
              "      <th>freq</th>\n",
              "      <td>171</td>\n",
              "      <td>14259</td>\n",
              "      <td>72484</td>\n",
              "      <td>9473</td>\n",
              "      <td>2081</td>\n",
              "      <td>65600</td>\n",
              "      <td>75793</td>\n",
              "      <td>49605</td>\n",
              "      <td>95957</td>\n",
              "      <td>71604</td>\n",
              "      <td>158841</td>\n",
              "      <td>34254</td>\n",
              "      <td>36136</td>\n",
              "    </tr>\n",
              "  </tbody>\n",
              "</table>\n",
              "</div>\n",
              "    <div class=\"colab-df-buttons\">\n",
              "\n",
              "  <div class=\"colab-df-container\">\n",
              "    <button class=\"colab-df-convert\" onclick=\"convertToInteractive('df-596f5ab7-a6a2-49a1-8b04-e85506f0c864')\"\n",
              "            title=\"Convert this dataframe to an interactive table.\"\n",
              "            style=\"display:none;\">\n",
              "\n",
              "  <svg xmlns=\"http://www.w3.org/2000/svg\" height=\"24px\" viewBox=\"0 -960 960 960\">\n",
              "    <path d=\"M120-120v-720h720v720H120Zm60-500h600v-160H180v160Zm220 220h160v-160H400v160Zm0 220h160v-160H400v160ZM180-400h160v-160H180v160Zm440 0h160v-160H620v160ZM180-180h160v-160H180v160Zm440 0h160v-160H620v160Z\"/>\n",
              "  </svg>\n",
              "    </button>\n",
              "\n",
              "  <style>\n",
              "    .colab-df-container {\n",
              "      display:flex;\n",
              "      gap: 12px;\n",
              "    }\n",
              "\n",
              "    .colab-df-convert {\n",
              "      background-color: #E8F0FE;\n",
              "      border: none;\n",
              "      border-radius: 50%;\n",
              "      cursor: pointer;\n",
              "      display: none;\n",
              "      fill: #1967D2;\n",
              "      height: 32px;\n",
              "      padding: 0 0 0 0;\n",
              "      width: 32px;\n",
              "    }\n",
              "\n",
              "    .colab-df-convert:hover {\n",
              "      background-color: #E2EBFA;\n",
              "      box-shadow: 0px 1px 2px rgba(60, 64, 67, 0.3), 0px 1px 3px 1px rgba(60, 64, 67, 0.15);\n",
              "      fill: #174EA6;\n",
              "    }\n",
              "\n",
              "    .colab-df-buttons div {\n",
              "      margin-bottom: 4px;\n",
              "    }\n",
              "\n",
              "    [theme=dark] .colab-df-convert {\n",
              "      background-color: #3B4455;\n",
              "      fill: #D2E3FC;\n",
              "    }\n",
              "\n",
              "    [theme=dark] .colab-df-convert:hover {\n",
              "      background-color: #434B5C;\n",
              "      box-shadow: 0px 1px 3px 1px rgba(0, 0, 0, 0.15);\n",
              "      filter: drop-shadow(0px 1px 2px rgba(0, 0, 0, 0.3));\n",
              "      fill: #FFFFFF;\n",
              "    }\n",
              "  </style>\n",
              "\n",
              "    <script>\n",
              "      const buttonEl =\n",
              "        document.querySelector('#df-596f5ab7-a6a2-49a1-8b04-e85506f0c864 button.colab-df-convert');\n",
              "      buttonEl.style.display =\n",
              "        google.colab.kernel.accessAllowed ? 'block' : 'none';\n",
              "\n",
              "      async function convertToInteractive(key) {\n",
              "        const element = document.querySelector('#df-596f5ab7-a6a2-49a1-8b04-e85506f0c864');\n",
              "        const dataTable =\n",
              "          await google.colab.kernel.invokeFunction('convertToInteractive',\n",
              "                                                    [key], {});\n",
              "        if (!dataTable) return;\n",
              "\n",
              "        const docLinkHtml = 'Like what you see? Visit the ' +\n",
              "          '<a target=\"_blank\" href=https://colab.research.google.com/notebooks/data_table.ipynb>data table notebook</a>'\n",
              "          + ' to learn more about interactive tables.';\n",
              "        element.innerHTML = '';\n",
              "        dataTable['output_type'] = 'display_data';\n",
              "        await google.colab.output.renderOutput(dataTable, element);\n",
              "        const docLink = document.createElement('div');\n",
              "        docLink.innerHTML = docLinkHtml;\n",
              "        element.appendChild(docLink);\n",
              "      }\n",
              "    </script>\n",
              "  </div>\n",
              "\n",
              "\n",
              "<div id=\"df-6e5996c8-d468-4f41-bfa6-fb169fe023fa\">\n",
              "  <button class=\"colab-df-quickchart\" onclick=\"quickchart('df-6e5996c8-d468-4f41-bfa6-fb169fe023fa')\"\n",
              "            title=\"Suggest charts\"\n",
              "            style=\"display:none;\">\n",
              "\n",
              "<svg xmlns=\"http://www.w3.org/2000/svg\" height=\"24px\"viewBox=\"0 0 24 24\"\n",
              "     width=\"24px\">\n",
              "    <g>\n",
              "        <path d=\"M19 3H5c-1.1 0-2 .9-2 2v14c0 1.1.9 2 2 2h14c1.1 0 2-.9 2-2V5c0-1.1-.9-2-2-2zM9 17H7v-7h2v7zm4 0h-2V7h2v10zm4 0h-2v-4h2v4z\"/>\n",
              "    </g>\n",
              "</svg>\n",
              "  </button>\n",
              "\n",
              "<style>\n",
              "  .colab-df-quickchart {\n",
              "      --bg-color: #E8F0FE;\n",
              "      --fill-color: #1967D2;\n",
              "      --hover-bg-color: #E2EBFA;\n",
              "      --hover-fill-color: #174EA6;\n",
              "      --disabled-fill-color: #AAA;\n",
              "      --disabled-bg-color: #DDD;\n",
              "  }\n",
              "\n",
              "  [theme=dark] .colab-df-quickchart {\n",
              "      --bg-color: #3B4455;\n",
              "      --fill-color: #D2E3FC;\n",
              "      --hover-bg-color: #434B5C;\n",
              "      --hover-fill-color: #FFFFFF;\n",
              "      --disabled-bg-color: #3B4455;\n",
              "      --disabled-fill-color: #666;\n",
              "  }\n",
              "\n",
              "  .colab-df-quickchart {\n",
              "    background-color: var(--bg-color);\n",
              "    border: none;\n",
              "    border-radius: 50%;\n",
              "    cursor: pointer;\n",
              "    display: none;\n",
              "    fill: var(--fill-color);\n",
              "    height: 32px;\n",
              "    padding: 0;\n",
              "    width: 32px;\n",
              "  }\n",
              "\n",
              "  .colab-df-quickchart:hover {\n",
              "    background-color: var(--hover-bg-color);\n",
              "    box-shadow: 0 1px 2px rgba(60, 64, 67, 0.3), 0 1px 3px 1px rgba(60, 64, 67, 0.15);\n",
              "    fill: var(--button-hover-fill-color);\n",
              "  }\n",
              "\n",
              "  .colab-df-quickchart-complete:disabled,\n",
              "  .colab-df-quickchart-complete:disabled:hover {\n",
              "    background-color: var(--disabled-bg-color);\n",
              "    fill: var(--disabled-fill-color);\n",
              "    box-shadow: none;\n",
              "  }\n",
              "\n",
              "  .colab-df-spinner {\n",
              "    border: 2px solid var(--fill-color);\n",
              "    border-color: transparent;\n",
              "    border-bottom-color: var(--fill-color);\n",
              "    animation:\n",
              "      spin 1s steps(1) infinite;\n",
              "  }\n",
              "\n",
              "  @keyframes spin {\n",
              "    0% {\n",
              "      border-color: transparent;\n",
              "      border-bottom-color: var(--fill-color);\n",
              "      border-left-color: var(--fill-color);\n",
              "    }\n",
              "    20% {\n",
              "      border-color: transparent;\n",
              "      border-left-color: var(--fill-color);\n",
              "      border-top-color: var(--fill-color);\n",
              "    }\n",
              "    30% {\n",
              "      border-color: transparent;\n",
              "      border-left-color: var(--fill-color);\n",
              "      border-top-color: var(--fill-color);\n",
              "      border-right-color: var(--fill-color);\n",
              "    }\n",
              "    40% {\n",
              "      border-color: transparent;\n",
              "      border-right-color: var(--fill-color);\n",
              "      border-top-color: var(--fill-color);\n",
              "    }\n",
              "    60% {\n",
              "      border-color: transparent;\n",
              "      border-right-color: var(--fill-color);\n",
              "    }\n",
              "    80% {\n",
              "      border-color: transparent;\n",
              "      border-right-color: var(--fill-color);\n",
              "      border-bottom-color: var(--fill-color);\n",
              "    }\n",
              "    90% {\n",
              "      border-color: transparent;\n",
              "      border-bottom-color: var(--fill-color);\n",
              "    }\n",
              "  }\n",
              "</style>\n",
              "\n",
              "  <script>\n",
              "    async function quickchart(key) {\n",
              "      const quickchartButtonEl =\n",
              "        document.querySelector('#' + key + ' button');\n",
              "      quickchartButtonEl.disabled = true;  // To prevent multiple clicks.\n",
              "      quickchartButtonEl.classList.add('colab-df-spinner');\n",
              "      try {\n",
              "        const charts = await google.colab.kernel.invokeFunction(\n",
              "            'suggestCharts', [key], {});\n",
              "      } catch (error) {\n",
              "        console.error('Error during call to suggestCharts:', error);\n",
              "      }\n",
              "      quickchartButtonEl.classList.remove('colab-df-spinner');\n",
              "      quickchartButtonEl.classList.add('colab-df-quickchart-complete');\n",
              "    }\n",
              "    (() => {\n",
              "      let quickchartButtonEl =\n",
              "        document.querySelector('#df-6e5996c8-d468-4f41-bfa6-fb169fe023fa button');\n",
              "      quickchartButtonEl.style.display =\n",
              "        google.colab.kernel.accessAllowed ? 'block' : 'none';\n",
              "    })();\n",
              "  </script>\n",
              "</div>\n",
              "    </div>\n",
              "  </div>\n"
            ]
          },
          "metadata": {},
          "execution_count": 301
        }
      ]
    },
    {
      "cell_type": "code",
      "source": [
        "data['brand'].unique()"
      ],
      "metadata": {
        "colab": {
          "base_uri": "https://localhost:8080/"
        },
        "id": "RIDvGlEOVJRx",
        "outputId": "1af579a7-cb56-4f81-d1f1-688de49cd94f"
      },
      "execution_count": 302,
      "outputs": [
        {
          "output_type": "execute_result",
          "data": {
            "text/plain": [
              "array(['Audemars Piguet', 'Cartier', 'Tudor', nan, 'Breitling', 'Oris',\n",
              "       'Richard Mille', 'Hublot', 'IWC', 'Jaeger-LeCoultre', 'Longines',\n",
              "       'Omega', 'Panerai', 'Patek Philippe', 'Rolex', 'Seiko', 'Sinn',\n",
              "       'Edox', 'NOMOS', 'Zenith', 'Tissot', 'Hamilton', 'Meistersinger',\n",
              "       'Rado', 'Montblanc', 'TAG Heuer', 'Ebel', 'A. Lange & Söhne',\n",
              "       'Vacheron Constantin'], dtype=object)"
            ]
          },
          "metadata": {},
          "execution_count": 302
        }
      ]
    },
    {
      "cell_type": "code",
      "source": [
        "data['mvmt'].unique()"
      ],
      "metadata": {
        "colab": {
          "base_uri": "https://localhost:8080/"
        },
        "id": "7SXWy6DYWDCE",
        "outputId": "ef379248-cdb4-49a4-a1ba-12b83a58c810"
      },
      "execution_count": 303,
      "outputs": [
        {
          "output_type": "execute_result",
          "data": {
            "text/plain": [
              "array([nan, 'Automatic', 'Manual winding', 'Quartz'], dtype=object)"
            ]
          },
          "metadata": {},
          "execution_count": 303
        }
      ]
    },
    {
      "cell_type": "code",
      "source": [
        "data['casem'].unique()"
      ],
      "metadata": {
        "colab": {
          "base_uri": "https://localhost:8080/"
        },
        "id": "1ePphs61WJUG",
        "outputId": "944bafd0-64d3-4b1e-e6d6-a29b3e01aad9"
      },
      "execution_count": 304,
      "outputs": [
        {
          "output_type": "execute_result",
          "data": {
            "text/plain": [
              "array([nan, 'Steel', 'Titanium', 'White gold', 'Ceramic', 'Rose gold',\n",
              "       'Yellow gold', 'Gold/Steel', 'Platinum', 'Carbon', 'Red gold',\n",
              "       'Tantalum', 'Aluminum', 'Bronze', 'Plastic', 'Silver', 'Palladium',\n",
              "       'Tungsten'], dtype=object)"
            ]
          },
          "metadata": {},
          "execution_count": 304
        }
      ]
    },
    {
      "cell_type": "code",
      "source": [
        "data['bracem'].unique()"
      ],
      "metadata": {
        "colab": {
          "base_uri": "https://localhost:8080/"
        },
        "id": "Njxvg29oWPrT",
        "outputId": "faae2094-fb9c-4bb1-f6be-a54209324549"
      },
      "execution_count": 305,
      "outputs": [
        {
          "output_type": "execute_result",
          "data": {
            "text/plain": [
              "array([nan, 'Steel', 'Rubber', 'Crocodile skin', 'White gold', 'Ceramic',\n",
              "       'Rose gold', 'Yellow gold', 'Titanium', 'Calf skin', 'Gold/Steel',\n",
              "       'Leather', 'Platinum', 'Satin', 'Textile', 'Red gold',\n",
              "       'Lizard skin', 'Plastic', 'Aluminium', 'Silicon', 'Shark skin',\n",
              "       'Silver', 'Snake skin', 'Ostrich skin'], dtype=object)"
            ]
          },
          "metadata": {},
          "execution_count": 305
        }
      ]
    },
    {
      "cell_type": "code",
      "source": [
        "data['cond'].unique()"
      ],
      "metadata": {
        "colab": {
          "base_uri": "https://localhost:8080/"
        },
        "id": "NkovVOCEWU_C",
        "outputId": "5da99010-fec9-4ce0-e4fa-6af9fa1ec01e"
      },
      "execution_count": 306,
      "outputs": [
        {
          "output_type": "execute_result",
          "data": {
            "text/plain": [
              "array(['Unworn', 'Very good', 'New', 'Good', 'Fair', nan, 'Poor',\n",
              "       'Incomplete'], dtype=object)"
            ]
          },
          "metadata": {},
          "execution_count": 306
        }
      ]
    },
    {
      "cell_type": "code",
      "source": [
        "data['sex'].unique()"
      ],
      "metadata": {
        "colab": {
          "base_uri": "https://localhost:8080/"
        },
        "id": "chbIS83kWZ4Z",
        "outputId": "b1d3918a-3e16-476b-ccc7-2d08fdba9fc2"
      },
      "execution_count": 307,
      "outputs": [
        {
          "output_type": "execute_result",
          "data": {
            "text/plain": [
              "array([\"Men's watch/Unisex\", nan, \"Women's watch\"], dtype=object)"
            ]
          },
          "metadata": {},
          "execution_count": 307
        }
      ]
    },
    {
      "cell_type": "code",
      "source": [
        "data['size'].unique()"
      ],
      "metadata": {
        "colab": {
          "base_uri": "https://localhost:8080/"
        },
        "id": "6eqvLNk5WcC5",
        "outputId": "199ad19b-acbc-43de-a532-2d62f8c41dd1"
      },
      "execution_count": 308,
      "outputs": [
        {
          "output_type": "execute_result",
          "data": {
            "text/plain": [
              "array(['42 mm', '39 mm', '41 mm', ..., '40 x 10.75 mm', '46 x 17 mm',\n",
              "       '48 x 57.5 mm'], dtype=object)"
            ]
          },
          "metadata": {},
          "execution_count": 308
        }
      ]
    },
    {
      "cell_type": "code",
      "source": [
        "data['condition'].unique()"
      ],
      "metadata": {
        "colab": {
          "base_uri": "https://localhost:8080/"
        },
        "id": "UKccZLRJWkKB",
        "outputId": "b16b6be1-4918-4b92-a7f4-3ace689225f5"
      },
      "execution_count": 309,
      "outputs": [
        {
          "output_type": "execute_result",
          "data": {
            "text/plain": [
              "array([nan, 'Very good', 'Unworn', 'Good', 'Fair', 'New', 'Poor',\n",
              "       'Incomplete'], dtype=object)"
            ]
          },
          "metadata": {},
          "execution_count": 309
        }
      ]
    },
    {
      "cell_type": "markdown",
      "source": [
        "Ищем и удаляем дублирующиеся ячейки"
      ],
      "metadata": {
        "id": "0qprSJ2b8FLJ"
      }
    },
    {
      "cell_type": "code",
      "source": [
        "data.isna().sum()"
      ],
      "metadata": {
        "colab": {
          "base_uri": "https://localhost:8080/"
        },
        "id": "OhV8O0hZp1nv",
        "outputId": "916592e4-bdc3-4bab-c16a-9461ed7b6cec"
      },
      "execution_count": 310,
      "outputs": [
        {
          "output_type": "execute_result",
          "data": {
            "text/plain": [
              "name          72585\n",
              "price           406\n",
              "brand           131\n",
              "model         30466\n",
              "ref           43152\n",
              "mvmt         196685\n",
              "casem        164271\n",
              "bracem       174896\n",
              "yop             134\n",
              "cond          75987\n",
              "sex           95805\n",
              "size          23597\n",
              "condition    212922\n",
              "dtype: int64"
            ]
          },
          "metadata": {},
          "execution_count": 310
        }
      ]
    },
    {
      "cell_type": "code",
      "source": [
        "data.duplicated().sum()"
      ],
      "metadata": {
        "colab": {
          "base_uri": "https://localhost:8080/"
        },
        "id": "ScD2nY3zqxdH",
        "outputId": "e78df064-5e86-44a9-f41a-ceb34ee7545e"
      },
      "execution_count": 311,
      "outputs": [
        {
          "output_type": "execute_result",
          "data": {
            "text/plain": [
              "11398"
            ]
          },
          "metadata": {},
          "execution_count": 311
        }
      ]
    },
    {
      "cell_type": "code",
      "source": [
        "data=data.drop_duplicates()"
      ],
      "metadata": {
        "id": "7ZDD-zHkrLW9"
      },
      "execution_count": 312,
      "outputs": []
    },
    {
      "cell_type": "code",
      "source": [
        "data.describe()"
      ],
      "metadata": {
        "colab": {
          "base_uri": "https://localhost:8080/",
          "height": 175
        },
        "id": "NJDNE-BN3M2n",
        "outputId": "61c8bf66-4900-4fae-e57c-f87b9984161f"
      },
      "execution_count": 313,
      "outputs": [
        {
          "output_type": "execute_result",
          "data": {
            "text/plain": [
              "                                                     name             price  \\\n",
              "count                                              206862            272783   \n",
              "unique                                             148689             36830   \n",
              "top     Omega Speedmaster Professional Moonwatch\\nCo-A...  Price on request   \n",
              "freq                                                  169             11934   \n",
              "\n",
              "         brand        model     ref       mvmt   casem  bracem      yop  \\\n",
              "count   273028       243114  230967      84667  113932  104257   273025   \n",
              "unique      28          948   33223          3      17      23      410   \n",
              "top      Rolex  Datejust 36  126334  Automatic   Steel   Steel  Unknown   \n",
              "freq     66130         8357    1731      63144   72373   47387    91387   \n",
              "\n",
              "             cond                 sex    size  condition  \n",
              "count      203593              184005  250359      65258  \n",
              "unique          7                   2    6699          7  \n",
              "top     Very good  Men's watch/Unisex   40 mm  Very good  \n",
              "freq        71007              155235   32650      33267  "
            ],
            "text/html": [
              "\n",
              "  <div id=\"df-669accaf-fa59-4d45-b9c2-ca515e67cc2d\" class=\"colab-df-container\">\n",
              "    <div>\n",
              "<style scoped>\n",
              "    .dataframe tbody tr th:only-of-type {\n",
              "        vertical-align: middle;\n",
              "    }\n",
              "\n",
              "    .dataframe tbody tr th {\n",
              "        vertical-align: top;\n",
              "    }\n",
              "\n",
              "    .dataframe thead th {\n",
              "        text-align: right;\n",
              "    }\n",
              "</style>\n",
              "<table border=\"1\" class=\"dataframe\">\n",
              "  <thead>\n",
              "    <tr style=\"text-align: right;\">\n",
              "      <th></th>\n",
              "      <th>name</th>\n",
              "      <th>price</th>\n",
              "      <th>brand</th>\n",
              "      <th>model</th>\n",
              "      <th>ref</th>\n",
              "      <th>mvmt</th>\n",
              "      <th>casem</th>\n",
              "      <th>bracem</th>\n",
              "      <th>yop</th>\n",
              "      <th>cond</th>\n",
              "      <th>sex</th>\n",
              "      <th>size</th>\n",
              "      <th>condition</th>\n",
              "    </tr>\n",
              "  </thead>\n",
              "  <tbody>\n",
              "    <tr>\n",
              "      <th>count</th>\n",
              "      <td>206862</td>\n",
              "      <td>272783</td>\n",
              "      <td>273028</td>\n",
              "      <td>243114</td>\n",
              "      <td>230967</td>\n",
              "      <td>84667</td>\n",
              "      <td>113932</td>\n",
              "      <td>104257</td>\n",
              "      <td>273025</td>\n",
              "      <td>203593</td>\n",
              "      <td>184005</td>\n",
              "      <td>250359</td>\n",
              "      <td>65258</td>\n",
              "    </tr>\n",
              "    <tr>\n",
              "      <th>unique</th>\n",
              "      <td>148689</td>\n",
              "      <td>36830</td>\n",
              "      <td>28</td>\n",
              "      <td>948</td>\n",
              "      <td>33223</td>\n",
              "      <td>3</td>\n",
              "      <td>17</td>\n",
              "      <td>23</td>\n",
              "      <td>410</td>\n",
              "      <td>7</td>\n",
              "      <td>2</td>\n",
              "      <td>6699</td>\n",
              "      <td>7</td>\n",
              "    </tr>\n",
              "    <tr>\n",
              "      <th>top</th>\n",
              "      <td>Omega Speedmaster Professional Moonwatch\\nCo-A...</td>\n",
              "      <td>Price on request</td>\n",
              "      <td>Rolex</td>\n",
              "      <td>Datejust 36</td>\n",
              "      <td>126334</td>\n",
              "      <td>Automatic</td>\n",
              "      <td>Steel</td>\n",
              "      <td>Steel</td>\n",
              "      <td>Unknown</td>\n",
              "      <td>Very good</td>\n",
              "      <td>Men's watch/Unisex</td>\n",
              "      <td>40 mm</td>\n",
              "      <td>Very good</td>\n",
              "    </tr>\n",
              "    <tr>\n",
              "      <th>freq</th>\n",
              "      <td>169</td>\n",
              "      <td>11934</td>\n",
              "      <td>66130</td>\n",
              "      <td>8357</td>\n",
              "      <td>1731</td>\n",
              "      <td>63144</td>\n",
              "      <td>72373</td>\n",
              "      <td>47387</td>\n",
              "      <td>91387</td>\n",
              "      <td>71007</td>\n",
              "      <td>155235</td>\n",
              "      <td>32650</td>\n",
              "      <td>33267</td>\n",
              "    </tr>\n",
              "  </tbody>\n",
              "</table>\n",
              "</div>\n",
              "    <div class=\"colab-df-buttons\">\n",
              "\n",
              "  <div class=\"colab-df-container\">\n",
              "    <button class=\"colab-df-convert\" onclick=\"convertToInteractive('df-669accaf-fa59-4d45-b9c2-ca515e67cc2d')\"\n",
              "            title=\"Convert this dataframe to an interactive table.\"\n",
              "            style=\"display:none;\">\n",
              "\n",
              "  <svg xmlns=\"http://www.w3.org/2000/svg\" height=\"24px\" viewBox=\"0 -960 960 960\">\n",
              "    <path d=\"M120-120v-720h720v720H120Zm60-500h600v-160H180v160Zm220 220h160v-160H400v160Zm0 220h160v-160H400v160ZM180-400h160v-160H180v160Zm440 0h160v-160H620v160ZM180-180h160v-160H180v160Zm440 0h160v-160H620v160Z\"/>\n",
              "  </svg>\n",
              "    </button>\n",
              "\n",
              "  <style>\n",
              "    .colab-df-container {\n",
              "      display:flex;\n",
              "      gap: 12px;\n",
              "    }\n",
              "\n",
              "    .colab-df-convert {\n",
              "      background-color: #E8F0FE;\n",
              "      border: none;\n",
              "      border-radius: 50%;\n",
              "      cursor: pointer;\n",
              "      display: none;\n",
              "      fill: #1967D2;\n",
              "      height: 32px;\n",
              "      padding: 0 0 0 0;\n",
              "      width: 32px;\n",
              "    }\n",
              "\n",
              "    .colab-df-convert:hover {\n",
              "      background-color: #E2EBFA;\n",
              "      box-shadow: 0px 1px 2px rgba(60, 64, 67, 0.3), 0px 1px 3px 1px rgba(60, 64, 67, 0.15);\n",
              "      fill: #174EA6;\n",
              "    }\n",
              "\n",
              "    .colab-df-buttons div {\n",
              "      margin-bottom: 4px;\n",
              "    }\n",
              "\n",
              "    [theme=dark] .colab-df-convert {\n",
              "      background-color: #3B4455;\n",
              "      fill: #D2E3FC;\n",
              "    }\n",
              "\n",
              "    [theme=dark] .colab-df-convert:hover {\n",
              "      background-color: #434B5C;\n",
              "      box-shadow: 0px 1px 3px 1px rgba(0, 0, 0, 0.15);\n",
              "      filter: drop-shadow(0px 1px 2px rgba(0, 0, 0, 0.3));\n",
              "      fill: #FFFFFF;\n",
              "    }\n",
              "  </style>\n",
              "\n",
              "    <script>\n",
              "      const buttonEl =\n",
              "        document.querySelector('#df-669accaf-fa59-4d45-b9c2-ca515e67cc2d button.colab-df-convert');\n",
              "      buttonEl.style.display =\n",
              "        google.colab.kernel.accessAllowed ? 'block' : 'none';\n",
              "\n",
              "      async function convertToInteractive(key) {\n",
              "        const element = document.querySelector('#df-669accaf-fa59-4d45-b9c2-ca515e67cc2d');\n",
              "        const dataTable =\n",
              "          await google.colab.kernel.invokeFunction('convertToInteractive',\n",
              "                                                    [key], {});\n",
              "        if (!dataTable) return;\n",
              "\n",
              "        const docLinkHtml = 'Like what you see? Visit the ' +\n",
              "          '<a target=\"_blank\" href=https://colab.research.google.com/notebooks/data_table.ipynb>data table notebook</a>'\n",
              "          + ' to learn more about interactive tables.';\n",
              "        element.innerHTML = '';\n",
              "        dataTable['output_type'] = 'display_data';\n",
              "        await google.colab.output.renderOutput(dataTable, element);\n",
              "        const docLink = document.createElement('div');\n",
              "        docLink.innerHTML = docLinkHtml;\n",
              "        element.appendChild(docLink);\n",
              "      }\n",
              "    </script>\n",
              "  </div>\n",
              "\n",
              "\n",
              "<div id=\"df-1b180d8e-c8b6-449c-a09f-3c21a465dcda\">\n",
              "  <button class=\"colab-df-quickchart\" onclick=\"quickchart('df-1b180d8e-c8b6-449c-a09f-3c21a465dcda')\"\n",
              "            title=\"Suggest charts\"\n",
              "            style=\"display:none;\">\n",
              "\n",
              "<svg xmlns=\"http://www.w3.org/2000/svg\" height=\"24px\"viewBox=\"0 0 24 24\"\n",
              "     width=\"24px\">\n",
              "    <g>\n",
              "        <path d=\"M19 3H5c-1.1 0-2 .9-2 2v14c0 1.1.9 2 2 2h14c1.1 0 2-.9 2-2V5c0-1.1-.9-2-2-2zM9 17H7v-7h2v7zm4 0h-2V7h2v10zm4 0h-2v-4h2v4z\"/>\n",
              "    </g>\n",
              "</svg>\n",
              "  </button>\n",
              "\n",
              "<style>\n",
              "  .colab-df-quickchart {\n",
              "      --bg-color: #E8F0FE;\n",
              "      --fill-color: #1967D2;\n",
              "      --hover-bg-color: #E2EBFA;\n",
              "      --hover-fill-color: #174EA6;\n",
              "      --disabled-fill-color: #AAA;\n",
              "      --disabled-bg-color: #DDD;\n",
              "  }\n",
              "\n",
              "  [theme=dark] .colab-df-quickchart {\n",
              "      --bg-color: #3B4455;\n",
              "      --fill-color: #D2E3FC;\n",
              "      --hover-bg-color: #434B5C;\n",
              "      --hover-fill-color: #FFFFFF;\n",
              "      --disabled-bg-color: #3B4455;\n",
              "      --disabled-fill-color: #666;\n",
              "  }\n",
              "\n",
              "  .colab-df-quickchart {\n",
              "    background-color: var(--bg-color);\n",
              "    border: none;\n",
              "    border-radius: 50%;\n",
              "    cursor: pointer;\n",
              "    display: none;\n",
              "    fill: var(--fill-color);\n",
              "    height: 32px;\n",
              "    padding: 0;\n",
              "    width: 32px;\n",
              "  }\n",
              "\n",
              "  .colab-df-quickchart:hover {\n",
              "    background-color: var(--hover-bg-color);\n",
              "    box-shadow: 0 1px 2px rgba(60, 64, 67, 0.3), 0 1px 3px 1px rgba(60, 64, 67, 0.15);\n",
              "    fill: var(--button-hover-fill-color);\n",
              "  }\n",
              "\n",
              "  .colab-df-quickchart-complete:disabled,\n",
              "  .colab-df-quickchart-complete:disabled:hover {\n",
              "    background-color: var(--disabled-bg-color);\n",
              "    fill: var(--disabled-fill-color);\n",
              "    box-shadow: none;\n",
              "  }\n",
              "\n",
              "  .colab-df-spinner {\n",
              "    border: 2px solid var(--fill-color);\n",
              "    border-color: transparent;\n",
              "    border-bottom-color: var(--fill-color);\n",
              "    animation:\n",
              "      spin 1s steps(1) infinite;\n",
              "  }\n",
              "\n",
              "  @keyframes spin {\n",
              "    0% {\n",
              "      border-color: transparent;\n",
              "      border-bottom-color: var(--fill-color);\n",
              "      border-left-color: var(--fill-color);\n",
              "    }\n",
              "    20% {\n",
              "      border-color: transparent;\n",
              "      border-left-color: var(--fill-color);\n",
              "      border-top-color: var(--fill-color);\n",
              "    }\n",
              "    30% {\n",
              "      border-color: transparent;\n",
              "      border-left-color: var(--fill-color);\n",
              "      border-top-color: var(--fill-color);\n",
              "      border-right-color: var(--fill-color);\n",
              "    }\n",
              "    40% {\n",
              "      border-color: transparent;\n",
              "      border-right-color: var(--fill-color);\n",
              "      border-top-color: var(--fill-color);\n",
              "    }\n",
              "    60% {\n",
              "      border-color: transparent;\n",
              "      border-right-color: var(--fill-color);\n",
              "    }\n",
              "    80% {\n",
              "      border-color: transparent;\n",
              "      border-right-color: var(--fill-color);\n",
              "      border-bottom-color: var(--fill-color);\n",
              "    }\n",
              "    90% {\n",
              "      border-color: transparent;\n",
              "      border-bottom-color: var(--fill-color);\n",
              "    }\n",
              "  }\n",
              "</style>\n",
              "\n",
              "  <script>\n",
              "    async function quickchart(key) {\n",
              "      const quickchartButtonEl =\n",
              "        document.querySelector('#' + key + ' button');\n",
              "      quickchartButtonEl.disabled = true;  // To prevent multiple clicks.\n",
              "      quickchartButtonEl.classList.add('colab-df-spinner');\n",
              "      try {\n",
              "        const charts = await google.colab.kernel.invokeFunction(\n",
              "            'suggestCharts', [key], {});\n",
              "      } catch (error) {\n",
              "        console.error('Error during call to suggestCharts:', error);\n",
              "      }\n",
              "      quickchartButtonEl.classList.remove('colab-df-spinner');\n",
              "      quickchartButtonEl.classList.add('colab-df-quickchart-complete');\n",
              "    }\n",
              "    (() => {\n",
              "      let quickchartButtonEl =\n",
              "        document.querySelector('#df-1b180d8e-c8b6-449c-a09f-3c21a465dcda button');\n",
              "      quickchartButtonEl.style.display =\n",
              "        google.colab.kernel.accessAllowed ? 'block' : 'none';\n",
              "    })();\n",
              "  </script>\n",
              "</div>\n",
              "    </div>\n",
              "  </div>\n"
            ]
          },
          "metadata": {},
          "execution_count": 313
        }
      ]
    },
    {
      "cell_type": "code",
      "source": [
        "data['condition'].notna().sum()+data['cond'].notna().sum()"
      ],
      "metadata": {
        "colab": {
          "base_uri": "https://localhost:8080/"
        },
        "id": "u6hMo9ZQ3YEe",
        "outputId": "d8acf4dc-5984-4f6f-ab19-02192f9a1324"
      },
      "execution_count": 314,
      "outputs": [
        {
          "output_type": "execute_result",
          "data": {
            "text/plain": [
              "268851"
            ]
          },
          "metadata": {},
          "execution_count": 314
        }
      ]
    },
    {
      "cell_type": "markdown",
      "source": [
        "Идентифицированные проблемы датасета:\n",
        "\n",
        "*   Колонки 'cond' and 'condition'. Есть основания полагать, что по какой-то причине значения \"состояния\" разбиты на две колонки, которые необходимо объединить вручную.\n",
        "*   Цена 'price' в текстовом формате\n",
        "*   Лишняя информация в столбце 'size'\n",
        "*   Столбец с годом производства 'yop' требует дополнительной проверки\n",
        "\n",
        "\n",
        "\n",
        "\n",
        "\n"
      ],
      "metadata": {
        "id": "4wf-HHzIVsp8"
      }
    },
    {
      "cell_type": "markdown",
      "source": [
        "1. Исправляем проблему с cond и condition\n"
      ],
      "metadata": {
        "id": "iDkKrAyCOq2i"
      }
    },
    {
      "cell_type": "code",
      "source": [
        "data['cond'] = data['cond'].fillna('')\n",
        "data['condition'] = data['condition'].fillna('')\n",
        "data['condition_summed']=data['cond'].astype(str)+data['condition'].astype(str)"
      ],
      "metadata": {
        "id": "3gYGMCVqAyLb"
      },
      "execution_count": 315,
      "outputs": []
    },
    {
      "cell_type": "code",
      "source": [
        "data.describe()"
      ],
      "metadata": {
        "colab": {
          "base_uri": "https://localhost:8080/",
          "height": 175
        },
        "id": "CYahFk-1eBxt",
        "outputId": "3f574453-2295-4c1c-b987-c8807e9a88e7"
      },
      "execution_count": 316,
      "outputs": [
        {
          "output_type": "execute_result",
          "data": {
            "text/plain": [
              "                                                     name             price  \\\n",
              "count                                              206862            272783   \n",
              "unique                                             148689             36830   \n",
              "top     Omega Speedmaster Professional Moonwatch\\nCo-A...  Price on request   \n",
              "freq                                                  169             11934   \n",
              "\n",
              "         brand        model     ref       mvmt   casem  bracem      yop  \\\n",
              "count   273028       243114  230967      84667  113932  104257   273025   \n",
              "unique      28          948   33223          3      17      23      410   \n",
              "top      Rolex  Datejust 36  126334  Automatic   Steel   Steel  Unknown   \n",
              "freq     66130         8357    1731      63144   72373   47387    91387   \n",
              "\n",
              "             cond                 sex    size condition condition_summed  \n",
              "count      273093              184005  250359    273093           273093  \n",
              "unique          8                   2    6699         8                8  \n",
              "top     Very good  Men's watch/Unisex   40 mm                  Very good  \n",
              "freq        71007              155235   32650    207835           104274  "
            ],
            "text/html": [
              "\n",
              "  <div id=\"df-1f81bdca-a738-4db5-9e45-8e2a9357d70a\" class=\"colab-df-container\">\n",
              "    <div>\n",
              "<style scoped>\n",
              "    .dataframe tbody tr th:only-of-type {\n",
              "        vertical-align: middle;\n",
              "    }\n",
              "\n",
              "    .dataframe tbody tr th {\n",
              "        vertical-align: top;\n",
              "    }\n",
              "\n",
              "    .dataframe thead th {\n",
              "        text-align: right;\n",
              "    }\n",
              "</style>\n",
              "<table border=\"1\" class=\"dataframe\">\n",
              "  <thead>\n",
              "    <tr style=\"text-align: right;\">\n",
              "      <th></th>\n",
              "      <th>name</th>\n",
              "      <th>price</th>\n",
              "      <th>brand</th>\n",
              "      <th>model</th>\n",
              "      <th>ref</th>\n",
              "      <th>mvmt</th>\n",
              "      <th>casem</th>\n",
              "      <th>bracem</th>\n",
              "      <th>yop</th>\n",
              "      <th>cond</th>\n",
              "      <th>sex</th>\n",
              "      <th>size</th>\n",
              "      <th>condition</th>\n",
              "      <th>condition_summed</th>\n",
              "    </tr>\n",
              "  </thead>\n",
              "  <tbody>\n",
              "    <tr>\n",
              "      <th>count</th>\n",
              "      <td>206862</td>\n",
              "      <td>272783</td>\n",
              "      <td>273028</td>\n",
              "      <td>243114</td>\n",
              "      <td>230967</td>\n",
              "      <td>84667</td>\n",
              "      <td>113932</td>\n",
              "      <td>104257</td>\n",
              "      <td>273025</td>\n",
              "      <td>273093</td>\n",
              "      <td>184005</td>\n",
              "      <td>250359</td>\n",
              "      <td>273093</td>\n",
              "      <td>273093</td>\n",
              "    </tr>\n",
              "    <tr>\n",
              "      <th>unique</th>\n",
              "      <td>148689</td>\n",
              "      <td>36830</td>\n",
              "      <td>28</td>\n",
              "      <td>948</td>\n",
              "      <td>33223</td>\n",
              "      <td>3</td>\n",
              "      <td>17</td>\n",
              "      <td>23</td>\n",
              "      <td>410</td>\n",
              "      <td>8</td>\n",
              "      <td>2</td>\n",
              "      <td>6699</td>\n",
              "      <td>8</td>\n",
              "      <td>8</td>\n",
              "    </tr>\n",
              "    <tr>\n",
              "      <th>top</th>\n",
              "      <td>Omega Speedmaster Professional Moonwatch\\nCo-A...</td>\n",
              "      <td>Price on request</td>\n",
              "      <td>Rolex</td>\n",
              "      <td>Datejust 36</td>\n",
              "      <td>126334</td>\n",
              "      <td>Automatic</td>\n",
              "      <td>Steel</td>\n",
              "      <td>Steel</td>\n",
              "      <td>Unknown</td>\n",
              "      <td>Very good</td>\n",
              "      <td>Men's watch/Unisex</td>\n",
              "      <td>40 mm</td>\n",
              "      <td></td>\n",
              "      <td>Very good</td>\n",
              "    </tr>\n",
              "    <tr>\n",
              "      <th>freq</th>\n",
              "      <td>169</td>\n",
              "      <td>11934</td>\n",
              "      <td>66130</td>\n",
              "      <td>8357</td>\n",
              "      <td>1731</td>\n",
              "      <td>63144</td>\n",
              "      <td>72373</td>\n",
              "      <td>47387</td>\n",
              "      <td>91387</td>\n",
              "      <td>71007</td>\n",
              "      <td>155235</td>\n",
              "      <td>32650</td>\n",
              "      <td>207835</td>\n",
              "      <td>104274</td>\n",
              "    </tr>\n",
              "  </tbody>\n",
              "</table>\n",
              "</div>\n",
              "    <div class=\"colab-df-buttons\">\n",
              "\n",
              "  <div class=\"colab-df-container\">\n",
              "    <button class=\"colab-df-convert\" onclick=\"convertToInteractive('df-1f81bdca-a738-4db5-9e45-8e2a9357d70a')\"\n",
              "            title=\"Convert this dataframe to an interactive table.\"\n",
              "            style=\"display:none;\">\n",
              "\n",
              "  <svg xmlns=\"http://www.w3.org/2000/svg\" height=\"24px\" viewBox=\"0 -960 960 960\">\n",
              "    <path d=\"M120-120v-720h720v720H120Zm60-500h600v-160H180v160Zm220 220h160v-160H400v160Zm0 220h160v-160H400v160ZM180-400h160v-160H180v160Zm440 0h160v-160H620v160ZM180-180h160v-160H180v160Zm440 0h160v-160H620v160Z\"/>\n",
              "  </svg>\n",
              "    </button>\n",
              "\n",
              "  <style>\n",
              "    .colab-df-container {\n",
              "      display:flex;\n",
              "      gap: 12px;\n",
              "    }\n",
              "\n",
              "    .colab-df-convert {\n",
              "      background-color: #E8F0FE;\n",
              "      border: none;\n",
              "      border-radius: 50%;\n",
              "      cursor: pointer;\n",
              "      display: none;\n",
              "      fill: #1967D2;\n",
              "      height: 32px;\n",
              "      padding: 0 0 0 0;\n",
              "      width: 32px;\n",
              "    }\n",
              "\n",
              "    .colab-df-convert:hover {\n",
              "      background-color: #E2EBFA;\n",
              "      box-shadow: 0px 1px 2px rgba(60, 64, 67, 0.3), 0px 1px 3px 1px rgba(60, 64, 67, 0.15);\n",
              "      fill: #174EA6;\n",
              "    }\n",
              "\n",
              "    .colab-df-buttons div {\n",
              "      margin-bottom: 4px;\n",
              "    }\n",
              "\n",
              "    [theme=dark] .colab-df-convert {\n",
              "      background-color: #3B4455;\n",
              "      fill: #D2E3FC;\n",
              "    }\n",
              "\n",
              "    [theme=dark] .colab-df-convert:hover {\n",
              "      background-color: #434B5C;\n",
              "      box-shadow: 0px 1px 3px 1px rgba(0, 0, 0, 0.15);\n",
              "      filter: drop-shadow(0px 1px 2px rgba(0, 0, 0, 0.3));\n",
              "      fill: #FFFFFF;\n",
              "    }\n",
              "  </style>\n",
              "\n",
              "    <script>\n",
              "      const buttonEl =\n",
              "        document.querySelector('#df-1f81bdca-a738-4db5-9e45-8e2a9357d70a button.colab-df-convert');\n",
              "      buttonEl.style.display =\n",
              "        google.colab.kernel.accessAllowed ? 'block' : 'none';\n",
              "\n",
              "      async function convertToInteractive(key) {\n",
              "        const element = document.querySelector('#df-1f81bdca-a738-4db5-9e45-8e2a9357d70a');\n",
              "        const dataTable =\n",
              "          await google.colab.kernel.invokeFunction('convertToInteractive',\n",
              "                                                    [key], {});\n",
              "        if (!dataTable) return;\n",
              "\n",
              "        const docLinkHtml = 'Like what you see? Visit the ' +\n",
              "          '<a target=\"_blank\" href=https://colab.research.google.com/notebooks/data_table.ipynb>data table notebook</a>'\n",
              "          + ' to learn more about interactive tables.';\n",
              "        element.innerHTML = '';\n",
              "        dataTable['output_type'] = 'display_data';\n",
              "        await google.colab.output.renderOutput(dataTable, element);\n",
              "        const docLink = document.createElement('div');\n",
              "        docLink.innerHTML = docLinkHtml;\n",
              "        element.appendChild(docLink);\n",
              "      }\n",
              "    </script>\n",
              "  </div>\n",
              "\n",
              "\n",
              "<div id=\"df-9037dc21-8b76-4137-8f4e-98d91a49c200\">\n",
              "  <button class=\"colab-df-quickchart\" onclick=\"quickchart('df-9037dc21-8b76-4137-8f4e-98d91a49c200')\"\n",
              "            title=\"Suggest charts\"\n",
              "            style=\"display:none;\">\n",
              "\n",
              "<svg xmlns=\"http://www.w3.org/2000/svg\" height=\"24px\"viewBox=\"0 0 24 24\"\n",
              "     width=\"24px\">\n",
              "    <g>\n",
              "        <path d=\"M19 3H5c-1.1 0-2 .9-2 2v14c0 1.1.9 2 2 2h14c1.1 0 2-.9 2-2V5c0-1.1-.9-2-2-2zM9 17H7v-7h2v7zm4 0h-2V7h2v10zm4 0h-2v-4h2v4z\"/>\n",
              "    </g>\n",
              "</svg>\n",
              "  </button>\n",
              "\n",
              "<style>\n",
              "  .colab-df-quickchart {\n",
              "      --bg-color: #E8F0FE;\n",
              "      --fill-color: #1967D2;\n",
              "      --hover-bg-color: #E2EBFA;\n",
              "      --hover-fill-color: #174EA6;\n",
              "      --disabled-fill-color: #AAA;\n",
              "      --disabled-bg-color: #DDD;\n",
              "  }\n",
              "\n",
              "  [theme=dark] .colab-df-quickchart {\n",
              "      --bg-color: #3B4455;\n",
              "      --fill-color: #D2E3FC;\n",
              "      --hover-bg-color: #434B5C;\n",
              "      --hover-fill-color: #FFFFFF;\n",
              "      --disabled-bg-color: #3B4455;\n",
              "      --disabled-fill-color: #666;\n",
              "  }\n",
              "\n",
              "  .colab-df-quickchart {\n",
              "    background-color: var(--bg-color);\n",
              "    border: none;\n",
              "    border-radius: 50%;\n",
              "    cursor: pointer;\n",
              "    display: none;\n",
              "    fill: var(--fill-color);\n",
              "    height: 32px;\n",
              "    padding: 0;\n",
              "    width: 32px;\n",
              "  }\n",
              "\n",
              "  .colab-df-quickchart:hover {\n",
              "    background-color: var(--hover-bg-color);\n",
              "    box-shadow: 0 1px 2px rgba(60, 64, 67, 0.3), 0 1px 3px 1px rgba(60, 64, 67, 0.15);\n",
              "    fill: var(--button-hover-fill-color);\n",
              "  }\n",
              "\n",
              "  .colab-df-quickchart-complete:disabled,\n",
              "  .colab-df-quickchart-complete:disabled:hover {\n",
              "    background-color: var(--disabled-bg-color);\n",
              "    fill: var(--disabled-fill-color);\n",
              "    box-shadow: none;\n",
              "  }\n",
              "\n",
              "  .colab-df-spinner {\n",
              "    border: 2px solid var(--fill-color);\n",
              "    border-color: transparent;\n",
              "    border-bottom-color: var(--fill-color);\n",
              "    animation:\n",
              "      spin 1s steps(1) infinite;\n",
              "  }\n",
              "\n",
              "  @keyframes spin {\n",
              "    0% {\n",
              "      border-color: transparent;\n",
              "      border-bottom-color: var(--fill-color);\n",
              "      border-left-color: var(--fill-color);\n",
              "    }\n",
              "    20% {\n",
              "      border-color: transparent;\n",
              "      border-left-color: var(--fill-color);\n",
              "      border-top-color: var(--fill-color);\n",
              "    }\n",
              "    30% {\n",
              "      border-color: transparent;\n",
              "      border-left-color: var(--fill-color);\n",
              "      border-top-color: var(--fill-color);\n",
              "      border-right-color: var(--fill-color);\n",
              "    }\n",
              "    40% {\n",
              "      border-color: transparent;\n",
              "      border-right-color: var(--fill-color);\n",
              "      border-top-color: var(--fill-color);\n",
              "    }\n",
              "    60% {\n",
              "      border-color: transparent;\n",
              "      border-right-color: var(--fill-color);\n",
              "    }\n",
              "    80% {\n",
              "      border-color: transparent;\n",
              "      border-right-color: var(--fill-color);\n",
              "      border-bottom-color: var(--fill-color);\n",
              "    }\n",
              "    90% {\n",
              "      border-color: transparent;\n",
              "      border-bottom-color: var(--fill-color);\n",
              "    }\n",
              "  }\n",
              "</style>\n",
              "\n",
              "  <script>\n",
              "    async function quickchart(key) {\n",
              "      const quickchartButtonEl =\n",
              "        document.querySelector('#' + key + ' button');\n",
              "      quickchartButtonEl.disabled = true;  // To prevent multiple clicks.\n",
              "      quickchartButtonEl.classList.add('colab-df-spinner');\n",
              "      try {\n",
              "        const charts = await google.colab.kernel.invokeFunction(\n",
              "            'suggestCharts', [key], {});\n",
              "      } catch (error) {\n",
              "        console.error('Error during call to suggestCharts:', error);\n",
              "      }\n",
              "      quickchartButtonEl.classList.remove('colab-df-spinner');\n",
              "      quickchartButtonEl.classList.add('colab-df-quickchart-complete');\n",
              "    }\n",
              "    (() => {\n",
              "      let quickchartButtonEl =\n",
              "        document.querySelector('#df-9037dc21-8b76-4137-8f4e-98d91a49c200 button');\n",
              "      quickchartButtonEl.style.display =\n",
              "        google.colab.kernel.accessAllowed ? 'block' : 'none';\n",
              "    })();\n",
              "  </script>\n",
              "</div>\n",
              "    </div>\n",
              "  </div>\n"
            ]
          },
          "metadata": {},
          "execution_count": 316
        }
      ]
    },
    {
      "cell_type": "code",
      "source": [
        "data['cond'].replace('', np.nan, inplace=True)\n",
        "data['condition'].replace('', np.nan, inplace=True)\n",
        "data['condition_summed'].replace('', np.nan, inplace=True)"
      ],
      "metadata": {
        "id": "jKc40ByaMOG5"
      },
      "execution_count": 317,
      "outputs": []
    },
    {
      "cell_type": "code",
      "source": [
        "data.condition.value_counts()"
      ],
      "metadata": {
        "colab": {
          "base_uri": "https://localhost:8080/"
        },
        "id": "i5m1LsgWiGXB",
        "outputId": "f713e96a-d8f8-421c-8208-5f57d869de1f"
      },
      "execution_count": 318,
      "outputs": [
        {
          "output_type": "execute_result",
          "data": {
            "text/plain": [
              "Very good     33267\n",
              "Unworn        12453\n",
              "New           10186\n",
              "Good           8004\n",
              "Fair           1300\n",
              "Poor             45\n",
              "Incomplete        3\n",
              "Name: condition, dtype: int64"
            ]
          },
          "metadata": {},
          "execution_count": 318
        }
      ]
    },
    {
      "cell_type": "code",
      "source": [
        "data.cond.value_counts()"
      ],
      "metadata": {
        "colab": {
          "base_uri": "https://localhost:8080/"
        },
        "id": "qOkywbR4iqGS",
        "outputId": "20ca0ca0-dcd4-46e5-f2b8-aff5b9f3f7c5"
      },
      "execution_count": 319,
      "outputs": [
        {
          "output_type": "execute_result",
          "data": {
            "text/plain": [
              "Very good     71007\n",
              "New           65565\n",
              "Unworn        32182\n",
              "Good          27203\n",
              "Fair           7446\n",
              "Poor            148\n",
              "Incomplete       42\n",
              "Name: cond, dtype: int64"
            ]
          },
          "metadata": {},
          "execution_count": 319
        }
      ]
    },
    {
      "cell_type": "code",
      "source": [
        "data.condition_summed.value_counts().sum()"
      ],
      "metadata": {
        "colab": {
          "base_uri": "https://localhost:8080/"
        },
        "id": "HvToh-gKit9-",
        "outputId": "936bf42e-652c-420f-e10c-726ec34a665c"
      },
      "execution_count": 320,
      "outputs": [
        {
          "output_type": "execute_result",
          "data": {
            "text/plain": [
              "268851"
            ]
          },
          "metadata": {},
          "execution_count": 320
        }
      ]
    },
    {
      "cell_type": "markdown",
      "source": [
        "Число значений в модифицированном столбце совпало с расчетным. Теперь можно убрать столбцы cond и condition"
      ],
      "metadata": {
        "id": "aBrC-HreMlDm"
      }
    },
    {
      "cell_type": "code",
      "source": [
        "data=data.drop(columns=['cond', 'condition'])\n",
        "data.describe()"
      ],
      "metadata": {
        "colab": {
          "base_uri": "https://localhost:8080/",
          "height": 175
        },
        "id": "1LB88B07MjoM",
        "outputId": "bab7f75e-5f9a-4d7d-9ebd-20adb2567715"
      },
      "execution_count": 321,
      "outputs": [
        {
          "output_type": "execute_result",
          "data": {
            "text/plain": [
              "                                                     name             price  \\\n",
              "count                                              206862            272783   \n",
              "unique                                             148689             36830   \n",
              "top     Omega Speedmaster Professional Moonwatch\\nCo-A...  Price on request   \n",
              "freq                                                  169             11934   \n",
              "\n",
              "         brand        model     ref       mvmt   casem  bracem      yop  \\\n",
              "count   273028       243114  230967      84667  113932  104257   273025   \n",
              "unique      28          948   33223          3      17      23      410   \n",
              "top      Rolex  Datejust 36  126334  Automatic   Steel   Steel  Unknown   \n",
              "freq     66130         8357    1731      63144   72373   47387    91387   \n",
              "\n",
              "                       sex    size condition_summed  \n",
              "count               184005  250359           268851  \n",
              "unique                   2    6699                7  \n",
              "top     Men's watch/Unisex   40 mm        Very good  \n",
              "freq                155235   32650           104274  "
            ],
            "text/html": [
              "\n",
              "  <div id=\"df-018243ed-3ea5-4f8d-b39d-51a2c81546d7\" class=\"colab-df-container\">\n",
              "    <div>\n",
              "<style scoped>\n",
              "    .dataframe tbody tr th:only-of-type {\n",
              "        vertical-align: middle;\n",
              "    }\n",
              "\n",
              "    .dataframe tbody tr th {\n",
              "        vertical-align: top;\n",
              "    }\n",
              "\n",
              "    .dataframe thead th {\n",
              "        text-align: right;\n",
              "    }\n",
              "</style>\n",
              "<table border=\"1\" class=\"dataframe\">\n",
              "  <thead>\n",
              "    <tr style=\"text-align: right;\">\n",
              "      <th></th>\n",
              "      <th>name</th>\n",
              "      <th>price</th>\n",
              "      <th>brand</th>\n",
              "      <th>model</th>\n",
              "      <th>ref</th>\n",
              "      <th>mvmt</th>\n",
              "      <th>casem</th>\n",
              "      <th>bracem</th>\n",
              "      <th>yop</th>\n",
              "      <th>sex</th>\n",
              "      <th>size</th>\n",
              "      <th>condition_summed</th>\n",
              "    </tr>\n",
              "  </thead>\n",
              "  <tbody>\n",
              "    <tr>\n",
              "      <th>count</th>\n",
              "      <td>206862</td>\n",
              "      <td>272783</td>\n",
              "      <td>273028</td>\n",
              "      <td>243114</td>\n",
              "      <td>230967</td>\n",
              "      <td>84667</td>\n",
              "      <td>113932</td>\n",
              "      <td>104257</td>\n",
              "      <td>273025</td>\n",
              "      <td>184005</td>\n",
              "      <td>250359</td>\n",
              "      <td>268851</td>\n",
              "    </tr>\n",
              "    <tr>\n",
              "      <th>unique</th>\n",
              "      <td>148689</td>\n",
              "      <td>36830</td>\n",
              "      <td>28</td>\n",
              "      <td>948</td>\n",
              "      <td>33223</td>\n",
              "      <td>3</td>\n",
              "      <td>17</td>\n",
              "      <td>23</td>\n",
              "      <td>410</td>\n",
              "      <td>2</td>\n",
              "      <td>6699</td>\n",
              "      <td>7</td>\n",
              "    </tr>\n",
              "    <tr>\n",
              "      <th>top</th>\n",
              "      <td>Omega Speedmaster Professional Moonwatch\\nCo-A...</td>\n",
              "      <td>Price on request</td>\n",
              "      <td>Rolex</td>\n",
              "      <td>Datejust 36</td>\n",
              "      <td>126334</td>\n",
              "      <td>Automatic</td>\n",
              "      <td>Steel</td>\n",
              "      <td>Steel</td>\n",
              "      <td>Unknown</td>\n",
              "      <td>Men's watch/Unisex</td>\n",
              "      <td>40 mm</td>\n",
              "      <td>Very good</td>\n",
              "    </tr>\n",
              "    <tr>\n",
              "      <th>freq</th>\n",
              "      <td>169</td>\n",
              "      <td>11934</td>\n",
              "      <td>66130</td>\n",
              "      <td>8357</td>\n",
              "      <td>1731</td>\n",
              "      <td>63144</td>\n",
              "      <td>72373</td>\n",
              "      <td>47387</td>\n",
              "      <td>91387</td>\n",
              "      <td>155235</td>\n",
              "      <td>32650</td>\n",
              "      <td>104274</td>\n",
              "    </tr>\n",
              "  </tbody>\n",
              "</table>\n",
              "</div>\n",
              "    <div class=\"colab-df-buttons\">\n",
              "\n",
              "  <div class=\"colab-df-container\">\n",
              "    <button class=\"colab-df-convert\" onclick=\"convertToInteractive('df-018243ed-3ea5-4f8d-b39d-51a2c81546d7')\"\n",
              "            title=\"Convert this dataframe to an interactive table.\"\n",
              "            style=\"display:none;\">\n",
              "\n",
              "  <svg xmlns=\"http://www.w3.org/2000/svg\" height=\"24px\" viewBox=\"0 -960 960 960\">\n",
              "    <path d=\"M120-120v-720h720v720H120Zm60-500h600v-160H180v160Zm220 220h160v-160H400v160Zm0 220h160v-160H400v160ZM180-400h160v-160H180v160Zm440 0h160v-160H620v160ZM180-180h160v-160H180v160Zm440 0h160v-160H620v160Z\"/>\n",
              "  </svg>\n",
              "    </button>\n",
              "\n",
              "  <style>\n",
              "    .colab-df-container {\n",
              "      display:flex;\n",
              "      gap: 12px;\n",
              "    }\n",
              "\n",
              "    .colab-df-convert {\n",
              "      background-color: #E8F0FE;\n",
              "      border: none;\n",
              "      border-radius: 50%;\n",
              "      cursor: pointer;\n",
              "      display: none;\n",
              "      fill: #1967D2;\n",
              "      height: 32px;\n",
              "      padding: 0 0 0 0;\n",
              "      width: 32px;\n",
              "    }\n",
              "\n",
              "    .colab-df-convert:hover {\n",
              "      background-color: #E2EBFA;\n",
              "      box-shadow: 0px 1px 2px rgba(60, 64, 67, 0.3), 0px 1px 3px 1px rgba(60, 64, 67, 0.15);\n",
              "      fill: #174EA6;\n",
              "    }\n",
              "\n",
              "    .colab-df-buttons div {\n",
              "      margin-bottom: 4px;\n",
              "    }\n",
              "\n",
              "    [theme=dark] .colab-df-convert {\n",
              "      background-color: #3B4455;\n",
              "      fill: #D2E3FC;\n",
              "    }\n",
              "\n",
              "    [theme=dark] .colab-df-convert:hover {\n",
              "      background-color: #434B5C;\n",
              "      box-shadow: 0px 1px 3px 1px rgba(0, 0, 0, 0.15);\n",
              "      filter: drop-shadow(0px 1px 2px rgba(0, 0, 0, 0.3));\n",
              "      fill: #FFFFFF;\n",
              "    }\n",
              "  </style>\n",
              "\n",
              "    <script>\n",
              "      const buttonEl =\n",
              "        document.querySelector('#df-018243ed-3ea5-4f8d-b39d-51a2c81546d7 button.colab-df-convert');\n",
              "      buttonEl.style.display =\n",
              "        google.colab.kernel.accessAllowed ? 'block' : 'none';\n",
              "\n",
              "      async function convertToInteractive(key) {\n",
              "        const element = document.querySelector('#df-018243ed-3ea5-4f8d-b39d-51a2c81546d7');\n",
              "        const dataTable =\n",
              "          await google.colab.kernel.invokeFunction('convertToInteractive',\n",
              "                                                    [key], {});\n",
              "        if (!dataTable) return;\n",
              "\n",
              "        const docLinkHtml = 'Like what you see? Visit the ' +\n",
              "          '<a target=\"_blank\" href=https://colab.research.google.com/notebooks/data_table.ipynb>data table notebook</a>'\n",
              "          + ' to learn more about interactive tables.';\n",
              "        element.innerHTML = '';\n",
              "        dataTable['output_type'] = 'display_data';\n",
              "        await google.colab.output.renderOutput(dataTable, element);\n",
              "        const docLink = document.createElement('div');\n",
              "        docLink.innerHTML = docLinkHtml;\n",
              "        element.appendChild(docLink);\n",
              "      }\n",
              "    </script>\n",
              "  </div>\n",
              "\n",
              "\n",
              "<div id=\"df-91403f6c-dc8c-48f1-9d49-e2237af58067\">\n",
              "  <button class=\"colab-df-quickchart\" onclick=\"quickchart('df-91403f6c-dc8c-48f1-9d49-e2237af58067')\"\n",
              "            title=\"Suggest charts\"\n",
              "            style=\"display:none;\">\n",
              "\n",
              "<svg xmlns=\"http://www.w3.org/2000/svg\" height=\"24px\"viewBox=\"0 0 24 24\"\n",
              "     width=\"24px\">\n",
              "    <g>\n",
              "        <path d=\"M19 3H5c-1.1 0-2 .9-2 2v14c0 1.1.9 2 2 2h14c1.1 0 2-.9 2-2V5c0-1.1-.9-2-2-2zM9 17H7v-7h2v7zm4 0h-2V7h2v10zm4 0h-2v-4h2v4z\"/>\n",
              "    </g>\n",
              "</svg>\n",
              "  </button>\n",
              "\n",
              "<style>\n",
              "  .colab-df-quickchart {\n",
              "      --bg-color: #E8F0FE;\n",
              "      --fill-color: #1967D2;\n",
              "      --hover-bg-color: #E2EBFA;\n",
              "      --hover-fill-color: #174EA6;\n",
              "      --disabled-fill-color: #AAA;\n",
              "      --disabled-bg-color: #DDD;\n",
              "  }\n",
              "\n",
              "  [theme=dark] .colab-df-quickchart {\n",
              "      --bg-color: #3B4455;\n",
              "      --fill-color: #D2E3FC;\n",
              "      --hover-bg-color: #434B5C;\n",
              "      --hover-fill-color: #FFFFFF;\n",
              "      --disabled-bg-color: #3B4455;\n",
              "      --disabled-fill-color: #666;\n",
              "  }\n",
              "\n",
              "  .colab-df-quickchart {\n",
              "    background-color: var(--bg-color);\n",
              "    border: none;\n",
              "    border-radius: 50%;\n",
              "    cursor: pointer;\n",
              "    display: none;\n",
              "    fill: var(--fill-color);\n",
              "    height: 32px;\n",
              "    padding: 0;\n",
              "    width: 32px;\n",
              "  }\n",
              "\n",
              "  .colab-df-quickchart:hover {\n",
              "    background-color: var(--hover-bg-color);\n",
              "    box-shadow: 0 1px 2px rgba(60, 64, 67, 0.3), 0 1px 3px 1px rgba(60, 64, 67, 0.15);\n",
              "    fill: var(--button-hover-fill-color);\n",
              "  }\n",
              "\n",
              "  .colab-df-quickchart-complete:disabled,\n",
              "  .colab-df-quickchart-complete:disabled:hover {\n",
              "    background-color: var(--disabled-bg-color);\n",
              "    fill: var(--disabled-fill-color);\n",
              "    box-shadow: none;\n",
              "  }\n",
              "\n",
              "  .colab-df-spinner {\n",
              "    border: 2px solid var(--fill-color);\n",
              "    border-color: transparent;\n",
              "    border-bottom-color: var(--fill-color);\n",
              "    animation:\n",
              "      spin 1s steps(1) infinite;\n",
              "  }\n",
              "\n",
              "  @keyframes spin {\n",
              "    0% {\n",
              "      border-color: transparent;\n",
              "      border-bottom-color: var(--fill-color);\n",
              "      border-left-color: var(--fill-color);\n",
              "    }\n",
              "    20% {\n",
              "      border-color: transparent;\n",
              "      border-left-color: var(--fill-color);\n",
              "      border-top-color: var(--fill-color);\n",
              "    }\n",
              "    30% {\n",
              "      border-color: transparent;\n",
              "      border-left-color: var(--fill-color);\n",
              "      border-top-color: var(--fill-color);\n",
              "      border-right-color: var(--fill-color);\n",
              "    }\n",
              "    40% {\n",
              "      border-color: transparent;\n",
              "      border-right-color: var(--fill-color);\n",
              "      border-top-color: var(--fill-color);\n",
              "    }\n",
              "    60% {\n",
              "      border-color: transparent;\n",
              "      border-right-color: var(--fill-color);\n",
              "    }\n",
              "    80% {\n",
              "      border-color: transparent;\n",
              "      border-right-color: var(--fill-color);\n",
              "      border-bottom-color: var(--fill-color);\n",
              "    }\n",
              "    90% {\n",
              "      border-color: transparent;\n",
              "      border-bottom-color: var(--fill-color);\n",
              "    }\n",
              "  }\n",
              "</style>\n",
              "\n",
              "  <script>\n",
              "    async function quickchart(key) {\n",
              "      const quickchartButtonEl =\n",
              "        document.querySelector('#' + key + ' button');\n",
              "      quickchartButtonEl.disabled = true;  // To prevent multiple clicks.\n",
              "      quickchartButtonEl.classList.add('colab-df-spinner');\n",
              "      try {\n",
              "        const charts = await google.colab.kernel.invokeFunction(\n",
              "            'suggestCharts', [key], {});\n",
              "      } catch (error) {\n",
              "        console.error('Error during call to suggestCharts:', error);\n",
              "      }\n",
              "      quickchartButtonEl.classList.remove('colab-df-spinner');\n",
              "      quickchartButtonEl.classList.add('colab-df-quickchart-complete');\n",
              "    }\n",
              "    (() => {\n",
              "      let quickchartButtonEl =\n",
              "        document.querySelector('#df-91403f6c-dc8c-48f1-9d49-e2237af58067 button');\n",
              "      quickchartButtonEl.style.display =\n",
              "        google.colab.kernel.accessAllowed ? 'block' : 'none';\n",
              "    })();\n",
              "  </script>\n",
              "</div>\n",
              "    </div>\n",
              "  </div>\n"
            ]
          },
          "metadata": {},
          "execution_count": 321
        }
      ]
    },
    {
      "cell_type": "markdown",
      "source": [
        "2. Форматируем столбец \"Price\""
      ],
      "metadata": {
        "id": "-fFIPlISQpT0"
      }
    },
    {
      "cell_type": "markdown",
      "source": [
        "убираем спецсимволы и не-числовые данные"
      ],
      "metadata": {
        "id": "wom2rZl1aZe-"
      }
    },
    {
      "cell_type": "code",
      "source": [
        "data['price']=data['price'].str.replace('\\W','',regex=True)\n",
        "data['price']=data['price'].str.replace('(\\D+)', '',regex=True)\n",
        "data['price'].replace('', np.nan, inplace=True)"
      ],
      "metadata": {
        "id": "xUt6H6VBQuTK"
      },
      "execution_count": 322,
      "outputs": []
    },
    {
      "cell_type": "markdown",
      "source": [
        "удаляем ячейки с NaN"
      ],
      "metadata": {
        "id": "iKry0q1bag2P"
      }
    },
    {
      "cell_type": "code",
      "source": [
        "data=data.dropna(subset=['price'])"
      ],
      "metadata": {
        "id": "QScBJquDafsw"
      },
      "execution_count": 323,
      "outputs": []
    },
    {
      "cell_type": "markdown",
      "source": [
        "Конвертируем столбец в int"
      ],
      "metadata": {
        "id": "qlVQIAhXa_-P"
      }
    },
    {
      "cell_type": "code",
      "source": [
        "data['price']=data['price'].astype(int)"
      ],
      "metadata": {
        "id": "T5xr4vXoa_tz",
        "colab": {
          "base_uri": "https://localhost:8080/"
        },
        "outputId": "d3fb61e8-4266-4f69-ee7f-f87268274c2c"
      },
      "execution_count": 324,
      "outputs": [
        {
          "output_type": "stream",
          "name": "stderr",
          "text": [
            "<ipython-input-324-2a10b3d39cc2>:1: SettingWithCopyWarning: \n",
            "A value is trying to be set on a copy of a slice from a DataFrame.\n",
            "Try using .loc[row_indexer,col_indexer] = value instead\n",
            "\n",
            "See the caveats in the documentation: https://pandas.pydata.org/pandas-docs/stable/user_guide/indexing.html#returning-a-view-versus-a-copy\n",
            "  data['price']=data['price'].astype(int)\n"
          ]
        }
      ]
    },
    {
      "cell_type": "code",
      "source": [
        "data.dtypes"
      ],
      "metadata": {
        "colab": {
          "base_uri": "https://localhost:8080/"
        },
        "id": "wxkm-YW1cFg5",
        "outputId": "723c441f-6a28-4033-c0d1-d9ad64f69919"
      },
      "execution_count": 325,
      "outputs": [
        {
          "output_type": "execute_result",
          "data": {
            "text/plain": [
              "name                object\n",
              "price                int64\n",
              "brand               object\n",
              "model               object\n",
              "ref                 object\n",
              "mvmt                object\n",
              "casem               object\n",
              "bracem              object\n",
              "yop                 object\n",
              "sex                 object\n",
              "size                object\n",
              "condition_summed    object\n",
              "dtype: object"
            ]
          },
          "metadata": {},
          "execution_count": 325
        }
      ]
    },
    {
      "cell_type": "code",
      "source": [
        "data.shape"
      ],
      "metadata": {
        "colab": {
          "base_uri": "https://localhost:8080/"
        },
        "id": "K5nC7wuVcLqK",
        "outputId": "cbee3b35-21bb-47cd-8a3f-f0fb675be6d9"
      },
      "execution_count": 326,
      "outputs": [
        {
          "output_type": "execute_result",
          "data": {
            "text/plain": [
              "(260849, 12)"
            ]
          },
          "metadata": {},
          "execution_count": 326
        }
      ]
    },
    {
      "cell_type": "code",
      "source": [
        "data.price.value_counts()"
      ],
      "metadata": {
        "colab": {
          "base_uri": "https://localhost:8080/"
        },
        "id": "adOf-F8Kg3ml",
        "outputId": "97128eb0-d79d-4400-c091-f64b95570b7c"
      },
      "execution_count": 327,
      "outputs": [
        {
          "output_type": "execute_result",
          "data": {
            "text/plain": [
              "6500      249\n",
              "4500      239\n",
              "12500     236\n",
              "4026      236\n",
              "8500      225\n",
              "         ... \n",
              "126802      1\n",
              "88286       1\n",
              "289294      1\n",
              "64993       1\n",
              "45998       1\n",
              "Name: price, Length: 36829, dtype: int64"
            ]
          },
          "metadata": {},
          "execution_count": 327
        }
      ]
    },
    {
      "cell_type": "markdown",
      "source": [
        "3. Форматируем столбец YOP (year of production)"
      ],
      "metadata": {
        "id": "JrQJ_sYANvRb"
      }
    },
    {
      "cell_type": "code",
      "source": [
        "data['yop'].unique()"
      ],
      "metadata": {
        "colab": {
          "base_uri": "https://localhost:8080/"
        },
        "id": "W-uU3U1dNzop",
        "outputId": "88b4ec17-7182-453e-ea43-418b3b34932d"
      },
      "execution_count": 328,
      "outputs": [
        {
          "output_type": "execute_result",
          "data": {
            "text/plain": [
              "array(['2019', '2012', 'Unknown', '2022 (Approximation)',\n",
              "       '2018 (Approximation)', '2016 (Approximation)', '2015', '2016',\n",
              "       '2022', '2014', '2021', '2018', '2017', '2005', '2006', '2023',\n",
              "       '2002', '2004', '1994', '2021 (Approximation)', '2020',\n",
              "       '2020 (Approximation)', '2013', '2019 (Approximation)',\n",
              "       '2023 (Approximation)', '2007', '2017 (Approximation)', '2008',\n",
              "       '1929', '2011', '2010', '2012 (Approximation)', '1977', '2003',\n",
              "       '1999 (Approximation)', '2010 (Approximation)', '1960', '1990',\n",
              "       '1980', '2009 (Approximation)', '2009', '1976 (Approximation)',\n",
              "       '2000', '2004 (Approximation)', '1989', '1982', '1975',\n",
              "       '2005 (Approximation)', '1990 (Approximation)',\n",
              "       '1970 (Approximation)', '1995 (Approximation)',\n",
              "       '1998 (Approximation)', '1995', '1998', '1996 (Approximation)',\n",
              "       '1980 (Approximation)', '1979', '1996', '2011 (Approximation)',\n",
              "       '2008 (Approximation)', '1986', '1950 (Approximation)', '1967',\n",
              "       '2015 (Approximation)', '2007 (Approximation)',\n",
              "       '1997 (Approximation)', '2000 (Approximation)',\n",
              "       '2013 (Approximation)', '1981', '1960 (Approximation)', '2001',\n",
              "       '1955 (Approximation)', '1991', '1992', '1983 (Approximation)',\n",
              "       '2006 (Approximation)', '1999', '1997', '1985 (Approximation)',\n",
              "       '1984', '1970', '1979 (Approximation)', '2002 (Approximation)',\n",
              "       '1993', '1985', '1982 (Approximation)', '1977 (Approximation)',\n",
              "       '1988', '2003 (Approximation)', '1986 (Approximation)', '1950',\n",
              "       '1991 (Approximation)', '1976', '1978 (Approximation)',\n",
              "       '1988 (Approximation)', '2014 (Approximation)',\n",
              "       '2001 (Approximation)', '1978', '1987', '1984 (Approximation)',\n",
              "       '1989 (Approximation)', '1993 (Approximation)', '1971', '1969',\n",
              "       '1972 (Approximation)', '1981 (Approximation)', '1983',\n",
              "       '1994 (Approximation)', '1974', '1973', '1962', '1965', '1968',\n",
              "       '1948', '1965 (Approximation)', '1961', '1952',\n",
              "       '1992 (Approximation)', '1975 (Approximation)',\n",
              "       '1952 (Approximation)', '1969 (Approximation)',\n",
              "       '1956 (Approximation)', '1886 (Approximation)', '1956',\n",
              "       '1920 (Approximation)', '1987 (Approximation)', '1958', '1972',\n",
              "       '1945 (Approximation)', '1941', '1973 (Approximation)',\n",
              "       '1968 (Approximation)', '1955', '1966 (Approximation)',\n",
              "       '1910 (Approximation)', '1905 (Approximation)',\n",
              "       '1974 (Approximation)', '1940', '1928', '1920', '1910', '1957',\n",
              "       '1945', '1961 (Approximation)', '1940 (Approximation)',\n",
              "       '1958 (Approximation)', '1964 (Approximation)',\n",
              "       '1884 (Approximation)', '1966', '1959', '1962 (Approximation)',\n",
              "       '1963', '1971 (Approximation)', '1946', '1946 (Approximation)',\n",
              "       '1947', '1967 (Approximation)', '1944 (Approximation)',\n",
              "       '1948 (Approximation)', '1953 (Approximation)', '1964', '1951',\n",
              "       '1954', '1953', '1963 (Approximation)', '1947 (Approximation)',\n",
              "       '1954 (Approximation)', '1949 (Approximation)',\n",
              "       '1750 (Approximation)', '1957 (Approximation)', '1930',\n",
              "       '1930 (Approximation)', '1959 (Approximation)',\n",
              "       '1942 (Approximation)', '1949', '1944', '1741',\n",
              "       '1935 (Approximation)', '1924', '1899 (Approximation)', '1881',\n",
              "       '1900', '1921 (Approximation)', '1915', '1929 (Approximation)',\n",
              "       '1922 (Approximation)', '1908', '1899', '1937 (Approximation)',\n",
              "       '1900 (Approximation)', '1890 (Approximation)',\n",
              "       '1915 (Approximation)', '1898 (Approximation)', '1911', '1912',\n",
              "       '1943 (Approximation)', '1935', '1927', '1894 (Approximation)',\n",
              "       '1916 (Approximation)', '1906 (Approximation)', '1937',\n",
              "       '1914 (Approximation)', '1943', '1925', '1951 (Approximation)',\n",
              "       '1936', '1925 (Approximation)', '1912 (Approximation)', '1907',\n",
              "       '1917', '1892', '1942', '1938', '1923', '1903', '1931', '1926',\n",
              "       '1938 (Approximation)', '1913', '1907 (Approximation)',\n",
              "       '1924 (Approximation)', '1885 (Approximation)',\n",
              "       '1941 (Approximation)', '1939 (Approximation)', '1890', '1939',\n",
              "       '1888', '1914', '1933', '1906', '1908 (Approximation)', '1934',\n",
              "       '1690 (Approximation)', '1933 (Approximation)', '1878',\n",
              "       '1870 (Approximation)', '1919 (Approximation)', '1922',\n",
              "       '1927 (Approximation)', '1875', '1901', '1905',\n",
              "       '1934 (Approximation)', '1919', '1893', '1923 (Approximation)',\n",
              "       '1889 (Approximation)', '1904 (Approximation)', '1916', '1918',\n",
              "       '1898', '1909', '1928 (Approximation)', '1932',\n",
              "       '1936 (Approximation)', '1932 (Approximation)',\n",
              "       '1918 (Approximation)', '1917 (Approximation)',\n",
              "       '1901 (Approximation)', '1913 (Approximation)',\n",
              "       '1852 (Approximation)', '1694 (Approximation)',\n",
              "       '1931 (Approximation)', '1790 (Approximation)', '1896', '1880',\n",
              "       '1847', '2024', '1850', '1889', '1893 (Approximation)', '1902',\n",
              "       '1887', '1891 (Approximation)', '1846 (Approximation)',\n",
              "       '1845 (Approximation)', '1867', '1884', '1883', '1868', '1894',\n",
              "       '1904', '1888 (Approximation)', '1848', '1895', '1870',\n",
              "       '1883 (Approximation)', '1909 (Approximation)', '1601',\n",
              "       '1559 (Approximation)', '1897', '1876', '1879',\n",
              "       '1926 (Approximation)', '1886', '1871 (Approximation)', '1882',\n",
              "       '1872', '1800', '1650 (Approximation)'], dtype=object)"
            ]
          },
          "metadata": {},
          "execution_count": 328
        }
      ]
    },
    {
      "cell_type": "code",
      "source": [
        "data['yop'].isna().sum()"
      ],
      "metadata": {
        "colab": {
          "base_uri": "https://localhost:8080/"
        },
        "id": "QPFryU78OUq4",
        "outputId": "cd445674-55a5-4b71-fcb5-cd42e9429f2b"
      },
      "execution_count": 329,
      "outputs": [
        {
          "output_type": "execute_result",
          "data": {
            "text/plain": [
              "0"
            ]
          },
          "metadata": {},
          "execution_count": 329
        }
      ]
    },
    {
      "cell_type": "code",
      "source": [
        "data['yop'].count"
      ],
      "metadata": {
        "colab": {
          "base_uri": "https://localhost:8080/"
        },
        "id": "SqhIckOFPK5c",
        "outputId": "cff57c66-cddb-49a9-c9c0-b5d5cdd3374e"
      },
      "execution_count": 330,
      "outputs": [
        {
          "output_type": "execute_result",
          "data": {
            "text/plain": [
              "<bound method Series.count of 0                       2019\n",
              "1                       2012\n",
              "2                    Unknown\n",
              "3       2022 (Approximation)\n",
              "4                    Unknown\n",
              "                ...         \n",
              "6438                    2022\n",
              "6439    2021 (Approximation)\n",
              "6440                    2019\n",
              "6441                    2021\n",
              "6442                    2019\n",
              "Name: yop, Length: 260849, dtype: object>"
            ]
          },
          "metadata": {},
          "execution_count": 330
        }
      ]
    },
    {
      "cell_type": "code",
      "source": [
        "data['yop']=data['yop'].str.replace('\\W','',regex=True)\n",
        "data['yop']=data['yop'].str.replace('(\\D+)', '',regex=True)\n",
        "data['yop'].replace('', np.nan, inplace=True)"
      ],
      "metadata": {
        "id": "S3LQVGSTOH1J"
      },
      "execution_count": 331,
      "outputs": []
    },
    {
      "cell_type": "code",
      "source": [
        "data['yop'].unique()"
      ],
      "metadata": {
        "colab": {
          "base_uri": "https://localhost:8080/"
        },
        "id": "Crayp49TO8vu",
        "outputId": "34979d75-d7f1-4fe0-ba8b-305c63463076"
      },
      "execution_count": 332,
      "outputs": [
        {
          "output_type": "execute_result",
          "data": {
            "text/plain": [
              "array(['2019', '2012', nan, '2022', '2018', '2016', '2015', '2014',\n",
              "       '2021', '2017', '2005', '2006', '2023', '2002', '2004', '1994',\n",
              "       '2020', '2013', '2007', '2008', '1929', '2011', '2010', '1977',\n",
              "       '2003', '1999', '1960', '1990', '1980', '2009', '1976', '2000',\n",
              "       '1989', '1982', '1975', '1970', '1995', '1998', '1996', '1979',\n",
              "       '1986', '1950', '1967', '1997', '1981', '2001', '1955', '1991',\n",
              "       '1992', '1983', '1985', '1984', '1993', '1988', '1978', '1987',\n",
              "       '1971', '1969', '1972', '1974', '1973', '1962', '1965', '1968',\n",
              "       '1948', '1961', '1952', '1956', '1886', '1920', '1958', '1945',\n",
              "       '1941', '1966', '1910', '1905', '1940', '1928', '1957', '1964',\n",
              "       '1884', '1959', '1963', '1946', '1947', '1944', '1953', '1951',\n",
              "       '1954', '1949', '1750', '1930', '1942', '1741', '1935', '1924',\n",
              "       '1899', '1881', '1900', '1921', '1915', '1922', '1908', '1937',\n",
              "       '1890', '1898', '1911', '1912', '1943', '1927', '1894', '1916',\n",
              "       '1906', '1914', '1925', '1936', '1907', '1917', '1892', '1938',\n",
              "       '1923', '1903', '1931', '1926', '1913', '1885', '1939', '1888',\n",
              "       '1933', '1934', '1690', '1878', '1870', '1919', '1875', '1901',\n",
              "       '1893', '1889', '1904', '1918', '1909', '1932', '1852', '1694',\n",
              "       '1790', '1896', '1880', '1847', '2024', '1850', '1902', '1887',\n",
              "       '1891', '1846', '1845', '1867', '1883', '1868', '1848', '1895',\n",
              "       '1601', '1559', '1897', '1876', '1879', '1871', '1882', '1872',\n",
              "       '1800', '1650'], dtype=object)"
            ]
          },
          "metadata": {},
          "execution_count": 332
        }
      ]
    },
    {
      "cell_type": "code",
      "source": [
        "data['yop'].isna().sum()"
      ],
      "metadata": {
        "id": "pKqjUhUuWdVm",
        "outputId": "10813e6c-0e37-4966-d7dc-4437dcd08caa",
        "colab": {
          "base_uri": "https://localhost:8080/"
        }
      },
      "execution_count": 333,
      "outputs": [
        {
          "output_type": "execute_result",
          "data": {
            "text/plain": [
              "87140"
            ]
          },
          "metadata": {},
          "execution_count": 333
        }
      ]
    },
    {
      "cell_type": "markdown",
      "source": [
        "4. Форматируем столбец **size**"
      ],
      "metadata": {
        "id": "jnJUpNLHcSVU"
      }
    },
    {
      "cell_type": "code",
      "source": [
        "data['size'].unique()"
      ],
      "metadata": {
        "id": "kj5KCTPbc6QH",
        "colab": {
          "base_uri": "https://localhost:8080/"
        },
        "outputId": "e18ee752-237a-43f4-8e97-5122ec87272b"
      },
      "execution_count": 334,
      "outputs": [
        {
          "output_type": "execute_result",
          "data": {
            "text/plain": [
              "array(['42 mm', '39 mm', '41 mm', ..., '40 x 10.75 mm', '46 x 17 mm',\n",
              "       '48 x 57.5 mm'], dtype=object)"
            ]
          },
          "metadata": {},
          "execution_count": 334
        }
      ]
    },
    {
      "cell_type": "code",
      "source": [
        "data['size'].value_counts()"
      ],
      "metadata": {
        "id": "5qAPgvQIgkbx",
        "colab": {
          "base_uri": "https://localhost:8080/"
        },
        "outputId": "8506571a-223d-40b6-df29-48c54469a421"
      },
      "execution_count": 335,
      "outputs": [
        {
          "output_type": "execute_result",
          "data": {
            "text/plain": [
              "40 mm             31119\n",
              "41 mm             25136\n",
              "42 mm             23198\n",
              "36 mm             17834\n",
              "44 mm             13274\n",
              "                  ...  \n",
              "34.5 x 35 mm          1\n",
              "38.6 x 38,6 mm        1\n",
              "31.5 x 38 mm          1\n",
              "26.8 x 32.5 mm        1\n",
              "48 x 57.5 mm          1\n",
              "Name: size, Length: 6595, dtype: int64"
            ]
          },
          "metadata": {},
          "execution_count": 335
        }
      ]
    },
    {
      "cell_type": "markdown",
      "source": [
        "Информация о диаметре корпуса содержится в первом числе. Вторым числом является либо толщина, либо дополнительное измерение корпуса (в случае часов квадратной/овальной формы). Оставляем только диаметр."
      ],
      "metadata": {
        "id": "w8BSrwItdWmC"
      }
    },
    {
      "cell_type": "code",
      "source": [
        "data['size']=data['size'].str[0:2]"
      ],
      "metadata": {
        "id": "hbrZEClLdnsk"
      },
      "execution_count": 336,
      "outputs": []
    },
    {
      "cell_type": "code",
      "source": [
        "data['size'].unique()"
      ],
      "metadata": {
        "id": "vWUdIJiafhvA",
        "colab": {
          "base_uri": "https://localhost:8080/"
        },
        "outputId": "ea9fcd62-d4c6-41b2-bced-1f252d845d0c"
      },
      "execution_count": 337,
      "outputs": [
        {
          "output_type": "execute_result",
          "data": {
            "text/plain": [
              "array(['42', '39', '41', '38', '44', '37', nan, '34', '36', '45', '43',\n",
              "       '23', '33', '24', '40', '48', '31', '29', '35', '22', '26', '25',\n",
              "       '90', '65', '15', '30', '28', '32', '47', 'Re', 'Br', '64', '14',\n",
              "       'Au', '20', '50', '49', '18', '51', '27', '16', '68', '21', '46',\n",
              "       '61', 'Li', 'Ma', '69', '70', '55', '54', '17', '[P', 'Th', 'Mo',\n",
              "       '57', '-M', '8 ', '8S', 'Pr', '19', '59', '56', 'I ', '53', '52',\n",
              "       'De', 'Yo', 'Su', '13', 'Of', '58', '\"A', 'Ai', '【a', '72', '84',\n",
              "       'Or', '11', '3 ', 'Fo', '75', '12', '85', '6.', 'XL', 'ma', '78',\n",
              "       '63', 'Ca', '73', 'St', '79', '60', '10', '7.', '\"R', 'Am', 'In',\n",
              "       '\"P', 'Pa', 'Ba', 'Wa', 'A ', '7,', '\"C', 'It', '\"T', 'Sc', 'Sa',\n",
              "       '[S', '*B', '\"M', '\"E', '\"N', '【r', 'SP', 'IT', 'La', 'Mi', '9 ',\n",
              "       '5.', '6 ', 'Lo', 'Hu', '※O', '91', 'Ce', 'Un', 'IW', 'iw', '*D',\n",
              "       '*S', '5 ', '[B', 'ca', '[N', '4 ', '80', 'Vi', '2 ', 'Ne', '96',\n",
              "       'Ja', '76', '66', 'On', 'JL', 'WE', '1.', '3.', \"'2\", 'Ra', '2.',\n",
              "       'Si', 'Ex', '67', '71', '* ', 'Se', '1 ', 'Ap', 'Om', 'Di', 'TE',\n",
              "       'Ye', 'Fu', 'mo', 'Bo', 'Dr', 'fe', 'FE', 'DE', 'OM', '\"S', 'クロ',\n",
              "       'Be', 'Te', '\"D', 'Ch', 'Co', '【I', '【P', 'Du', 'BR', '0 ', 'PA',\n",
              "       'WA', 'Üb', 'ro', 'Ro', 'Oy', 'En', 'Da', '[A', '*W', 'es', 'Qu',\n",
              "       '\"G', 'SE', '8.', 'th', '３４', '*【', '【D', '【e', 'FO', 'br', 'Ar',\n",
              "       'If', 'Wh', '3,', '4,', '93', 'Cr', 'Gr', 'NE', 'Ni', '83', '62',\n",
              "       '【E', 'Bl', 'Al', '\"F', 'TA', 'Es', 'F4', 'Tu', '\"B', '!!', '2,',\n",
              "       '- ', 'Ze'], dtype=object)"
            ]
          },
          "metadata": {},
          "execution_count": 337
        }
      ]
    },
    {
      "cell_type": "code",
      "source": [
        "data['size']=data['size'].str.replace('\\W','',regex=True)\n",
        "data['size']=data['size'].str.replace('(\\D+)', '',regex=True)\n",
        "data['size'].replace('', 0, inplace=True)\n",
        "data['size'].replace(np.nan, 0, inplace=True)"
      ],
      "metadata": {
        "id": "DVo9Z5kufttU"
      },
      "execution_count": 338,
      "outputs": []
    },
    {
      "cell_type": "code",
      "source": [
        "data['size']=data['size'].astype(int)"
      ],
      "metadata": {
        "id": "n3BmuKQLy6M3"
      },
      "execution_count": 339,
      "outputs": []
    },
    {
      "cell_type": "code",
      "source": [
        "data['size'].unique()"
      ],
      "metadata": {
        "id": "wyW1adsdf0II",
        "colab": {
          "base_uri": "https://localhost:8080/"
        },
        "outputId": "0b9b7836-161b-4b86-8ae3-b769575b42b7"
      },
      "execution_count": 340,
      "outputs": [
        {
          "output_type": "execute_result",
          "data": {
            "text/plain": [
              "array([42, 39, 41, 38, 44, 37,  0, 34, 36, 45, 43, 23, 33, 24, 40, 48, 31,\n",
              "       29, 35, 22, 26, 25, 90, 65, 15, 30, 28, 32, 47, 64, 14, 20, 50, 49,\n",
              "       18, 51, 27, 16, 68, 21, 46, 61, 69, 70, 55, 54, 17, 57,  8, 19, 59,\n",
              "       56, 53, 52, 13, 58, 72, 84, 11,  3, 75, 12, 85,  6, 78, 63, 73, 79,\n",
              "       60, 10,  7,  9,  5, 91,  4, 80,  2, 96, 76, 66,  1, 67, 71, 93, 83,\n",
              "       62])"
            ]
          },
          "metadata": {},
          "execution_count": 340
        }
      ]
    },
    {
      "cell_type": "code",
      "source": [
        "data['size'].value_counts()[:50].plot(kind='barh',figsize=(5,10))"
      ],
      "metadata": {
        "id": "lboigx5HFmty",
        "colab": {
          "base_uri": "https://localhost:8080/",
          "height": 844
        },
        "outputId": "25633400-9440-4098-c3db-fa0fdd5fb789"
      },
      "execution_count": 341,
      "outputs": [
        {
          "output_type": "execute_result",
          "data": {
            "text/plain": [
              "<Axes: >"
            ]
          },
          "metadata": {},
          "execution_count": 341
        },
        {
          "output_type": "display_data",
          "data": {
            "text/plain": [
              "<Figure size 500x1000 with 1 Axes>"
            ],
            "image/png": "[encoded data removed]"
          },
          "metadata": {}
        }
      ]
    },
    {
      "cell_type": "code",
      "source": [
        "data['size'].value_counts()[:50]"
      ],
      "metadata": {
        "id": "ndSF8PX3Hhsh",
        "colab": {
          "base_uri": "https://localhost:8080/"
        },
        "outputId": "1cf9e971-bb95-4b58-f1e3-35bf49c76bc4"
      },
      "execution_count": 342,
      "outputs": [
        {
          "output_type": "execute_result",
          "data": {
            "text/plain": [
              "40    35625\n",
              "41    29233\n",
              "42    27151\n",
              "0     22287\n",
              "36    20502\n",
              "44    15309\n",
              "39    14173\n",
              "43    10856\n",
              "38     9980\n",
              "34     9408\n",
              "45     8232\n",
              "35     6672\n",
              "37     5274\n",
              "26     5201\n",
              "31     5050\n",
              "33     4200\n",
              "28     3111\n",
              "32     3031\n",
              "46     3022\n",
              "29     2792\n",
              "30     2318\n",
              "25     2296\n",
              "27     2225\n",
              "47     2142\n",
              "24     1979\n",
              "48     1584\n",
              "20     1196\n",
              "22     1173\n",
              "23     1127\n",
              "49      640\n",
              "21      429\n",
              "50      395\n",
              "19      346\n",
              "51      253\n",
              "18      229\n",
              "17      208\n",
              "16      193\n",
              "52      175\n",
              "15      147\n",
              "55      116\n",
              "14       83\n",
              "54       81\n",
              "53       69\n",
              "13       35\n",
              "57       27\n",
              "12       24\n",
              "60       23\n",
              "56       23\n",
              "65       18\n",
              "11       18\n",
              "Name: size, dtype: int64"
            ]
          },
          "metadata": {},
          "execution_count": 342
        }
      ]
    },
    {
      "cell_type": "code",
      "source": [
        "data['size'] = data['size'].mask((data['size'] > 55) | (data['size'] < 15), np.nan)"
      ],
      "metadata": {
        "id": "AFWkL82ax17v"
      },
      "execution_count": 343,
      "outputs": []
    },
    {
      "cell_type": "code",
      "source": [
        "data['size'].value_counts()"
      ],
      "metadata": {
        "colab": {
          "base_uri": "https://localhost:8080/"
        },
        "id": "jn1TNJtLx_95",
        "outputId": "11876efe-b133-4d21-f017-998f9edfe744"
      },
      "execution_count": 344,
      "outputs": [
        {
          "output_type": "execute_result",
          "data": {
            "text/plain": [
              "40.0    35625\n",
              "41.0    29233\n",
              "42.0    27151\n",
              "36.0    20502\n",
              "44.0    15309\n",
              "39.0    14173\n",
              "43.0    10856\n",
              "38.0     9980\n",
              "34.0     9408\n",
              "45.0     8232\n",
              "35.0     6672\n",
              "37.0     5274\n",
              "26.0     5201\n",
              "31.0     5050\n",
              "33.0     4200\n",
              "28.0     3111\n",
              "32.0     3031\n",
              "46.0     3022\n",
              "29.0     2792\n",
              "30.0     2318\n",
              "25.0     2296\n",
              "27.0     2225\n",
              "47.0     2142\n",
              "24.0     1979\n",
              "48.0     1584\n",
              "20.0     1196\n",
              "22.0     1173\n",
              "23.0     1127\n",
              "49.0      640\n",
              "21.0      429\n",
              "50.0      395\n",
              "19.0      346\n",
              "51.0      253\n",
              "18.0      229\n",
              "17.0      208\n",
              "16.0      193\n",
              "52.0      175\n",
              "15.0      147\n",
              "55.0      116\n",
              "54.0       81\n",
              "53.0       69\n",
              "Name: size, dtype: int64"
            ]
          },
          "metadata": {},
          "execution_count": 344
        }
      ]
    },
    {
      "cell_type": "markdown",
      "source": [
        "Переименовываем столбцы"
      ],
      "metadata": {
        "id": "mov6-n9ipAEn"
      }
    },
    {
      "cell_type": "code",
      "source": [
        "data.columns"
      ],
      "metadata": {
        "colab": {
          "base_uri": "https://localhost:8080/"
        },
        "id": "ERjV_QNNOktJ",
        "outputId": "3b9da26d-cdc1-4f1d-931b-f2092ce6bd7e"
      },
      "execution_count": 345,
      "outputs": [
        {
          "output_type": "execute_result",
          "data": {
            "text/plain": [
              "Index(['name', 'price', 'brand', 'model', 'ref', 'mvmt', 'casem', 'bracem',\n",
              "       'yop', 'sex', 'size', 'condition_summed'],\n",
              "      dtype='object')"
            ]
          },
          "metadata": {},
          "execution_count": 345
        }
      ]
    },
    {
      "cell_type": "code",
      "source": [
        "data = data.rename(columns={'name': 'Title', 'price': 'Price', 'brand': 'Brand', 'model': 'Model', 'ref': 'Reference_Number', 'mvmt': 'Movement', 'casem': 'Case_Material', 'bracem': 'Bracelet_Material', 'yop': 'Year_of_Production', 'sex': 'Sex', 'size': 'Case_Size', 'condition_summed': 'Condition'})"
      ],
      "metadata": {
        "id": "m5vMaHpgJz8H"
      },
      "execution_count": 346,
      "outputs": []
    },
    {
      "cell_type": "code",
      "source": [
        "data.reset_index(drop=True, inplace=True)"
      ],
      "metadata": {
        "id": "5aFuqqFBS-IM"
      },
      "execution_count": 347,
      "outputs": []
    },
    {
      "cell_type": "code",
      "source": [
        "data.head(5)"
      ],
      "metadata": {
        "colab": {
          "base_uri": "https://localhost:8080/",
          "height": 293
        },
        "id": "pTemoD3tTGHB",
        "outputId": "0bcff37f-8c61-46bc-f80f-8937c4b46be3"
      },
      "execution_count": 388,
      "outputs": [
        {
          "output_type": "execute_result",
          "data": {
            "text/plain": [
              "                                               Title   Price            Brand  \\\n",
              "0  Audemars Piguet Royal Oak Offshore Chronograph...   43500  Audemars Piguet   \n",
              "1  Audemars Piguet Royal Oak Selfwinding\\n39mm Bl...   71500  Audemars Piguet   \n",
              "2  Audemars Piguet Royal Oak Chronograph\\nBlue Di...   79191  Audemars Piguet   \n",
              "3  Audemars Piguet Royal Oak Chronograph\\nSelfwin...  108000  Audemars Piguet   \n",
              "4  Audemars Piguet Royal Oak Offshore Chronograph...   27500  Audemars Piguet   \n",
              "\n",
              "                            Model      Reference_Number   Movement  \\\n",
              "0  Royal Oak Offshore Chronograph  26237ST.OO.1000ST.01        NaN   \n",
              "1           Royal Oak Selfwinding  15300ST.OO.1220ST.02        NaN   \n",
              "2           Royal Oak Chronograph               26331ST  Automatic   \n",
              "3           Royal Oak Chronograph  26715ST.OO.1356ST.01  Automatic   \n",
              "4  Royal Oak Offshore Chronograph  26170ST.OO.1000ST.01  Automatic   \n",
              "\n",
              "  Case_Material Bracelet_Material Year_of_Production                 Sex  \\\n",
              "0           NaN               NaN               2019  Men's watch/Unisex   \n",
              "1           NaN               NaN               2012  Men's watch/Unisex   \n",
              "2         Steel             Steel                NaN                 NaN   \n",
              "3         Steel             Steel               2022  Men's watch/Unisex   \n",
              "4         Steel             Steel                NaN  Men's watch/Unisex   \n",
              "\n",
              "   Case_Size  Condition  \n",
              "0       42.0     Unworn  \n",
              "1       39.0  Very good  \n",
              "2       41.0     Unworn  \n",
              "3       38.0        New  \n",
              "4       42.0  Very good  "
            ],
            "text/html": [
              "\n",
              "  <div id=\"df-2babf34c-63ad-47e0-b4d3-a3804c3bdecc\" class=\"colab-df-container\">\n",
              "    <div>\n",
              "<style scoped>\n",
              "    .dataframe tbody tr th:only-of-type {\n",
              "        vertical-align: middle;\n",
              "    }\n",
              "\n",
              "    .dataframe tbody tr th {\n",
              "        vertical-align: top;\n",
              "    }\n",
              "\n",
              "    .dataframe thead th {\n",
              "        text-align: right;\n",
              "    }\n",
              "</style>\n",
              "<table border=\"1\" class=\"dataframe\">\n",
              "  <thead>\n",
              "    <tr style=\"text-align: right;\">\n",
              "      <th></th>\n",
              "      <th>Title</th>\n",
              "      <th>Price</th>\n",
              "      <th>Brand</th>\n",
              "      <th>Model</th>\n",
              "      <th>Reference_Number</th>\n",
              "      <th>Movement</th>\n",
              "      <th>Case_Material</th>\n",
              "      <th>Bracelet_Material</th>\n",
              "      <th>Year_of_Production</th>\n",
              "      <th>Sex</th>\n",
              "      <th>Case_Size</th>\n",
              "      <th>Condition</th>\n",
              "    </tr>\n",
              "  </thead>\n",
              "  <tbody>\n",
              "    <tr>\n",
              "      <th>0</th>\n",
              "      <td>Audemars Piguet Royal Oak Offshore Chronograph...</td>\n",
              "      <td>43500</td>\n",
              "      <td>Audemars Piguet</td>\n",
              "      <td>Royal Oak Offshore Chronograph</td>\n",
              "      <td>26237ST.OO.1000ST.01</td>\n",
              "      <td>NaN</td>\n",
              "      <td>NaN</td>\n",
              "      <td>NaN</td>\n",
              "      <td>2019</td>\n",
              "      <td>Men's watch/Unisex</td>\n",
              "      <td>42.0</td>\n",
              "      <td>Unworn</td>\n",
              "    </tr>\n",
              "    <tr>\n",
              "      <th>1</th>\n",
              "      <td>Audemars Piguet Royal Oak Selfwinding\\n39mm Bl...</td>\n",
              "      <td>71500</td>\n",
              "      <td>Audemars Piguet</td>\n",
              "      <td>Royal Oak Selfwinding</td>\n",
              "      <td>15300ST.OO.1220ST.02</td>\n",
              "      <td>NaN</td>\n",
              "      <td>NaN</td>\n",
              "      <td>NaN</td>\n",
              "      <td>2012</td>\n",
              "      <td>Men's watch/Unisex</td>\n",
              "      <td>39.0</td>\n",
              "      <td>Very good</td>\n",
              "    </tr>\n",
              "    <tr>\n",
              "      <th>2</th>\n",
              "      <td>Audemars Piguet Royal Oak Chronograph\\nBlue Di...</td>\n",
              "      <td>79191</td>\n",
              "      <td>Audemars Piguet</td>\n",
              "      <td>Royal Oak Chronograph</td>\n",
              "      <td>26331ST</td>\n",
              "      <td>Automatic</td>\n",
              "      <td>Steel</td>\n",
              "      <td>Steel</td>\n",
              "      <td>NaN</td>\n",
              "      <td>NaN</td>\n",
              "      <td>41.0</td>\n",
              "      <td>Unworn</td>\n",
              "    </tr>\n",
              "    <tr>\n",
              "      <th>3</th>\n",
              "      <td>Audemars Piguet Royal Oak Chronograph\\nSelfwin...</td>\n",
              "      <td>108000</td>\n",
              "      <td>Audemars Piguet</td>\n",
              "      <td>Royal Oak Chronograph</td>\n",
              "      <td>26715ST.OO.1356ST.01</td>\n",
              "      <td>Automatic</td>\n",
              "      <td>Steel</td>\n",
              "      <td>Steel</td>\n",
              "      <td>2022</td>\n",
              "      <td>Men's watch/Unisex</td>\n",
              "      <td>38.0</td>\n",
              "      <td>New</td>\n",
              "    </tr>\n",
              "    <tr>\n",
              "      <th>4</th>\n",
              "      <td>Audemars Piguet Royal Oak Offshore Chronograph...</td>\n",
              "      <td>27500</td>\n",
              "      <td>Audemars Piguet</td>\n",
              "      <td>Royal Oak Offshore Chronograph</td>\n",
              "      <td>26170ST.OO.1000ST.01</td>\n",
              "      <td>Automatic</td>\n",
              "      <td>Steel</td>\n",
              "      <td>Steel</td>\n",
              "      <td>NaN</td>\n",
              "      <td>Men's watch/Unisex</td>\n",
              "      <td>42.0</td>\n",
              "      <td>Very good</td>\n",
              "    </tr>\n",
              "  </tbody>\n",
              "</table>\n",
              "</div>\n",
              "    <div class=\"colab-df-buttons\">\n",
              "\n",
              "  <div class=\"colab-df-container\">\n",
              "    <button class=\"colab-df-convert\" onclick=\"convertToInteractive('df-2babf34c-63ad-47e0-b4d3-a3804c3bdecc')\"\n",
              "            title=\"Convert this dataframe to an interactive table.\"\n",
              "            style=\"display:none;\">\n",
              "\n",
              "  <svg xmlns=\"http://www.w3.org/2000/svg\" height=\"24px\" viewBox=\"0 -960 960 960\">\n",
              "    <path d=\"M120-120v-720h720v720H120Zm60-500h600v-160H180v160Zm220 220h160v-160H400v160Zm0 220h160v-160H400v160ZM180-400h160v-160H180v160Zm440 0h160v-160H620v160ZM180-180h160v-160H180v160Zm440 0h160v-160H620v160Z\"/>\n",
              "  </svg>\n",
              "    </button>\n",
              "\n",
              "  <style>\n",
              "    .colab-df-container {\n",
              "      display:flex;\n",
              "      gap: 12px;\n",
              "    }\n",
              "\n",
              "    .colab-df-convert {\n",
              "      background-color: #E8F0FE;\n",
              "      border: none;\n",
              "      border-radius: 50%;\n",
              "      cursor: pointer;\n",
              "      display: none;\n",
              "      fill: #1967D2;\n",
              "      height: 32px;\n",
              "      padding: 0 0 0 0;\n",
              "      width: 32px;\n",
              "    }\n",
              "\n",
              "    .colab-df-convert:hover {\n",
              "      background-color: #E2EBFA;\n",
              "      box-shadow: 0px 1px 2px rgba(60, 64, 67, 0.3), 0px 1px 3px 1px rgba(60, 64, 67, 0.15);\n",
              "      fill: #174EA6;\n",
              "    }\n",
              "\n",
              "    .colab-df-buttons div {\n",
              "      margin-bottom: 4px;\n",
              "    }\n",
              "\n",
              "    [theme=dark] .colab-df-convert {\n",
              "      background-color: #3B4455;\n",
              "      fill: #D2E3FC;\n",
              "    }\n",
              "\n",
              "    [theme=dark] .colab-df-convert:hover {\n",
              "      background-color: #434B5C;\n",
              "      box-shadow: 0px 1px 3px 1px rgba(0, 0, 0, 0.15);\n",
              "      filter: drop-shadow(0px 1px 2px rgba(0, 0, 0, 0.3));\n",
              "      fill: #FFFFFF;\n",
              "    }\n",
              "  </style>\n",
              "\n",
              "    <script>\n",
              "      const buttonEl =\n",
              "        document.querySelector('#df-2babf34c-63ad-47e0-b4d3-a3804c3bdecc button.colab-df-convert');\n",
              "      buttonEl.style.display =\n",
              "        google.colab.kernel.accessAllowed ? 'block' : 'none';\n",
              "\n",
              "      async function convertToInteractive(key) {\n",
              "        const element = document.querySelector('#df-2babf34c-63ad-47e0-b4d3-a3804c3bdecc');\n",
              "        const dataTable =\n",
              "          await google.colab.kernel.invokeFunction('convertToInteractive',\n",
              "                                                    [key], {});\n",
              "        if (!dataTable) return;\n",
              "\n",
              "        const docLinkHtml = 'Like what you see? Visit the ' +\n",
              "          '<a target=\"_blank\" href=https://colab.research.google.com/notebooks/data_table.ipynb>data table notebook</a>'\n",
              "          + ' to learn more about interactive tables.';\n",
              "        element.innerHTML = '';\n",
              "        dataTable['output_type'] = 'display_data';\n",
              "        await google.colab.output.renderOutput(dataTable, element);\n",
              "        const docLink = document.createElement('div');\n",
              "        docLink.innerHTML = docLinkHtml;\n",
              "        element.appendChild(docLink);\n",
              "      }\n",
              "    </script>\n",
              "  </div>\n",
              "\n",
              "\n",
              "<div id=\"df-6ff53a53-45e0-46bd-946f-9613dc9c5f62\">\n",
              "  <button class=\"colab-df-quickchart\" onclick=\"quickchart('df-6ff53a53-45e0-46bd-946f-9613dc9c5f62')\"\n",
              "            title=\"Suggest charts\"\n",
              "            style=\"display:none;\">\n",
              "\n",
              "<svg xmlns=\"http://www.w3.org/2000/svg\" height=\"24px\"viewBox=\"0 0 24 24\"\n",
              "     width=\"24px\">\n",
              "    <g>\n",
              "        <path d=\"M19 3H5c-1.1 0-2 .9-2 2v14c0 1.1.9 2 2 2h14c1.1 0 2-.9 2-2V5c0-1.1-.9-2-2-2zM9 17H7v-7h2v7zm4 0h-2V7h2v10zm4 0h-2v-4h2v4z\"/>\n",
              "    </g>\n",
              "</svg>\n",
              "  </button>\n",
              "\n",
              "<style>\n",
              "  .colab-df-quickchart {\n",
              "      --bg-color: #E8F0FE;\n",
              "      --fill-color: #1967D2;\n",
              "      --hover-bg-color: #E2EBFA;\n",
              "      --hover-fill-color: #174EA6;\n",
              "      --disabled-fill-color: #AAA;\n",
              "      --disabled-bg-color: #DDD;\n",
              "  }\n",
              "\n",
              "  [theme=dark] .colab-df-quickchart {\n",
              "      --bg-color: #3B4455;\n",
              "      --fill-color: #D2E3FC;\n",
              "      --hover-bg-color: #434B5C;\n",
              "      --hover-fill-color: #FFFFFF;\n",
              "      --disabled-bg-color: #3B4455;\n",
              "      --disabled-fill-color: #666;\n",
              "  }\n",
              "\n",
              "  .colab-df-quickchart {\n",
              "    background-color: var(--bg-color);\n",
              "    border: none;\n",
              "    border-radius: 50%;\n",
              "    cursor: pointer;\n",
              "    display: none;\n",
              "    fill: var(--fill-color);\n",
              "    height: 32px;\n",
              "    padding: 0;\n",
              "    width: 32px;\n",
              "  }\n",
              "\n",
              "  .colab-df-quickchart:hover {\n",
              "    background-color: var(--hover-bg-color);\n",
              "    box-shadow: 0 1px 2px rgba(60, 64, 67, 0.3), 0 1px 3px 1px rgba(60, 64, 67, 0.15);\n",
              "    fill: var(--button-hover-fill-color);\n",
              "  }\n",
              "\n",
              "  .colab-df-quickchart-complete:disabled,\n",
              "  .colab-df-quickchart-complete:disabled:hover {\n",
              "    background-color: var(--disabled-bg-color);\n",
              "    fill: var(--disabled-fill-color);\n",
              "    box-shadow: none;\n",
              "  }\n",
              "\n",
              "  .colab-df-spinner {\n",
              "    border: 2px solid var(--fill-color);\n",
              "    border-color: transparent;\n",
              "    border-bottom-color: var(--fill-color);\n",
              "    animation:\n",
              "      spin 1s steps(1) infinite;\n",
              "  }\n",
              "\n",
              "  @keyframes spin {\n",
              "    0% {\n",
              "      border-color: transparent;\n",
              "      border-bottom-color: var(--fill-color);\n",
              "      border-left-color: var(--fill-color);\n",
              "    }\n",
              "    20% {\n",
              "      border-color: transparent;\n",
              "      border-left-color: var(--fill-color);\n",
              "      border-top-color: var(--fill-color);\n",
              "    }\n",
              "    30% {\n",
              "      border-color: transparent;\n",
              "      border-left-color: var(--fill-color);\n",
              "      border-top-color: var(--fill-color);\n",
              "      border-right-color: var(--fill-color);\n",
              "    }\n",
              "    40% {\n",
              "      border-color: transparent;\n",
              "      border-right-color: var(--fill-color);\n",
              "      border-top-color: var(--fill-color);\n",
              "    }\n",
              "    60% {\n",
              "      border-color: transparent;\n",
              "      border-right-color: var(--fill-color);\n",
              "    }\n",
              "    80% {\n",
              "      border-color: transparent;\n",
              "      border-right-color: var(--fill-color);\n",
              "      border-bottom-color: var(--fill-color);\n",
              "    }\n",
              "    90% {\n",
              "      border-color: transparent;\n",
              "      border-bottom-color: var(--fill-color);\n",
              "    }\n",
              "  }\n",
              "</style>\n",
              "\n",
              "  <script>\n",
              "    async function quickchart(key) {\n",
              "      const quickchartButtonEl =\n",
              "        document.querySelector('#' + key + ' button');\n",
              "      quickchartButtonEl.disabled = true;  // To prevent multiple clicks.\n",
              "      quickchartButtonEl.classList.add('colab-df-spinner');\n",
              "      try {\n",
              "        const charts = await google.colab.kernel.invokeFunction(\n",
              "            'suggestCharts', [key], {});\n",
              "      } catch (error) {\n",
              "        console.error('Error during call to suggestCharts:', error);\n",
              "      }\n",
              "      quickchartButtonEl.classList.remove('colab-df-spinner');\n",
              "      quickchartButtonEl.classList.add('colab-df-quickchart-complete');\n",
              "    }\n",
              "    (() => {\n",
              "      let quickchartButtonEl =\n",
              "        document.querySelector('#df-6ff53a53-45e0-46bd-946f-9613dc9c5f62 button');\n",
              "      quickchartButtonEl.style.display =\n",
              "        google.colab.kernel.accessAllowed ? 'block' : 'none';\n",
              "    })();\n",
              "  </script>\n",
              "</div>\n",
              "    </div>\n",
              "  </div>\n"
            ]
          },
          "metadata": {},
          "execution_count": 388
        }
      ]
    },
    {
      "cell_type": "markdown",
      "source": [
        "# 2. EDA"
      ],
      "metadata": {
        "id": "LWtG8DnjUjgp"
      }
    },
    {
      "cell_type": "code",
      "source": [
        "brand_counts = data['Brand'].value_counts()[:10]\n",
        "plt.rcParams.update({'font.size': 8})\n",
        "\n",
        "plt.figure(figsize=(15, 5))\n",
        "plt.bar(brand_counts.index, brand_counts)\n",
        "plt.title('Top 10 most popular brands')\n",
        "plt.xlabel('Brand')\n",
        "plt.ylabel('Count')\n",
        "plt.show()"
      ],
      "metadata": {
        "colab": {
          "base_uri": "https://localhost:8080/",
          "height": 475
        },
        "id": "XNnkqP_3uaEz",
        "outputId": "be09b19c-3473-4f2b-c261-44b1f6451170"
      },
      "execution_count": 349,
      "outputs": [
        {
          "output_type": "display_data",
          "data": {
            "text/plain": [
              "<Figure size 1500x500 with 1 Axes>"
            ],
            "image/png": "[encoded data removed]"
          },
          "metadata": {}
        }
      ]
    },
    {
      "cell_type": "code",
      "source": [
        "brand_price = data.loc[:,['Brand', 'Price']]\n",
        "brand_price_mean = brand_price.groupby('Brand').mean().reset_index().sort_values(by='Price', ascending=False)\n"
      ],
      "metadata": {
        "id": "Otkcaq_CwZkB"
      },
      "execution_count": 350,
      "outputs": []
    },
    {
      "cell_type": "code",
      "source": [
        "plt.figure(figsize=(50, 6))\n",
        "plt.bar(brand_price_mean.Brand, brand_price_mean.Price)\n",
        "plt.title('Mean Watch Price Per Brand')\n",
        "plt.xlabel('Brand')\n",
        "plt.ylabel('Mean price')\n",
        "plt.show()"
      ],
      "metadata": {
        "colab": {
          "base_uri": "https://localhost:8080/",
          "height": 259
        },
        "id": "OFHmZQ44zYo_",
        "outputId": "d43e5e07-fdf6-450b-aaa8-91b4efb31649"
      },
      "execution_count": 351,
      "outputs": [
        {
          "output_type": "display_data",
          "data": {
            "text/plain": [
              "<Figure size 5000x600 with 1 Axes>"
            ],
            "image/png": "[encoded data removed]"
          },
          "metadata": {}
        }
      ]
    },
    {
      "cell_type": "code",
      "source": [
        "popular_rolex = data.loc[data['Brand']=='Rolex', ['Model']]\n",
        "popular_rolex = popular_rolex['Model'].value_counts()[:10]\n",
        "\n",
        "plt.figure(figsize=(20, 4))\n",
        "plt.bar(popular_rolex.index, popular_rolex)\n",
        "plt.title('Top 10 most popular Rolex models')\n",
        "plt.xlabel('Model')\n",
        "plt.ylabel('Count')\n",
        "plt.show()"
      ],
      "metadata": {
        "colab": {
          "base_uri": "https://localhost:8080/",
          "height": 398
        },
        "id": "Eh6ObINg08wh",
        "outputId": "a347d453-cdb1-4aa2-e439-909ef9bca085"
      },
      "execution_count": 352,
      "outputs": [
        {
          "output_type": "display_data",
          "data": {
            "text/plain": [
              "<Figure size 2000x400 with 1 Axes>"
            ],
            "image/png": "[encoded data removed]"
          },
          "metadata": {}
        }
      ]
    },
    {
      "cell_type": "code",
      "source": [
        "popular_seiko = data.loc[data['Brand']=='Seiko', ['Model']]\n",
        "popular_seiko = popular_seiko['Model'].value_counts()[:10]\n",
        "\n",
        "plt.figure(figsize=(20, 4))\n",
        "plt.bar(popular_seiko.index, popular_seiko)\n",
        "plt.title('Top 10 most popular Seiko models (series)')\n",
        "plt.xlabel('Model')\n",
        "plt.ylabel('Count')\n",
        "plt.show()"
      ],
      "metadata": {
        "colab": {
          "base_uri": "https://localhost:8080/",
          "height": 398
        },
        "id": "aVkVUzG-4vQw",
        "outputId": "cdd38bb6-cf6f-434f-974b-2b140478709b"
      },
      "execution_count": 353,
      "outputs": [
        {
          "output_type": "display_data",
          "data": {
            "text/plain": [
              "<Figure size 2000x400 with 1 Axes>"
            ],
            "image/png": "[encoded data removed]"
          },
          "metadata": {}
        }
      ]
    },
    {
      "cell_type": "code",
      "source": [
        "popular_omega = data.loc[data['Brand']=='Omega', ['Model']]\n",
        "popular_omega = popular_omega['Model'].value_counts()[:10]\n",
        "\n",
        "plt.figure(figsize=(25, 4))\n",
        "plt.bar(popular_omega.index, popular_omega)\n",
        "plt.title('Top 10 most popular Omega models')\n",
        "plt.xlabel('Model')\n",
        "plt.ylabel('Count')\n",
        "plt.show()"
      ],
      "metadata": {
        "colab": {
          "base_uri": "https://localhost:8080/",
          "height": 356
        },
        "id": "cMQAAVp45Aag",
        "outputId": "d0d4c3d7-2a9d-4e27-84ca-1974177f057d"
      },
      "execution_count": 354,
      "outputs": [
        {
          "output_type": "display_data",
          "data": {
            "text/plain": [
              "<Figure size 2500x400 with 1 Axes>"
            ],
            "image/png": "[encoded data removed]"
          },
          "metadata": {}
        }
      ]
    },
    {
      "cell_type": "code",
      "source": [
        "mvmts = data['Movement'].value_counts()\n",
        "\n",
        "plt.figure(figsize=(5, 6))\n",
        "plt.bar(mvmts.index, mvmts)\n",
        "plt.title('Movement types by popularity')\n",
        "plt.xlabel('Movement type')\n",
        "plt.ylabel('Count')\n",
        "plt.show()"
      ],
      "metadata": {
        "colab": {
          "base_uri": "https://localhost:8080/",
          "height": 552
        },
        "id": "fhd97h8a7gN5",
        "outputId": "103bc9ba-044b-402d-ae70-3476c9f82725"
      },
      "execution_count": 355,
      "outputs": [
        {
          "output_type": "display_data",
          "data": {
            "text/plain": [
              "<Figure size 500x600 with 1 Axes>"
            ],
            "image/png": "[encoded data removed]"
          },
          "metadata": {}
        }
      ]
    },
    {
      "cell_type": "code",
      "source": [
        "mvmt_vs_price = data.loc[:,['Movement', 'Price']]\n",
        "mvmt_vs_price_mean = mvmt_vs_price.groupby('Movement').mean().reset_index().sort_values(by='Price', ascending=False)\n",
        "plt.figure(figsize=(5, 6))\n",
        "plt.bar(mvmt_vs_price_mean.Movement, mvmt_vs_price_mean.Price)\n",
        "plt.title('Movement type vs Mean price')\n",
        "plt.xlabel('Movement type')\n",
        "plt.ylabel('Mean price')\n",
        "plt.show()"
      ],
      "metadata": {
        "colab": {
          "base_uri": "https://localhost:8080/",
          "height": 552
        },
        "id": "cqWsVrAW7E5U",
        "outputId": "bf1bf2b9-740c-4b44-8790-f939d5c43cb2"
      },
      "execution_count": 356,
      "outputs": [
        {
          "output_type": "display_data",
          "data": {
            "text/plain": [
              "<Figure size 500x600 with 1 Axes>"
            ],
            "image/png": "[encoded data removed]"
          },
          "metadata": {}
        }
      ]
    },
    {
      "cell_type": "code",
      "source": [
        "model_counts = data['Model'].value_counts()[:10]\n",
        "\n",
        "plt.figure(figsize=(15, 5))\n",
        "plt.bar(model_counts.index, model_counts)\n",
        "plt.title('Top 10 most popular models')\n",
        "plt.xlabel('Model')\n",
        "plt.ylabel('Count')\n",
        "plt.show()"
      ],
      "metadata": {
        "colab": {
          "base_uri": "https://localhost:8080/",
          "height": 475
        },
        "id": "4eNpQiJS8Rd8",
        "outputId": "3b08dcdd-c91c-4490-de40-67e66c3bb8ed"
      },
      "execution_count": 357,
      "outputs": [
        {
          "output_type": "display_data",
          "data": {
            "text/plain": [
              "<Figure size 1500x500 with 1 Axes>"
            ],
            "image/png": "[encoded data removed]"
          },
          "metadata": {}
        }
      ]
    },
    {
      "cell_type": "markdown",
      "source": [
        "Выводы:\n",
        "\n",
        "\n",
        "1.   Три наиболее популярных бренда на вторичном рынке -- Rolex, Seiko и Omega\n",
        "2.   Три самых дорогих бренда -- Richard Mille, Patek Philippe, Ademars Piguet\n",
        "3.   Часы с АПЗ представлены чаще других типов механизмов\n",
        "4.   Часы с ручным оказались наиболее дорогими. Это может быть связано с тем, что такие модели чаще относятся к категории 'dress watch'.\n",
        "\n",
        "\n",
        "\n"
      ],
      "metadata": {
        "id": "OOPt-8eG-yxu"
      }
    },
    {
      "cell_type": "markdown",
      "source": [
        "# 3. Построение бейзлайна"
      ],
      "metadata": {
        "id": "brvaOzd3LhI3"
      }
    },
    {
      "cell_type": "markdown",
      "source": [
        "В качестве бейзлайн-модели выбрана Dummy Regressor.\n",
        "Для оценки бейзлайн можели принято решение использовать MSE & RMSE, т.к. они являются оптимальными для решения задач классификации."
      ],
      "metadata": {
        "id": "TcoLHtqZLm6Q"
      }
    },
    {
      "cell_type": "code",
      "source": [
        "y = data.Price\n",
        "data_features = ['Price', 'Brand', 'Model', 'Reference_Number', 'Movement',\n",
        "       'Case_Material', 'Bracelet_Material', 'Year_of_Production', 'Sex',\n",
        "       'Case_Size', 'Condition']\n",
        "X = data[data_features]\n",
        "\n",
        "X_train, X_test, y_train, y_test = train_test_split(X, y, random_state=0, test_size=0.20)\n",
        "X_train.head()"
      ],
      "metadata": {
        "colab": {
          "base_uri": "https://localhost:8080/",
          "height": 206
        },
        "id": "3oPEW2Z4Jf6o",
        "outputId": "f8b436c2-ec11-4b6a-e76a-8631490bd75d"
      },
      "execution_count": 389,
      "outputs": [
        {
          "output_type": "execute_result",
          "data": {
            "text/plain": [
              "        Price                Brand              Model Reference_Number  \\\n",
              "68806   80325     Jaeger-LeCoultre  Master Tourbillon              NaN   \n",
              "253634  14422  Vacheron Constantin          Patrimony  81180/000R-9159   \n",
              "141881  15969                Rolex      GMT-Master II         116713LN   \n",
              "229408   1322            TAG Heuer     Formula 1 Lady   WAC1215.FC6219   \n",
              "199756   4640                Rolex                NaN              NaN   \n",
              "\n",
              "              Movement Case_Material Bracelet_Material Year_of_Production  \\\n",
              "68806        Automatic           NaN               NaN                NaN   \n",
              "253634  Manual winding     Rose gold    Crocodile skin                NaN   \n",
              "141881             NaN    Gold/Steel        Gold/Steel               2007   \n",
              "229408             NaN           NaN               NaN               2000   \n",
              "199756             NaN    Gold/Steel           Leather               1968   \n",
              "\n",
              "                       Sex  Case_Size  Condition  \n",
              "68806   Men's watch/Unisex        NaN        New  \n",
              "253634  Men's watch/Unisex       40.0     Unworn  \n",
              "141881                 NaN       40.0  Very good  \n",
              "229408       Women's watch       36.0  Very good  \n",
              "199756                 NaN       34.0  Very good  "
            ],
            "text/html": [
              "\n",
              "  <div id=\"df-2fcbb29a-7d03-4645-bd96-7eb7d8fa70f8\" class=\"colab-df-container\">\n",
              "    <div>\n",
              "<style scoped>\n",
              "    .dataframe tbody tr th:only-of-type {\n",
              "        vertical-align: middle;\n",
              "    }\n",
              "\n",
              "    .dataframe tbody tr th {\n",
              "        vertical-align: top;\n",
              "    }\n",
              "\n",
              "    .dataframe thead th {\n",
              "        text-align: right;\n",
              "    }\n",
              "</style>\n",
              "<table border=\"1\" class=\"dataframe\">\n",
              "  <thead>\n",
              "    <tr style=\"text-align: right;\">\n",
              "      <th></th>\n",
              "      <th>Price</th>\n",
              "      <th>Brand</th>\n",
              "      <th>Model</th>\n",
              "      <th>Reference_Number</th>\n",
              "      <th>Movement</th>\n",
              "      <th>Case_Material</th>\n",
              "      <th>Bracelet_Material</th>\n",
              "      <th>Year_of_Production</th>\n",
              "      <th>Sex</th>\n",
              "      <th>Case_Size</th>\n",
              "      <th>Condition</th>\n",
              "    </tr>\n",
              "  </thead>\n",
              "  <tbody>\n",
              "    <tr>\n",
              "      <th>68806</th>\n",
              "      <td>80325</td>\n",
              "      <td>Jaeger-LeCoultre</td>\n",
              "      <td>Master Tourbillon</td>\n",
              "      <td>NaN</td>\n",
              "      <td>Automatic</td>\n",
              "      <td>NaN</td>\n",
              "      <td>NaN</td>\n",
              "      <td>NaN</td>\n",
              "      <td>Men's watch/Unisex</td>\n",
              "      <td>NaN</td>\n",
              "      <td>New</td>\n",
              "    </tr>\n",
              "    <tr>\n",
              "      <th>253634</th>\n",
              "      <td>14422</td>\n",
              "      <td>Vacheron Constantin</td>\n",
              "      <td>Patrimony</td>\n",
              "      <td>81180/000R-9159</td>\n",
              "      <td>Manual winding</td>\n",
              "      <td>Rose gold</td>\n",
              "      <td>Crocodile skin</td>\n",
              "      <td>NaN</td>\n",
              "      <td>Men's watch/Unisex</td>\n",
              "      <td>40.0</td>\n",
              "      <td>Unworn</td>\n",
              "    </tr>\n",
              "    <tr>\n",
              "      <th>141881</th>\n",
              "      <td>15969</td>\n",
              "      <td>Rolex</td>\n",
              "      <td>GMT-Master II</td>\n",
              "      <td>116713LN</td>\n",
              "      <td>NaN</td>\n",
              "      <td>Gold/Steel</td>\n",
              "      <td>Gold/Steel</td>\n",
              "      <td>2007</td>\n",
              "      <td>NaN</td>\n",
              "      <td>40.0</td>\n",
              "      <td>Very good</td>\n",
              "    </tr>\n",
              "    <tr>\n",
              "      <th>229408</th>\n",
              "      <td>1322</td>\n",
              "      <td>TAG Heuer</td>\n",
              "      <td>Formula 1 Lady</td>\n",
              "      <td>WAC1215.FC6219</td>\n",
              "      <td>NaN</td>\n",
              "      <td>NaN</td>\n",
              "      <td>NaN</td>\n",
              "      <td>2000</td>\n",
              "      <td>Women's watch</td>\n",
              "      <td>36.0</td>\n",
              "      <td>Very good</td>\n",
              "    </tr>\n",
              "    <tr>\n",
              "      <th>199756</th>\n",
              "      <td>4640</td>\n",
              "      <td>Rolex</td>\n",
              "      <td>NaN</td>\n",
              "      <td>NaN</td>\n",
              "      <td>NaN</td>\n",
              "      <td>Gold/Steel</td>\n",
              "      <td>Leather</td>\n",
              "      <td>1968</td>\n",
              "      <td>NaN</td>\n",
              "      <td>34.0</td>\n",
              "      <td>Very good</td>\n",
              "    </tr>\n",
              "  </tbody>\n",
              "</table>\n",
              "</div>\n",
              "    <div class=\"colab-df-buttons\">\n",
              "\n",
              "  <div class=\"colab-df-container\">\n",
              "    <button class=\"colab-df-convert\" onclick=\"convertToInteractive('df-2fcbb29a-7d03-4645-bd96-7eb7d8fa70f8')\"\n",
              "            title=\"Convert this dataframe to an interactive table.\"\n",
              "            style=\"display:none;\">\n",
              "\n",
              "  <svg xmlns=\"http://www.w3.org/2000/svg\" height=\"24px\" viewBox=\"0 -960 960 960\">\n",
              "    <path d=\"M120-120v-720h720v720H120Zm60-500h600v-160H180v160Zm220 220h160v-160H400v160Zm0 220h160v-160H400v160ZM180-400h160v-160H180v160Zm440 0h160v-160H620v160ZM180-180h160v-160H180v160Zm440 0h160v-160H620v160Z\"/>\n",
              "  </svg>\n",
              "    </button>\n",
              "\n",
              "  <style>\n",
              "    .colab-df-container {\n",
              "      display:flex;\n",
              "      gap: 12px;\n",
              "    }\n",
              "\n",
              "    .colab-df-convert {\n",
              "      background-color: #E8F0FE;\n",
              "      border: none;\n",
              "      border-radius: 50%;\n",
              "      cursor: pointer;\n",
              "      display: none;\n",
              "      fill: #1967D2;\n",
              "      height: 32px;\n",
              "      padding: 0 0 0 0;\n",
              "      width: 32px;\n",
              "    }\n",
              "\n",
              "    .colab-df-convert:hover {\n",
              "      background-color: #E2EBFA;\n",
              "      box-shadow: 0px 1px 2px rgba(60, 64, 67, 0.3), 0px 1px 3px 1px rgba(60, 64, 67, 0.15);\n",
              "      fill: #174EA6;\n",
              "    }\n",
              "\n",
              "    .colab-df-buttons div {\n",
              "      margin-bottom: 4px;\n",
              "    }\n",
              "\n",
              "    [theme=dark] .colab-df-convert {\n",
              "      background-color: #3B4455;\n",
              "      fill: #D2E3FC;\n",
              "    }\n",
              "\n",
              "    [theme=dark] .colab-df-convert:hover {\n",
              "      background-color: #434B5C;\n",
              "      box-shadow: 0px 1px 3px 1px rgba(0, 0, 0, 0.15);\n",
              "      filter: drop-shadow(0px 1px 2px rgba(0, 0, 0, 0.3));\n",
              "      fill: #FFFFFF;\n",
              "    }\n",
              "  </style>\n",
              "\n",
              "    <script>\n",
              "      const buttonEl =\n",
              "        document.querySelector('#df-2fcbb29a-7d03-4645-bd96-7eb7d8fa70f8 button.colab-df-convert');\n",
              "      buttonEl.style.display =\n",
              "        google.colab.kernel.accessAllowed ? 'block' : 'none';\n",
              "\n",
              "      async function convertToInteractive(key) {\n",
              "        const element = document.querySelector('#df-2fcbb29a-7d03-4645-bd96-7eb7d8fa70f8');\n",
              "        const dataTable =\n",
              "          await google.colab.kernel.invokeFunction('convertToInteractive',\n",
              "                                                    [key], {});\n",
              "        if (!dataTable) return;\n",
              "\n",
              "        const docLinkHtml = 'Like what you see? Visit the ' +\n",
              "          '<a target=\"_blank\" href=https://colab.research.google.com/notebooks/data_table.ipynb>data table notebook</a>'\n",
              "          + ' to learn more about interactive tables.';\n",
              "        element.innerHTML = '';\n",
              "        dataTable['output_type'] = 'display_data';\n",
              "        await google.colab.output.renderOutput(dataTable, element);\n",
              "        const docLink = document.createElement('div');\n",
              "        docLink.innerHTML = docLinkHtml;\n",
              "        element.appendChild(docLink);\n",
              "      }\n",
              "    </script>\n",
              "  </div>\n",
              "\n",
              "\n",
              "<div id=\"df-45e0f5fe-a76c-4bbb-b8c7-34e0095ec19f\">\n",
              "  <button class=\"colab-df-quickchart\" onclick=\"quickchart('df-45e0f5fe-a76c-4bbb-b8c7-34e0095ec19f')\"\n",
              "            title=\"Suggest charts\"\n",
              "            style=\"display:none;\">\n",
              "\n",
              "<svg xmlns=\"http://www.w3.org/2000/svg\" height=\"24px\"viewBox=\"0 0 24 24\"\n",
              "     width=\"24px\">\n",
              "    <g>\n",
              "        <path d=\"M19 3H5c-1.1 0-2 .9-2 2v14c0 1.1.9 2 2 2h14c1.1 0 2-.9 2-2V5c0-1.1-.9-2-2-2zM9 17H7v-7h2v7zm4 0h-2V7h2v10zm4 0h-2v-4h2v4z\"/>\n",
              "    </g>\n",
              "</svg>\n",
              "  </button>\n",
              "\n",
              "<style>\n",
              "  .colab-df-quickchart {\n",
              "      --bg-color: #E8F0FE;\n",
              "      --fill-color: #1967D2;\n",
              "      --hover-bg-color: #E2EBFA;\n",
              "      --hover-fill-color: #174EA6;\n",
              "      --disabled-fill-color: #AAA;\n",
              "      --disabled-bg-color: #DDD;\n",
              "  }\n",
              "\n",
              "  [theme=dark] .colab-df-quickchart {\n",
              "      --bg-color: #3B4455;\n",
              "      --fill-color: #D2E3FC;\n",
              "      --hover-bg-color: #434B5C;\n",
              "      --hover-fill-color: #FFFFFF;\n",
              "      --disabled-bg-color: #3B4455;\n",
              "      --disabled-fill-color: #666;\n",
              "  }\n",
              "\n",
              "  .colab-df-quickchart {\n",
              "    background-color: var(--bg-color);\n",
              "    border: none;\n",
              "    border-radius: 50%;\n",
              "    cursor: pointer;\n",
              "    display: none;\n",
              "    fill: var(--fill-color);\n",
              "    height: 32px;\n",
              "    padding: 0;\n",
              "    width: 32px;\n",
              "  }\n",
              "\n",
              "  .colab-df-quickchart:hover {\n",
              "    background-color: var(--hover-bg-color);\n",
              "    box-shadow: 0 1px 2px rgba(60, 64, 67, 0.3), 0 1px 3px 1px rgba(60, 64, 67, 0.15);\n",
              "    fill: var(--button-hover-fill-color);\n",
              "  }\n",
              "\n",
              "  .colab-df-quickchart-complete:disabled,\n",
              "  .colab-df-quickchart-complete:disabled:hover {\n",
              "    background-color: var(--disabled-bg-color);\n",
              "    fill: var(--disabled-fill-color);\n",
              "    box-shadow: none;\n",
              "  }\n",
              "\n",
              "  .colab-df-spinner {\n",
              "    border: 2px solid var(--fill-color);\n",
              "    border-color: transparent;\n",
              "    border-bottom-color: var(--fill-color);\n",
              "    animation:\n",
              "      spin 1s steps(1) infinite;\n",
              "  }\n",
              "\n",
              "  @keyframes spin {\n",
              "    0% {\n",
              "      border-color: transparent;\n",
              "      border-bottom-color: var(--fill-color);\n",
              "      border-left-color: var(--fill-color);\n",
              "    }\n",
              "    20% {\n",
              "      border-color: transparent;\n",
              "      border-left-color: var(--fill-color);\n",
              "      border-top-color: var(--fill-color);\n",
              "    }\n",
              "    30% {\n",
              "      border-color: transparent;\n",
              "      border-left-color: var(--fill-color);\n",
              "      border-top-color: var(--fill-color);\n",
              "      border-right-color: var(--fill-color);\n",
              "    }\n",
              "    40% {\n",
              "      border-color: transparent;\n",
              "      border-right-color: var(--fill-color);\n",
              "      border-top-color: var(--fill-color);\n",
              "    }\n",
              "    60% {\n",
              "      border-color: transparent;\n",
              "      border-right-color: var(--fill-color);\n",
              "    }\n",
              "    80% {\n",
              "      border-color: transparent;\n",
              "      border-right-color: var(--fill-color);\n",
              "      border-bottom-color: var(--fill-color);\n",
              "    }\n",
              "    90% {\n",
              "      border-color: transparent;\n",
              "      border-bottom-color: var(--fill-color);\n",
              "    }\n",
              "  }\n",
              "</style>\n",
              "\n",
              "  <script>\n",
              "    async function quickchart(key) {\n",
              "      const quickchartButtonEl =\n",
              "        document.querySelector('#' + key + ' button');\n",
              "      quickchartButtonEl.disabled = true;  // To prevent multiple clicks.\n",
              "      quickchartButtonEl.classList.add('colab-df-spinner');\n",
              "      try {\n",
              "        const charts = await google.colab.kernel.invokeFunction(\n",
              "            'suggestCharts', [key], {});\n",
              "      } catch (error) {\n",
              "        console.error('Error during call to suggestCharts:', error);\n",
              "      }\n",
              "      quickchartButtonEl.classList.remove('colab-df-spinner');\n",
              "      quickchartButtonEl.classList.add('colab-df-quickchart-complete');\n",
              "    }\n",
              "    (() => {\n",
              "      let quickchartButtonEl =\n",
              "        document.querySelector('#df-45e0f5fe-a76c-4bbb-b8c7-34e0095ec19f button');\n",
              "      quickchartButtonEl.style.display =\n",
              "        google.colab.kernel.accessAllowed ? 'block' : 'none';\n",
              "    })();\n",
              "  </script>\n",
              "</div>\n",
              "    </div>\n",
              "  </div>\n"
            ]
          },
          "metadata": {},
          "execution_count": 389
        }
      ]
    },
    {
      "cell_type": "code",
      "source": [
        "y.plot(kind='kde', title='Target density');"
      ],
      "metadata": {
        "colab": {
          "base_uri": "https://localhost:8080/",
          "height": 458
        },
        "id": "pLW6zf9sKE_h",
        "outputId": "dd081f4a-c175-4fad-8eab-08bd290c2862"
      },
      "execution_count": 377,
      "outputs": [
        {
          "output_type": "display_data",
          "data": {
            "text/plain": [
              "<Figure size 640x480 with 1 Axes>"
            ],
            "image/png": "[encoded data removed]"
          },
          "metadata": {}
        }
      ]
    },
    {
      "cell_type": "code",
      "source": [
        "dummy = DummyRegressor(strategy='median')\n",
        "dummy.fit(X_train, y_train)\n",
        "y_preds_dummy = dummy.predict(X_test)"
      ],
      "metadata": {
        "id": "MUZbjVgMKSJf"
      },
      "execution_count": 380,
      "outputs": []
    },
    {
      "cell_type": "code",
      "source": [
        "print(f'MSE for Dummy Regressor: {mean_squared_error(y_test, y_preds_dummy)}')\n",
        "print(f'RMSE for Dummy Regressor: {mean_squared_error(y_test, y_preds_dummy, squared=False)}')"
      ],
      "metadata": {
        "colab": {
          "base_uri": "https://localhost:8080/"
        },
        "id": "PDiOjOCnKqHr",
        "outputId": "e0d38a08-ac2c-40b3-95a8-82b77c8bd339"
      },
      "execution_count": 383,
      "outputs": [
        {
          "output_type": "stream",
          "name": "stdout",
          "text": [
            "MSE for Dummy Regressor: 4610855432.012056\n",
            "RMSE for Dummy Regressor: 67903.27997977754\n"
          ]
        }
      ]
    },
    {
      "cell_type": "code",
      "source": [
        "plot_model_results(y_test, y_preds_dummy, title='Dummy')"
      ],
      "metadata": {
        "colab": {
          "base_uri": "https://localhost:8080/",
          "height": 525
        },
        "id": "ZuNQ_jiVK-dG",
        "outputId": "727c35fa-7da1-4863-dece-60b75ec4ac37"
      },
      "execution_count": 387,
      "outputs": [
        {
          "output_type": "display_data",
          "data": {
            "text/plain": [
              "<Figure size 500x500 with 1 Axes>"
            ],
            "image/png": "[encoded data removed]"
          },
          "metadata": {}
        }
      ]
    },
    {
      "cell_type": "markdown",
      "source": [
        "Оценка качества модели показывает значительную ошибку. В дальнейшем планируется использовать другую модель (Random Forest) с целью минимизации ошибки."
      ],
      "metadata": {
        "id": "wOqcp28wOZ2Y"
      }
    }
  ]
}